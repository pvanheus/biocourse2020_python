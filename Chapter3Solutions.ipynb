{
 "cells": [
  {
   "cell_type": "markdown",
   "metadata": {},
   "source": [
    "### Splitting Genomic DNA"
   ]
  },
  {
   "cell_type": "code",
   "execution_count": 6,
   "metadata": {},
   "outputs": [],
   "source": [
    "my_dna = 'ATCGATCGATCGATCGACTGACTAGTCATAGCTATGCATGTAGCTACTCGATCGATCGATCGATCGATCGATCGATCGATCGATCATGCTATCATCGATCGATATCGATGCATCGACTACTAT'\n",
    "exon1 = my_dna[0:63]\n",
    "exon2 = my_dna[90:1000]\n",
    "intron = my_dna[63:90]\n"
   ]
  },
  {
   "cell_type": "code",
   "execution_count": 16,
   "metadata": {},
   "outputs": [],
   "source": [
    "my_filename = 'non_coding.txt'\n",
    "my_file = open(my_filename, 'w')\n",
    "my_file.write(intron)\n",
    "my_file.close()"
   ]
  },
  {
   "cell_type": "code",
   "execution_count": 18,
   "metadata": {},
   "outputs": [],
   "source": [
    "my_filename = 'coding.txt'\n",
    "my_file = open(my_filename, 'w')\n",
    "coding = exon1 + exon2\n",
    "my_file.write(coding)\n",
    "my_file.close()"
   ]
  },
  {
   "cell_type": "markdown",
   "metadata": {},
   "source": [
    "### Writing FASTA file"
   ]
  },
  {
   "cell_type": "code",
   "execution_count": 1,
   "metadata": {},
   "outputs": [],
   "source": [
    "my_filename = 'file1.fasta'\n",
    "my_file = open(my_filename, 'w')\n",
    "my_file.write('>ABC123\\nATCGTACGATCGATCGATCGCTAGACGTATCG\\n')\n",
    "my_file.write('>DEF456\\n')\n",
    "my_file.write('actgatcgacgatcgatcgatcacgact\\n'.upper())\n",
    "my_file.write('>HIJ789\\n')\n",
    "my_sequence = 'ACTGAC-ACTGT--ACTGTA----CATGTG\\n'\n",
    "my_new_sequence = my_sequence.replace('-','')\n",
    "my_file.write(my_new_sequence)\n",
    "my_file.close()"
   ]
  },
  {
   "cell_type": "markdown",
   "metadata": {},
   "source": [
    "### Writing multiple FASTA files"
   ]
  },
  {
   "cell_type": "code",
   "execution_count": 5,
   "metadata": {},
   "outputs": [],
   "source": [
    "my_filename = 'ABC123.fasta'\n",
    "my_file = open(my_filename, 'w')\n",
    "my_file.write('>ABC123\\nATCGTACGATCGATCGATCGCTAGACGTATCG\\n')\n",
    "my_file.close()\n",
    "\n",
    "my_filename = 'DEF456.fasta'\n",
    "my_file = open(my_filename, 'w')\n",
    "my_file.write('>DEF456\\n')\n",
    "my_file.write('actgatcgacgatcgatcgatcacgact\\n'.upper())\n",
    "my_file.close()\n",
    "\n",
    "my_filename = 'HIJ789.fasta'\n",
    "my_file = open(my_filename, 'w')\n",
    "my_file.write('>HIJ789\\n')\n",
    "my_sequence = 'ACTGAC-ACTGT--ACTGTA----CATGTG\\n'\n",
    "my_new_sequence = my_sequence.replace('-','')\n",
    "my_file.write(my_new_sequence)\n",
    "my_file.close()"
   ]
  },
  {
   "cell_type": "code",
   "execution_count": null,
   "metadata": {},
   "outputs": [],
   "source": []
  }
 ],
 "metadata": {
  "kernelspec": {
   "display_name": "Python 3",
   "language": "python",
   "name": "python3"
  },
  "language_info": {
   "codemirror_mode": {
    "name": "ipython",
    "version": 3
   },
   "file_extension": ".py",
   "mimetype": "text/x-python",
   "name": "python",
   "nbconvert_exporter": "python",
   "pygments_lexer": "ipython3",
   "version": "3.8.1"
  }
 },
 "nbformat": 4,
 "nbformat_minor": 4
}
