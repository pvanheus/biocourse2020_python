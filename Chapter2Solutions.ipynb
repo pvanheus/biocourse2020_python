{
 "cells": [
  {
   "cell_type": "markdown",
   "metadata": {},
   "source": [
    "### Complementing DNA"
   ]
  },
  {
   "cell_type": "code",
   "execution_count": 2,
   "metadata": {},
   "outputs": [],
   "source": [
    "my_dna = 'ACTGATCGATTACGTATAGTATTTGCTATCATACATATATATCGATGCGTTCAT'\n",
    "tmp1 = my_dna.replace('A', 'X')\n",
    "tmp2 = tmp1.replace('T', 'A')\n",
    "tmp3 = tmp2.replace('X', 'T')\n"
   ]
  },
  {
   "cell_type": "code",
   "execution_count": 3,
   "metadata": {},
   "outputs": [
    {
     "name": "stdout",
     "output_type": "stream",
     "text": [
      "ACTGATCGATTACGTATAGTATTTGCTATCATACATATATATCGATGCGTTCAT\n",
      "TCAGTACGTAATCGATATGATAAAGCATACTATCTATATATACGTAGCGAACTA\n"
     ]
    }
   ],
   "source": [
    "print(my_dna)\n",
    "print(tmp3)"
   ]
  },
  {
   "cell_type": "code",
   "execution_count": 4,
   "metadata": {},
   "outputs": [
    {
     "name": "stdout",
     "output_type": "stream",
     "text": [
      "ACTGATCGATTACGTATAGTATTTGCTATCATACATATATATCGATGCGTTCAT\n",
      "XCTGXTCGXTTXCGTXTXGTXTTTGCTXTCXTXCXTXTXTXTCGXTGCGTTCXT\n",
      "XCAGXACGXAAXCGAXAXGAXAAAGCAXACXAXCXAXAXAXACGXAGCGAACXA\n",
      "TCAGTACGTAATCGATATGATAAAGCATACTATCTATATATACGTAGCGAACTA\n"
     ]
    }
   ],
   "source": [
    "print(my_dna)\n",
    "print(tmp1)\n",
    "print(tmp2)\n",
    "print(tmp3)"
   ]
  },
  {
   "cell_type": "markdown",
   "metadata": {},
   "source": [
    "#### Alternative solution for complementing DNA"
   ]
  },
  {
   "cell_type": "code",
   "execution_count": 5,
   "metadata": {},
   "outputs": [],
   "source": [
    "my_dna = 'ACTGATCGATTACGTATAGTATTTGCTATCATACATATATATCGATGCGTTCAT'\n",
    "tmp1 = my_dna.replace('A', 't')\n",
    "tmp2 = tmp1.replace('T', 'a')\n",
    "tmp3 = tmp2.upper()"
   ]
  },
  {
   "cell_type": "code",
   "execution_count": 6,
   "metadata": {},
   "outputs": [
    {
     "name": "stdout",
     "output_type": "stream",
     "text": [
      "ACTGATCGATTACGTATAGTATTTGCTATCATACATATATATCGATGCGTTCAT\n",
      "TCAGTACGTAATCGATATGATAAAGCATACTATCTATATATACGTAGCGAACTA\n"
     ]
    }
   ],
   "source": [
    "print(my_dna)\n",
    "print(tmp3)"
   ]
  },
  {
   "cell_type": "markdown",
   "metadata": {},
   "source": [
    "#### One Line solution\n",
    "\n",
    "String functions (aka methods) return a new copy of a string. This means that they can be 'chained', one after another, as in the following solution."
   ]
  },
  {
   "cell_type": "code",
   "execution_count": 1,
   "metadata": {},
   "outputs": [
    {
     "name": "stdout",
     "output_type": "stream",
     "text": [
      "ACTGATCGATTACGTATAGTATTTGCTATCATACATATATATCGATGCGTTCAT\n",
      "TGACTAGCTAATGCATATCATAAACGATAGTATGTATATATAGCTACGCAAGTA\n"
     ]
    }
   ],
   "source": [
    "my_dna = 'ACTGATCGATTACGTATAGTATTTGCTATCATACATATATATCGATGCGTTCAT'\n",
    "rev_cmp_dna = my_dna.replace('A', 't').replace('T', 'a').replace('C', 'g').replace('G', 'c').upper()\n",
    "print(my_dna)\n",
    "print(rev_cmp_dna)"
   ]
  },
  {
   "cell_type": "markdown",
   "metadata": {},
   "source": [
    "### Restriction fragment length"
   ]
  },
  {
   "cell_type": "code",
   "execution_count": 13,
   "metadata": {},
   "outputs": [
    {
     "name": "stdout",
     "output_type": "stream",
     "text": [
      "fragment one length: 22\n",
      "fragment two length: 33\n"
     ]
    }
   ],
   "source": [
    "my_dna = 'ACTGATCGATTACGTATAGTAGAATTCTATCATACATATATATCGATGCGTTCAT'\n",
    "restriction_fragment = 'GAATTC'\n",
    "rf_position = my_dna.find(restriction_fragment)\n",
    "cut_position = rf_position + 1\n",
    "dna_length = len(my_dna)\n",
    "remaining_length = dna_length - cut_position\n",
    "print(\"fragment one length: \" + str(cut_position))\n",
    "print(\"fragment two length: \" + str(remaining_length))"
   ]
  },
  {
   "cell_type": "markdown",
   "metadata": {},
   "source": [
    "### Splicing introns, part one"
   ]
  },
  {
   "cell_type": "code",
   "execution_count": 14,
   "metadata": {},
   "outputs": [
    {
     "name": "stdout",
     "output_type": "stream",
     "text": [
      "exon1: ATCGATCGATCGATCGACTGACTAGTCATAGCTATGCATGTAGCTACTCGATCGATCGATCGA\n",
      "exon2: ATCATCGATCGATATCGATGCATCGACTACTAT\n"
     ]
    }
   ],
   "source": [
    "my_dna = 'ATCGATCGATCGATCGACTGACTAGTCATAGCTATGCATGTAGCTACTCGATCGATCGATCGATCGATCGATCGATCGATCGATCATGCTATCATCGATCGATATCGATGCATCGACTACTAT'\n",
    "exon1 = my_dna[0:63]\n",
    "exon2 = my_dna[90:1000]\n",
    "print(\"exon1: \" + exon1)\n",
    "print(\"exon2: \" + exon2)"
   ]
  },
  {
   "cell_type": "markdown",
   "metadata": {},
   "source": [
    "### Splicing introns, part two"
   ]
  },
  {
   "cell_type": "code",
   "execution_count": 15,
   "metadata": {},
   "outputs": [
    {
     "name": "stdout",
     "output_type": "stream",
     "text": [
      "coding fraction: 0.7804878048780488\n"
     ]
    }
   ],
   "source": [
    "my_dna = 'ATCGATCGATCGATCGACTGACTAGTCATAGCTATGCATGTAGCTACTCGATCGATCGATCGATCGATCGATCGATCGATCGATCATGCTATCATCGATCGATATCGATGCATCGACTACTAT'\n",
    "exon1 = my_dna[0:63]\n",
    "exon2 = my_dna[90:1000]\n",
    "\n",
    "exon_length = len(exon1) + len(exon2)\n",
    "dna_length = len(my_dna)\n",
    "coding_fraction = exon_length / dna_length\n",
    "print(\"coding fraction: \" + str(coding_fraction))"
   ]
  },
  {
   "cell_type": "markdown",
   "metadata": {},
   "source": [
    "### Splicing introns, part three"
   ]
  },
  {
   "cell_type": "code",
   "execution_count": 18,
   "metadata": {},
   "outputs": [
    {
     "name": "stdout",
     "output_type": "stream",
     "text": [
      "ATCGATCGATCGATCGACTGACTAGTCATAGCTATGCATGTAGCTACTCGATCGATCGATCGAtcgatcgatcgatcgatcgatcatgctATCATCGATCGATATCGATGCATCGACTACTAT\n"
     ]
    }
   ],
   "source": [
    "my_dna = 'ATCGATCGATCGATCGACTGACTAGTCATAGCTATGCATGTAGCTACTCGATCGATCGATCGATCGATCGATCGATCGATCGATCATGCTATCATCGATCGATATCGATGCATCGACTACTAT'\n",
    "exon1 = my_dna[0:63]\n",
    "exon2 = my_dna[90:1000]\n",
    "intron = my_dna[63:90]\n",
    "\n",
    "new_dna = exon1.upper() + intron.lower() + exon2.upper()\n",
    "print(new_dna)"
   ]
  },
  {
   "cell_type": "code",
   "execution_count": null,
   "metadata": {},
   "outputs": [],
   "source": []
  }
 ],
 "metadata": {
  "kernelspec": {
   "display_name": "Python 3",
   "language": "python",
   "name": "python3"
  },
  "language_info": {
   "codemirror_mode": {
    "name": "ipython",
    "version": 3
   },
   "file_extension": ".py",
   "mimetype": "text/x-python",
   "name": "python",
   "nbconvert_exporter": "python",
   "pygments_lexer": "ipython3",
   "version": "3.8.1"
  }
 },
 "nbformat": 4,
 "nbformat_minor": 4
}
