{
 "cells": [
  {
   "cell_type": "code",
   "execution_count": 1,
   "metadata": {},
   "outputs": [],
   "source": [
    "import pandas as pd"
   ]
  },
  {
   "cell_type": "markdown",
   "metadata": {},
   "source": [
    "### pandas module\n",
    "Some content from [learn data science](https://www.learndatasci.com/tutorials/python-pandas-tutorial-complete-introduction-for-beginners/)"
   ]
  },
  {
   "cell_type": "code",
   "execution_count": 2,
   "metadata": {},
   "outputs": [],
   "source": [
    "data = {\n",
    "    'apples': [3, 2, 0, 1], \n",
    "    'oranges': [0, 3, 7, 2]\n",
    "}"
   ]
  },
  {
   "cell_type": "code",
   "execution_count": 3,
   "metadata": {},
   "outputs": [
    {
     "data": {
      "text/html": [
       "<div>\n",
       "<style scoped>\n",
       "    .dataframe tbody tr th:only-of-type {\n",
       "        vertical-align: middle;\n",
       "    }\n",
       "\n",
       "    .dataframe tbody tr th {\n",
       "        vertical-align: top;\n",
       "    }\n",
       "\n",
       "    .dataframe thead th {\n",
       "        text-align: right;\n",
       "    }\n",
       "</style>\n",
       "<table border=\"1\" class=\"dataframe\">\n",
       "  <thead>\n",
       "    <tr style=\"text-align: right;\">\n",
       "      <th></th>\n",
       "      <th>apples</th>\n",
       "      <th>oranges</th>\n",
       "    </tr>\n",
       "  </thead>\n",
       "  <tbody>\n",
       "    <tr>\n",
       "      <th>0</th>\n",
       "      <td>3</td>\n",
       "      <td>0</td>\n",
       "    </tr>\n",
       "    <tr>\n",
       "      <th>1</th>\n",
       "      <td>2</td>\n",
       "      <td>3</td>\n",
       "    </tr>\n",
       "    <tr>\n",
       "      <th>2</th>\n",
       "      <td>0</td>\n",
       "      <td>7</td>\n",
       "    </tr>\n",
       "    <tr>\n",
       "      <th>3</th>\n",
       "      <td>1</td>\n",
       "      <td>2</td>\n",
       "    </tr>\n",
       "  </tbody>\n",
       "</table>\n",
       "</div>"
      ],
      "text/plain": [
       "   apples  oranges\n",
       "0       3        0\n",
       "1       2        3\n",
       "2       0        7\n",
       "3       1        2"
      ]
     },
     "execution_count": 3,
     "metadata": {},
     "output_type": "execute_result"
    }
   ],
   "source": [
    "purchases = pd.DataFrame(data)\n",
    "\n",
    "purchases"
   ]
  },
  {
   "cell_type": "code",
   "execution_count": 4,
   "metadata": {},
   "outputs": [
    {
     "data": {
      "text/html": [
       "<div>\n",
       "<style scoped>\n",
       "    .dataframe tbody tr th:only-of-type {\n",
       "        vertical-align: middle;\n",
       "    }\n",
       "\n",
       "    .dataframe tbody tr th {\n",
       "        vertical-align: top;\n",
       "    }\n",
       "\n",
       "    .dataframe thead th {\n",
       "        text-align: right;\n",
       "    }\n",
       "</style>\n",
       "<table border=\"1\" class=\"dataframe\">\n",
       "  <thead>\n",
       "    <tr style=\"text-align: right;\">\n",
       "      <th></th>\n",
       "      <th>apples</th>\n",
       "      <th>oranges</th>\n",
       "    </tr>\n",
       "  </thead>\n",
       "  <tbody>\n",
       "    <tr>\n",
       "      <th>June</th>\n",
       "      <td>3</td>\n",
       "      <td>0</td>\n",
       "    </tr>\n",
       "    <tr>\n",
       "      <th>Robert</th>\n",
       "      <td>2</td>\n",
       "      <td>3</td>\n",
       "    </tr>\n",
       "    <tr>\n",
       "      <th>Lily</th>\n",
       "      <td>0</td>\n",
       "      <td>7</td>\n",
       "    </tr>\n",
       "    <tr>\n",
       "      <th>David</th>\n",
       "      <td>1</td>\n",
       "      <td>2</td>\n",
       "    </tr>\n",
       "  </tbody>\n",
       "</table>\n",
       "</div>"
      ],
      "text/plain": [
       "        apples  oranges\n",
       "June         3        0\n",
       "Robert       2        3\n",
       "Lily         0        7\n",
       "David        1        2"
      ]
     },
     "execution_count": 4,
     "metadata": {},
     "output_type": "execute_result"
    }
   ],
   "source": [
    "purchases = pd.DataFrame(data, index=['June', 'Robert', 'Lily', 'David'])\n",
    "\n",
    "purchases\n"
   ]
  },
  {
   "cell_type": "code",
   "execution_count": 5,
   "metadata": {},
   "outputs": [
    {
     "data": {
      "text/plain": [
       "apples     3\n",
       "oranges    0\n",
       "Name: June, dtype: int64"
      ]
     },
     "execution_count": 5,
     "metadata": {},
     "output_type": "execute_result"
    }
   ],
   "source": [
    "purchases.loc['June']"
   ]
  },
  {
   "cell_type": "code",
   "execution_count": 6,
   "metadata": {},
   "outputs": [
    {
     "data": {
      "text/plain": [
       "pandas.core.series.Series"
      ]
     },
     "execution_count": 6,
     "metadata": {},
     "output_type": "execute_result"
    }
   ],
   "source": [
    "type(purchases.loc['June'])"
   ]
  },
  {
   "cell_type": "code",
   "execution_count": 10,
   "metadata": {},
   "outputs": [
    {
     "data": {
      "text/html": [
       "<div>\n",
       "<style scoped>\n",
       "    .dataframe tbody tr th:only-of-type {\n",
       "        vertical-align: middle;\n",
       "    }\n",
       "\n",
       "    .dataframe tbody tr th {\n",
       "        vertical-align: top;\n",
       "    }\n",
       "\n",
       "    .dataframe thead th {\n",
       "        text-align: right;\n",
       "    }\n",
       "</style>\n",
       "<table border=\"1\" class=\"dataframe\">\n",
       "  <thead>\n",
       "    <tr style=\"text-align: right;\">\n",
       "      <th></th>\n",
       "      <th>species</th>\n",
       "      <th>sequence</th>\n",
       "      <th>gene</th>\n",
       "      <th>expression</th>\n",
       "    </tr>\n",
       "  </thead>\n",
       "  <tbody>\n",
       "    <tr>\n",
       "      <th>0</th>\n",
       "      <td>Drosophila melanogaster</td>\n",
       "      <td>atatatatatcgcgtatatatacgactatatgcattaattatagca...</td>\n",
       "      <td>kdy647</td>\n",
       "      <td>264</td>\n",
       "    </tr>\n",
       "    <tr>\n",
       "      <th>1</th>\n",
       "      <td>Drosophila melanogaster</td>\n",
       "      <td>actgtgacgtgtactgtacgactatcgatacgtagtactgatcgct...</td>\n",
       "      <td>jdg766</td>\n",
       "      <td>185</td>\n",
       "    </tr>\n",
       "    <tr>\n",
       "      <th>2</th>\n",
       "      <td>Drosophila simulans</td>\n",
       "      <td>atcgatcatgtcgatcgatgatgcatccgactatcgtcgatcgtga...</td>\n",
       "      <td>kdy533</td>\n",
       "      <td>485</td>\n",
       "    </tr>\n",
       "    <tr>\n",
       "      <th>3</th>\n",
       "      <td>Drosophila yakuba</td>\n",
       "      <td>cgcgcgctcgcgcatacggcctaatgcgcgcgctagcgatgc</td>\n",
       "      <td>hdt739</td>\n",
       "      <td>85</td>\n",
       "    </tr>\n",
       "    <tr>\n",
       "      <th>4</th>\n",
       "      <td>Drosophila ananassae</td>\n",
       "      <td>ttacgatcgatcgatcgatcgatcgtcgatcgtcgatgctacatcg...</td>\n",
       "      <td>hdu045</td>\n",
       "      <td>356</td>\n",
       "    </tr>\n",
       "    <tr>\n",
       "      <th>5</th>\n",
       "      <td>Drosophila ananassae</td>\n",
       "      <td>gcatcgatcgatcgcggcgcatcgatcgcgatcatcgatcatacgc...</td>\n",
       "      <td>teg436</td>\n",
       "      <td>222</td>\n",
       "    </tr>\n",
       "  </tbody>\n",
       "</table>\n",
       "</div>"
      ],
      "text/plain": [
       "                   species                                           sequence  \\\n",
       "0  Drosophila melanogaster  atatatatatcgcgtatatatacgactatatgcattaattatagca...   \n",
       "1  Drosophila melanogaster  actgtgacgtgtactgtacgactatcgatacgtagtactgatcgct...   \n",
       "2      Drosophila simulans  atcgatcatgtcgatcgatgatgcatccgactatcgtcgatcgtga...   \n",
       "3        Drosophila yakuba         cgcgcgctcgcgcatacggcctaatgcgcgcgctagcgatgc   \n",
       "4     Drosophila ananassae  ttacgatcgatcgatcgatcgatcgtcgatcgtcgatgctacatcg...   \n",
       "5     Drosophila ananassae  gcatcgatcgatcgcggcgcatcgatcgcgatcatcgatcatacgc...   \n",
       "\n",
       "     gene  expression  \n",
       "0  kdy647         264  \n",
       "1  jdg766         185  \n",
       "2  kdy533         485  \n",
       "3  hdt739          85  \n",
       "4  hdu045         356  \n",
       "5  teg436         222  "
      ]
     },
     "execution_count": 10,
     "metadata": {},
     "output_type": "execute_result"
    }
   ],
   "source": [
    "flies = pd.read_csv('data_with_header.csv')\n",
    "\n",
    "flies"
   ]
  },
  {
   "cell_type": "code",
   "execution_count": 14,
   "metadata": {},
   "outputs": [
    {
     "data": {
      "text/html": [
       "<div>\n",
       "<style scoped>\n",
       "    .dataframe tbody tr th:only-of-type {\n",
       "        vertical-align: middle;\n",
       "    }\n",
       "\n",
       "    .dataframe tbody tr th {\n",
       "        vertical-align: top;\n",
       "    }\n",
       "\n",
       "    .dataframe thead th {\n",
       "        text-align: right;\n",
       "    }\n",
       "</style>\n",
       "<table border=\"1\" class=\"dataframe\">\n",
       "  <thead>\n",
       "    <tr style=\"text-align: right;\">\n",
       "      <th></th>\n",
       "      <th>species</th>\n",
       "      <th>sequence</th>\n",
       "      <th>gene</th>\n",
       "      <th>expression</th>\n",
       "    </tr>\n",
       "  </thead>\n",
       "  <tbody>\n",
       "    <tr>\n",
       "      <th>0</th>\n",
       "      <td>Drosophila melanogaster</td>\n",
       "      <td>atatatatatcgcgtatatatacgactatatgcattaattatagca...</td>\n",
       "      <td>kdy647</td>\n",
       "      <td>264</td>\n",
       "    </tr>\n",
       "    <tr>\n",
       "      <th>1</th>\n",
       "      <td>Drosophila melanogaster</td>\n",
       "      <td>actgtgacgtgtactgtacgactatcgatacgtagtactgatcgct...</td>\n",
       "      <td>jdg766</td>\n",
       "      <td>185</td>\n",
       "    </tr>\n",
       "    <tr>\n",
       "      <th>2</th>\n",
       "      <td>Drosophila simulans</td>\n",
       "      <td>atcgatcatgtcgatcgatgatgcatccgactatcgtcgatcgtga...</td>\n",
       "      <td>kdy533</td>\n",
       "      <td>485</td>\n",
       "    </tr>\n",
       "    <tr>\n",
       "      <th>3</th>\n",
       "      <td>Drosophila yakuba</td>\n",
       "      <td>cgcgcgctcgcgcatacggcctaatgcgcgcgctagcgatgc</td>\n",
       "      <td>hdt739</td>\n",
       "      <td>85</td>\n",
       "    </tr>\n",
       "    <tr>\n",
       "      <th>4</th>\n",
       "      <td>Drosophila ananassae</td>\n",
       "      <td>ttacgatcgatcgatcgatcgatcgtcgatcgtcgatgctacatcg...</td>\n",
       "      <td>hdu045</td>\n",
       "      <td>356</td>\n",
       "    </tr>\n",
       "    <tr>\n",
       "      <th>5</th>\n",
       "      <td>Drosophila ananassae</td>\n",
       "      <td>gcatcgatcgatcgcggcgcatcgatcgcgatcatcgatcatacgc...</td>\n",
       "      <td>teg436</td>\n",
       "      <td>222</td>\n",
       "    </tr>\n",
       "  </tbody>\n",
       "</table>\n",
       "</div>"
      ],
      "text/plain": [
       "                   species                                           sequence  \\\n",
       "0  Drosophila melanogaster  atatatatatcgcgtatatatacgactatatgcattaattatagca...   \n",
       "1  Drosophila melanogaster  actgtgacgtgtactgtacgactatcgatacgtagtactgatcgct...   \n",
       "2      Drosophila simulans  atcgatcatgtcgatcgatgatgcatccgactatcgtcgatcgtga...   \n",
       "3        Drosophila yakuba         cgcgcgctcgcgcatacggcctaatgcgcgcgctagcgatgc   \n",
       "4     Drosophila ananassae  ttacgatcgatcgatcgatcgatcgtcgatcgtcgatgctacatcg...   \n",
       "5     Drosophila ananassae  gcatcgatcgatcgcggcgcatcgatcgcgatcatcgatcatacgc...   \n",
       "\n",
       "     gene  expression  \n",
       "0  kdy647         264  \n",
       "1  jdg766         185  \n",
       "2  kdy533         485  \n",
       "3  hdt739          85  \n",
       "4  hdu045         356  \n",
       "5  teg436         222  "
      ]
     },
     "execution_count": 14,
     "metadata": {},
     "output_type": "execute_result"
    }
   ],
   "source": [
    "flies = pd.read_csv('data.csv', names=['species', \n",
    "                                       'sequence',\n",
    "                                       'gene',\n",
    "                                       'expression'])\n",
    "\n",
    "flies"
   ]
  },
  {
   "cell_type": "code",
   "execution_count": 15,
   "metadata": {},
   "outputs": [
    {
     "data": {
      "text/html": [
       "<div>\n",
       "<style scoped>\n",
       "    .dataframe tbody tr th:only-of-type {\n",
       "        vertical-align: middle;\n",
       "    }\n",
       "\n",
       "    .dataframe tbody tr th {\n",
       "        vertical-align: top;\n",
       "    }\n",
       "\n",
       "    .dataframe thead th {\n",
       "        text-align: right;\n",
       "    }\n",
       "</style>\n",
       "<table border=\"1\" class=\"dataframe\">\n",
       "  <thead>\n",
       "    <tr style=\"text-align: right;\">\n",
       "      <th></th>\n",
       "      <th>sequence</th>\n",
       "      <th>gene</th>\n",
       "      <th>expression</th>\n",
       "    </tr>\n",
       "    <tr>\n",
       "      <th>species</th>\n",
       "      <th></th>\n",
       "      <th></th>\n",
       "      <th></th>\n",
       "    </tr>\n",
       "  </thead>\n",
       "  <tbody>\n",
       "    <tr>\n",
       "      <th>Drosophila melanogaster</th>\n",
       "      <td>atatatatatcgcgtatatatacgactatatgcattaattatagca...</td>\n",
       "      <td>kdy647</td>\n",
       "      <td>264</td>\n",
       "    </tr>\n",
       "    <tr>\n",
       "      <th>Drosophila melanogaster</th>\n",
       "      <td>actgtgacgtgtactgtacgactatcgatacgtagtactgatcgct...</td>\n",
       "      <td>jdg766</td>\n",
       "      <td>185</td>\n",
       "    </tr>\n",
       "    <tr>\n",
       "      <th>Drosophila simulans</th>\n",
       "      <td>atcgatcatgtcgatcgatgatgcatccgactatcgtcgatcgtga...</td>\n",
       "      <td>kdy533</td>\n",
       "      <td>485</td>\n",
       "    </tr>\n",
       "    <tr>\n",
       "      <th>Drosophila yakuba</th>\n",
       "      <td>cgcgcgctcgcgcatacggcctaatgcgcgcgctagcgatgc</td>\n",
       "      <td>hdt739</td>\n",
       "      <td>85</td>\n",
       "    </tr>\n",
       "    <tr>\n",
       "      <th>Drosophila ananassae</th>\n",
       "      <td>ttacgatcgatcgatcgatcgatcgtcgatcgtcgatgctacatcg...</td>\n",
       "      <td>hdu045</td>\n",
       "      <td>356</td>\n",
       "    </tr>\n",
       "    <tr>\n",
       "      <th>Drosophila ananassae</th>\n",
       "      <td>gcatcgatcgatcgcggcgcatcgatcgcgatcatcgatcatacgc...</td>\n",
       "      <td>teg436</td>\n",
       "      <td>222</td>\n",
       "    </tr>\n",
       "  </tbody>\n",
       "</table>\n",
       "</div>"
      ],
      "text/plain": [
       "                                                                  sequence  \\\n",
       "species                                                                      \n",
       "Drosophila melanogaster  atatatatatcgcgtatatatacgactatatgcattaattatagca...   \n",
       "Drosophila melanogaster  actgtgacgtgtactgtacgactatcgatacgtagtactgatcgct...   \n",
       "Drosophila simulans      atcgatcatgtcgatcgatgatgcatccgactatcgtcgatcgtga...   \n",
       "Drosophila yakuba               cgcgcgctcgcgcatacggcctaatgcgcgcgctagcgatgc   \n",
       "Drosophila ananassae     ttacgatcgatcgatcgatcgatcgtcgatcgtcgatgctacatcg...   \n",
       "Drosophila ananassae     gcatcgatcgatcgcggcgcatcgatcgcgatcatcgatcatacgc...   \n",
       "\n",
       "                           gene  expression  \n",
       "species                                      \n",
       "Drosophila melanogaster  kdy647         264  \n",
       "Drosophila melanogaster  jdg766         185  \n",
       "Drosophila simulans      kdy533         485  \n",
       "Drosophila yakuba        hdt739          85  \n",
       "Drosophila ananassae     hdu045         356  \n",
       "Drosophila ananassae     teg436         222  "
      ]
     },
     "execution_count": 15,
     "metadata": {},
     "output_type": "execute_result"
    }
   ],
   "source": [
    "flies = pd.read_csv('data.csv', names=['species', \n",
    "                                       'sequence',\n",
    "                                       'gene',\n",
    "                                       'expression'],\n",
    "                    index_col=0)\n",
    "\n",
    "flies"
   ]
  },
  {
   "cell_type": "code",
   "execution_count": 16,
   "metadata": {},
   "outputs": [
    {
     "data": {
      "text/html": [
       "<div>\n",
       "<style scoped>\n",
       "    .dataframe tbody tr th:only-of-type {\n",
       "        vertical-align: middle;\n",
       "    }\n",
       "\n",
       "    .dataframe tbody tr th {\n",
       "        vertical-align: top;\n",
       "    }\n",
       "\n",
       "    .dataframe thead th {\n",
       "        text-align: right;\n",
       "    }\n",
       "</style>\n",
       "<table border=\"1\" class=\"dataframe\">\n",
       "  <thead>\n",
       "    <tr style=\"text-align: right;\">\n",
       "      <th></th>\n",
       "      <th>sequence</th>\n",
       "      <th>gene</th>\n",
       "      <th>expression</th>\n",
       "    </tr>\n",
       "    <tr>\n",
       "      <th>species</th>\n",
       "      <th></th>\n",
       "      <th></th>\n",
       "      <th></th>\n",
       "    </tr>\n",
       "  </thead>\n",
       "  <tbody>\n",
       "    <tr>\n",
       "      <th>Drosophila melanogaster</th>\n",
       "      <td>atatatatatcgcgtatatatacgactatatgcattaattatagca...</td>\n",
       "      <td>kdy647</td>\n",
       "      <td>264</td>\n",
       "    </tr>\n",
       "    <tr>\n",
       "      <th>Drosophila melanogaster</th>\n",
       "      <td>actgtgacgtgtactgtacgactatcgatacgtagtactgatcgct...</td>\n",
       "      <td>jdg766</td>\n",
       "      <td>185</td>\n",
       "    </tr>\n",
       "  </tbody>\n",
       "</table>\n",
       "</div>"
      ],
      "text/plain": [
       "                                                                  sequence  \\\n",
       "species                                                                      \n",
       "Drosophila melanogaster  atatatatatcgcgtatatatacgactatatgcattaattatagca...   \n",
       "Drosophila melanogaster  actgtgacgtgtactgtacgactatcgatacgtagtactgatcgct...   \n",
       "\n",
       "                           gene  expression  \n",
       "species                                      \n",
       "Drosophila melanogaster  kdy647         264  \n",
       "Drosophila melanogaster  jdg766         185  "
      ]
     },
     "execution_count": 16,
     "metadata": {},
     "output_type": "execute_result"
    }
   ],
   "source": [
    "flies.loc['Drosophila melanogaster']"
   ]
  },
  {
   "cell_type": "code",
   "execution_count": 18,
   "metadata": {},
   "outputs": [
    {
     "data": {
      "text/html": [
       "<div>\n",
       "<style scoped>\n",
       "    .dataframe tbody tr th:only-of-type {\n",
       "        vertical-align: middle;\n",
       "    }\n",
       "\n",
       "    .dataframe tbody tr th {\n",
       "        vertical-align: top;\n",
       "    }\n",
       "\n",
       "    .dataframe thead th {\n",
       "        text-align: right;\n",
       "    }\n",
       "</style>\n",
       "<table border=\"1\" class=\"dataframe\">\n",
       "  <thead>\n",
       "    <tr style=\"text-align: right;\">\n",
       "      <th></th>\n",
       "      <th>Unnamed: 0</th>\n",
       "      <th>apples</th>\n",
       "      <th>oranges</th>\n",
       "    </tr>\n",
       "  </thead>\n",
       "  <tbody>\n",
       "    <tr>\n",
       "      <th>0</th>\n",
       "      <td>June</td>\n",
       "      <td>3</td>\n",
       "      <td>0</td>\n",
       "    </tr>\n",
       "    <tr>\n",
       "      <th>1</th>\n",
       "      <td>Robert</td>\n",
       "      <td>2</td>\n",
       "      <td>3</td>\n",
       "    </tr>\n",
       "    <tr>\n",
       "      <th>2</th>\n",
       "      <td>Lily</td>\n",
       "      <td>0</td>\n",
       "      <td>7</td>\n",
       "    </tr>\n",
       "    <tr>\n",
       "      <th>3</th>\n",
       "      <td>David</td>\n",
       "      <td>1</td>\n",
       "      <td>2</td>\n",
       "    </tr>\n",
       "  </tbody>\n",
       "</table>\n",
       "</div>"
      ],
      "text/plain": [
       "  Unnamed: 0  apples  oranges\n",
       "0       June       3        0\n",
       "1     Robert       2        3\n",
       "2       Lily       0        7\n",
       "3      David       1        2"
      ]
     },
     "execution_count": 18,
     "metadata": {},
     "output_type": "execute_result"
    }
   ],
   "source": [
    "purchases = pd.read_csv('purchases.csv')\n",
    "\n",
    "purchases"
   ]
  },
  {
   "cell_type": "code",
   "execution_count": 19,
   "metadata": {},
   "outputs": [
    {
     "data": {
      "text/html": [
       "<div>\n",
       "<style scoped>\n",
       "    .dataframe tbody tr th:only-of-type {\n",
       "        vertical-align: middle;\n",
       "    }\n",
       "\n",
       "    .dataframe tbody tr th {\n",
       "        vertical-align: top;\n",
       "    }\n",
       "\n",
       "    .dataframe thead th {\n",
       "        text-align: right;\n",
       "    }\n",
       "</style>\n",
       "<table border=\"1\" class=\"dataframe\">\n",
       "  <thead>\n",
       "    <tr style=\"text-align: right;\">\n",
       "      <th></th>\n",
       "      <th>apples</th>\n",
       "      <th>oranges</th>\n",
       "    </tr>\n",
       "  </thead>\n",
       "  <tbody>\n",
       "    <tr>\n",
       "      <th>June</th>\n",
       "      <td>3</td>\n",
       "      <td>0</td>\n",
       "    </tr>\n",
       "    <tr>\n",
       "      <th>Robert</th>\n",
       "      <td>2</td>\n",
       "      <td>3</td>\n",
       "    </tr>\n",
       "    <tr>\n",
       "      <th>Lily</th>\n",
       "      <td>0</td>\n",
       "      <td>7</td>\n",
       "    </tr>\n",
       "    <tr>\n",
       "      <th>David</th>\n",
       "      <td>1</td>\n",
       "      <td>2</td>\n",
       "    </tr>\n",
       "  </tbody>\n",
       "</table>\n",
       "</div>"
      ],
      "text/plain": [
       "        apples  oranges\n",
       "June         3        0\n",
       "Robert       2        3\n",
       "Lily         0        7\n",
       "David        1        2"
      ]
     },
     "execution_count": 19,
     "metadata": {},
     "output_type": "execute_result"
    }
   ],
   "source": [
    "purchases = pd.read_csv('purchases.csv', index_col=0)\n",
    "\n",
    "purchases"
   ]
  },
  {
   "cell_type": "code",
   "execution_count": 21,
   "metadata": {},
   "outputs": [
    {
     "data": {
      "text/html": [
       "<div>\n",
       "<style scoped>\n",
       "    .dataframe tbody tr th:only-of-type {\n",
       "        vertical-align: middle;\n",
       "    }\n",
       "\n",
       "    .dataframe tbody tr th {\n",
       "        vertical-align: top;\n",
       "    }\n",
       "\n",
       "    .dataframe thead th {\n",
       "        text-align: right;\n",
       "    }\n",
       "</style>\n",
       "<table border=\"1\" class=\"dataframe\">\n",
       "  <thead>\n",
       "    <tr style=\"text-align: right;\">\n",
       "      <th></th>\n",
       "      <th>apples</th>\n",
       "      <th>oranges</th>\n",
       "    </tr>\n",
       "  </thead>\n",
       "  <tbody>\n",
       "    <tr>\n",
       "      <th>June</th>\n",
       "      <td>3</td>\n",
       "      <td>0</td>\n",
       "    </tr>\n",
       "    <tr>\n",
       "      <th>Robert</th>\n",
       "      <td>2</td>\n",
       "      <td>3</td>\n",
       "    </tr>\n",
       "    <tr>\n",
       "      <th>Lily</th>\n",
       "      <td>0</td>\n",
       "      <td>7</td>\n",
       "    </tr>\n",
       "    <tr>\n",
       "      <th>David</th>\n",
       "      <td>1</td>\n",
       "      <td>2</td>\n",
       "    </tr>\n",
       "  </tbody>\n",
       "</table>\n",
       "</div>"
      ],
      "text/plain": [
       "        apples  oranges\n",
       "June         3        0\n",
       "Robert       2        3\n",
       "Lily         0        7\n",
       "David        1        2"
      ]
     },
     "execution_count": 21,
     "metadata": {},
     "output_type": "execute_result"
    }
   ],
   "source": [
    "purchases = pd.read_csv('purchases.tsv', delimiter='\\t', index_col=0)\n",
    "\n",
    "purchases"
   ]
  },
  {
   "cell_type": "code",
   "execution_count": 22,
   "metadata": {},
   "outputs": [
    {
     "data": {
      "text/plain": [
       "June      3\n",
       "Robert    2\n",
       "Lily      0\n",
       "David     1\n",
       "Name: apples, dtype: int64"
      ]
     },
     "execution_count": 22,
     "metadata": {},
     "output_type": "execute_result"
    }
   ],
   "source": [
    "purchases['apples']"
   ]
  },
  {
   "cell_type": "code",
   "execution_count": 23,
   "metadata": {},
   "outputs": [
    {
     "data": {
      "text/plain": [
       "June      3\n",
       "Robert    2\n",
       "Lily      0\n",
       "David     1\n",
       "Name: apples, dtype: int64"
      ]
     },
     "execution_count": 23,
     "metadata": {},
     "output_type": "execute_result"
    }
   ],
   "source": [
    "purchases.apples"
   ]
  },
  {
   "cell_type": "code",
   "execution_count": 24,
   "metadata": {},
   "outputs": [
    {
     "data": {
      "text/plain": [
       "June       True\n",
       "Robert    False\n",
       "Lily      False\n",
       "David     False\n",
       "Name: apples, dtype: bool"
      ]
     },
     "execution_count": 24,
     "metadata": {},
     "output_type": "execute_result"
    }
   ],
   "source": [
    "purchases['apples'] > 2"
   ]
  },
  {
   "cell_type": "code",
   "execution_count": 25,
   "metadata": {},
   "outputs": [
    {
     "data": {
      "text/html": [
       "<div>\n",
       "<style scoped>\n",
       "    .dataframe tbody tr th:only-of-type {\n",
       "        vertical-align: middle;\n",
       "    }\n",
       "\n",
       "    .dataframe tbody tr th {\n",
       "        vertical-align: top;\n",
       "    }\n",
       "\n",
       "    .dataframe thead th {\n",
       "        text-align: right;\n",
       "    }\n",
       "</style>\n",
       "<table border=\"1\" class=\"dataframe\">\n",
       "  <thead>\n",
       "    <tr style=\"text-align: right;\">\n",
       "      <th></th>\n",
       "      <th>apples</th>\n",
       "      <th>oranges</th>\n",
       "    </tr>\n",
       "  </thead>\n",
       "  <tbody>\n",
       "    <tr>\n",
       "      <th>June</th>\n",
       "      <td>3</td>\n",
       "      <td>0</td>\n",
       "    </tr>\n",
       "  </tbody>\n",
       "</table>\n",
       "</div>"
      ],
      "text/plain": [
       "      apples  oranges\n",
       "June       3        0"
      ]
     },
     "execution_count": 25,
     "metadata": {},
     "output_type": "execute_result"
    }
   ],
   "source": [
    "purchases[purchases['apples'] > 2]"
   ]
  },
  {
   "cell_type": "code",
   "execution_count": 26,
   "metadata": {},
   "outputs": [
    {
     "data": {
      "text/plain": [
       "apples     1.5\n",
       "oranges    3.0\n",
       "dtype: float64"
      ]
     },
     "execution_count": 26,
     "metadata": {},
     "output_type": "execute_result"
    }
   ],
   "source": [
    "purchases.mean()"
   ]
  },
  {
   "cell_type": "code",
   "execution_count": 27,
   "metadata": {},
   "outputs": [
    {
     "data": {
      "text/plain": [
       "1.5"
      ]
     },
     "execution_count": 27,
     "metadata": {},
     "output_type": "execute_result"
    }
   ],
   "source": [
    "purchases['apples'].mean()"
   ]
  },
  {
   "cell_type": "code",
   "execution_count": 28,
   "metadata": {},
   "outputs": [
    {
     "data": {
      "text/html": [
       "<div>\n",
       "<style scoped>\n",
       "    .dataframe tbody tr th:only-of-type {\n",
       "        vertical-align: middle;\n",
       "    }\n",
       "\n",
       "    .dataframe tbody tr th {\n",
       "        vertical-align: top;\n",
       "    }\n",
       "\n",
       "    .dataframe thead th {\n",
       "        text-align: right;\n",
       "    }\n",
       "</style>\n",
       "<table border=\"1\" class=\"dataframe\">\n",
       "  <thead>\n",
       "    <tr style=\"text-align: right;\">\n",
       "      <th></th>\n",
       "      <th>apples</th>\n",
       "      <th>oranges</th>\n",
       "    </tr>\n",
       "  </thead>\n",
       "  <tbody>\n",
       "    <tr>\n",
       "      <th>June</th>\n",
       "      <td>3</td>\n",
       "      <td>0</td>\n",
       "    </tr>\n",
       "    <tr>\n",
       "      <th>Robert</th>\n",
       "      <td>2</td>\n",
       "      <td>3</td>\n",
       "    </tr>\n",
       "    <tr>\n",
       "      <th>Lily</th>\n",
       "      <td>0</td>\n",
       "      <td>7</td>\n",
       "    </tr>\n",
       "    <tr>\n",
       "      <th>David</th>\n",
       "      <td>1</td>\n",
       "      <td>2</td>\n",
       "    </tr>\n",
       "  </tbody>\n",
       "</table>\n",
       "</div>"
      ],
      "text/plain": [
       "        apples  oranges\n",
       "June         3        0\n",
       "Robert       2        3\n",
       "Lily         0        7\n",
       "David        1        2"
      ]
     },
     "execution_count": 28,
     "metadata": {},
     "output_type": "execute_result"
    }
   ],
   "source": [
    "purchases.head()"
   ]
  },
  {
   "cell_type": "code",
   "execution_count": 29,
   "metadata": {},
   "outputs": [
    {
     "data": {
      "text/html": [
       "<div>\n",
       "<style scoped>\n",
       "    .dataframe tbody tr th:only-of-type {\n",
       "        vertical-align: middle;\n",
       "    }\n",
       "\n",
       "    .dataframe tbody tr th {\n",
       "        vertical-align: top;\n",
       "    }\n",
       "\n",
       "    .dataframe thead th {\n",
       "        text-align: right;\n",
       "    }\n",
       "</style>\n",
       "<table border=\"1\" class=\"dataframe\">\n",
       "  <thead>\n",
       "    <tr style=\"text-align: right;\">\n",
       "      <th></th>\n",
       "      <th>apples</th>\n",
       "      <th>oranges</th>\n",
       "    </tr>\n",
       "  </thead>\n",
       "  <tbody>\n",
       "    <tr>\n",
       "      <th>June</th>\n",
       "      <td>3</td>\n",
       "      <td>0</td>\n",
       "    </tr>\n",
       "    <tr>\n",
       "      <th>Robert</th>\n",
       "      <td>2</td>\n",
       "      <td>3</td>\n",
       "    </tr>\n",
       "  </tbody>\n",
       "</table>\n",
       "</div>"
      ],
      "text/plain": [
       "        apples  oranges\n",
       "June         3        0\n",
       "Robert       2        3"
      ]
     },
     "execution_count": 29,
     "metadata": {},
     "output_type": "execute_result"
    }
   ],
   "source": [
    "purchases.head(2)"
   ]
  },
  {
   "cell_type": "code",
   "execution_count": 30,
   "metadata": {},
   "outputs": [
    {
     "data": {
      "text/html": [
       "<div>\n",
       "<style scoped>\n",
       "    .dataframe tbody tr th:only-of-type {\n",
       "        vertical-align: middle;\n",
       "    }\n",
       "\n",
       "    .dataframe tbody tr th {\n",
       "        vertical-align: top;\n",
       "    }\n",
       "\n",
       "    .dataframe thead th {\n",
       "        text-align: right;\n",
       "    }\n",
       "</style>\n",
       "<table border=\"1\" class=\"dataframe\">\n",
       "  <thead>\n",
       "    <tr style=\"text-align: right;\">\n",
       "      <th></th>\n",
       "      <th>apples</th>\n",
       "      <th>oranges</th>\n",
       "    </tr>\n",
       "  </thead>\n",
       "  <tbody>\n",
       "    <tr>\n",
       "      <th>June</th>\n",
       "      <td>3</td>\n",
       "      <td>0</td>\n",
       "    </tr>\n",
       "    <tr>\n",
       "      <th>Robert</th>\n",
       "      <td>2</td>\n",
       "      <td>3</td>\n",
       "    </tr>\n",
       "    <tr>\n",
       "      <th>Lily</th>\n",
       "      <td>0</td>\n",
       "      <td>7</td>\n",
       "    </tr>\n",
       "    <tr>\n",
       "      <th>David</th>\n",
       "      <td>1</td>\n",
       "      <td>2</td>\n",
       "    </tr>\n",
       "  </tbody>\n",
       "</table>\n",
       "</div>"
      ],
      "text/plain": [
       "        apples  oranges\n",
       "June         3        0\n",
       "Robert       2        3\n",
       "Lily         0        7\n",
       "David        1        2"
      ]
     },
     "execution_count": 30,
     "metadata": {},
     "output_type": "execute_result"
    }
   ],
   "source": [
    "purchases.tail()"
   ]
  },
  {
   "cell_type": "code",
   "execution_count": 31,
   "metadata": {},
   "outputs": [
    {
     "data": {
      "text/html": [
       "<div>\n",
       "<style scoped>\n",
       "    .dataframe tbody tr th:only-of-type {\n",
       "        vertical-align: middle;\n",
       "    }\n",
       "\n",
       "    .dataframe tbody tr th {\n",
       "        vertical-align: top;\n",
       "    }\n",
       "\n",
       "    .dataframe thead th {\n",
       "        text-align: right;\n",
       "    }\n",
       "</style>\n",
       "<table border=\"1\" class=\"dataframe\">\n",
       "  <thead>\n",
       "    <tr style=\"text-align: right;\">\n",
       "      <th></th>\n",
       "      <th>apples</th>\n",
       "      <th>oranges</th>\n",
       "    </tr>\n",
       "  </thead>\n",
       "  <tbody>\n",
       "    <tr>\n",
       "      <th>Lily</th>\n",
       "      <td>0</td>\n",
       "      <td>7</td>\n",
       "    </tr>\n",
       "    <tr>\n",
       "      <th>David</th>\n",
       "      <td>1</td>\n",
       "      <td>2</td>\n",
       "    </tr>\n",
       "  </tbody>\n",
       "</table>\n",
       "</div>"
      ],
      "text/plain": [
       "       apples  oranges\n",
       "Lily        0        7\n",
       "David       1        2"
      ]
     },
     "execution_count": 31,
     "metadata": {},
     "output_type": "execute_result"
    }
   ],
   "source": [
    "purchases.tail(2)"
   ]
  },
  {
   "cell_type": "code",
   "execution_count": 32,
   "metadata": {},
   "outputs": [
    {
     "name": "stdout",
     "output_type": "stream",
     "text": [
      "<class 'pandas.core.frame.DataFrame'>\n",
      "Index: 4 entries, June to David\n",
      "Data columns (total 2 columns):\n",
      " #   Column   Non-Null Count  Dtype\n",
      "---  ------   --------------  -----\n",
      " 0   apples   4 non-null      int64\n",
      " 1   oranges  4 non-null      int64\n",
      "dtypes: int64(2)\n",
      "memory usage: 256.0+ bytes\n"
     ]
    }
   ],
   "source": [
    "purchases.info()"
   ]
  },
  {
   "cell_type": "code",
   "execution_count": 33,
   "metadata": {},
   "outputs": [],
   "source": [
    "import altair as alt"
   ]
  },
  {
   "cell_type": "code",
   "execution_count": 35,
   "metadata": {},
   "outputs": [
    {
     "data": {
      "text/html": [
       "<div>\n",
       "<style scoped>\n",
       "    .dataframe tbody tr th:only-of-type {\n",
       "        vertical-align: middle;\n",
       "    }\n",
       "\n",
       "    .dataframe tbody tr th {\n",
       "        vertical-align: top;\n",
       "    }\n",
       "\n",
       "    .dataframe thead th {\n",
       "        text-align: right;\n",
       "    }\n",
       "</style>\n",
       "<table border=\"1\" class=\"dataframe\">\n",
       "  <thead>\n",
       "    <tr style=\"text-align: right;\">\n",
       "      <th></th>\n",
       "      <th>name</th>\n",
       "      <th>apples</th>\n",
       "      <th>oranges</th>\n",
       "    </tr>\n",
       "  </thead>\n",
       "  <tbody>\n",
       "    <tr>\n",
       "      <th>0</th>\n",
       "      <td>June</td>\n",
       "      <td>3</td>\n",
       "      <td>0</td>\n",
       "    </tr>\n",
       "    <tr>\n",
       "      <th>1</th>\n",
       "      <td>Robert</td>\n",
       "      <td>2</td>\n",
       "      <td>3</td>\n",
       "    </tr>\n",
       "    <tr>\n",
       "      <th>2</th>\n",
       "      <td>Lily</td>\n",
       "      <td>0</td>\n",
       "      <td>7</td>\n",
       "    </tr>\n",
       "    <tr>\n",
       "      <th>3</th>\n",
       "      <td>David</td>\n",
       "      <td>1</td>\n",
       "      <td>2</td>\n",
       "    </tr>\n",
       "  </tbody>\n",
       "</table>\n",
       "</div>"
      ],
      "text/plain": [
       "     name  apples  oranges\n",
       "0    June       3        0\n",
       "1  Robert       2        3\n",
       "2    Lily       0        7\n",
       "3   David       1        2"
      ]
     },
     "execution_count": 35,
     "metadata": {},
     "output_type": "execute_result"
    }
   ],
   "source": [
    "purchases = pd.read_csv('purchases.tsv', delimiter='\\t')\n",
    "\n",
    "purchases.columns = ['name', 'apples', 'oranges']\n",
    "purchases"
   ]
  },
  {
   "cell_type": "code",
   "execution_count": 42,
   "metadata": {},
   "outputs": [
    {
     "data": {
      "application/vnd.vegalite.v3+json": {
       "$schema": "https://vega.github.io/schema/vega-lite/v3.4.0.json",
       "config": {
        "mark": {
         "tooltip": null
        },
        "view": {
         "height": 300,
         "width": 400
        }
       },
       "data": {
        "name": "data-6a1cf7a95d65bd27e8351f62808fc777"
       },
       "datasets": {
        "data-6a1cf7a95d65bd27e8351f62808fc777": [
         {
          "apples": 3,
          "name": "June",
          "oranges": 0
         },
         {
          "apples": 2,
          "name": "Robert",
          "oranges": 3
         },
         {
          "apples": 0,
          "name": "Lily",
          "oranges": 7
         },
         {
          "apples": 1,
          "name": "David",
          "oranges": 2
         }
        ]
       },
       "encoding": {
        "x": {
         "field": "name",
         "type": "nominal"
        },
        "y": {
         "field": "apples",
         "type": "quantitative"
        }
       },
       "mark": "line",
       "width": 400
      },
      "image/png": "[encoded data removed]",
      "text/plain": [
       "<VegaLite 3 object>\n",
       "\n",
       "If you see this message, it means the renderer has not been properly enabled\n",
       "for the frontend that you are using. For more information, see\n",
       "https://altair-viz.github.io/user_guide/troubleshooting.html\n"
      ]
     },
     "execution_count": 42,
     "metadata": {},
     "output_type": "execute_result"
    }
   ],
   "source": [
    "alt.Chart(purchases, width=400).mark_line().encode(x='name', y='apples')"
   ]
  },
  {
   "cell_type": "code",
   "execution_count": 41,
   "metadata": {},
   "outputs": [
    {
     "data": {
      "application/vnd.vegalite.v3+json": {
       "$schema": "https://vega.github.io/schema/vega-lite/v3.4.0.json",
       "config": {
        "mark": {
         "tooltip": null
        },
        "view": {
         "height": 300,
         "width": 400
        }
       },
       "data": {
        "name": "data-6a1cf7a95d65bd27e8351f62808fc777"
       },
       "datasets": {
        "data-6a1cf7a95d65bd27e8351f62808fc777": [
         {
          "apples": 3,
          "name": "June",
          "oranges": 0
         },
         {
          "apples": 2,
          "name": "Robert",
          "oranges": 3
         },
         {
          "apples": 0,
          "name": "Lily",
          "oranges": 7
         },
         {
          "apples": 1,
          "name": "David",
          "oranges": 2
         }
        ]
       },
       "encoding": {
        "x": {
         "field": "name",
         "type": "nominal"
        },
        "y": {
         "field": "apples",
         "type": "quantitative"
        }
       },
       "mark": "bar",
       "width": 400
      },
      "image/png": "[encoded data removed]",
      "text/plain": [
       "<VegaLite 3 object>\n",
       "\n",
       "If you see this message, it means the renderer has not been properly enabled\n",
       "for the frontend that you are using. For more information, see\n",
       "https://altair-viz.github.io/user_guide/troubleshooting.html\n"
      ]
     },
     "execution_count": 41,
     "metadata": {},
     "output_type": "execute_result"
    }
   ],
   "source": [
    "alt.Chart(purchases, width=400).mark_bar().encode(x='name', y='apples')"
   ]
  },
  {
   "cell_type": "code",
   "execution_count": 40,
   "metadata": {},
   "outputs": [
    {
     "data": {
      "application/vnd.vegalite.v3+json": {
       "$schema": "https://vega.github.io/schema/vega-lite/v3.4.0.json",
       "config": {
        "mark": {
         "tooltip": null
        },
        "view": {
         "height": 300,
         "width": 400
        }
       },
       "data": {
        "name": "data-6a1cf7a95d65bd27e8351f62808fc777"
       },
       "datasets": {
        "data-6a1cf7a95d65bd27e8351f62808fc777": [
         {
          "apples": 3,
          "name": "June",
          "oranges": 0
         },
         {
          "apples": 2,
          "name": "Robert",
          "oranges": 3
         },
         {
          "apples": 0,
          "name": "Lily",
          "oranges": 7
         },
         {
          "apples": 1,
          "name": "David",
          "oranges": 2
         }
        ]
       },
       "encoding": {
        "x": {
         "field": "name",
         "type": "nominal"
        },
        "y": {
         "field": "apples",
         "type": "quantitative"
        }
       },
       "mark": "point",
       "width": 400
      },
      "image/png": "[encoded data removed]",
      "text/plain": [
       "<VegaLite 3 object>\n",
       "\n",
       "If you see this message, it means the renderer has not been properly enabled\n",
       "for the frontend that you are using. For more information, see\n",
       "https://altair-viz.github.io/user_guide/troubleshooting.html\n"
      ]
     },
     "execution_count": 40,
     "metadata": {},
     "output_type": "execute_result"
    }
   ],
   "source": [
    "alt.Chart(purchases, width=400).mark_point().encode(x='name', y='apples')"
   ]
  },
  {
   "cell_type": "markdown",
   "metadata": {},
   "source": [
    "### COVID-19 "
   ]
  },
  {
   "cell_type": "code",
   "execution_count": 43,
   "metadata": {},
   "outputs": [],
   "source": [
    "import pandas as pd\n",
    "import io\n",
    "import requests\n",
    "import altair as alt"
   ]
  },
  {
   "cell_type": "code",
   "execution_count": 44,
   "metadata": {},
   "outputs": [],
   "source": [
    "url = \"http://j.mp/covid19casescsv\"\n",
    "content_string = requests.get(url).content\n",
    "raw_data = pd.read_csv(io.StringIO(content_string.decode('utf-8')))"
   ]
  },
  {
   "cell_type": "code",
   "execution_count": 51,
   "metadata": {},
   "outputs": [],
   "source": [
    "url = \"http://j.mp/covid19casescsv\"\n",
    "content_string = requests.get(url).text\n",
    "\n",
    "data_file = open('covid19.csv', 'w')\n",
    "data_file.write(content_string)\n",
    "data_file.close()\n",
    "\n",
    "raw_data = pd.read_csv('covid19.csv')"
   ]
  },
  {
   "cell_type": "code",
   "execution_count": 52,
   "metadata": {},
   "outputs": [],
   "source": [
    "url = \"http://j.mp/covid19casescsv\"\n",
    "content_string = requests.get(url).text\n",
    "\n",
    "# make a file-like object out of the content_string\n",
    "raw_data = pd.read_csv(io.StringIO(content_string))"
   ]
  },
  {
   "cell_type": "code",
   "execution_count": 53,
   "metadata": {},
   "outputs": [
    {
     "name": "stdout",
     "output_type": "stream",
     "text": [
      "data: Province/State,Country/Region,Lat,Long,1/22/20,1/23/20,1/24/20,1/25/20,1/26/20,1/27/20,1/28/20,1/29/20,1/30/20,1/31/20,2/1/20,2/2/20,2/3/20,2/4/20,2/5/20,2/6/20,2/7/20,2/8/20,2/9/20,2/10/20,2/11/20,2/\n"
     ]
    }
   ],
   "source": [
    "url = \"http://j.mp/covid19casescsv\"\n",
    "content_string = requests.get(url).text\n",
    "\n",
    "my_stringio = io.StringIO(content_string)\n",
    "data = my_stringio.read(200)\n",
    "print(\"data:\", data)"
   ]
  },
  {
   "cell_type": "code",
   "execution_count": 45,
   "metadata": {},
   "outputs": [
    {
     "data": {
      "text/html": [
       "<div>\n",
       "<style scoped>\n",
       "    .dataframe tbody tr th:only-of-type {\n",
       "        vertical-align: middle;\n",
       "    }\n",
       "\n",
       "    .dataframe tbody tr th {\n",
       "        vertical-align: top;\n",
       "    }\n",
       "\n",
       "    .dataframe thead th {\n",
       "        text-align: right;\n",
       "    }\n",
       "</style>\n",
       "<table border=\"1\" class=\"dataframe\">\n",
       "  <thead>\n",
       "    <tr style=\"text-align: right;\">\n",
       "      <th></th>\n",
       "      <th>Province/State</th>\n",
       "      <th>Country/Region</th>\n",
       "      <th>Lat</th>\n",
       "      <th>Long</th>\n",
       "      <th>1/22/20</th>\n",
       "      <th>1/23/20</th>\n",
       "      <th>1/24/20</th>\n",
       "      <th>1/25/20</th>\n",
       "      <th>1/26/20</th>\n",
       "      <th>1/27/20</th>\n",
       "      <th>...</th>\n",
       "      <th>3/7/20</th>\n",
       "      <th>3/8/20</th>\n",
       "      <th>3/9/20</th>\n",
       "      <th>3/10/20</th>\n",
       "      <th>3/11/20</th>\n",
       "      <th>3/12/20</th>\n",
       "      <th>3/13/20</th>\n",
       "      <th>3/14/20</th>\n",
       "      <th>3/15/20</th>\n",
       "      <th>3/16/20</th>\n",
       "    </tr>\n",
       "  </thead>\n",
       "  <tbody>\n",
       "    <tr>\n",
       "      <th>0</th>\n",
       "      <td>NaN</td>\n",
       "      <td>Thailand</td>\n",
       "      <td>15.0000</td>\n",
       "      <td>101.0000</td>\n",
       "      <td>2</td>\n",
       "      <td>3</td>\n",
       "      <td>5</td>\n",
       "      <td>7</td>\n",
       "      <td>8</td>\n",
       "      <td>8</td>\n",
       "      <td>...</td>\n",
       "      <td>50</td>\n",
       "      <td>50</td>\n",
       "      <td>50</td>\n",
       "      <td>53</td>\n",
       "      <td>59</td>\n",
       "      <td>70</td>\n",
       "      <td>75</td>\n",
       "      <td>82</td>\n",
       "      <td>114</td>\n",
       "      <td>147</td>\n",
       "    </tr>\n",
       "    <tr>\n",
       "      <th>1</th>\n",
       "      <td>NaN</td>\n",
       "      <td>Japan</td>\n",
       "      <td>36.0000</td>\n",
       "      <td>138.0000</td>\n",
       "      <td>2</td>\n",
       "      <td>1</td>\n",
       "      <td>2</td>\n",
       "      <td>2</td>\n",
       "      <td>4</td>\n",
       "      <td>4</td>\n",
       "      <td>...</td>\n",
       "      <td>461</td>\n",
       "      <td>502</td>\n",
       "      <td>511</td>\n",
       "      <td>581</td>\n",
       "      <td>639</td>\n",
       "      <td>639</td>\n",
       "      <td>701</td>\n",
       "      <td>773</td>\n",
       "      <td>839</td>\n",
       "      <td>825</td>\n",
       "    </tr>\n",
       "    <tr>\n",
       "      <th>2</th>\n",
       "      <td>NaN</td>\n",
       "      <td>Singapore</td>\n",
       "      <td>1.2833</td>\n",
       "      <td>103.8333</td>\n",
       "      <td>0</td>\n",
       "      <td>1</td>\n",
       "      <td>3</td>\n",
       "      <td>3</td>\n",
       "      <td>4</td>\n",
       "      <td>5</td>\n",
       "      <td>...</td>\n",
       "      <td>138</td>\n",
       "      <td>150</td>\n",
       "      <td>150</td>\n",
       "      <td>160</td>\n",
       "      <td>178</td>\n",
       "      <td>178</td>\n",
       "      <td>200</td>\n",
       "      <td>212</td>\n",
       "      <td>226</td>\n",
       "      <td>243</td>\n",
       "    </tr>\n",
       "    <tr>\n",
       "      <th>3</th>\n",
       "      <td>NaN</td>\n",
       "      <td>Nepal</td>\n",
       "      <td>28.1667</td>\n",
       "      <td>84.2500</td>\n",
       "      <td>0</td>\n",
       "      <td>0</td>\n",
       "      <td>0</td>\n",
       "      <td>1</td>\n",
       "      <td>1</td>\n",
       "      <td>1</td>\n",
       "      <td>...</td>\n",
       "      <td>1</td>\n",
       "      <td>1</td>\n",
       "      <td>1</td>\n",
       "      <td>1</td>\n",
       "      <td>1</td>\n",
       "      <td>1</td>\n",
       "      <td>1</td>\n",
       "      <td>1</td>\n",
       "      <td>1</td>\n",
       "      <td>1</td>\n",
       "    </tr>\n",
       "    <tr>\n",
       "      <th>4</th>\n",
       "      <td>NaN</td>\n",
       "      <td>Malaysia</td>\n",
       "      <td>2.5000</td>\n",
       "      <td>112.5000</td>\n",
       "      <td>0</td>\n",
       "      <td>0</td>\n",
       "      <td>0</td>\n",
       "      <td>3</td>\n",
       "      <td>4</td>\n",
       "      <td>4</td>\n",
       "      <td>...</td>\n",
       "      <td>93</td>\n",
       "      <td>99</td>\n",
       "      <td>117</td>\n",
       "      <td>129</td>\n",
       "      <td>149</td>\n",
       "      <td>149</td>\n",
       "      <td>197</td>\n",
       "      <td>238</td>\n",
       "      <td>428</td>\n",
       "      <td>566</td>\n",
       "    </tr>\n",
       "    <tr>\n",
       "      <th>...</th>\n",
       "      <td>...</td>\n",
       "      <td>...</td>\n",
       "      <td>...</td>\n",
       "      <td>...</td>\n",
       "      <td>...</td>\n",
       "      <td>...</td>\n",
       "      <td>...</td>\n",
       "      <td>...</td>\n",
       "      <td>...</td>\n",
       "      <td>...</td>\n",
       "      <td>...</td>\n",
       "      <td>...</td>\n",
       "      <td>...</td>\n",
       "      <td>...</td>\n",
       "      <td>...</td>\n",
       "      <td>...</td>\n",
       "      <td>...</td>\n",
       "      <td>...</td>\n",
       "      <td>...</td>\n",
       "      <td>...</td>\n",
       "      <td>...</td>\n",
       "    </tr>\n",
       "    <tr>\n",
       "      <th>458</th>\n",
       "      <td>NaN</td>\n",
       "      <td>Somalia</td>\n",
       "      <td>5.1521</td>\n",
       "      <td>46.1996</td>\n",
       "      <td>0</td>\n",
       "      <td>0</td>\n",
       "      <td>0</td>\n",
       "      <td>0</td>\n",
       "      <td>0</td>\n",
       "      <td>0</td>\n",
       "      <td>...</td>\n",
       "      <td>0</td>\n",
       "      <td>0</td>\n",
       "      <td>0</td>\n",
       "      <td>0</td>\n",
       "      <td>0</td>\n",
       "      <td>0</td>\n",
       "      <td>0</td>\n",
       "      <td>0</td>\n",
       "      <td>0</td>\n",
       "      <td>1</td>\n",
       "    </tr>\n",
       "    <tr>\n",
       "      <th>459</th>\n",
       "      <td>NaN</td>\n",
       "      <td>Tanzania</td>\n",
       "      <td>-6.3690</td>\n",
       "      <td>34.8888</td>\n",
       "      <td>0</td>\n",
       "      <td>0</td>\n",
       "      <td>0</td>\n",
       "      <td>0</td>\n",
       "      <td>0</td>\n",
       "      <td>0</td>\n",
       "      <td>...</td>\n",
       "      <td>0</td>\n",
       "      <td>0</td>\n",
       "      <td>0</td>\n",
       "      <td>0</td>\n",
       "      <td>0</td>\n",
       "      <td>0</td>\n",
       "      <td>0</td>\n",
       "      <td>0</td>\n",
       "      <td>0</td>\n",
       "      <td>1</td>\n",
       "    </tr>\n",
       "    <tr>\n",
       "      <th>460</th>\n",
       "      <td>NaN</td>\n",
       "      <td>The Bahamas</td>\n",
       "      <td>24.2500</td>\n",
       "      <td>-76.0000</td>\n",
       "      <td>0</td>\n",
       "      <td>0</td>\n",
       "      <td>0</td>\n",
       "      <td>0</td>\n",
       "      <td>0</td>\n",
       "      <td>0</td>\n",
       "      <td>...</td>\n",
       "      <td>0</td>\n",
       "      <td>0</td>\n",
       "      <td>0</td>\n",
       "      <td>0</td>\n",
       "      <td>0</td>\n",
       "      <td>0</td>\n",
       "      <td>0</td>\n",
       "      <td>0</td>\n",
       "      <td>0</td>\n",
       "      <td>1</td>\n",
       "    </tr>\n",
       "    <tr>\n",
       "      <th>461</th>\n",
       "      <td>Virgin Islands</td>\n",
       "      <td>US</td>\n",
       "      <td>18.3358</td>\n",
       "      <td>-64.8963</td>\n",
       "      <td>0</td>\n",
       "      <td>0</td>\n",
       "      <td>0</td>\n",
       "      <td>0</td>\n",
       "      <td>0</td>\n",
       "      <td>0</td>\n",
       "      <td>...</td>\n",
       "      <td>0</td>\n",
       "      <td>0</td>\n",
       "      <td>0</td>\n",
       "      <td>0</td>\n",
       "      <td>0</td>\n",
       "      <td>0</td>\n",
       "      <td>0</td>\n",
       "      <td>1</td>\n",
       "      <td>1</td>\n",
       "      <td>1</td>\n",
       "    </tr>\n",
       "    <tr>\n",
       "      <th>462</th>\n",
       "      <td>Cayman Islands</td>\n",
       "      <td>United Kingdom</td>\n",
       "      <td>19.3133</td>\n",
       "      <td>-81.2546</td>\n",
       "      <td>0</td>\n",
       "      <td>0</td>\n",
       "      <td>0</td>\n",
       "      <td>0</td>\n",
       "      <td>0</td>\n",
       "      <td>0</td>\n",
       "      <td>...</td>\n",
       "      <td>0</td>\n",
       "      <td>0</td>\n",
       "      <td>0</td>\n",
       "      <td>0</td>\n",
       "      <td>0</td>\n",
       "      <td>0</td>\n",
       "      <td>1</td>\n",
       "      <td>1</td>\n",
       "      <td>1</td>\n",
       "      <td>1</td>\n",
       "    </tr>\n",
       "  </tbody>\n",
       "</table>\n",
       "<p>463 rows × 59 columns</p>\n",
       "</div>"
      ],
      "text/plain": [
       "     Province/State  Country/Region      Lat      Long  1/22/20  1/23/20  \\\n",
       "0               NaN        Thailand  15.0000  101.0000        2        3   \n",
       "1               NaN           Japan  36.0000  138.0000        2        1   \n",
       "2               NaN       Singapore   1.2833  103.8333        0        1   \n",
       "3               NaN           Nepal  28.1667   84.2500        0        0   \n",
       "4               NaN        Malaysia   2.5000  112.5000        0        0   \n",
       "..              ...             ...      ...       ...      ...      ...   \n",
       "458             NaN         Somalia   5.1521   46.1996        0        0   \n",
       "459             NaN        Tanzania  -6.3690   34.8888        0        0   \n",
       "460             NaN     The Bahamas  24.2500  -76.0000        0        0   \n",
       "461  Virgin Islands              US  18.3358  -64.8963        0        0   \n",
       "462  Cayman Islands  United Kingdom  19.3133  -81.2546        0        0   \n",
       "\n",
       "     1/24/20  1/25/20  1/26/20  1/27/20  ...  3/7/20  3/8/20  3/9/20  3/10/20  \\\n",
       "0          5        7        8        8  ...      50      50      50       53   \n",
       "1          2        2        4        4  ...     461     502     511      581   \n",
       "2          3        3        4        5  ...     138     150     150      160   \n",
       "3          0        1        1        1  ...       1       1       1        1   \n",
       "4          0        3        4        4  ...      93      99     117      129   \n",
       "..       ...      ...      ...      ...  ...     ...     ...     ...      ...   \n",
       "458        0        0        0        0  ...       0       0       0        0   \n",
       "459        0        0        0        0  ...       0       0       0        0   \n",
       "460        0        0        0        0  ...       0       0       0        0   \n",
       "461        0        0        0        0  ...       0       0       0        0   \n",
       "462        0        0        0        0  ...       0       0       0        0   \n",
       "\n",
       "     3/11/20  3/12/20  3/13/20  3/14/20  3/15/20  3/16/20  \n",
       "0         59       70       75       82      114      147  \n",
       "1        639      639      701      773      839      825  \n",
       "2        178      178      200      212      226      243  \n",
       "3          1        1        1        1        1        1  \n",
       "4        149      149      197      238      428      566  \n",
       "..       ...      ...      ...      ...      ...      ...  \n",
       "458        0        0        0        0        0        1  \n",
       "459        0        0        0        0        0        1  \n",
       "460        0        0        0        0        0        1  \n",
       "461        0        0        0        1        1        1  \n",
       "462        0        0        1        1        1        1  \n",
       "\n",
       "[463 rows x 59 columns]"
      ]
     },
     "execution_count": 45,
     "metadata": {},
     "output_type": "execute_result"
    }
   ],
   "source": [
    "raw_data"
   ]
  },
  {
   "cell_type": "code",
   "execution_count": 54,
   "metadata": {},
   "outputs": [
    {
     "data": {
      "text/plain": [
       "Index(['1/22/20', '1/23/20', '1/24/20', '1/25/20', '1/26/20', '1/27/20',\n",
       "       '1/28/20', '1/29/20', '1/30/20', '1/31/20', '2/1/20', '2/2/20',\n",
       "       '2/3/20', '2/4/20', '2/5/20', '2/6/20', '2/7/20', '2/8/20', '2/9/20',\n",
       "       '2/10/20', '2/11/20', '2/12/20', '2/13/20', '2/14/20', '2/15/20',\n",
       "       '2/16/20', '2/17/20', '2/18/20', '2/19/20', '2/20/20', '2/21/20',\n",
       "       '2/22/20', '2/23/20', '2/24/20', '2/25/20', '2/26/20', '2/27/20',\n",
       "       '2/28/20', '2/29/20', '3/1/20', '3/2/20', '3/3/20', '3/4/20', '3/5/20',\n",
       "       '3/6/20', '3/7/20', '3/8/20', '3/9/20', '3/10/20', '3/11/20', '3/12/20',\n",
       "       '3/13/20', '3/14/20', '3/15/20', '3/16/20'],\n",
       "      dtype='object')"
      ]
     },
     "execution_count": 54,
     "metadata": {},
     "output_type": "execute_result"
    }
   ],
   "source": [
    "value_columns = raw_data.columns[4:]\n",
    "\n",
    "value_columns"
   ]
  },
  {
   "cell_type": "code",
   "execution_count": 55,
   "metadata": {},
   "outputs": [
    {
     "data": {
      "text/html": [
       "<div>\n",
       "<style scoped>\n",
       "    .dataframe tbody tr th:only-of-type {\n",
       "        vertical-align: middle;\n",
       "    }\n",
       "\n",
       "    .dataframe tbody tr th {\n",
       "        vertical-align: top;\n",
       "    }\n",
       "\n",
       "    .dataframe thead th {\n",
       "        text-align: right;\n",
       "    }\n",
       "</style>\n",
       "<table border=\"1\" class=\"dataframe\">\n",
       "  <thead>\n",
       "    <tr style=\"text-align: right;\">\n",
       "      <th></th>\n",
       "      <th>Country/Region</th>\n",
       "      <th>1/22/20</th>\n",
       "      <th>1/23/20</th>\n",
       "      <th>1/24/20</th>\n",
       "      <th>1/25/20</th>\n",
       "      <th>1/26/20</th>\n",
       "      <th>1/27/20</th>\n",
       "      <th>1/28/20</th>\n",
       "      <th>1/29/20</th>\n",
       "      <th>1/30/20</th>\n",
       "      <th>...</th>\n",
       "      <th>3/7/20</th>\n",
       "      <th>3/8/20</th>\n",
       "      <th>3/9/20</th>\n",
       "      <th>3/10/20</th>\n",
       "      <th>3/11/20</th>\n",
       "      <th>3/12/20</th>\n",
       "      <th>3/13/20</th>\n",
       "      <th>3/14/20</th>\n",
       "      <th>3/15/20</th>\n",
       "      <th>3/16/20</th>\n",
       "    </tr>\n",
       "  </thead>\n",
       "  <tbody>\n",
       "    <tr>\n",
       "      <th>0</th>\n",
       "      <td>Thailand</td>\n",
       "      <td>2</td>\n",
       "      <td>3</td>\n",
       "      <td>5</td>\n",
       "      <td>7</td>\n",
       "      <td>8</td>\n",
       "      <td>8</td>\n",
       "      <td>14</td>\n",
       "      <td>14</td>\n",
       "      <td>14</td>\n",
       "      <td>...</td>\n",
       "      <td>50</td>\n",
       "      <td>50</td>\n",
       "      <td>50</td>\n",
       "      <td>53</td>\n",
       "      <td>59</td>\n",
       "      <td>70</td>\n",
       "      <td>75</td>\n",
       "      <td>82</td>\n",
       "      <td>114</td>\n",
       "      <td>147</td>\n",
       "    </tr>\n",
       "    <tr>\n",
       "      <th>1</th>\n",
       "      <td>Japan</td>\n",
       "      <td>2</td>\n",
       "      <td>1</td>\n",
       "      <td>2</td>\n",
       "      <td>2</td>\n",
       "      <td>4</td>\n",
       "      <td>4</td>\n",
       "      <td>7</td>\n",
       "      <td>7</td>\n",
       "      <td>11</td>\n",
       "      <td>...</td>\n",
       "      <td>461</td>\n",
       "      <td>502</td>\n",
       "      <td>511</td>\n",
       "      <td>581</td>\n",
       "      <td>639</td>\n",
       "      <td>639</td>\n",
       "      <td>701</td>\n",
       "      <td>773</td>\n",
       "      <td>839</td>\n",
       "      <td>825</td>\n",
       "    </tr>\n",
       "    <tr>\n",
       "      <th>2</th>\n",
       "      <td>Singapore</td>\n",
       "      <td>0</td>\n",
       "      <td>1</td>\n",
       "      <td>3</td>\n",
       "      <td>3</td>\n",
       "      <td>4</td>\n",
       "      <td>5</td>\n",
       "      <td>7</td>\n",
       "      <td>7</td>\n",
       "      <td>10</td>\n",
       "      <td>...</td>\n",
       "      <td>138</td>\n",
       "      <td>150</td>\n",
       "      <td>150</td>\n",
       "      <td>160</td>\n",
       "      <td>178</td>\n",
       "      <td>178</td>\n",
       "      <td>200</td>\n",
       "      <td>212</td>\n",
       "      <td>226</td>\n",
       "      <td>243</td>\n",
       "    </tr>\n",
       "    <tr>\n",
       "      <th>3</th>\n",
       "      <td>Nepal</td>\n",
       "      <td>0</td>\n",
       "      <td>0</td>\n",
       "      <td>0</td>\n",
       "      <td>1</td>\n",
       "      <td>1</td>\n",
       "      <td>1</td>\n",
       "      <td>1</td>\n",
       "      <td>1</td>\n",
       "      <td>1</td>\n",
       "      <td>...</td>\n",
       "      <td>1</td>\n",
       "      <td>1</td>\n",
       "      <td>1</td>\n",
       "      <td>1</td>\n",
       "      <td>1</td>\n",
       "      <td>1</td>\n",
       "      <td>1</td>\n",
       "      <td>1</td>\n",
       "      <td>1</td>\n",
       "      <td>1</td>\n",
       "    </tr>\n",
       "    <tr>\n",
       "      <th>4</th>\n",
       "      <td>Malaysia</td>\n",
       "      <td>0</td>\n",
       "      <td>0</td>\n",
       "      <td>0</td>\n",
       "      <td>3</td>\n",
       "      <td>4</td>\n",
       "      <td>4</td>\n",
       "      <td>4</td>\n",
       "      <td>7</td>\n",
       "      <td>8</td>\n",
       "      <td>...</td>\n",
       "      <td>93</td>\n",
       "      <td>99</td>\n",
       "      <td>117</td>\n",
       "      <td>129</td>\n",
       "      <td>149</td>\n",
       "      <td>149</td>\n",
       "      <td>197</td>\n",
       "      <td>238</td>\n",
       "      <td>428</td>\n",
       "      <td>566</td>\n",
       "    </tr>\n",
       "    <tr>\n",
       "      <th>...</th>\n",
       "      <td>...</td>\n",
       "      <td>...</td>\n",
       "      <td>...</td>\n",
       "      <td>...</td>\n",
       "      <td>...</td>\n",
       "      <td>...</td>\n",
       "      <td>...</td>\n",
       "      <td>...</td>\n",
       "      <td>...</td>\n",
       "      <td>...</td>\n",
       "      <td>...</td>\n",
       "      <td>...</td>\n",
       "      <td>...</td>\n",
       "      <td>...</td>\n",
       "      <td>...</td>\n",
       "      <td>...</td>\n",
       "      <td>...</td>\n",
       "      <td>...</td>\n",
       "      <td>...</td>\n",
       "      <td>...</td>\n",
       "      <td>...</td>\n",
       "    </tr>\n",
       "    <tr>\n",
       "      <th>458</th>\n",
       "      <td>Somalia</td>\n",
       "      <td>0</td>\n",
       "      <td>0</td>\n",
       "      <td>0</td>\n",
       "      <td>0</td>\n",
       "      <td>0</td>\n",
       "      <td>0</td>\n",
       "      <td>0</td>\n",
       "      <td>0</td>\n",
       "      <td>0</td>\n",
       "      <td>...</td>\n",
       "      <td>0</td>\n",
       "      <td>0</td>\n",
       "      <td>0</td>\n",
       "      <td>0</td>\n",
       "      <td>0</td>\n",
       "      <td>0</td>\n",
       "      <td>0</td>\n",
       "      <td>0</td>\n",
       "      <td>0</td>\n",
       "      <td>1</td>\n",
       "    </tr>\n",
       "    <tr>\n",
       "      <th>459</th>\n",
       "      <td>Tanzania</td>\n",
       "      <td>0</td>\n",
       "      <td>0</td>\n",
       "      <td>0</td>\n",
       "      <td>0</td>\n",
       "      <td>0</td>\n",
       "      <td>0</td>\n",
       "      <td>0</td>\n",
       "      <td>0</td>\n",
       "      <td>0</td>\n",
       "      <td>...</td>\n",
       "      <td>0</td>\n",
       "      <td>0</td>\n",
       "      <td>0</td>\n",
       "      <td>0</td>\n",
       "      <td>0</td>\n",
       "      <td>0</td>\n",
       "      <td>0</td>\n",
       "      <td>0</td>\n",
       "      <td>0</td>\n",
       "      <td>1</td>\n",
       "    </tr>\n",
       "    <tr>\n",
       "      <th>460</th>\n",
       "      <td>The Bahamas</td>\n",
       "      <td>0</td>\n",
       "      <td>0</td>\n",
       "      <td>0</td>\n",
       "      <td>0</td>\n",
       "      <td>0</td>\n",
       "      <td>0</td>\n",
       "      <td>0</td>\n",
       "      <td>0</td>\n",
       "      <td>0</td>\n",
       "      <td>...</td>\n",
       "      <td>0</td>\n",
       "      <td>0</td>\n",
       "      <td>0</td>\n",
       "      <td>0</td>\n",
       "      <td>0</td>\n",
       "      <td>0</td>\n",
       "      <td>0</td>\n",
       "      <td>0</td>\n",
       "      <td>0</td>\n",
       "      <td>1</td>\n",
       "    </tr>\n",
       "    <tr>\n",
       "      <th>461</th>\n",
       "      <td>US</td>\n",
       "      <td>0</td>\n",
       "      <td>0</td>\n",
       "      <td>0</td>\n",
       "      <td>0</td>\n",
       "      <td>0</td>\n",
       "      <td>0</td>\n",
       "      <td>0</td>\n",
       "      <td>0</td>\n",
       "      <td>0</td>\n",
       "      <td>...</td>\n",
       "      <td>0</td>\n",
       "      <td>0</td>\n",
       "      <td>0</td>\n",
       "      <td>0</td>\n",
       "      <td>0</td>\n",
       "      <td>0</td>\n",
       "      <td>0</td>\n",
       "      <td>1</td>\n",
       "      <td>1</td>\n",
       "      <td>1</td>\n",
       "    </tr>\n",
       "    <tr>\n",
       "      <th>462</th>\n",
       "      <td>United Kingdom</td>\n",
       "      <td>0</td>\n",
       "      <td>0</td>\n",
       "      <td>0</td>\n",
       "      <td>0</td>\n",
       "      <td>0</td>\n",
       "      <td>0</td>\n",
       "      <td>0</td>\n",
       "      <td>0</td>\n",
       "      <td>0</td>\n",
       "      <td>...</td>\n",
       "      <td>0</td>\n",
       "      <td>0</td>\n",
       "      <td>0</td>\n",
       "      <td>0</td>\n",
       "      <td>0</td>\n",
       "      <td>0</td>\n",
       "      <td>1</td>\n",
       "      <td>1</td>\n",
       "      <td>1</td>\n",
       "      <td>1</td>\n",
       "    </tr>\n",
       "  </tbody>\n",
       "</table>\n",
       "<p>463 rows × 56 columns</p>\n",
       "</div>"
      ],
      "text/plain": [
       "     Country/Region  1/22/20  1/23/20  1/24/20  1/25/20  1/26/20  1/27/20  \\\n",
       "0          Thailand        2        3        5        7        8        8   \n",
       "1             Japan        2        1        2        2        4        4   \n",
       "2         Singapore        0        1        3        3        4        5   \n",
       "3             Nepal        0        0        0        1        1        1   \n",
       "4          Malaysia        0        0        0        3        4        4   \n",
       "..              ...      ...      ...      ...      ...      ...      ...   \n",
       "458         Somalia        0        0        0        0        0        0   \n",
       "459        Tanzania        0        0        0        0        0        0   \n",
       "460     The Bahamas        0        0        0        0        0        0   \n",
       "461              US        0        0        0        0        0        0   \n",
       "462  United Kingdom        0        0        0        0        0        0   \n",
       "\n",
       "     1/28/20  1/29/20  1/30/20  ...  3/7/20  3/8/20  3/9/20  3/10/20  3/11/20  \\\n",
       "0         14       14       14  ...      50      50      50       53       59   \n",
       "1          7        7       11  ...     461     502     511      581      639   \n",
       "2          7        7       10  ...     138     150     150      160      178   \n",
       "3          1        1        1  ...       1       1       1        1        1   \n",
       "4          4        7        8  ...      93      99     117      129      149   \n",
       "..       ...      ...      ...  ...     ...     ...     ...      ...      ...   \n",
       "458        0        0        0  ...       0       0       0        0        0   \n",
       "459        0        0        0  ...       0       0       0        0        0   \n",
       "460        0        0        0  ...       0       0       0        0        0   \n",
       "461        0        0        0  ...       0       0       0        0        0   \n",
       "462        0        0        0  ...       0       0       0        0        0   \n",
       "\n",
       "     3/12/20  3/13/20  3/14/20  3/15/20  3/16/20  \n",
       "0         70       75       82      114      147  \n",
       "1        639      701      773      839      825  \n",
       "2        178      200      212      226      243  \n",
       "3          1        1        1        1        1  \n",
       "4        149      197      238      428      566  \n",
       "..       ...      ...      ...      ...      ...  \n",
       "458        0        0        0        0        1  \n",
       "459        0        0        0        0        1  \n",
       "460        0        0        0        0        1  \n",
       "461        0        0        1        1        1  \n",
       "462        0        1        1        1        1  \n",
       "\n",
       "[463 rows x 56 columns]"
      ]
     },
     "execution_count": 55,
     "metadata": {},
     "output_type": "execute_result"
    }
   ],
   "source": [
    "covid19 = raw_data.drop(\n",
    "    ['Province/State', 'Lat', 'Long'], axis=1)\n",
    "\n",
    "covid19"
   ]
  },
  {
   "cell_type": "code",
   "execution_count": 59,
   "metadata": {},
   "outputs": [
    {
     "data": {
      "text/html": [
       "<div>\n",
       "<style scoped>\n",
       "    .dataframe tbody tr th:only-of-type {\n",
       "        vertical-align: middle;\n",
       "    }\n",
       "\n",
       "    .dataframe tbody tr th {\n",
       "        vertical-align: top;\n",
       "    }\n",
       "\n",
       "    .dataframe thead th {\n",
       "        text-align: right;\n",
       "    }\n",
       "</style>\n",
       "<table border=\"1\" class=\"dataframe\">\n",
       "  <thead>\n",
       "    <tr style=\"text-align: right;\">\n",
       "      <th></th>\n",
       "      <th>apples</th>\n",
       "      <th>oranges</th>\n",
       "    </tr>\n",
       "  </thead>\n",
       "  <tbody>\n",
       "    <tr>\n",
       "      <th>June</th>\n",
       "      <td>3</td>\n",
       "      <td>0</td>\n",
       "    </tr>\n",
       "    <tr>\n",
       "      <th>Robert</th>\n",
       "      <td>2</td>\n",
       "      <td>3</td>\n",
       "    </tr>\n",
       "    <tr>\n",
       "      <th>Lily</th>\n",
       "      <td>0</td>\n",
       "      <td>7</td>\n",
       "    </tr>\n",
       "    <tr>\n",
       "      <th>David</th>\n",
       "      <td>1</td>\n",
       "      <td>2</td>\n",
       "    </tr>\n",
       "  </tbody>\n",
       "</table>\n",
       "</div>"
      ],
      "text/plain": [
       "        apples  oranges\n",
       "June         3        0\n",
       "Robert       2        3\n",
       "Lily         0        7\n",
       "David        1        2"
      ]
     },
     "execution_count": 59,
     "metadata": {},
     "output_type": "execute_result"
    }
   ],
   "source": [
    "purchases_with_index = pd.read_csv('purchases.csv', index_col=0)\n",
    "\n",
    "purchases_with_index"
   ]
  },
  {
   "cell_type": "code",
   "execution_count": 62,
   "metadata": {},
   "outputs": [
    {
     "data": {
      "text/html": [
       "<div>\n",
       "<style scoped>\n",
       "    .dataframe tbody tr th:only-of-type {\n",
       "        vertical-align: middle;\n",
       "    }\n",
       "\n",
       "    .dataframe tbody tr th {\n",
       "        vertical-align: top;\n",
       "    }\n",
       "\n",
       "    .dataframe thead th {\n",
       "        text-align: right;\n",
       "    }\n",
       "</style>\n",
       "<table border=\"1\" class=\"dataframe\">\n",
       "  <thead>\n",
       "    <tr style=\"text-align: right;\">\n",
       "      <th></th>\n",
       "      <th>apples</th>\n",
       "      <th>oranges</th>\n",
       "    </tr>\n",
       "  </thead>\n",
       "  <tbody>\n",
       "    <tr>\n",
       "      <th>June</th>\n",
       "      <td>3</td>\n",
       "      <td>0</td>\n",
       "    </tr>\n",
       "    <tr>\n",
       "      <th>Robert</th>\n",
       "      <td>2</td>\n",
       "      <td>3</td>\n",
       "    </tr>\n",
       "    <tr>\n",
       "      <th>Lily</th>\n",
       "      <td>0</td>\n",
       "      <td>7</td>\n",
       "    </tr>\n",
       "  </tbody>\n",
       "</table>\n",
       "</div>"
      ],
      "text/plain": [
       "        apples  oranges\n",
       "June         3        0\n",
       "Robert       2        3\n",
       "Lily         0        7"
      ]
     },
     "execution_count": 62,
     "metadata": {},
     "output_type": "execute_result"
    }
   ],
   "source": [
    "purchases_with_index.drop(['David'])"
   ]
  },
  {
   "cell_type": "code",
   "execution_count": 63,
   "metadata": {},
   "outputs": [
    {
     "data": {
      "text/html": [
       "<div>\n",
       "<style scoped>\n",
       "    .dataframe tbody tr th:only-of-type {\n",
       "        vertical-align: middle;\n",
       "    }\n",
       "\n",
       "    .dataframe tbody tr th {\n",
       "        vertical-align: top;\n",
       "    }\n",
       "\n",
       "    .dataframe thead th {\n",
       "        text-align: right;\n",
       "    }\n",
       "</style>\n",
       "<table border=\"1\" class=\"dataframe\">\n",
       "  <thead>\n",
       "    <tr style=\"text-align: right;\">\n",
       "      <th></th>\n",
       "      <th>apples</th>\n",
       "    </tr>\n",
       "  </thead>\n",
       "  <tbody>\n",
       "    <tr>\n",
       "      <th>June</th>\n",
       "      <td>3</td>\n",
       "    </tr>\n",
       "    <tr>\n",
       "      <th>Robert</th>\n",
       "      <td>2</td>\n",
       "    </tr>\n",
       "    <tr>\n",
       "      <th>Lily</th>\n",
       "      <td>0</td>\n",
       "    </tr>\n",
       "    <tr>\n",
       "      <th>David</th>\n",
       "      <td>1</td>\n",
       "    </tr>\n",
       "  </tbody>\n",
       "</table>\n",
       "</div>"
      ],
      "text/plain": [
       "        apples\n",
       "June         3\n",
       "Robert       2\n",
       "Lily         0\n",
       "David        1"
      ]
     },
     "execution_count": 63,
     "metadata": {},
     "output_type": "execute_result"
    }
   ],
   "source": [
    "purchases_with_index.drop(['oranges'], axis=1)"
   ]
  },
  {
   "cell_type": "code",
   "execution_count": 64,
   "metadata": {},
   "outputs": [
    {
     "data": {
      "text/html": [
       "<div>\n",
       "<style scoped>\n",
       "    .dataframe tbody tr th:only-of-type {\n",
       "        vertical-align: middle;\n",
       "    }\n",
       "\n",
       "    .dataframe tbody tr th {\n",
       "        vertical-align: top;\n",
       "    }\n",
       "\n",
       "    .dataframe thead th {\n",
       "        text-align: right;\n",
       "    }\n",
       "</style>\n",
       "<table border=\"1\" class=\"dataframe\">\n",
       "  <thead>\n",
       "    <tr style=\"text-align: right;\">\n",
       "      <th></th>\n",
       "      <th>Country/Region</th>\n",
       "      <th>1/22/20</th>\n",
       "      <th>1/23/20</th>\n",
       "      <th>1/24/20</th>\n",
       "      <th>1/25/20</th>\n",
       "      <th>1/26/20</th>\n",
       "      <th>1/27/20</th>\n",
       "      <th>1/28/20</th>\n",
       "      <th>1/29/20</th>\n",
       "      <th>1/30/20</th>\n",
       "      <th>...</th>\n",
       "      <th>3/7/20</th>\n",
       "      <th>3/8/20</th>\n",
       "      <th>3/9/20</th>\n",
       "      <th>3/10/20</th>\n",
       "      <th>3/11/20</th>\n",
       "      <th>3/12/20</th>\n",
       "      <th>3/13/20</th>\n",
       "      <th>3/14/20</th>\n",
       "      <th>3/15/20</th>\n",
       "      <th>3/16/20</th>\n",
       "    </tr>\n",
       "  </thead>\n",
       "  <tbody>\n",
       "    <tr>\n",
       "      <th>0</th>\n",
       "      <td>Thailand</td>\n",
       "      <td>2</td>\n",
       "      <td>3</td>\n",
       "      <td>5</td>\n",
       "      <td>7</td>\n",
       "      <td>8</td>\n",
       "      <td>8</td>\n",
       "      <td>14</td>\n",
       "      <td>14</td>\n",
       "      <td>14</td>\n",
       "      <td>...</td>\n",
       "      <td>50</td>\n",
       "      <td>50</td>\n",
       "      <td>50</td>\n",
       "      <td>53</td>\n",
       "      <td>59</td>\n",
       "      <td>70</td>\n",
       "      <td>75</td>\n",
       "      <td>82</td>\n",
       "      <td>114</td>\n",
       "      <td>147</td>\n",
       "    </tr>\n",
       "    <tr>\n",
       "      <th>1</th>\n",
       "      <td>Japan</td>\n",
       "      <td>2</td>\n",
       "      <td>1</td>\n",
       "      <td>2</td>\n",
       "      <td>2</td>\n",
       "      <td>4</td>\n",
       "      <td>4</td>\n",
       "      <td>7</td>\n",
       "      <td>7</td>\n",
       "      <td>11</td>\n",
       "      <td>...</td>\n",
       "      <td>461</td>\n",
       "      <td>502</td>\n",
       "      <td>511</td>\n",
       "      <td>581</td>\n",
       "      <td>639</td>\n",
       "      <td>639</td>\n",
       "      <td>701</td>\n",
       "      <td>773</td>\n",
       "      <td>839</td>\n",
       "      <td>825</td>\n",
       "    </tr>\n",
       "    <tr>\n",
       "      <th>2</th>\n",
       "      <td>Singapore</td>\n",
       "      <td>0</td>\n",
       "      <td>1</td>\n",
       "      <td>3</td>\n",
       "      <td>3</td>\n",
       "      <td>4</td>\n",
       "      <td>5</td>\n",
       "      <td>7</td>\n",
       "      <td>7</td>\n",
       "      <td>10</td>\n",
       "      <td>...</td>\n",
       "      <td>138</td>\n",
       "      <td>150</td>\n",
       "      <td>150</td>\n",
       "      <td>160</td>\n",
       "      <td>178</td>\n",
       "      <td>178</td>\n",
       "      <td>200</td>\n",
       "      <td>212</td>\n",
       "      <td>226</td>\n",
       "      <td>243</td>\n",
       "    </tr>\n",
       "    <tr>\n",
       "      <th>3</th>\n",
       "      <td>Nepal</td>\n",
       "      <td>0</td>\n",
       "      <td>0</td>\n",
       "      <td>0</td>\n",
       "      <td>1</td>\n",
       "      <td>1</td>\n",
       "      <td>1</td>\n",
       "      <td>1</td>\n",
       "      <td>1</td>\n",
       "      <td>1</td>\n",
       "      <td>...</td>\n",
       "      <td>1</td>\n",
       "      <td>1</td>\n",
       "      <td>1</td>\n",
       "      <td>1</td>\n",
       "      <td>1</td>\n",
       "      <td>1</td>\n",
       "      <td>1</td>\n",
       "      <td>1</td>\n",
       "      <td>1</td>\n",
       "      <td>1</td>\n",
       "    </tr>\n",
       "    <tr>\n",
       "      <th>4</th>\n",
       "      <td>Malaysia</td>\n",
       "      <td>0</td>\n",
       "      <td>0</td>\n",
       "      <td>0</td>\n",
       "      <td>3</td>\n",
       "      <td>4</td>\n",
       "      <td>4</td>\n",
       "      <td>4</td>\n",
       "      <td>7</td>\n",
       "      <td>8</td>\n",
       "      <td>...</td>\n",
       "      <td>93</td>\n",
       "      <td>99</td>\n",
       "      <td>117</td>\n",
       "      <td>129</td>\n",
       "      <td>149</td>\n",
       "      <td>149</td>\n",
       "      <td>197</td>\n",
       "      <td>238</td>\n",
       "      <td>428</td>\n",
       "      <td>566</td>\n",
       "    </tr>\n",
       "    <tr>\n",
       "      <th>...</th>\n",
       "      <td>...</td>\n",
       "      <td>...</td>\n",
       "      <td>...</td>\n",
       "      <td>...</td>\n",
       "      <td>...</td>\n",
       "      <td>...</td>\n",
       "      <td>...</td>\n",
       "      <td>...</td>\n",
       "      <td>...</td>\n",
       "      <td>...</td>\n",
       "      <td>...</td>\n",
       "      <td>...</td>\n",
       "      <td>...</td>\n",
       "      <td>...</td>\n",
       "      <td>...</td>\n",
       "      <td>...</td>\n",
       "      <td>...</td>\n",
       "      <td>...</td>\n",
       "      <td>...</td>\n",
       "      <td>...</td>\n",
       "      <td>...</td>\n",
       "    </tr>\n",
       "    <tr>\n",
       "      <th>458</th>\n",
       "      <td>Somalia</td>\n",
       "      <td>0</td>\n",
       "      <td>0</td>\n",
       "      <td>0</td>\n",
       "      <td>0</td>\n",
       "      <td>0</td>\n",
       "      <td>0</td>\n",
       "      <td>0</td>\n",
       "      <td>0</td>\n",
       "      <td>0</td>\n",
       "      <td>...</td>\n",
       "      <td>0</td>\n",
       "      <td>0</td>\n",
       "      <td>0</td>\n",
       "      <td>0</td>\n",
       "      <td>0</td>\n",
       "      <td>0</td>\n",
       "      <td>0</td>\n",
       "      <td>0</td>\n",
       "      <td>0</td>\n",
       "      <td>1</td>\n",
       "    </tr>\n",
       "    <tr>\n",
       "      <th>459</th>\n",
       "      <td>Tanzania</td>\n",
       "      <td>0</td>\n",
       "      <td>0</td>\n",
       "      <td>0</td>\n",
       "      <td>0</td>\n",
       "      <td>0</td>\n",
       "      <td>0</td>\n",
       "      <td>0</td>\n",
       "      <td>0</td>\n",
       "      <td>0</td>\n",
       "      <td>...</td>\n",
       "      <td>0</td>\n",
       "      <td>0</td>\n",
       "      <td>0</td>\n",
       "      <td>0</td>\n",
       "      <td>0</td>\n",
       "      <td>0</td>\n",
       "      <td>0</td>\n",
       "      <td>0</td>\n",
       "      <td>0</td>\n",
       "      <td>1</td>\n",
       "    </tr>\n",
       "    <tr>\n",
       "      <th>460</th>\n",
       "      <td>The Bahamas</td>\n",
       "      <td>0</td>\n",
       "      <td>0</td>\n",
       "      <td>0</td>\n",
       "      <td>0</td>\n",
       "      <td>0</td>\n",
       "      <td>0</td>\n",
       "      <td>0</td>\n",
       "      <td>0</td>\n",
       "      <td>0</td>\n",
       "      <td>...</td>\n",
       "      <td>0</td>\n",
       "      <td>0</td>\n",
       "      <td>0</td>\n",
       "      <td>0</td>\n",
       "      <td>0</td>\n",
       "      <td>0</td>\n",
       "      <td>0</td>\n",
       "      <td>0</td>\n",
       "      <td>0</td>\n",
       "      <td>1</td>\n",
       "    </tr>\n",
       "    <tr>\n",
       "      <th>461</th>\n",
       "      <td>US</td>\n",
       "      <td>0</td>\n",
       "      <td>0</td>\n",
       "      <td>0</td>\n",
       "      <td>0</td>\n",
       "      <td>0</td>\n",
       "      <td>0</td>\n",
       "      <td>0</td>\n",
       "      <td>0</td>\n",
       "      <td>0</td>\n",
       "      <td>...</td>\n",
       "      <td>0</td>\n",
       "      <td>0</td>\n",
       "      <td>0</td>\n",
       "      <td>0</td>\n",
       "      <td>0</td>\n",
       "      <td>0</td>\n",
       "      <td>0</td>\n",
       "      <td>1</td>\n",
       "      <td>1</td>\n",
       "      <td>1</td>\n",
       "    </tr>\n",
       "    <tr>\n",
       "      <th>462</th>\n",
       "      <td>United Kingdom</td>\n",
       "      <td>0</td>\n",
       "      <td>0</td>\n",
       "      <td>0</td>\n",
       "      <td>0</td>\n",
       "      <td>0</td>\n",
       "      <td>0</td>\n",
       "      <td>0</td>\n",
       "      <td>0</td>\n",
       "      <td>0</td>\n",
       "      <td>...</td>\n",
       "      <td>0</td>\n",
       "      <td>0</td>\n",
       "      <td>0</td>\n",
       "      <td>0</td>\n",
       "      <td>0</td>\n",
       "      <td>0</td>\n",
       "      <td>1</td>\n",
       "      <td>1</td>\n",
       "      <td>1</td>\n",
       "      <td>1</td>\n",
       "    </tr>\n",
       "  </tbody>\n",
       "</table>\n",
       "<p>463 rows × 56 columns</p>\n",
       "</div>"
      ],
      "text/plain": [
       "     Country/Region  1/22/20  1/23/20  1/24/20  1/25/20  1/26/20  1/27/20  \\\n",
       "0          Thailand        2        3        5        7        8        8   \n",
       "1             Japan        2        1        2        2        4        4   \n",
       "2         Singapore        0        1        3        3        4        5   \n",
       "3             Nepal        0        0        0        1        1        1   \n",
       "4          Malaysia        0        0        0        3        4        4   \n",
       "..              ...      ...      ...      ...      ...      ...      ...   \n",
       "458         Somalia        0        0        0        0        0        0   \n",
       "459        Tanzania        0        0        0        0        0        0   \n",
       "460     The Bahamas        0        0        0        0        0        0   \n",
       "461              US        0        0        0        0        0        0   \n",
       "462  United Kingdom        0        0        0        0        0        0   \n",
       "\n",
       "     1/28/20  1/29/20  1/30/20  ...  3/7/20  3/8/20  3/9/20  3/10/20  3/11/20  \\\n",
       "0         14       14       14  ...      50      50      50       53       59   \n",
       "1          7        7       11  ...     461     502     511      581      639   \n",
       "2          7        7       10  ...     138     150     150      160      178   \n",
       "3          1        1        1  ...       1       1       1        1        1   \n",
       "4          4        7        8  ...      93      99     117      129      149   \n",
       "..       ...      ...      ...  ...     ...     ...     ...      ...      ...   \n",
       "458        0        0        0  ...       0       0       0        0        0   \n",
       "459        0        0        0  ...       0       0       0        0        0   \n",
       "460        0        0        0  ...       0       0       0        0        0   \n",
       "461        0        0        0  ...       0       0       0        0        0   \n",
       "462        0        0        0  ...       0       0       0        0        0   \n",
       "\n",
       "     3/12/20  3/13/20  3/14/20  3/15/20  3/16/20  \n",
       "0         70       75       82      114      147  \n",
       "1        639      701      773      839      825  \n",
       "2        178      200      212      226      243  \n",
       "3          1        1        1        1        1  \n",
       "4        149      197      238      428      566  \n",
       "..       ...      ...      ...      ...      ...  \n",
       "458        0        0        0        0        1  \n",
       "459        0        0        0        0        1  \n",
       "460        0        0        0        0        1  \n",
       "461        0        0        1        1        1  \n",
       "462        0        1        1        1        1  \n",
       "\n",
       "[463 rows x 56 columns]"
      ]
     },
     "execution_count": 64,
     "metadata": {},
     "output_type": "execute_result"
    }
   ],
   "source": [
    "covid19 = raw_data.drop(\n",
    "    ['Province/State', 'Lat', 'Long'], axis=1)\n",
    "\n",
    "covid19"
   ]
  },
  {
   "cell_type": "code",
   "execution_count": 66,
   "metadata": {},
   "outputs": [
    {
     "data": {
      "text/html": [
       "<div>\n",
       "<style scoped>\n",
       "    .dataframe tbody tr th:only-of-type {\n",
       "        vertical-align: middle;\n",
       "    }\n",
       "\n",
       "    .dataframe tbody tr th {\n",
       "        vertical-align: top;\n",
       "    }\n",
       "\n",
       "    .dataframe thead th {\n",
       "        text-align: right;\n",
       "    }\n",
       "</style>\n",
       "<table border=\"1\" class=\"dataframe\">\n",
       "  <thead>\n",
       "    <tr style=\"text-align: right;\">\n",
       "      <th></th>\n",
       "      <th>Country/Region</th>\n",
       "      <th>textdate</th>\n",
       "      <th>Cases</th>\n",
       "    </tr>\n",
       "  </thead>\n",
       "  <tbody>\n",
       "    <tr>\n",
       "      <th>0</th>\n",
       "      <td>Thailand</td>\n",
       "      <td>1/22/20</td>\n",
       "      <td>2</td>\n",
       "    </tr>\n",
       "    <tr>\n",
       "      <th>1</th>\n",
       "      <td>Japan</td>\n",
       "      <td>1/22/20</td>\n",
       "      <td>2</td>\n",
       "    </tr>\n",
       "    <tr>\n",
       "      <th>2</th>\n",
       "      <td>Singapore</td>\n",
       "      <td>1/22/20</td>\n",
       "      <td>0</td>\n",
       "    </tr>\n",
       "    <tr>\n",
       "      <th>3</th>\n",
       "      <td>Nepal</td>\n",
       "      <td>1/22/20</td>\n",
       "      <td>0</td>\n",
       "    </tr>\n",
       "    <tr>\n",
       "      <th>4</th>\n",
       "      <td>Malaysia</td>\n",
       "      <td>1/22/20</td>\n",
       "      <td>0</td>\n",
       "    </tr>\n",
       "    <tr>\n",
       "      <th>...</th>\n",
       "      <td>...</td>\n",
       "      <td>...</td>\n",
       "      <td>...</td>\n",
       "    </tr>\n",
       "    <tr>\n",
       "      <th>25460</th>\n",
       "      <td>Somalia</td>\n",
       "      <td>3/16/20</td>\n",
       "      <td>1</td>\n",
       "    </tr>\n",
       "    <tr>\n",
       "      <th>25461</th>\n",
       "      <td>Tanzania</td>\n",
       "      <td>3/16/20</td>\n",
       "      <td>1</td>\n",
       "    </tr>\n",
       "    <tr>\n",
       "      <th>25462</th>\n",
       "      <td>The Bahamas</td>\n",
       "      <td>3/16/20</td>\n",
       "      <td>1</td>\n",
       "    </tr>\n",
       "    <tr>\n",
       "      <th>25463</th>\n",
       "      <td>US</td>\n",
       "      <td>3/16/20</td>\n",
       "      <td>1</td>\n",
       "    </tr>\n",
       "    <tr>\n",
       "      <th>25464</th>\n",
       "      <td>United Kingdom</td>\n",
       "      <td>3/16/20</td>\n",
       "      <td>1</td>\n",
       "    </tr>\n",
       "  </tbody>\n",
       "</table>\n",
       "<p>25465 rows × 3 columns</p>\n",
       "</div>"
      ],
      "text/plain": [
       "       Country/Region textdate  Cases\n",
       "0            Thailand  1/22/20      2\n",
       "1               Japan  1/22/20      2\n",
       "2           Singapore  1/22/20      0\n",
       "3               Nepal  1/22/20      0\n",
       "4            Malaysia  1/22/20      0\n",
       "...               ...      ...    ...\n",
       "25460         Somalia  3/16/20      1\n",
       "25461        Tanzania  3/16/20      1\n",
       "25462     The Bahamas  3/16/20      1\n",
       "25463              US  3/16/20      1\n",
       "25464  United Kingdom  3/16/20      1\n",
       "\n",
       "[25465 rows x 3 columns]"
      ]
     },
     "execution_count": 66,
     "metadata": {},
     "output_type": "execute_result"
    }
   ],
   "source": [
    "covid19 = covid19.melt(id_vars=['Country/Region'], \n",
    "             value_vars=value_columns, \n",
    "             var_name='textdate', value_name='Cases')\n",
    "\n",
    "covid19"
   ]
  },
  {
   "cell_type": "code",
   "execution_count": 67,
   "metadata": {},
   "outputs": [
    {
     "name": "stdout",
     "output_type": "stream",
     "text": [
      "<class 'pandas.core.frame.DataFrame'>\n",
      "RangeIndex: 25465 entries, 0 to 25464\n",
      "Data columns (total 3 columns):\n",
      " #   Column          Non-Null Count  Dtype \n",
      "---  ------          --------------  ----- \n",
      " 0   Country/Region  25465 non-null  object\n",
      " 1   textdate        25465 non-null  object\n",
      " 2   Cases           25465 non-null  int64 \n",
      "dtypes: int64(1), object(2)\n",
      "memory usage: 597.0+ KB\n"
     ]
    }
   ],
   "source": [
    "covid19.info()"
   ]
  },
  {
   "cell_type": "code",
   "execution_count": 68,
   "metadata": {},
   "outputs": [
    {
     "data": {
      "text/html": [
       "<div>\n",
       "<style scoped>\n",
       "    .dataframe tbody tr th:only-of-type {\n",
       "        vertical-align: middle;\n",
       "    }\n",
       "\n",
       "    .dataframe tbody tr th {\n",
       "        vertical-align: top;\n",
       "    }\n",
       "\n",
       "    .dataframe thead th {\n",
       "        text-align: right;\n",
       "    }\n",
       "</style>\n",
       "<table border=\"1\" class=\"dataframe\">\n",
       "  <thead>\n",
       "    <tr style=\"text-align: right;\">\n",
       "      <th></th>\n",
       "      <th>Country/Region</th>\n",
       "      <th>textdate</th>\n",
       "      <th>Cases</th>\n",
       "      <th>Date</th>\n",
       "    </tr>\n",
       "  </thead>\n",
       "  <tbody>\n",
       "    <tr>\n",
       "      <th>0</th>\n",
       "      <td>Thailand</td>\n",
       "      <td>1/22/20</td>\n",
       "      <td>2</td>\n",
       "      <td>2020-01-22</td>\n",
       "    </tr>\n",
       "    <tr>\n",
       "      <th>1</th>\n",
       "      <td>Japan</td>\n",
       "      <td>1/22/20</td>\n",
       "      <td>2</td>\n",
       "      <td>2020-01-22</td>\n",
       "    </tr>\n",
       "    <tr>\n",
       "      <th>2</th>\n",
       "      <td>Singapore</td>\n",
       "      <td>1/22/20</td>\n",
       "      <td>0</td>\n",
       "      <td>2020-01-22</td>\n",
       "    </tr>\n",
       "    <tr>\n",
       "      <th>3</th>\n",
       "      <td>Nepal</td>\n",
       "      <td>1/22/20</td>\n",
       "      <td>0</td>\n",
       "      <td>2020-01-22</td>\n",
       "    </tr>\n",
       "    <tr>\n",
       "      <th>4</th>\n",
       "      <td>Malaysia</td>\n",
       "      <td>1/22/20</td>\n",
       "      <td>0</td>\n",
       "      <td>2020-01-22</td>\n",
       "    </tr>\n",
       "    <tr>\n",
       "      <th>...</th>\n",
       "      <td>...</td>\n",
       "      <td>...</td>\n",
       "      <td>...</td>\n",
       "      <td>...</td>\n",
       "    </tr>\n",
       "    <tr>\n",
       "      <th>25460</th>\n",
       "      <td>Somalia</td>\n",
       "      <td>3/16/20</td>\n",
       "      <td>1</td>\n",
       "      <td>2020-03-16</td>\n",
       "    </tr>\n",
       "    <tr>\n",
       "      <th>25461</th>\n",
       "      <td>Tanzania</td>\n",
       "      <td>3/16/20</td>\n",
       "      <td>1</td>\n",
       "      <td>2020-03-16</td>\n",
       "    </tr>\n",
       "    <tr>\n",
       "      <th>25462</th>\n",
       "      <td>The Bahamas</td>\n",
       "      <td>3/16/20</td>\n",
       "      <td>1</td>\n",
       "      <td>2020-03-16</td>\n",
       "    </tr>\n",
       "    <tr>\n",
       "      <th>25463</th>\n",
       "      <td>US</td>\n",
       "      <td>3/16/20</td>\n",
       "      <td>1</td>\n",
       "      <td>2020-03-16</td>\n",
       "    </tr>\n",
       "    <tr>\n",
       "      <th>25464</th>\n",
       "      <td>United Kingdom</td>\n",
       "      <td>3/16/20</td>\n",
       "      <td>1</td>\n",
       "      <td>2020-03-16</td>\n",
       "    </tr>\n",
       "  </tbody>\n",
       "</table>\n",
       "<p>25465 rows × 4 columns</p>\n",
       "</div>"
      ],
      "text/plain": [
       "       Country/Region textdate  Cases       Date\n",
       "0            Thailand  1/22/20      2 2020-01-22\n",
       "1               Japan  1/22/20      2 2020-01-22\n",
       "2           Singapore  1/22/20      0 2020-01-22\n",
       "3               Nepal  1/22/20      0 2020-01-22\n",
       "4            Malaysia  1/22/20      0 2020-01-22\n",
       "...               ...      ...    ...        ...\n",
       "25460         Somalia  3/16/20      1 2020-03-16\n",
       "25461        Tanzania  3/16/20      1 2020-03-16\n",
       "25462     The Bahamas  3/16/20      1 2020-03-16\n",
       "25463              US  3/16/20      1 2020-03-16\n",
       "25464  United Kingdom  3/16/20      1 2020-03-16\n",
       "\n",
       "[25465 rows x 4 columns]"
      ]
     },
     "execution_count": 68,
     "metadata": {},
     "output_type": "execute_result"
    }
   ],
   "source": [
    "covid19['Date'] = covid19['textdate'].apply(pd.to_datetime)\n",
    "\n",
    "covid19"
   ]
  },
  {
   "cell_type": "code",
   "execution_count": 69,
   "metadata": {},
   "outputs": [
    {
     "name": "stdout",
     "output_type": "stream",
     "text": [
      "<class 'pandas.core.frame.DataFrame'>\n",
      "RangeIndex: 25465 entries, 0 to 25464\n",
      "Data columns (total 4 columns):\n",
      " #   Column          Non-Null Count  Dtype         \n",
      "---  ------          --------------  -----         \n",
      " 0   Country/Region  25465 non-null  object        \n",
      " 1   textdate        25465 non-null  object        \n",
      " 2   Cases           25465 non-null  int64         \n",
      " 3   Date            25465 non-null  datetime64[ns]\n",
      "dtypes: datetime64[ns](1), int64(1), object(2)\n",
      "memory usage: 795.9+ KB\n"
     ]
    }
   ],
   "source": [
    "covid19.info()"
   ]
  },
  {
   "cell_type": "code",
   "execution_count": 70,
   "metadata": {},
   "outputs": [
    {
     "data": {
      "text/html": [
       "<div>\n",
       "<style scoped>\n",
       "    .dataframe tbody tr th:only-of-type {\n",
       "        vertical-align: middle;\n",
       "    }\n",
       "\n",
       "    .dataframe tbody tr th {\n",
       "        vertical-align: top;\n",
       "    }\n",
       "\n",
       "    .dataframe thead th {\n",
       "        text-align: right;\n",
       "    }\n",
       "</style>\n",
       "<table border=\"1\" class=\"dataframe\">\n",
       "  <thead>\n",
       "    <tr style=\"text-align: right;\">\n",
       "      <th></th>\n",
       "      <th>Country/Region</th>\n",
       "      <th>Cases</th>\n",
       "      <th>Date</th>\n",
       "    </tr>\n",
       "  </thead>\n",
       "  <tbody>\n",
       "    <tr>\n",
       "      <th>0</th>\n",
       "      <td>Thailand</td>\n",
       "      <td>2</td>\n",
       "      <td>2020-01-22</td>\n",
       "    </tr>\n",
       "    <tr>\n",
       "      <th>316</th>\n",
       "      <td>US</td>\n",
       "      <td>0</td>\n",
       "      <td>2020-01-22</td>\n",
       "    </tr>\n",
       "    <tr>\n",
       "      <th>315</th>\n",
       "      <td>US</td>\n",
       "      <td>0</td>\n",
       "      <td>2020-01-22</td>\n",
       "    </tr>\n",
       "    <tr>\n",
       "      <th>314</th>\n",
       "      <td>US</td>\n",
       "      <td>0</td>\n",
       "      <td>2020-01-22</td>\n",
       "    </tr>\n",
       "    <tr>\n",
       "      <th>313</th>\n",
       "      <td>US</td>\n",
       "      <td>0</td>\n",
       "      <td>2020-01-22</td>\n",
       "    </tr>\n",
       "    <tr>\n",
       "      <th>...</th>\n",
       "      <td>...</td>\n",
       "      <td>...</td>\n",
       "      <td>...</td>\n",
       "    </tr>\n",
       "    <tr>\n",
       "      <th>25149</th>\n",
       "      <td>US</td>\n",
       "      <td>13</td>\n",
       "      <td>2020-03-16</td>\n",
       "    </tr>\n",
       "    <tr>\n",
       "      <th>25148</th>\n",
       "      <td>US</td>\n",
       "      <td>53</td>\n",
       "      <td>2020-03-16</td>\n",
       "    </tr>\n",
       "    <tr>\n",
       "      <th>25147</th>\n",
       "      <td>US</td>\n",
       "      <td>17</td>\n",
       "      <td>2020-03-16</td>\n",
       "    </tr>\n",
       "    <tr>\n",
       "      <th>25159</th>\n",
       "      <td>France</td>\n",
       "      <td>6633</td>\n",
       "      <td>2020-03-16</td>\n",
       "    </tr>\n",
       "    <tr>\n",
       "      <th>25464</th>\n",
       "      <td>United Kingdom</td>\n",
       "      <td>1</td>\n",
       "      <td>2020-03-16</td>\n",
       "    </tr>\n",
       "  </tbody>\n",
       "</table>\n",
       "<p>25465 rows × 3 columns</p>\n",
       "</div>"
      ],
      "text/plain": [
       "       Country/Region  Cases       Date\n",
       "0            Thailand      2 2020-01-22\n",
       "316                US      0 2020-01-22\n",
       "315                US      0 2020-01-22\n",
       "314                US      0 2020-01-22\n",
       "313                US      0 2020-01-22\n",
       "...               ...    ...        ...\n",
       "25149              US     13 2020-03-16\n",
       "25148              US     53 2020-03-16\n",
       "25147              US     17 2020-03-16\n",
       "25159          France   6633 2020-03-16\n",
       "25464  United Kingdom      1 2020-03-16\n",
       "\n",
       "[25465 rows x 3 columns]"
      ]
     },
     "execution_count": 70,
     "metadata": {},
     "output_type": "execute_result"
    }
   ],
   "source": [
    "covid19 = covid19.sort_values(by=['Date']).drop(['textdate'], axis=1)\n",
    "\n",
    "covid19"
   ]
  },
  {
   "cell_type": "code",
   "execution_count": 72,
   "metadata": {},
   "outputs": [
    {
     "data": {
      "text/html": [
       "<div>\n",
       "<style scoped>\n",
       "    .dataframe tbody tr th:only-of-type {\n",
       "        vertical-align: middle;\n",
       "    }\n",
       "\n",
       "    .dataframe tbody tr th {\n",
       "        vertical-align: top;\n",
       "    }\n",
       "\n",
       "    .dataframe thead th {\n",
       "        text-align: right;\n",
       "    }\n",
       "</style>\n",
       "<table border=\"1\" class=\"dataframe\">\n",
       "  <thead>\n",
       "    <tr style=\"text-align: right;\">\n",
       "      <th></th>\n",
       "      <th>Country</th>\n",
       "      <th>Cases</th>\n",
       "      <th>Date</th>\n",
       "    </tr>\n",
       "  </thead>\n",
       "  <tbody>\n",
       "    <tr>\n",
       "      <th>0</th>\n",
       "      <td>Thailand</td>\n",
       "      <td>2</td>\n",
       "      <td>2020-01-22</td>\n",
       "    </tr>\n",
       "    <tr>\n",
       "      <th>316</th>\n",
       "      <td>US</td>\n",
       "      <td>0</td>\n",
       "      <td>2020-01-22</td>\n",
       "    </tr>\n",
       "    <tr>\n",
       "      <th>315</th>\n",
       "      <td>US</td>\n",
       "      <td>0</td>\n",
       "      <td>2020-01-22</td>\n",
       "    </tr>\n",
       "    <tr>\n",
       "      <th>314</th>\n",
       "      <td>US</td>\n",
       "      <td>0</td>\n",
       "      <td>2020-01-22</td>\n",
       "    </tr>\n",
       "    <tr>\n",
       "      <th>313</th>\n",
       "      <td>US</td>\n",
       "      <td>0</td>\n",
       "      <td>2020-01-22</td>\n",
       "    </tr>\n",
       "    <tr>\n",
       "      <th>...</th>\n",
       "      <td>...</td>\n",
       "      <td>...</td>\n",
       "      <td>...</td>\n",
       "    </tr>\n",
       "    <tr>\n",
       "      <th>25149</th>\n",
       "      <td>US</td>\n",
       "      <td>13</td>\n",
       "      <td>2020-03-16</td>\n",
       "    </tr>\n",
       "    <tr>\n",
       "      <th>25148</th>\n",
       "      <td>US</td>\n",
       "      <td>53</td>\n",
       "      <td>2020-03-16</td>\n",
       "    </tr>\n",
       "    <tr>\n",
       "      <th>25147</th>\n",
       "      <td>US</td>\n",
       "      <td>17</td>\n",
       "      <td>2020-03-16</td>\n",
       "    </tr>\n",
       "    <tr>\n",
       "      <th>25159</th>\n",
       "      <td>France</td>\n",
       "      <td>6633</td>\n",
       "      <td>2020-03-16</td>\n",
       "    </tr>\n",
       "    <tr>\n",
       "      <th>25464</th>\n",
       "      <td>United Kingdom</td>\n",
       "      <td>1</td>\n",
       "      <td>2020-03-16</td>\n",
       "    </tr>\n",
       "  </tbody>\n",
       "</table>\n",
       "<p>25465 rows × 3 columns</p>\n",
       "</div>"
      ],
      "text/plain": [
       "              Country  Cases       Date\n",
       "0            Thailand      2 2020-01-22\n",
       "316                US      0 2020-01-22\n",
       "315                US      0 2020-01-22\n",
       "314                US      0 2020-01-22\n",
       "313                US      0 2020-01-22\n",
       "...               ...    ...        ...\n",
       "25149              US     13 2020-03-16\n",
       "25148              US     53 2020-03-16\n",
       "25147              US     17 2020-03-16\n",
       "25159          France   6633 2020-03-16\n",
       "25464  United Kingdom      1 2020-03-16\n",
       "\n",
       "[25465 rows x 3 columns]"
      ]
     },
     "execution_count": 72,
     "metadata": {},
     "output_type": "execute_result"
    }
   ],
   "source": [
    "covid19.columns = ['Country', 'Cases', 'Date']\n",
    "\n",
    "covid19"
   ]
  },
  {
   "cell_type": "code",
   "execution_count": 73,
   "metadata": {},
   "outputs": [
    {
     "data": {
      "text/plain": [
       "0         True\n",
       "316      False\n",
       "315      False\n",
       "314      False\n",
       "313      False\n",
       "         ...  \n",
       "25149    False\n",
       "25148    False\n",
       "25147    False\n",
       "25159    False\n",
       "25464    False\n",
       "Name: Country, Length: 25465, dtype: bool"
      ]
     },
     "execution_count": 73,
     "metadata": {},
     "output_type": "execute_result"
    }
   ],
   "source": [
    "covid19.Country == 'Thailand'"
   ]
  },
  {
   "cell_type": "code",
   "execution_count": 74,
   "metadata": {},
   "outputs": [
    {
     "data": {
      "text/html": [
       "<div>\n",
       "<style scoped>\n",
       "    .dataframe tbody tr th:only-of-type {\n",
       "        vertical-align: middle;\n",
       "    }\n",
       "\n",
       "    .dataframe tbody tr th {\n",
       "        vertical-align: top;\n",
       "    }\n",
       "\n",
       "    .dataframe thead th {\n",
       "        text-align: right;\n",
       "    }\n",
       "</style>\n",
       "<table border=\"1\" class=\"dataframe\">\n",
       "  <thead>\n",
       "    <tr style=\"text-align: right;\">\n",
       "      <th></th>\n",
       "      <th>Country</th>\n",
       "      <th>Cases</th>\n",
       "      <th>Date</th>\n",
       "    </tr>\n",
       "  </thead>\n",
       "  <tbody>\n",
       "    <tr>\n",
       "      <th>0</th>\n",
       "      <td>Thailand</td>\n",
       "      <td>2</td>\n",
       "      <td>2020-01-22</td>\n",
       "    </tr>\n",
       "    <tr>\n",
       "      <th>463</th>\n",
       "      <td>Thailand</td>\n",
       "      <td>3</td>\n",
       "      <td>2020-01-23</td>\n",
       "    </tr>\n",
       "    <tr>\n",
       "      <th>926</th>\n",
       "      <td>Thailand</td>\n",
       "      <td>5</td>\n",
       "      <td>2020-01-24</td>\n",
       "    </tr>\n",
       "    <tr>\n",
       "      <th>1389</th>\n",
       "      <td>Thailand</td>\n",
       "      <td>7</td>\n",
       "      <td>2020-01-25</td>\n",
       "    </tr>\n",
       "    <tr>\n",
       "      <th>1852</th>\n",
       "      <td>Thailand</td>\n",
       "      <td>8</td>\n",
       "      <td>2020-01-26</td>\n",
       "    </tr>\n",
       "    <tr>\n",
       "      <th>2315</th>\n",
       "      <td>Thailand</td>\n",
       "      <td>8</td>\n",
       "      <td>2020-01-27</td>\n",
       "    </tr>\n",
       "    <tr>\n",
       "      <th>2778</th>\n",
       "      <td>Thailand</td>\n",
       "      <td>14</td>\n",
       "      <td>2020-01-28</td>\n",
       "    </tr>\n",
       "    <tr>\n",
       "      <th>3241</th>\n",
       "      <td>Thailand</td>\n",
       "      <td>14</td>\n",
       "      <td>2020-01-29</td>\n",
       "    </tr>\n",
       "    <tr>\n",
       "      <th>3704</th>\n",
       "      <td>Thailand</td>\n",
       "      <td>14</td>\n",
       "      <td>2020-01-30</td>\n",
       "    </tr>\n",
       "    <tr>\n",
       "      <th>4167</th>\n",
       "      <td>Thailand</td>\n",
       "      <td>19</td>\n",
       "      <td>2020-01-31</td>\n",
       "    </tr>\n",
       "    <tr>\n",
       "      <th>4630</th>\n",
       "      <td>Thailand</td>\n",
       "      <td>19</td>\n",
       "      <td>2020-02-01</td>\n",
       "    </tr>\n",
       "    <tr>\n",
       "      <th>5093</th>\n",
       "      <td>Thailand</td>\n",
       "      <td>19</td>\n",
       "      <td>2020-02-02</td>\n",
       "    </tr>\n",
       "    <tr>\n",
       "      <th>5556</th>\n",
       "      <td>Thailand</td>\n",
       "      <td>19</td>\n",
       "      <td>2020-02-03</td>\n",
       "    </tr>\n",
       "    <tr>\n",
       "      <th>6019</th>\n",
       "      <td>Thailand</td>\n",
       "      <td>25</td>\n",
       "      <td>2020-02-04</td>\n",
       "    </tr>\n",
       "    <tr>\n",
       "      <th>6482</th>\n",
       "      <td>Thailand</td>\n",
       "      <td>25</td>\n",
       "      <td>2020-02-05</td>\n",
       "    </tr>\n",
       "    <tr>\n",
       "      <th>6945</th>\n",
       "      <td>Thailand</td>\n",
       "      <td>25</td>\n",
       "      <td>2020-02-06</td>\n",
       "    </tr>\n",
       "    <tr>\n",
       "      <th>7408</th>\n",
       "      <td>Thailand</td>\n",
       "      <td>25</td>\n",
       "      <td>2020-02-07</td>\n",
       "    </tr>\n",
       "    <tr>\n",
       "      <th>7871</th>\n",
       "      <td>Thailand</td>\n",
       "      <td>32</td>\n",
       "      <td>2020-02-08</td>\n",
       "    </tr>\n",
       "    <tr>\n",
       "      <th>8334</th>\n",
       "      <td>Thailand</td>\n",
       "      <td>32</td>\n",
       "      <td>2020-02-09</td>\n",
       "    </tr>\n",
       "    <tr>\n",
       "      <th>8797</th>\n",
       "      <td>Thailand</td>\n",
       "      <td>32</td>\n",
       "      <td>2020-02-10</td>\n",
       "    </tr>\n",
       "    <tr>\n",
       "      <th>9260</th>\n",
       "      <td>Thailand</td>\n",
       "      <td>33</td>\n",
       "      <td>2020-02-11</td>\n",
       "    </tr>\n",
       "    <tr>\n",
       "      <th>9723</th>\n",
       "      <td>Thailand</td>\n",
       "      <td>33</td>\n",
       "      <td>2020-02-12</td>\n",
       "    </tr>\n",
       "    <tr>\n",
       "      <th>10186</th>\n",
       "      <td>Thailand</td>\n",
       "      <td>33</td>\n",
       "      <td>2020-02-13</td>\n",
       "    </tr>\n",
       "    <tr>\n",
       "      <th>10649</th>\n",
       "      <td>Thailand</td>\n",
       "      <td>33</td>\n",
       "      <td>2020-02-14</td>\n",
       "    </tr>\n",
       "    <tr>\n",
       "      <th>11112</th>\n",
       "      <td>Thailand</td>\n",
       "      <td>33</td>\n",
       "      <td>2020-02-15</td>\n",
       "    </tr>\n",
       "    <tr>\n",
       "      <th>11575</th>\n",
       "      <td>Thailand</td>\n",
       "      <td>34</td>\n",
       "      <td>2020-02-16</td>\n",
       "    </tr>\n",
       "    <tr>\n",
       "      <th>12038</th>\n",
       "      <td>Thailand</td>\n",
       "      <td>35</td>\n",
       "      <td>2020-02-17</td>\n",
       "    </tr>\n",
       "    <tr>\n",
       "      <th>12501</th>\n",
       "      <td>Thailand</td>\n",
       "      <td>35</td>\n",
       "      <td>2020-02-18</td>\n",
       "    </tr>\n",
       "    <tr>\n",
       "      <th>12964</th>\n",
       "      <td>Thailand</td>\n",
       "      <td>35</td>\n",
       "      <td>2020-02-19</td>\n",
       "    </tr>\n",
       "    <tr>\n",
       "      <th>13427</th>\n",
       "      <td>Thailand</td>\n",
       "      <td>35</td>\n",
       "      <td>2020-02-20</td>\n",
       "    </tr>\n",
       "    <tr>\n",
       "      <th>13890</th>\n",
       "      <td>Thailand</td>\n",
       "      <td>35</td>\n",
       "      <td>2020-02-21</td>\n",
       "    </tr>\n",
       "    <tr>\n",
       "      <th>14353</th>\n",
       "      <td>Thailand</td>\n",
       "      <td>35</td>\n",
       "      <td>2020-02-22</td>\n",
       "    </tr>\n",
       "    <tr>\n",
       "      <th>14816</th>\n",
       "      <td>Thailand</td>\n",
       "      <td>35</td>\n",
       "      <td>2020-02-23</td>\n",
       "    </tr>\n",
       "    <tr>\n",
       "      <th>15279</th>\n",
       "      <td>Thailand</td>\n",
       "      <td>35</td>\n",
       "      <td>2020-02-24</td>\n",
       "    </tr>\n",
       "    <tr>\n",
       "      <th>15742</th>\n",
       "      <td>Thailand</td>\n",
       "      <td>37</td>\n",
       "      <td>2020-02-25</td>\n",
       "    </tr>\n",
       "    <tr>\n",
       "      <th>16205</th>\n",
       "      <td>Thailand</td>\n",
       "      <td>40</td>\n",
       "      <td>2020-02-26</td>\n",
       "    </tr>\n",
       "    <tr>\n",
       "      <th>16668</th>\n",
       "      <td>Thailand</td>\n",
       "      <td>40</td>\n",
       "      <td>2020-02-27</td>\n",
       "    </tr>\n",
       "    <tr>\n",
       "      <th>17131</th>\n",
       "      <td>Thailand</td>\n",
       "      <td>41</td>\n",
       "      <td>2020-02-28</td>\n",
       "    </tr>\n",
       "    <tr>\n",
       "      <th>17594</th>\n",
       "      <td>Thailand</td>\n",
       "      <td>42</td>\n",
       "      <td>2020-02-29</td>\n",
       "    </tr>\n",
       "    <tr>\n",
       "      <th>18057</th>\n",
       "      <td>Thailand</td>\n",
       "      <td>42</td>\n",
       "      <td>2020-03-01</td>\n",
       "    </tr>\n",
       "    <tr>\n",
       "      <th>18520</th>\n",
       "      <td>Thailand</td>\n",
       "      <td>43</td>\n",
       "      <td>2020-03-02</td>\n",
       "    </tr>\n",
       "    <tr>\n",
       "      <th>18983</th>\n",
       "      <td>Thailand</td>\n",
       "      <td>43</td>\n",
       "      <td>2020-03-03</td>\n",
       "    </tr>\n",
       "    <tr>\n",
       "      <th>19446</th>\n",
       "      <td>Thailand</td>\n",
       "      <td>43</td>\n",
       "      <td>2020-03-04</td>\n",
       "    </tr>\n",
       "    <tr>\n",
       "      <th>19909</th>\n",
       "      <td>Thailand</td>\n",
       "      <td>47</td>\n",
       "      <td>2020-03-05</td>\n",
       "    </tr>\n",
       "    <tr>\n",
       "      <th>20372</th>\n",
       "      <td>Thailand</td>\n",
       "      <td>48</td>\n",
       "      <td>2020-03-06</td>\n",
       "    </tr>\n",
       "    <tr>\n",
       "      <th>20835</th>\n",
       "      <td>Thailand</td>\n",
       "      <td>50</td>\n",
       "      <td>2020-03-07</td>\n",
       "    </tr>\n",
       "    <tr>\n",
       "      <th>21298</th>\n",
       "      <td>Thailand</td>\n",
       "      <td>50</td>\n",
       "      <td>2020-03-08</td>\n",
       "    </tr>\n",
       "    <tr>\n",
       "      <th>21761</th>\n",
       "      <td>Thailand</td>\n",
       "      <td>50</td>\n",
       "      <td>2020-03-09</td>\n",
       "    </tr>\n",
       "    <tr>\n",
       "      <th>22224</th>\n",
       "      <td>Thailand</td>\n",
       "      <td>53</td>\n",
       "      <td>2020-03-10</td>\n",
       "    </tr>\n",
       "    <tr>\n",
       "      <th>22687</th>\n",
       "      <td>Thailand</td>\n",
       "      <td>59</td>\n",
       "      <td>2020-03-11</td>\n",
       "    </tr>\n",
       "    <tr>\n",
       "      <th>23150</th>\n",
       "      <td>Thailand</td>\n",
       "      <td>70</td>\n",
       "      <td>2020-03-12</td>\n",
       "    </tr>\n",
       "    <tr>\n",
       "      <th>23613</th>\n",
       "      <td>Thailand</td>\n",
       "      <td>75</td>\n",
       "      <td>2020-03-13</td>\n",
       "    </tr>\n",
       "    <tr>\n",
       "      <th>24076</th>\n",
       "      <td>Thailand</td>\n",
       "      <td>82</td>\n",
       "      <td>2020-03-14</td>\n",
       "    </tr>\n",
       "    <tr>\n",
       "      <th>24539</th>\n",
       "      <td>Thailand</td>\n",
       "      <td>114</td>\n",
       "      <td>2020-03-15</td>\n",
       "    </tr>\n",
       "    <tr>\n",
       "      <th>25002</th>\n",
       "      <td>Thailand</td>\n",
       "      <td>147</td>\n",
       "      <td>2020-03-16</td>\n",
       "    </tr>\n",
       "  </tbody>\n",
       "</table>\n",
       "</div>"
      ],
      "text/plain": [
       "        Country  Cases       Date\n",
       "0      Thailand      2 2020-01-22\n",
       "463    Thailand      3 2020-01-23\n",
       "926    Thailand      5 2020-01-24\n",
       "1389   Thailand      7 2020-01-25\n",
       "1852   Thailand      8 2020-01-26\n",
       "2315   Thailand      8 2020-01-27\n",
       "2778   Thailand     14 2020-01-28\n",
       "3241   Thailand     14 2020-01-29\n",
       "3704   Thailand     14 2020-01-30\n",
       "4167   Thailand     19 2020-01-31\n",
       "4630   Thailand     19 2020-02-01\n",
       "5093   Thailand     19 2020-02-02\n",
       "5556   Thailand     19 2020-02-03\n",
       "6019   Thailand     25 2020-02-04\n",
       "6482   Thailand     25 2020-02-05\n",
       "6945   Thailand     25 2020-02-06\n",
       "7408   Thailand     25 2020-02-07\n",
       "7871   Thailand     32 2020-02-08\n",
       "8334   Thailand     32 2020-02-09\n",
       "8797   Thailand     32 2020-02-10\n",
       "9260   Thailand     33 2020-02-11\n",
       "9723   Thailand     33 2020-02-12\n",
       "10186  Thailand     33 2020-02-13\n",
       "10649  Thailand     33 2020-02-14\n",
       "11112  Thailand     33 2020-02-15\n",
       "11575  Thailand     34 2020-02-16\n",
       "12038  Thailand     35 2020-02-17\n",
       "12501  Thailand     35 2020-02-18\n",
       "12964  Thailand     35 2020-02-19\n",
       "13427  Thailand     35 2020-02-20\n",
       "13890  Thailand     35 2020-02-21\n",
       "14353  Thailand     35 2020-02-22\n",
       "14816  Thailand     35 2020-02-23\n",
       "15279  Thailand     35 2020-02-24\n",
       "15742  Thailand     37 2020-02-25\n",
       "16205  Thailand     40 2020-02-26\n",
       "16668  Thailand     40 2020-02-27\n",
       "17131  Thailand     41 2020-02-28\n",
       "17594  Thailand     42 2020-02-29\n",
       "18057  Thailand     42 2020-03-01\n",
       "18520  Thailand     43 2020-03-02\n",
       "18983  Thailand     43 2020-03-03\n",
       "19446  Thailand     43 2020-03-04\n",
       "19909  Thailand     47 2020-03-05\n",
       "20372  Thailand     48 2020-03-06\n",
       "20835  Thailand     50 2020-03-07\n",
       "21298  Thailand     50 2020-03-08\n",
       "21761  Thailand     50 2020-03-09\n",
       "22224  Thailand     53 2020-03-10\n",
       "22687  Thailand     59 2020-03-11\n",
       "23150  Thailand     70 2020-03-12\n",
       "23613  Thailand     75 2020-03-13\n",
       "24076  Thailand     82 2020-03-14\n",
       "24539  Thailand    114 2020-03-15\n",
       "25002  Thailand    147 2020-03-16"
      ]
     },
     "execution_count": 74,
     "metadata": {},
     "output_type": "execute_result"
    }
   ],
   "source": [
    "thailand_cases = covid19[covid19.Country == 'Thailand']\n",
    "\n",
    "thailand_cases"
   ]
  },
  {
   "cell_type": "code",
   "execution_count": 75,
   "metadata": {},
   "outputs": [
    {
     "data": {
      "application/vnd.vegalite.v3+json": {
       "$schema": "https://vega.github.io/schema/vega-lite/v3.4.0.json",
       "config": {
        "mark": {
         "tooltip": null
        },
        "view": {
         "height": 300,
         "width": 400
        }
       },
       "data": {
        "name": "data-d1beaa89ccf44908ee1ad56420f0ff3c"
       },
       "datasets": {
        "data-d1beaa89ccf44908ee1ad56420f0ff3c": [
         {
          "Cases": 2,
          "Country": "Thailand",
          "Date": "2020-01-22T00:00:00"
         },
         {
          "Cases": 3,
          "Country": "Thailand",
          "Date": "2020-01-23T00:00:00"
         },
         {
          "Cases": 5,
          "Country": "Thailand",
          "Date": "2020-01-24T00:00:00"
         },
         {
          "Cases": 7,
          "Country": "Thailand",
          "Date": "2020-01-25T00:00:00"
         },
         {
          "Cases": 8,
          "Country": "Thailand",
          "Date": "2020-01-26T00:00:00"
         },
         {
          "Cases": 8,
          "Country": "Thailand",
          "Date": "2020-01-27T00:00:00"
         },
         {
          "Cases": 14,
          "Country": "Thailand",
          "Date": "2020-01-28T00:00:00"
         },
         {
          "Cases": 14,
          "Country": "Thailand",
          "Date": "2020-01-29T00:00:00"
         },
         {
          "Cases": 14,
          "Country": "Thailand",
          "Date": "2020-01-30T00:00:00"
         },
         {
          "Cases": 19,
          "Country": "Thailand",
          "Date": "2020-01-31T00:00:00"
         },
         {
          "Cases": 19,
          "Country": "Thailand",
          "Date": "2020-02-01T00:00:00"
         },
         {
          "Cases": 19,
          "Country": "Thailand",
          "Date": "2020-02-02T00:00:00"
         },
         {
          "Cases": 19,
          "Country": "Thailand",
          "Date": "2020-02-03T00:00:00"
         },
         {
          "Cases": 25,
          "Country": "Thailand",
          "Date": "2020-02-04T00:00:00"
         },
         {
          "Cases": 25,
          "Country": "Thailand",
          "Date": "2020-02-05T00:00:00"
         },
         {
          "Cases": 25,
          "Country": "Thailand",
          "Date": "2020-02-06T00:00:00"
         },
         {
          "Cases": 25,
          "Country": "Thailand",
          "Date": "2020-02-07T00:00:00"
         },
         {
          "Cases": 32,
          "Country": "Thailand",
          "Date": "2020-02-08T00:00:00"
         },
         {
          "Cases": 32,
          "Country": "Thailand",
          "Date": "2020-02-09T00:00:00"
         },
         {
          "Cases": 32,
          "Country": "Thailand",
          "Date": "2020-02-10T00:00:00"
         },
         {
          "Cases": 33,
          "Country": "Thailand",
          "Date": "2020-02-11T00:00:00"
         },
         {
          "Cases": 33,
          "Country": "Thailand",
          "Date": "2020-02-12T00:00:00"
         },
         {
          "Cases": 33,
          "Country": "Thailand",
          "Date": "2020-02-13T00:00:00"
         },
         {
          "Cases": 33,
          "Country": "Thailand",
          "Date": "2020-02-14T00:00:00"
         },
         {
          "Cases": 33,
          "Country": "Thailand",
          "Date": "2020-02-15T00:00:00"
         },
         {
          "Cases": 34,
          "Country": "Thailand",
          "Date": "2020-02-16T00:00:00"
         },
         {
          "Cases": 35,
          "Country": "Thailand",
          "Date": "2020-02-17T00:00:00"
         },
         {
          "Cases": 35,
          "Country": "Thailand",
          "Date": "2020-02-18T00:00:00"
         },
         {
          "Cases": 35,
          "Country": "Thailand",
          "Date": "2020-02-19T00:00:00"
         },
         {
          "Cases": 35,
          "Country": "Thailand",
          "Date": "2020-02-20T00:00:00"
         },
         {
          "Cases": 35,
          "Country": "Thailand",
          "Date": "2020-02-21T00:00:00"
         },
         {
          "Cases": 35,
          "Country": "Thailand",
          "Date": "2020-02-22T00:00:00"
         },
         {
          "Cases": 35,
          "Country": "Thailand",
          "Date": "2020-02-23T00:00:00"
         },
         {
          "Cases": 35,
          "Country": "Thailand",
          "Date": "2020-02-24T00:00:00"
         },
         {
          "Cases": 37,
          "Country": "Thailand",
          "Date": "2020-02-25T00:00:00"
         },
         {
          "Cases": 40,
          "Country": "Thailand",
          "Date": "2020-02-26T00:00:00"
         },
         {
          "Cases": 40,
          "Country": "Thailand",
          "Date": "2020-02-27T00:00:00"
         },
         {
          "Cases": 41,
          "Country": "Thailand",
          "Date": "2020-02-28T00:00:00"
         },
         {
          "Cases": 42,
          "Country": "Thailand",
          "Date": "2020-02-29T00:00:00"
         },
         {
          "Cases": 42,
          "Country": "Thailand",
          "Date": "2020-03-01T00:00:00"
         },
         {
          "Cases": 43,
          "Country": "Thailand",
          "Date": "2020-03-02T00:00:00"
         },
         {
          "Cases": 43,
          "Country": "Thailand",
          "Date": "2020-03-03T00:00:00"
         },
         {
          "Cases": 43,
          "Country": "Thailand",
          "Date": "2020-03-04T00:00:00"
         },
         {
          "Cases": 47,
          "Country": "Thailand",
          "Date": "2020-03-05T00:00:00"
         },
         {
          "Cases": 48,
          "Country": "Thailand",
          "Date": "2020-03-06T00:00:00"
         },
         {
          "Cases": 50,
          "Country": "Thailand",
          "Date": "2020-03-07T00:00:00"
         },
         {
          "Cases": 50,
          "Country": "Thailand",
          "Date": "2020-03-08T00:00:00"
         },
         {
          "Cases": 50,
          "Country": "Thailand",
          "Date": "2020-03-09T00:00:00"
         },
         {
          "Cases": 53,
          "Country": "Thailand",
          "Date": "2020-03-10T00:00:00"
         },
         {
          "Cases": 59,
          "Country": "Thailand",
          "Date": "2020-03-11T00:00:00"
         },
         {
          "Cases": 70,
          "Country": "Thailand",
          "Date": "2020-03-12T00:00:00"
         },
         {
          "Cases": 75,
          "Country": "Thailand",
          "Date": "2020-03-13T00:00:00"
         },
         {
          "Cases": 82,
          "Country": "Thailand",
          "Date": "2020-03-14T00:00:00"
         },
         {
          "Cases": 114,
          "Country": "Thailand",
          "Date": "2020-03-15T00:00:00"
         },
         {
          "Cases": 147,
          "Country": "Thailand",
          "Date": "2020-03-16T00:00:00"
         }
        ]
       },
       "encoding": {
        "x": {
         "field": "Date",
         "type": "temporal"
        },
        "y": {
         "field": "Cases",
         "type": "quantitative"
        }
       },
       "mark": "line"
      },
      "image/png": "[encoded data removed]",
      "text/plain": [
       "<VegaLite 3 object>\n",
       "\n",
       "If you see this message, it means the renderer has not been properly enabled\n",
       "for the frontend that you are using. For more information, see\n",
       "https://altair-viz.github.io/user_guide/troubleshooting.html\n"
      ]
     },
     "execution_count": 75,
     "metadata": {},
     "output_type": "execute_result"
    }
   ],
   "source": [
    "alt.Chart(thailand_cases).mark_line().encode(x='Date', y='Cases')"
   ]
  },
  {
   "cell_type": "code",
   "execution_count": 76,
   "metadata": {},
   "outputs": [
    {
     "data": {
      "text/plain": [
       "0         True\n",
       "316      False\n",
       "315      False\n",
       "314      False\n",
       "313      False\n",
       "         ...  \n",
       "25149    False\n",
       "25148    False\n",
       "25147    False\n",
       "25159    False\n",
       "25464    False\n",
       "Name: Country, Length: 25465, dtype: bool"
      ]
     },
     "execution_count": 76,
     "metadata": {},
     "output_type": "execute_result"
    }
   ],
   "source": [
    "covid19.Country.isin(['Thailand', 'Japan'])"
   ]
  },
  {
   "cell_type": "code",
   "execution_count": 77,
   "metadata": {},
   "outputs": [],
   "source": [
    "tj_cases = covid19[covid19.Country.isin(['Thailand', 'Japan'])]"
   ]
  },
  {
   "cell_type": "code",
   "execution_count": 79,
   "metadata": {},
   "outputs": [
    {
     "data": {
      "application/vnd.vegalite.v3+json": {
       "$schema": "https://vega.github.io/schema/vega-lite/v3.4.0.json",
       "config": {
        "mark": {
         "tooltip": null
        },
        "view": {
         "height": 300,
         "width": 400
        }
       },
       "data": {
        "name": "data-57329b13deddaed384d7b91f9a64f3b9"
       },
       "datasets": {
        "data-57329b13deddaed384d7b91f9a64f3b9": [
         {
          "Cases": 2,
          "Country": "Thailand",
          "Date": "2020-01-22T00:00:00"
         },
         {
          "Cases": 2,
          "Country": "Japan",
          "Date": "2020-01-22T00:00:00"
         },
         {
          "Cases": 1,
          "Country": "Japan",
          "Date": "2020-01-23T00:00:00"
         },
         {
          "Cases": 3,
          "Country": "Thailand",
          "Date": "2020-01-23T00:00:00"
         },
         {
          "Cases": 2,
          "Country": "Japan",
          "Date": "2020-01-24T00:00:00"
         },
         {
          "Cases": 5,
          "Country": "Thailand",
          "Date": "2020-01-24T00:00:00"
         },
         {
          "Cases": 2,
          "Country": "Japan",
          "Date": "2020-01-25T00:00:00"
         },
         {
          "Cases": 7,
          "Country": "Thailand",
          "Date": "2020-01-25T00:00:00"
         },
         {
          "Cases": 4,
          "Country": "Japan",
          "Date": "2020-01-26T00:00:00"
         },
         {
          "Cases": 8,
          "Country": "Thailand",
          "Date": "2020-01-26T00:00:00"
         },
         {
          "Cases": 4,
          "Country": "Japan",
          "Date": "2020-01-27T00:00:00"
         },
         {
          "Cases": 8,
          "Country": "Thailand",
          "Date": "2020-01-27T00:00:00"
         },
         {
          "Cases": 7,
          "Country": "Japan",
          "Date": "2020-01-28T00:00:00"
         },
         {
          "Cases": 14,
          "Country": "Thailand",
          "Date": "2020-01-28T00:00:00"
         },
         {
          "Cases": 7,
          "Country": "Japan",
          "Date": "2020-01-29T00:00:00"
         },
         {
          "Cases": 14,
          "Country": "Thailand",
          "Date": "2020-01-29T00:00:00"
         },
         {
          "Cases": 11,
          "Country": "Japan",
          "Date": "2020-01-30T00:00:00"
         },
         {
          "Cases": 14,
          "Country": "Thailand",
          "Date": "2020-01-30T00:00:00"
         },
         {
          "Cases": 15,
          "Country": "Japan",
          "Date": "2020-01-31T00:00:00"
         },
         {
          "Cases": 19,
          "Country": "Thailand",
          "Date": "2020-01-31T00:00:00"
         },
         {
          "Cases": 20,
          "Country": "Japan",
          "Date": "2020-02-01T00:00:00"
         },
         {
          "Cases": 19,
          "Country": "Thailand",
          "Date": "2020-02-01T00:00:00"
         },
         {
          "Cases": 20,
          "Country": "Japan",
          "Date": "2020-02-02T00:00:00"
         },
         {
          "Cases": 19,
          "Country": "Thailand",
          "Date": "2020-02-02T00:00:00"
         },
         {
          "Cases": 20,
          "Country": "Japan",
          "Date": "2020-02-03T00:00:00"
         },
         {
          "Cases": 19,
          "Country": "Thailand",
          "Date": "2020-02-03T00:00:00"
         },
         {
          "Cases": 22,
          "Country": "Japan",
          "Date": "2020-02-04T00:00:00"
         },
         {
          "Cases": 25,
          "Country": "Thailand",
          "Date": "2020-02-04T00:00:00"
         },
         {
          "Cases": 22,
          "Country": "Japan",
          "Date": "2020-02-05T00:00:00"
         },
         {
          "Cases": 25,
          "Country": "Thailand",
          "Date": "2020-02-05T00:00:00"
         },
         {
          "Cases": 45,
          "Country": "Japan",
          "Date": "2020-02-06T00:00:00"
         },
         {
          "Cases": 25,
          "Country": "Thailand",
          "Date": "2020-02-06T00:00:00"
         },
         {
          "Cases": 25,
          "Country": "Japan",
          "Date": "2020-02-07T00:00:00"
         },
         {
          "Cases": 25,
          "Country": "Thailand",
          "Date": "2020-02-07T00:00:00"
         },
         {
          "Cases": 25,
          "Country": "Japan",
          "Date": "2020-02-08T00:00:00"
         },
         {
          "Cases": 32,
          "Country": "Thailand",
          "Date": "2020-02-08T00:00:00"
         },
         {
          "Cases": 26,
          "Country": "Japan",
          "Date": "2020-02-09T00:00:00"
         },
         {
          "Cases": 32,
          "Country": "Thailand",
          "Date": "2020-02-09T00:00:00"
         },
         {
          "Cases": 26,
          "Country": "Japan",
          "Date": "2020-02-10T00:00:00"
         },
         {
          "Cases": 32,
          "Country": "Thailand",
          "Date": "2020-02-10T00:00:00"
         },
         {
          "Cases": 26,
          "Country": "Japan",
          "Date": "2020-02-11T00:00:00"
         },
         {
          "Cases": 33,
          "Country": "Thailand",
          "Date": "2020-02-11T00:00:00"
         },
         {
          "Cases": 28,
          "Country": "Japan",
          "Date": "2020-02-12T00:00:00"
         },
         {
          "Cases": 33,
          "Country": "Thailand",
          "Date": "2020-02-12T00:00:00"
         },
         {
          "Cases": 28,
          "Country": "Japan",
          "Date": "2020-02-13T00:00:00"
         },
         {
          "Cases": 33,
          "Country": "Thailand",
          "Date": "2020-02-13T00:00:00"
         },
         {
          "Cases": 29,
          "Country": "Japan",
          "Date": "2020-02-14T00:00:00"
         },
         {
          "Cases": 33,
          "Country": "Thailand",
          "Date": "2020-02-14T00:00:00"
         },
         {
          "Cases": 43,
          "Country": "Japan",
          "Date": "2020-02-15T00:00:00"
         },
         {
          "Cases": 33,
          "Country": "Thailand",
          "Date": "2020-02-15T00:00:00"
         },
         {
          "Cases": 59,
          "Country": "Japan",
          "Date": "2020-02-16T00:00:00"
         },
         {
          "Cases": 34,
          "Country": "Thailand",
          "Date": "2020-02-16T00:00:00"
         },
         {
          "Cases": 66,
          "Country": "Japan",
          "Date": "2020-02-17T00:00:00"
         },
         {
          "Cases": 35,
          "Country": "Thailand",
          "Date": "2020-02-17T00:00:00"
         },
         {
          "Cases": 74,
          "Country": "Japan",
          "Date": "2020-02-18T00:00:00"
         },
         {
          "Cases": 35,
          "Country": "Thailand",
          "Date": "2020-02-18T00:00:00"
         },
         {
          "Cases": 84,
          "Country": "Japan",
          "Date": "2020-02-19T00:00:00"
         },
         {
          "Cases": 35,
          "Country": "Thailand",
          "Date": "2020-02-19T00:00:00"
         },
         {
          "Cases": 94,
          "Country": "Japan",
          "Date": "2020-02-20T00:00:00"
         },
         {
          "Cases": 35,
          "Country": "Thailand",
          "Date": "2020-02-20T00:00:00"
         },
         {
          "Cases": 105,
          "Country": "Japan",
          "Date": "2020-02-21T00:00:00"
         },
         {
          "Cases": 35,
          "Country": "Thailand",
          "Date": "2020-02-21T00:00:00"
         },
         {
          "Cases": 122,
          "Country": "Japan",
          "Date": "2020-02-22T00:00:00"
         },
         {
          "Cases": 35,
          "Country": "Thailand",
          "Date": "2020-02-22T00:00:00"
         },
         {
          "Cases": 147,
          "Country": "Japan",
          "Date": "2020-02-23T00:00:00"
         },
         {
          "Cases": 35,
          "Country": "Thailand",
          "Date": "2020-02-23T00:00:00"
         },
         {
          "Cases": 159,
          "Country": "Japan",
          "Date": "2020-02-24T00:00:00"
         },
         {
          "Cases": 35,
          "Country": "Thailand",
          "Date": "2020-02-24T00:00:00"
         },
         {
          "Cases": 170,
          "Country": "Japan",
          "Date": "2020-02-25T00:00:00"
         },
         {
          "Cases": 37,
          "Country": "Thailand",
          "Date": "2020-02-25T00:00:00"
         },
         {
          "Cases": 189,
          "Country": "Japan",
          "Date": "2020-02-26T00:00:00"
         },
         {
          "Cases": 40,
          "Country": "Thailand",
          "Date": "2020-02-26T00:00:00"
         },
         {
          "Cases": 214,
          "Country": "Japan",
          "Date": "2020-02-27T00:00:00"
         },
         {
          "Cases": 40,
          "Country": "Thailand",
          "Date": "2020-02-27T00:00:00"
         },
         {
          "Cases": 228,
          "Country": "Japan",
          "Date": "2020-02-28T00:00:00"
         },
         {
          "Cases": 41,
          "Country": "Thailand",
          "Date": "2020-02-28T00:00:00"
         },
         {
          "Cases": 241,
          "Country": "Japan",
          "Date": "2020-02-29T00:00:00"
         },
         {
          "Cases": 42,
          "Country": "Thailand",
          "Date": "2020-02-29T00:00:00"
         },
         {
          "Cases": 256,
          "Country": "Japan",
          "Date": "2020-03-01T00:00:00"
         },
         {
          "Cases": 42,
          "Country": "Thailand",
          "Date": "2020-03-01T00:00:00"
         },
         {
          "Cases": 274,
          "Country": "Japan",
          "Date": "2020-03-02T00:00:00"
         },
         {
          "Cases": 43,
          "Country": "Thailand",
          "Date": "2020-03-02T00:00:00"
         },
         {
          "Cases": 293,
          "Country": "Japan",
          "Date": "2020-03-03T00:00:00"
         },
         {
          "Cases": 43,
          "Country": "Thailand",
          "Date": "2020-03-03T00:00:00"
         },
         {
          "Cases": 331,
          "Country": "Japan",
          "Date": "2020-03-04T00:00:00"
         },
         {
          "Cases": 43,
          "Country": "Thailand",
          "Date": "2020-03-04T00:00:00"
         },
         {
          "Cases": 360,
          "Country": "Japan",
          "Date": "2020-03-05T00:00:00"
         },
         {
          "Cases": 47,
          "Country": "Thailand",
          "Date": "2020-03-05T00:00:00"
         },
         {
          "Cases": 420,
          "Country": "Japan",
          "Date": "2020-03-06T00:00:00"
         },
         {
          "Cases": 48,
          "Country": "Thailand",
          "Date": "2020-03-06T00:00:00"
         },
         {
          "Cases": 461,
          "Country": "Japan",
          "Date": "2020-03-07T00:00:00"
         },
         {
          "Cases": 50,
          "Country": "Thailand",
          "Date": "2020-03-07T00:00:00"
         },
         {
          "Cases": 502,
          "Country": "Japan",
          "Date": "2020-03-08T00:00:00"
         },
         {
          "Cases": 50,
          "Country": "Thailand",
          "Date": "2020-03-08T00:00:00"
         },
         {
          "Cases": 511,
          "Country": "Japan",
          "Date": "2020-03-09T00:00:00"
         },
         {
          "Cases": 50,
          "Country": "Thailand",
          "Date": "2020-03-09T00:00:00"
         },
         {
          "Cases": 581,
          "Country": "Japan",
          "Date": "2020-03-10T00:00:00"
         },
         {
          "Cases": 53,
          "Country": "Thailand",
          "Date": "2020-03-10T00:00:00"
         },
         {
          "Cases": 639,
          "Country": "Japan",
          "Date": "2020-03-11T00:00:00"
         },
         {
          "Cases": 59,
          "Country": "Thailand",
          "Date": "2020-03-11T00:00:00"
         },
         {
          "Cases": 639,
          "Country": "Japan",
          "Date": "2020-03-12T00:00:00"
         },
         {
          "Cases": 70,
          "Country": "Thailand",
          "Date": "2020-03-12T00:00:00"
         },
         {
          "Cases": 701,
          "Country": "Japan",
          "Date": "2020-03-13T00:00:00"
         },
         {
          "Cases": 75,
          "Country": "Thailand",
          "Date": "2020-03-13T00:00:00"
         },
         {
          "Cases": 773,
          "Country": "Japan",
          "Date": "2020-03-14T00:00:00"
         },
         {
          "Cases": 82,
          "Country": "Thailand",
          "Date": "2020-03-14T00:00:00"
         },
         {
          "Cases": 839,
          "Country": "Japan",
          "Date": "2020-03-15T00:00:00"
         },
         {
          "Cases": 114,
          "Country": "Thailand",
          "Date": "2020-03-15T00:00:00"
         },
         {
          "Cases": 825,
          "Country": "Japan",
          "Date": "2020-03-16T00:00:00"
         },
         {
          "Cases": 147,
          "Country": "Thailand",
          "Date": "2020-03-16T00:00:00"
         }
        ]
       },
       "encoding": {
        "color": {
         "field": "Country",
         "type": "nominal"
        },
        "x": {
         "field": "Date",
         "type": "temporal"
        },
        "y": {
         "field": "Cases",
         "type": "quantitative"
        }
       },
       "mark": "line"
      },
      "image/png": "[encoded data removed]",
      "text/plain": [
       "<VegaLite 3 object>\n",
       "\n",
       "If you see this message, it means the renderer has not been properly enabled\n",
       "for the frontend that you are using. For more information, see\n",
       "https://altair-viz.github.io/user_guide/troubleshooting.html\n"
      ]
     },
     "execution_count": 79,
     "metadata": {},
     "output_type": "execute_result"
    }
   ],
   "source": [
    "alt.Chart(tj_cases).mark_line().encode(x='Date', y='Cases', color='Country')"
   ]
  },
  {
   "cell_type": "markdown",
   "metadata": {},
   "source": [
    "### The Iris Dataset\n",
    "\n",
    "The classic 'Iris' dataset is often used to illustrate statistical topics. It can be found [here](https://gist.github.com/curran/a08a1080b88344b0c8a7#file-iris-csv)."
   ]
  },
  {
   "cell_type": "code",
   "execution_count": 80,
   "metadata": {},
   "outputs": [
    {
     "data": {
      "text/html": [
       "<div>\n",
       "<style scoped>\n",
       "    .dataframe tbody tr th:only-of-type {\n",
       "        vertical-align: middle;\n",
       "    }\n",
       "\n",
       "    .dataframe tbody tr th {\n",
       "        vertical-align: top;\n",
       "    }\n",
       "\n",
       "    .dataframe thead th {\n",
       "        text-align: right;\n",
       "    }\n",
       "</style>\n",
       "<table border=\"1\" class=\"dataframe\">\n",
       "  <thead>\n",
       "    <tr style=\"text-align: right;\">\n",
       "      <th></th>\n",
       "      <th>sepal_length</th>\n",
       "      <th>sepal_width</th>\n",
       "      <th>petal_length</th>\n",
       "      <th>petal_width</th>\n",
       "      <th>species</th>\n",
       "    </tr>\n",
       "  </thead>\n",
       "  <tbody>\n",
       "    <tr>\n",
       "      <th>0</th>\n",
       "      <td>5.1</td>\n",
       "      <td>3.5</td>\n",
       "      <td>1.4</td>\n",
       "      <td>0.2</td>\n",
       "      <td>setosa</td>\n",
       "    </tr>\n",
       "    <tr>\n",
       "      <th>1</th>\n",
       "      <td>4.9</td>\n",
       "      <td>3.0</td>\n",
       "      <td>1.4</td>\n",
       "      <td>0.2</td>\n",
       "      <td>setosa</td>\n",
       "    </tr>\n",
       "    <tr>\n",
       "      <th>2</th>\n",
       "      <td>4.7</td>\n",
       "      <td>3.2</td>\n",
       "      <td>1.3</td>\n",
       "      <td>0.2</td>\n",
       "      <td>setosa</td>\n",
       "    </tr>\n",
       "    <tr>\n",
       "      <th>3</th>\n",
       "      <td>4.6</td>\n",
       "      <td>3.1</td>\n",
       "      <td>1.5</td>\n",
       "      <td>0.2</td>\n",
       "      <td>setosa</td>\n",
       "    </tr>\n",
       "    <tr>\n",
       "      <th>4</th>\n",
       "      <td>5.0</td>\n",
       "      <td>3.6</td>\n",
       "      <td>1.4</td>\n",
       "      <td>0.2</td>\n",
       "      <td>setosa</td>\n",
       "    </tr>\n",
       "    <tr>\n",
       "      <th>...</th>\n",
       "      <td>...</td>\n",
       "      <td>...</td>\n",
       "      <td>...</td>\n",
       "      <td>...</td>\n",
       "      <td>...</td>\n",
       "    </tr>\n",
       "    <tr>\n",
       "      <th>145</th>\n",
       "      <td>6.7</td>\n",
       "      <td>3.0</td>\n",
       "      <td>5.2</td>\n",
       "      <td>2.3</td>\n",
       "      <td>virginica</td>\n",
       "    </tr>\n",
       "    <tr>\n",
       "      <th>146</th>\n",
       "      <td>6.3</td>\n",
       "      <td>2.5</td>\n",
       "      <td>5.0</td>\n",
       "      <td>1.9</td>\n",
       "      <td>virginica</td>\n",
       "    </tr>\n",
       "    <tr>\n",
       "      <th>147</th>\n",
       "      <td>6.5</td>\n",
       "      <td>3.0</td>\n",
       "      <td>5.2</td>\n",
       "      <td>2.0</td>\n",
       "      <td>virginica</td>\n",
       "    </tr>\n",
       "    <tr>\n",
       "      <th>148</th>\n",
       "      <td>6.2</td>\n",
       "      <td>3.4</td>\n",
       "      <td>5.4</td>\n",
       "      <td>2.3</td>\n",
       "      <td>virginica</td>\n",
       "    </tr>\n",
       "    <tr>\n",
       "      <th>149</th>\n",
       "      <td>5.9</td>\n",
       "      <td>3.0</td>\n",
       "      <td>5.1</td>\n",
       "      <td>1.8</td>\n",
       "      <td>virginica</td>\n",
       "    </tr>\n",
       "  </tbody>\n",
       "</table>\n",
       "<p>150 rows × 5 columns</p>\n",
       "</div>"
      ],
      "text/plain": [
       "     sepal_length  sepal_width  petal_length  petal_width    species\n",
       "0             5.1          3.5           1.4          0.2     setosa\n",
       "1             4.9          3.0           1.4          0.2     setosa\n",
       "2             4.7          3.2           1.3          0.2     setosa\n",
       "3             4.6          3.1           1.5          0.2     setosa\n",
       "4             5.0          3.6           1.4          0.2     setosa\n",
       "..            ...          ...           ...          ...        ...\n",
       "145           6.7          3.0           5.2          2.3  virginica\n",
       "146           6.3          2.5           5.0          1.9  virginica\n",
       "147           6.5          3.0           5.2          2.0  virginica\n",
       "148           6.2          3.4           5.4          2.3  virginica\n",
       "149           5.9          3.0           5.1          1.8  virginica\n",
       "\n",
       "[150 rows x 5 columns]"
      ]
     },
     "execution_count": 80,
     "metadata": {},
     "output_type": "execute_result"
    }
   ],
   "source": [
    "url = 'https://gist.githubusercontent.com/curran/a08a1080b88344b0c8a7/raw/639388c2cbc2120a14dcf466e85730eb8be498bb/iris.csv'\n",
    "\n",
    "iris_content = requests.get(url).text\n",
    "my_file = open('iris.csv', 'w')\n",
    "my_file.write(iris_content)\n",
    "my_file.close()\n",
    "\n",
    "iris_data = pd.read_csv('iris.csv')\n",
    "\n",
    "iris_data"
   ]
  },
  {
   "cell_type": "code",
   "execution_count": 81,
   "metadata": {},
   "outputs": [
    {
     "data": {
      "text/plain": [
       "5.843333333333334"
      ]
     },
     "execution_count": 81,
     "metadata": {},
     "output_type": "execute_result"
    }
   ],
   "source": [
    "iris_data['sepal_length'].mean()"
   ]
  },
  {
   "cell_type": "code",
   "execution_count": 83,
   "metadata": {},
   "outputs": [
    {
     "data": {
      "text/plain": [
       "0.828066127977863"
      ]
     },
     "execution_count": 83,
     "metadata": {},
     "output_type": "execute_result"
    }
   ],
   "source": [
    "iris_data['sepal_length'].std()"
   ]
  },
  {
   "cell_type": "code",
   "execution_count": 84,
   "metadata": {},
   "outputs": [
    {
     "data": {
      "text/plain": [
       "7.9"
      ]
     },
     "execution_count": 84,
     "metadata": {},
     "output_type": "execute_result"
    }
   ],
   "source": [
    "iris_data['sepal_length'].max()"
   ]
  },
  {
   "cell_type": "code",
   "execution_count": 85,
   "metadata": {},
   "outputs": [
    {
     "data": {
      "text/plain": [
       "4.3"
      ]
     },
     "execution_count": 85,
     "metadata": {},
     "output_type": "execute_result"
    }
   ],
   "source": [
    "iris_data['sepal_length'].min()"
   ]
  },
  {
   "cell_type": "code",
   "execution_count": 86,
   "metadata": {},
   "outputs": [
    {
     "data": {
      "application/vnd.vegalite.v3+json": {
       "$schema": "https://vega.github.io/schema/vega-lite/v3.4.0.json",
       "config": {
        "mark": {
         "tooltip": null
        },
        "view": {
         "height": 300,
         "width": 400
        }
       },
       "data": {
        "name": "data-55d68bef01494dfb0cf7e3a0f8ee0f5a"
       },
       "datasets": {
        "data-55d68bef01494dfb0cf7e3a0f8ee0f5a": [
         {
          "petal_length": 1.4,
          "petal_width": 0.2,
          "sepal_length": 5.1,
          "sepal_width": 3.5,
          "species": "setosa"
         },
         {
          "petal_length": 1.4,
          "petal_width": 0.2,
          "sepal_length": 4.9,
          "sepal_width": 3,
          "species": "setosa"
         },
         {
          "petal_length": 1.3,
          "petal_width": 0.2,
          "sepal_length": 4.7,
          "sepal_width": 3.2,
          "species": "setosa"
         },
         {
          "petal_length": 1.5,
          "petal_width": 0.2,
          "sepal_length": 4.6,
          "sepal_width": 3.1,
          "species": "setosa"
         },
         {
          "petal_length": 1.4,
          "petal_width": 0.2,
          "sepal_length": 5,
          "sepal_width": 3.6,
          "species": "setosa"
         },
         {
          "petal_length": 1.7,
          "petal_width": 0.4,
          "sepal_length": 5.4,
          "sepal_width": 3.9,
          "species": "setosa"
         },
         {
          "petal_length": 1.4,
          "petal_width": 0.3,
          "sepal_length": 4.6,
          "sepal_width": 3.4,
          "species": "setosa"
         },
         {
          "petal_length": 1.5,
          "petal_width": 0.2,
          "sepal_length": 5,
          "sepal_width": 3.4,
          "species": "setosa"
         },
         {
          "petal_length": 1.4,
          "petal_width": 0.2,
          "sepal_length": 4.4,
          "sepal_width": 2.9,
          "species": "setosa"
         },
         {
          "petal_length": 1.5,
          "petal_width": 0.1,
          "sepal_length": 4.9,
          "sepal_width": 3.1,
          "species": "setosa"
         },
         {
          "petal_length": 1.5,
          "petal_width": 0.2,
          "sepal_length": 5.4,
          "sepal_width": 3.7,
          "species": "setosa"
         },
         {
          "petal_length": 1.6,
          "petal_width": 0.2,
          "sepal_length": 4.8,
          "sepal_width": 3.4,
          "species": "setosa"
         },
         {
          "petal_length": 1.4,
          "petal_width": 0.1,
          "sepal_length": 4.8,
          "sepal_width": 3,
          "species": "setosa"
         },
         {
          "petal_length": 1.1,
          "petal_width": 0.1,
          "sepal_length": 4.3,
          "sepal_width": 3,
          "species": "setosa"
         },
         {
          "petal_length": 1.2,
          "petal_width": 0.2,
          "sepal_length": 5.8,
          "sepal_width": 4,
          "species": "setosa"
         },
         {
          "petal_length": 1.5,
          "petal_width": 0.4,
          "sepal_length": 5.7,
          "sepal_width": 4.4,
          "species": "setosa"
         },
         {
          "petal_length": 1.3,
          "petal_width": 0.4,
          "sepal_length": 5.4,
          "sepal_width": 3.9,
          "species": "setosa"
         },
         {
          "petal_length": 1.4,
          "petal_width": 0.3,
          "sepal_length": 5.1,
          "sepal_width": 3.5,
          "species": "setosa"
         },
         {
          "petal_length": 1.7,
          "petal_width": 0.3,
          "sepal_length": 5.7,
          "sepal_width": 3.8,
          "species": "setosa"
         },
         {
          "petal_length": 1.5,
          "petal_width": 0.3,
          "sepal_length": 5.1,
          "sepal_width": 3.8,
          "species": "setosa"
         },
         {
          "petal_length": 1.7,
          "petal_width": 0.2,
          "sepal_length": 5.4,
          "sepal_width": 3.4,
          "species": "setosa"
         },
         {
          "petal_length": 1.5,
          "petal_width": 0.4,
          "sepal_length": 5.1,
          "sepal_width": 3.7,
          "species": "setosa"
         },
         {
          "petal_length": 1,
          "petal_width": 0.2,
          "sepal_length": 4.6,
          "sepal_width": 3.6,
          "species": "setosa"
         },
         {
          "petal_length": 1.7,
          "petal_width": 0.5,
          "sepal_length": 5.1,
          "sepal_width": 3.3,
          "species": "setosa"
         },
         {
          "petal_length": 1.9,
          "petal_width": 0.2,
          "sepal_length": 4.8,
          "sepal_width": 3.4,
          "species": "setosa"
         },
         {
          "petal_length": 1.6,
          "petal_width": 0.2,
          "sepal_length": 5,
          "sepal_width": 3,
          "species": "setosa"
         },
         {
          "petal_length": 1.6,
          "petal_width": 0.4,
          "sepal_length": 5,
          "sepal_width": 3.4,
          "species": "setosa"
         },
         {
          "petal_length": 1.5,
          "petal_width": 0.2,
          "sepal_length": 5.2,
          "sepal_width": 3.5,
          "species": "setosa"
         },
         {
          "petal_length": 1.4,
          "petal_width": 0.2,
          "sepal_length": 5.2,
          "sepal_width": 3.4,
          "species": "setosa"
         },
         {
          "petal_length": 1.6,
          "petal_width": 0.2,
          "sepal_length": 4.7,
          "sepal_width": 3.2,
          "species": "setosa"
         },
         {
          "petal_length": 1.6,
          "petal_width": 0.2,
          "sepal_length": 4.8,
          "sepal_width": 3.1,
          "species": "setosa"
         },
         {
          "petal_length": 1.5,
          "petal_width": 0.4,
          "sepal_length": 5.4,
          "sepal_width": 3.4,
          "species": "setosa"
         },
         {
          "petal_length": 1.5,
          "petal_width": 0.1,
          "sepal_length": 5.2,
          "sepal_width": 4.1,
          "species": "setosa"
         },
         {
          "petal_length": 1.4,
          "petal_width": 0.2,
          "sepal_length": 5.5,
          "sepal_width": 4.2,
          "species": "setosa"
         },
         {
          "petal_length": 1.5,
          "petal_width": 0.1,
          "sepal_length": 4.9,
          "sepal_width": 3.1,
          "species": "setosa"
         },
         {
          "petal_length": 1.2,
          "petal_width": 0.2,
          "sepal_length": 5,
          "sepal_width": 3.2,
          "species": "setosa"
         },
         {
          "petal_length": 1.3,
          "petal_width": 0.2,
          "sepal_length": 5.5,
          "sepal_width": 3.5,
          "species": "setosa"
         },
         {
          "petal_length": 1.5,
          "petal_width": 0.1,
          "sepal_length": 4.9,
          "sepal_width": 3.1,
          "species": "setosa"
         },
         {
          "petal_length": 1.3,
          "petal_width": 0.2,
          "sepal_length": 4.4,
          "sepal_width": 3,
          "species": "setosa"
         },
         {
          "petal_length": 1.5,
          "petal_width": 0.2,
          "sepal_length": 5.1,
          "sepal_width": 3.4,
          "species": "setosa"
         },
         {
          "petal_length": 1.3,
          "petal_width": 0.3,
          "sepal_length": 5,
          "sepal_width": 3.5,
          "species": "setosa"
         },
         {
          "petal_length": 1.3,
          "petal_width": 0.3,
          "sepal_length": 4.5,
          "sepal_width": 2.3,
          "species": "setosa"
         },
         {
          "petal_length": 1.3,
          "petal_width": 0.2,
          "sepal_length": 4.4,
          "sepal_width": 3.2,
          "species": "setosa"
         },
         {
          "petal_length": 1.6,
          "petal_width": 0.6,
          "sepal_length": 5,
          "sepal_width": 3.5,
          "species": "setosa"
         },
         {
          "petal_length": 1.9,
          "petal_width": 0.4,
          "sepal_length": 5.1,
          "sepal_width": 3.8,
          "species": "setosa"
         },
         {
          "petal_length": 1.4,
          "petal_width": 0.3,
          "sepal_length": 4.8,
          "sepal_width": 3,
          "species": "setosa"
         },
         {
          "petal_length": 1.6,
          "petal_width": 0.2,
          "sepal_length": 5.1,
          "sepal_width": 3.8,
          "species": "setosa"
         },
         {
          "petal_length": 1.4,
          "petal_width": 0.2,
          "sepal_length": 4.6,
          "sepal_width": 3.2,
          "species": "setosa"
         },
         {
          "petal_length": 1.5,
          "petal_width": 0.2,
          "sepal_length": 5.3,
          "sepal_width": 3.7,
          "species": "setosa"
         },
         {
          "petal_length": 1.4,
          "petal_width": 0.2,
          "sepal_length": 5,
          "sepal_width": 3.3,
          "species": "setosa"
         },
         {
          "petal_length": 4.7,
          "petal_width": 1.4,
          "sepal_length": 7,
          "sepal_width": 3.2,
          "species": "versicolor"
         },
         {
          "petal_length": 4.5,
          "petal_width": 1.5,
          "sepal_length": 6.4,
          "sepal_width": 3.2,
          "species": "versicolor"
         },
         {
          "petal_length": 4.9,
          "petal_width": 1.5,
          "sepal_length": 6.9,
          "sepal_width": 3.1,
          "species": "versicolor"
         },
         {
          "petal_length": 4,
          "petal_width": 1.3,
          "sepal_length": 5.5,
          "sepal_width": 2.3,
          "species": "versicolor"
         },
         {
          "petal_length": 4.6,
          "petal_width": 1.5,
          "sepal_length": 6.5,
          "sepal_width": 2.8,
          "species": "versicolor"
         },
         {
          "petal_length": 4.5,
          "petal_width": 1.3,
          "sepal_length": 5.7,
          "sepal_width": 2.8,
          "species": "versicolor"
         },
         {
          "petal_length": 4.7,
          "petal_width": 1.6,
          "sepal_length": 6.3,
          "sepal_width": 3.3,
          "species": "versicolor"
         },
         {
          "petal_length": 3.3,
          "petal_width": 1,
          "sepal_length": 4.9,
          "sepal_width": 2.4,
          "species": "versicolor"
         },
         {
          "petal_length": 4.6,
          "petal_width": 1.3,
          "sepal_length": 6.6,
          "sepal_width": 2.9,
          "species": "versicolor"
         },
         {
          "petal_length": 3.9,
          "petal_width": 1.4,
          "sepal_length": 5.2,
          "sepal_width": 2.7,
          "species": "versicolor"
         },
         {
          "petal_length": 3.5,
          "petal_width": 1,
          "sepal_length": 5,
          "sepal_width": 2,
          "species": "versicolor"
         },
         {
          "petal_length": 4.2,
          "petal_width": 1.5,
          "sepal_length": 5.9,
          "sepal_width": 3,
          "species": "versicolor"
         },
         {
          "petal_length": 4,
          "petal_width": 1,
          "sepal_length": 6,
          "sepal_width": 2.2,
          "species": "versicolor"
         },
         {
          "petal_length": 4.7,
          "petal_width": 1.4,
          "sepal_length": 6.1,
          "sepal_width": 2.9,
          "species": "versicolor"
         },
         {
          "petal_length": 3.6,
          "petal_width": 1.3,
          "sepal_length": 5.6,
          "sepal_width": 2.9,
          "species": "versicolor"
         },
         {
          "petal_length": 4.4,
          "petal_width": 1.4,
          "sepal_length": 6.7,
          "sepal_width": 3.1,
          "species": "versicolor"
         },
         {
          "petal_length": 4.5,
          "petal_width": 1.5,
          "sepal_length": 5.6,
          "sepal_width": 3,
          "species": "versicolor"
         },
         {
          "petal_length": 4.1,
          "petal_width": 1,
          "sepal_length": 5.8,
          "sepal_width": 2.7,
          "species": "versicolor"
         },
         {
          "petal_length": 4.5,
          "petal_width": 1.5,
          "sepal_length": 6.2,
          "sepal_width": 2.2,
          "species": "versicolor"
         },
         {
          "petal_length": 3.9,
          "petal_width": 1.1,
          "sepal_length": 5.6,
          "sepal_width": 2.5,
          "species": "versicolor"
         },
         {
          "petal_length": 4.8,
          "petal_width": 1.8,
          "sepal_length": 5.9,
          "sepal_width": 3.2,
          "species": "versicolor"
         },
         {
          "petal_length": 4,
          "petal_width": 1.3,
          "sepal_length": 6.1,
          "sepal_width": 2.8,
          "species": "versicolor"
         },
         {
          "petal_length": 4.9,
          "petal_width": 1.5,
          "sepal_length": 6.3,
          "sepal_width": 2.5,
          "species": "versicolor"
         },
         {
          "petal_length": 4.7,
          "petal_width": 1.2,
          "sepal_length": 6.1,
          "sepal_width": 2.8,
          "species": "versicolor"
         },
         {
          "petal_length": 4.3,
          "petal_width": 1.3,
          "sepal_length": 6.4,
          "sepal_width": 2.9,
          "species": "versicolor"
         },
         {
          "petal_length": 4.4,
          "petal_width": 1.4,
          "sepal_length": 6.6,
          "sepal_width": 3,
          "species": "versicolor"
         },
         {
          "petal_length": 4.8,
          "petal_width": 1.4,
          "sepal_length": 6.8,
          "sepal_width": 2.8,
          "species": "versicolor"
         },
         {
          "petal_length": 5,
          "petal_width": 1.7,
          "sepal_length": 6.7,
          "sepal_width": 3,
          "species": "versicolor"
         },
         {
          "petal_length": 4.5,
          "petal_width": 1.5,
          "sepal_length": 6,
          "sepal_width": 2.9,
          "species": "versicolor"
         },
         {
          "petal_length": 3.5,
          "petal_width": 1,
          "sepal_length": 5.7,
          "sepal_width": 2.6,
          "species": "versicolor"
         },
         {
          "petal_length": 3.8,
          "petal_width": 1.1,
          "sepal_length": 5.5,
          "sepal_width": 2.4,
          "species": "versicolor"
         },
         {
          "petal_length": 3.7,
          "petal_width": 1,
          "sepal_length": 5.5,
          "sepal_width": 2.4,
          "species": "versicolor"
         },
         {
          "petal_length": 3.9,
          "petal_width": 1.2,
          "sepal_length": 5.8,
          "sepal_width": 2.7,
          "species": "versicolor"
         },
         {
          "petal_length": 5.1,
          "petal_width": 1.6,
          "sepal_length": 6,
          "sepal_width": 2.7,
          "species": "versicolor"
         },
         {
          "petal_length": 4.5,
          "petal_width": 1.5,
          "sepal_length": 5.4,
          "sepal_width": 3,
          "species": "versicolor"
         },
         {
          "petal_length": 4.5,
          "petal_width": 1.6,
          "sepal_length": 6,
          "sepal_width": 3.4,
          "species": "versicolor"
         },
         {
          "petal_length": 4.7,
          "petal_width": 1.5,
          "sepal_length": 6.7,
          "sepal_width": 3.1,
          "species": "versicolor"
         },
         {
          "petal_length": 4.4,
          "petal_width": 1.3,
          "sepal_length": 6.3,
          "sepal_width": 2.3,
          "species": "versicolor"
         },
         {
          "petal_length": 4.1,
          "petal_width": 1.3,
          "sepal_length": 5.6,
          "sepal_width": 3,
          "species": "versicolor"
         },
         {
          "petal_length": 4,
          "petal_width": 1.3,
          "sepal_length": 5.5,
          "sepal_width": 2.5,
          "species": "versicolor"
         },
         {
          "petal_length": 4.4,
          "petal_width": 1.2,
          "sepal_length": 5.5,
          "sepal_width": 2.6,
          "species": "versicolor"
         },
         {
          "petal_length": 4.6,
          "petal_width": 1.4,
          "sepal_length": 6.1,
          "sepal_width": 3,
          "species": "versicolor"
         },
         {
          "petal_length": 4,
          "petal_width": 1.2,
          "sepal_length": 5.8,
          "sepal_width": 2.6,
          "species": "versicolor"
         },
         {
          "petal_length": 3.3,
          "petal_width": 1,
          "sepal_length": 5,
          "sepal_width": 2.3,
          "species": "versicolor"
         },
         {
          "petal_length": 4.2,
          "petal_width": 1.3,
          "sepal_length": 5.6,
          "sepal_width": 2.7,
          "species": "versicolor"
         },
         {
          "petal_length": 4.2,
          "petal_width": 1.2,
          "sepal_length": 5.7,
          "sepal_width": 3,
          "species": "versicolor"
         },
         {
          "petal_length": 4.2,
          "petal_width": 1.3,
          "sepal_length": 5.7,
          "sepal_width": 2.9,
          "species": "versicolor"
         },
         {
          "petal_length": 4.3,
          "petal_width": 1.3,
          "sepal_length": 6.2,
          "sepal_width": 2.9,
          "species": "versicolor"
         },
         {
          "petal_length": 3,
          "petal_width": 1.1,
          "sepal_length": 5.1,
          "sepal_width": 2.5,
          "species": "versicolor"
         },
         {
          "petal_length": 4.1,
          "petal_width": 1.3,
          "sepal_length": 5.7,
          "sepal_width": 2.8,
          "species": "versicolor"
         },
         {
          "petal_length": 6,
          "petal_width": 2.5,
          "sepal_length": 6.3,
          "sepal_width": 3.3,
          "species": "virginica"
         },
         {
          "petal_length": 5.1,
          "petal_width": 1.9,
          "sepal_length": 5.8,
          "sepal_width": 2.7,
          "species": "virginica"
         },
         {
          "petal_length": 5.9,
          "petal_width": 2.1,
          "sepal_length": 7.1,
          "sepal_width": 3,
          "species": "virginica"
         },
         {
          "petal_length": 5.6,
          "petal_width": 1.8,
          "sepal_length": 6.3,
          "sepal_width": 2.9,
          "species": "virginica"
         },
         {
          "petal_length": 5.8,
          "petal_width": 2.2,
          "sepal_length": 6.5,
          "sepal_width": 3,
          "species": "virginica"
         },
         {
          "petal_length": 6.6,
          "petal_width": 2.1,
          "sepal_length": 7.6,
          "sepal_width": 3,
          "species": "virginica"
         },
         {
          "petal_length": 4.5,
          "petal_width": 1.7,
          "sepal_length": 4.9,
          "sepal_width": 2.5,
          "species": "virginica"
         },
         {
          "petal_length": 6.3,
          "petal_width": 1.8,
          "sepal_length": 7.3,
          "sepal_width": 2.9,
          "species": "virginica"
         },
         {
          "petal_length": 5.8,
          "petal_width": 1.8,
          "sepal_length": 6.7,
          "sepal_width": 2.5,
          "species": "virginica"
         },
         {
          "petal_length": 6.1,
          "petal_width": 2.5,
          "sepal_length": 7.2,
          "sepal_width": 3.6,
          "species": "virginica"
         },
         {
          "petal_length": 5.1,
          "petal_width": 2,
          "sepal_length": 6.5,
          "sepal_width": 3.2,
          "species": "virginica"
         },
         {
          "petal_length": 5.3,
          "petal_width": 1.9,
          "sepal_length": 6.4,
          "sepal_width": 2.7,
          "species": "virginica"
         },
         {
          "petal_length": 5.5,
          "petal_width": 2.1,
          "sepal_length": 6.8,
          "sepal_width": 3,
          "species": "virginica"
         },
         {
          "petal_length": 5,
          "petal_width": 2,
          "sepal_length": 5.7,
          "sepal_width": 2.5,
          "species": "virginica"
         },
         {
          "petal_length": 5.1,
          "petal_width": 2.4,
          "sepal_length": 5.8,
          "sepal_width": 2.8,
          "species": "virginica"
         },
         {
          "petal_length": 5.3,
          "petal_width": 2.3,
          "sepal_length": 6.4,
          "sepal_width": 3.2,
          "species": "virginica"
         },
         {
          "petal_length": 5.5,
          "petal_width": 1.8,
          "sepal_length": 6.5,
          "sepal_width": 3,
          "species": "virginica"
         },
         {
          "petal_length": 6.7,
          "petal_width": 2.2,
          "sepal_length": 7.7,
          "sepal_width": 3.8,
          "species": "virginica"
         },
         {
          "petal_length": 6.9,
          "petal_width": 2.3,
          "sepal_length": 7.7,
          "sepal_width": 2.6,
          "species": "virginica"
         },
         {
          "petal_length": 5,
          "petal_width": 1.5,
          "sepal_length": 6,
          "sepal_width": 2.2,
          "species": "virginica"
         },
         {
          "petal_length": 5.7,
          "petal_width": 2.3,
          "sepal_length": 6.9,
          "sepal_width": 3.2,
          "species": "virginica"
         },
         {
          "petal_length": 4.9,
          "petal_width": 2,
          "sepal_length": 5.6,
          "sepal_width": 2.8,
          "species": "virginica"
         },
         {
          "petal_length": 6.7,
          "petal_width": 2,
          "sepal_length": 7.7,
          "sepal_width": 2.8,
          "species": "virginica"
         },
         {
          "petal_length": 4.9,
          "petal_width": 1.8,
          "sepal_length": 6.3,
          "sepal_width": 2.7,
          "species": "virginica"
         },
         {
          "petal_length": 5.7,
          "petal_width": 2.1,
          "sepal_length": 6.7,
          "sepal_width": 3.3,
          "species": "virginica"
         },
         {
          "petal_length": 6,
          "petal_width": 1.8,
          "sepal_length": 7.2,
          "sepal_width": 3.2,
          "species": "virginica"
         },
         {
          "petal_length": 4.8,
          "petal_width": 1.8,
          "sepal_length": 6.2,
          "sepal_width": 2.8,
          "species": "virginica"
         },
         {
          "petal_length": 4.9,
          "petal_width": 1.8,
          "sepal_length": 6.1,
          "sepal_width": 3,
          "species": "virginica"
         },
         {
          "petal_length": 5.6,
          "petal_width": 2.1,
          "sepal_length": 6.4,
          "sepal_width": 2.8,
          "species": "virginica"
         },
         {
          "petal_length": 5.8,
          "petal_width": 1.6,
          "sepal_length": 7.2,
          "sepal_width": 3,
          "species": "virginica"
         },
         {
          "petal_length": 6.1,
          "petal_width": 1.9,
          "sepal_length": 7.4,
          "sepal_width": 2.8,
          "species": "virginica"
         },
         {
          "petal_length": 6.4,
          "petal_width": 2,
          "sepal_length": 7.9,
          "sepal_width": 3.8,
          "species": "virginica"
         },
         {
          "petal_length": 5.6,
          "petal_width": 2.2,
          "sepal_length": 6.4,
          "sepal_width": 2.8,
          "species": "virginica"
         },
         {
          "petal_length": 5.1,
          "petal_width": 1.5,
          "sepal_length": 6.3,
          "sepal_width": 2.8,
          "species": "virginica"
         },
         {
          "petal_length": 5.6,
          "petal_width": 1.4,
          "sepal_length": 6.1,
          "sepal_width": 2.6,
          "species": "virginica"
         },
         {
          "petal_length": 6.1,
          "petal_width": 2.3,
          "sepal_length": 7.7,
          "sepal_width": 3,
          "species": "virginica"
         },
         {
          "petal_length": 5.6,
          "petal_width": 2.4,
          "sepal_length": 6.3,
          "sepal_width": 3.4,
          "species": "virginica"
         },
         {
          "petal_length": 5.5,
          "petal_width": 1.8,
          "sepal_length": 6.4,
          "sepal_width": 3.1,
          "species": "virginica"
         },
         {
          "petal_length": 4.8,
          "petal_width": 1.8,
          "sepal_length": 6,
          "sepal_width": 3,
          "species": "virginica"
         },
         {
          "petal_length": 5.4,
          "petal_width": 2.1,
          "sepal_length": 6.9,
          "sepal_width": 3.1,
          "species": "virginica"
         },
         {
          "petal_length": 5.6,
          "petal_width": 2.4,
          "sepal_length": 6.7,
          "sepal_width": 3.1,
          "species": "virginica"
         },
         {
          "petal_length": 5.1,
          "petal_width": 2.3,
          "sepal_length": 6.9,
          "sepal_width": 3.1,
          "species": "virginica"
         },
         {
          "petal_length": 5.1,
          "petal_width": 1.9,
          "sepal_length": 5.8,
          "sepal_width": 2.7,
          "species": "virginica"
         },
         {
          "petal_length": 5.9,
          "petal_width": 2.3,
          "sepal_length": 6.8,
          "sepal_width": 3.2,
          "species": "virginica"
         },
         {
          "petal_length": 5.7,
          "petal_width": 2.5,
          "sepal_length": 6.7,
          "sepal_width": 3.3,
          "species": "virginica"
         },
         {
          "petal_length": 5.2,
          "petal_width": 2.3,
          "sepal_length": 6.7,
          "sepal_width": 3,
          "species": "virginica"
         },
         {
          "petal_length": 5,
          "petal_width": 1.9,
          "sepal_length": 6.3,
          "sepal_width": 2.5,
          "species": "virginica"
         },
         {
          "petal_length": 5.2,
          "petal_width": 2,
          "sepal_length": 6.5,
          "sepal_width": 3,
          "species": "virginica"
         },
         {
          "petal_length": 5.4,
          "petal_width": 2.3,
          "sepal_length": 6.2,
          "sepal_width": 3.4,
          "species": "virginica"
         },
         {
          "petal_length": 5.1,
          "petal_width": 1.8,
          "sepal_length": 5.9,
          "sepal_width": 3,
          "species": "virginica"
         }
        ]
       },
       "encoding": {
        "color": {
         "field": "species",
         "type": "nominal"
        },
        "x": {
         "field": "sepal_width",
         "type": "quantitative"
        },
        "y": {
         "field": "sepal_length",
         "type": "quantitative"
        }
       },
       "mark": "point"
      },
      "image/png": "[encoded data removed]",
      "text/plain": [
       "<VegaLite 3 object>\n",
       "\n",
       "If you see this message, it means the renderer has not been properly enabled\n",
       "for the frontend that you are using. For more information, see\n",
       "https://altair-viz.github.io/user_guide/troubleshooting.html\n"
      ]
     },
     "execution_count": 86,
     "metadata": {},
     "output_type": "execute_result"
    }
   ],
   "source": [
    "alt.Chart(iris_data).mark_point().encode(x='sepal_width', \n",
    "                                         y='sepal_length',\n",
    "                                         color='species')"
   ]
  },
  {
   "cell_type": "code",
   "execution_count": 97,
   "metadata": {},
   "outputs": [],
   "source": [
    "import random\n",
    "\n",
    "def make_error(value):\n",
    "    return random.random() / 4\n",
    "    "
   ]
  },
  {
   "cell_type": "code",
   "execution_count": 98,
   "metadata": {},
   "outputs": [],
   "source": [
    "iris_data['sepal_width_error'] = iris_data.sepal_width.apply(make_error)"
   ]
  },
  {
   "cell_type": "code",
   "execution_count": 88,
   "metadata": {},
   "outputs": [
    {
     "data": {
      "text/plain": [
       "0.7958642846034885"
      ]
     },
     "execution_count": 88,
     "metadata": {},
     "output_type": "execute_result"
    }
   ],
   "source": [
    "random.random()"
   ]
  },
  {
   "cell_type": "code",
   "execution_count": 99,
   "metadata": {},
   "outputs": [
    {
     "data": {
      "text/html": [
       "<div>\n",
       "<style scoped>\n",
       "    .dataframe tbody tr th:only-of-type {\n",
       "        vertical-align: middle;\n",
       "    }\n",
       "\n",
       "    .dataframe tbody tr th {\n",
       "        vertical-align: top;\n",
       "    }\n",
       "\n",
       "    .dataframe thead th {\n",
       "        text-align: right;\n",
       "    }\n",
       "</style>\n",
       "<table border=\"1\" class=\"dataframe\">\n",
       "  <thead>\n",
       "    <tr style=\"text-align: right;\">\n",
       "      <th></th>\n",
       "      <th>sepal_length</th>\n",
       "      <th>sepal_width</th>\n",
       "      <th>petal_length</th>\n",
       "      <th>petal_width</th>\n",
       "      <th>species</th>\n",
       "      <th>sepal_width_error</th>\n",
       "    </tr>\n",
       "  </thead>\n",
       "  <tbody>\n",
       "    <tr>\n",
       "      <th>0</th>\n",
       "      <td>5.1</td>\n",
       "      <td>3.5</td>\n",
       "      <td>1.4</td>\n",
       "      <td>0.2</td>\n",
       "      <td>setosa</td>\n",
       "      <td>0.183832</td>\n",
       "    </tr>\n",
       "    <tr>\n",
       "      <th>1</th>\n",
       "      <td>4.9</td>\n",
       "      <td>3.0</td>\n",
       "      <td>1.4</td>\n",
       "      <td>0.2</td>\n",
       "      <td>setosa</td>\n",
       "      <td>0.046487</td>\n",
       "    </tr>\n",
       "    <tr>\n",
       "      <th>2</th>\n",
       "      <td>4.7</td>\n",
       "      <td>3.2</td>\n",
       "      <td>1.3</td>\n",
       "      <td>0.2</td>\n",
       "      <td>setosa</td>\n",
       "      <td>0.062427</td>\n",
       "    </tr>\n",
       "    <tr>\n",
       "      <th>3</th>\n",
       "      <td>4.6</td>\n",
       "      <td>3.1</td>\n",
       "      <td>1.5</td>\n",
       "      <td>0.2</td>\n",
       "      <td>setosa</td>\n",
       "      <td>0.064005</td>\n",
       "    </tr>\n",
       "    <tr>\n",
       "      <th>4</th>\n",
       "      <td>5.0</td>\n",
       "      <td>3.6</td>\n",
       "      <td>1.4</td>\n",
       "      <td>0.2</td>\n",
       "      <td>setosa</td>\n",
       "      <td>0.245211</td>\n",
       "    </tr>\n",
       "    <tr>\n",
       "      <th>...</th>\n",
       "      <td>...</td>\n",
       "      <td>...</td>\n",
       "      <td>...</td>\n",
       "      <td>...</td>\n",
       "      <td>...</td>\n",
       "      <td>...</td>\n",
       "    </tr>\n",
       "    <tr>\n",
       "      <th>145</th>\n",
       "      <td>6.7</td>\n",
       "      <td>3.0</td>\n",
       "      <td>5.2</td>\n",
       "      <td>2.3</td>\n",
       "      <td>virginica</td>\n",
       "      <td>0.184656</td>\n",
       "    </tr>\n",
       "    <tr>\n",
       "      <th>146</th>\n",
       "      <td>6.3</td>\n",
       "      <td>2.5</td>\n",
       "      <td>5.0</td>\n",
       "      <td>1.9</td>\n",
       "      <td>virginica</td>\n",
       "      <td>0.158987</td>\n",
       "    </tr>\n",
       "    <tr>\n",
       "      <th>147</th>\n",
       "      <td>6.5</td>\n",
       "      <td>3.0</td>\n",
       "      <td>5.2</td>\n",
       "      <td>2.0</td>\n",
       "      <td>virginica</td>\n",
       "      <td>0.164450</td>\n",
       "    </tr>\n",
       "    <tr>\n",
       "      <th>148</th>\n",
       "      <td>6.2</td>\n",
       "      <td>3.4</td>\n",
       "      <td>5.4</td>\n",
       "      <td>2.3</td>\n",
       "      <td>virginica</td>\n",
       "      <td>0.093553</td>\n",
       "    </tr>\n",
       "    <tr>\n",
       "      <th>149</th>\n",
       "      <td>5.9</td>\n",
       "      <td>3.0</td>\n",
       "      <td>5.1</td>\n",
       "      <td>1.8</td>\n",
       "      <td>virginica</td>\n",
       "      <td>0.154794</td>\n",
       "    </tr>\n",
       "  </tbody>\n",
       "</table>\n",
       "<p>150 rows × 6 columns</p>\n",
       "</div>"
      ],
      "text/plain": [
       "     sepal_length  sepal_width  petal_length  petal_width    species  \\\n",
       "0             5.1          3.5           1.4          0.2     setosa   \n",
       "1             4.9          3.0           1.4          0.2     setosa   \n",
       "2             4.7          3.2           1.3          0.2     setosa   \n",
       "3             4.6          3.1           1.5          0.2     setosa   \n",
       "4             5.0          3.6           1.4          0.2     setosa   \n",
       "..            ...          ...           ...          ...        ...   \n",
       "145           6.7          3.0           5.2          2.3  virginica   \n",
       "146           6.3          2.5           5.0          1.9  virginica   \n",
       "147           6.5          3.0           5.2          2.0  virginica   \n",
       "148           6.2          3.4           5.4          2.3  virginica   \n",
       "149           5.9          3.0           5.1          1.8  virginica   \n",
       "\n",
       "     sepal_width_error  \n",
       "0             0.183832  \n",
       "1             0.046487  \n",
       "2             0.062427  \n",
       "3             0.064005  \n",
       "4             0.245211  \n",
       "..                 ...  \n",
       "145           0.184656  \n",
       "146           0.158987  \n",
       "147           0.164450  \n",
       "148           0.093553  \n",
       "149           0.154794  \n",
       "\n",
       "[150 rows x 6 columns]"
      ]
     },
     "execution_count": 99,
     "metadata": {},
     "output_type": "execute_result"
    }
   ],
   "source": [
    "iris_data"
   ]
  },
  {
   "cell_type": "code",
   "execution_count": 100,
   "metadata": {},
   "outputs": [
    {
     "data": {
      "application/vnd.vegalite.v3+json": {
       "$schema": "https://vega.github.io/schema/vega-lite/v3.4.0.json",
       "config": {
        "mark": {
         "tooltip": null
        },
        "view": {
         "height": 300,
         "width": 400
        }
       },
       "data": {
        "name": "data-04693ebd811c7fc716fbe86f21f38ed8"
       },
       "datasets": {
        "data-04693ebd811c7fc716fbe86f21f38ed8": [
         {
          "petal_length": 1.4,
          "petal_width": 0.2,
          "sepal_length": 5.1,
          "sepal_width": 3.5,
          "sepal_width_error": 0.18383216687082615,
          "species": "setosa"
         },
         {
          "petal_length": 1.4,
          "petal_width": 0.2,
          "sepal_length": 4.9,
          "sepal_width": 3,
          "sepal_width_error": 0.04648730804269169,
          "species": "setosa"
         },
         {
          "petal_length": 1.3,
          "petal_width": 0.2,
          "sepal_length": 4.7,
          "sepal_width": 3.2,
          "sepal_width_error": 0.062427164102182436,
          "species": "setosa"
         },
         {
          "petal_length": 1.5,
          "petal_width": 0.2,
          "sepal_length": 4.6,
          "sepal_width": 3.1,
          "sepal_width_error": 0.06400479854495067,
          "species": "setosa"
         },
         {
          "petal_length": 1.4,
          "petal_width": 0.2,
          "sepal_length": 5,
          "sepal_width": 3.6,
          "sepal_width_error": 0.24521071162845579,
          "species": "setosa"
         },
         {
          "petal_length": 1.7,
          "petal_width": 0.4,
          "sepal_length": 5.4,
          "sepal_width": 3.9,
          "sepal_width_error": 0.11056760632993021,
          "species": "setosa"
         },
         {
          "petal_length": 1.4,
          "petal_width": 0.3,
          "sepal_length": 4.6,
          "sepal_width": 3.4,
          "sepal_width_error": 0.09271005479341823,
          "species": "setosa"
         },
         {
          "petal_length": 1.5,
          "petal_width": 0.2,
          "sepal_length": 5,
          "sepal_width": 3.4,
          "sepal_width_error": 0.06479420398209249,
          "species": "setosa"
         },
         {
          "petal_length": 1.4,
          "petal_width": 0.2,
          "sepal_length": 4.4,
          "sepal_width": 2.9,
          "sepal_width_error": 0.11208024007013467,
          "species": "setosa"
         },
         {
          "petal_length": 1.5,
          "petal_width": 0.1,
          "sepal_length": 4.9,
          "sepal_width": 3.1,
          "sepal_width_error": 0.11713600876007818,
          "species": "setosa"
         },
         {
          "petal_length": 1.5,
          "petal_width": 0.2,
          "sepal_length": 5.4,
          "sepal_width": 3.7,
          "sepal_width_error": 0.06328624581876494,
          "species": "setosa"
         },
         {
          "petal_length": 1.6,
          "petal_width": 0.2,
          "sepal_length": 4.8,
          "sepal_width": 3.4,
          "sepal_width_error": 0.19474852105026697,
          "species": "setosa"
         },
         {
          "petal_length": 1.4,
          "petal_width": 0.1,
          "sepal_length": 4.8,
          "sepal_width": 3,
          "sepal_width_error": 0.027964192030193374,
          "species": "setosa"
         },
         {
          "petal_length": 1.1,
          "petal_width": 0.1,
          "sepal_length": 4.3,
          "sepal_width": 3,
          "sepal_width_error": 0.14871497754434543,
          "species": "setosa"
         },
         {
          "petal_length": 1.2,
          "petal_width": 0.2,
          "sepal_length": 5.8,
          "sepal_width": 4,
          "sepal_width_error": 0.22343066921106994,
          "species": "setosa"
         },
         {
          "petal_length": 1.5,
          "petal_width": 0.4,
          "sepal_length": 5.7,
          "sepal_width": 4.4,
          "sepal_width_error": 0.23509532741979572,
          "species": "setosa"
         },
         {
          "petal_length": 1.3,
          "petal_width": 0.4,
          "sepal_length": 5.4,
          "sepal_width": 3.9,
          "sepal_width_error": 0.21175349995364642,
          "species": "setosa"
         },
         {
          "petal_length": 1.4,
          "petal_width": 0.3,
          "sepal_length": 5.1,
          "sepal_width": 3.5,
          "sepal_width_error": 0.003657408546076546,
          "species": "setosa"
         },
         {
          "petal_length": 1.7,
          "petal_width": 0.3,
          "sepal_length": 5.7,
          "sepal_width": 3.8,
          "sepal_width_error": 0.019738694312030403,
          "species": "setosa"
         },
         {
          "petal_length": 1.5,
          "petal_width": 0.3,
          "sepal_length": 5.1,
          "sepal_width": 3.8,
          "sepal_width_error": 0.03418194737078964,
          "species": "setosa"
         },
         {
          "petal_length": 1.7,
          "petal_width": 0.2,
          "sepal_length": 5.4,
          "sepal_width": 3.4,
          "sepal_width_error": 0.0797893431315363,
          "species": "setosa"
         },
         {
          "petal_length": 1.5,
          "petal_width": 0.4,
          "sepal_length": 5.1,
          "sepal_width": 3.7,
          "sepal_width_error": 0.1966447201800137,
          "species": "setosa"
         },
         {
          "petal_length": 1,
          "petal_width": 0.2,
          "sepal_length": 4.6,
          "sepal_width": 3.6,
          "sepal_width_error": 0.006254785784938238,
          "species": "setosa"
         },
         {
          "petal_length": 1.7,
          "petal_width": 0.5,
          "sepal_length": 5.1,
          "sepal_width": 3.3,
          "sepal_width_error": 0.20682015934284956,
          "species": "setosa"
         },
         {
          "petal_length": 1.9,
          "petal_width": 0.2,
          "sepal_length": 4.8,
          "sepal_width": 3.4,
          "sepal_width_error": 0.062481243471590925,
          "species": "setosa"
         },
         {
          "petal_length": 1.6,
          "petal_width": 0.2,
          "sepal_length": 5,
          "sepal_width": 3,
          "sepal_width_error": 0.10591965962746858,
          "species": "setosa"
         },
         {
          "petal_length": 1.6,
          "petal_width": 0.4,
          "sepal_length": 5,
          "sepal_width": 3.4,
          "sepal_width_error": 0.13609009420928028,
          "species": "setosa"
         },
         {
          "petal_length": 1.5,
          "petal_width": 0.2,
          "sepal_length": 5.2,
          "sepal_width": 3.5,
          "sepal_width_error": 0.07291042998503089,
          "species": "setosa"
         },
         {
          "petal_length": 1.4,
          "petal_width": 0.2,
          "sepal_length": 5.2,
          "sepal_width": 3.4,
          "sepal_width_error": 0.1540601822379007,
          "species": "setosa"
         },
         {
          "petal_length": 1.6,
          "petal_width": 0.2,
          "sepal_length": 4.7,
          "sepal_width": 3.2,
          "sepal_width_error": 0.10420332648450265,
          "species": "setosa"
         },
         {
          "petal_length": 1.6,
          "petal_width": 0.2,
          "sepal_length": 4.8,
          "sepal_width": 3.1,
          "sepal_width_error": 0.18900227250301044,
          "species": "setosa"
         },
         {
          "petal_length": 1.5,
          "petal_width": 0.4,
          "sepal_length": 5.4,
          "sepal_width": 3.4,
          "sepal_width_error": 0.2188385557834737,
          "species": "setosa"
         },
         {
          "petal_length": 1.5,
          "petal_width": 0.1,
          "sepal_length": 5.2,
          "sepal_width": 4.1,
          "sepal_width_error": 0.15999962785235822,
          "species": "setosa"
         },
         {
          "petal_length": 1.4,
          "petal_width": 0.2,
          "sepal_length": 5.5,
          "sepal_width": 4.2,
          "sepal_width_error": 0.09203448824309673,
          "species": "setosa"
         },
         {
          "petal_length": 1.5,
          "petal_width": 0.1,
          "sepal_length": 4.9,
          "sepal_width": 3.1,
          "sepal_width_error": 0.20311355524778132,
          "species": "setosa"
         },
         {
          "petal_length": 1.2,
          "petal_width": 0.2,
          "sepal_length": 5,
          "sepal_width": 3.2,
          "sepal_width_error": 0.10083902422580907,
          "species": "setosa"
         },
         {
          "petal_length": 1.3,
          "petal_width": 0.2,
          "sepal_length": 5.5,
          "sepal_width": 3.5,
          "sepal_width_error": 0.015086354469369678,
          "species": "setosa"
         },
         {
          "petal_length": 1.5,
          "petal_width": 0.1,
          "sepal_length": 4.9,
          "sepal_width": 3.1,
          "sepal_width_error": 0.032486613424744765,
          "species": "setosa"
         },
         {
          "petal_length": 1.3,
          "petal_width": 0.2,
          "sepal_length": 4.4,
          "sepal_width": 3,
          "sepal_width_error": 0.15931832316094607,
          "species": "setosa"
         },
         {
          "petal_length": 1.5,
          "petal_width": 0.2,
          "sepal_length": 5.1,
          "sepal_width": 3.4,
          "sepal_width_error": 0.043843652179055254,
          "species": "setosa"
         },
         {
          "petal_length": 1.3,
          "petal_width": 0.3,
          "sepal_length": 5,
          "sepal_width": 3.5,
          "sepal_width_error": 0.03495206708688825,
          "species": "setosa"
         },
         {
          "petal_length": 1.3,
          "petal_width": 0.3,
          "sepal_length": 4.5,
          "sepal_width": 2.3,
          "sepal_width_error": 0.14039073825218845,
          "species": "setosa"
         },
         {
          "petal_length": 1.3,
          "petal_width": 0.2,
          "sepal_length": 4.4,
          "sepal_width": 3.2,
          "sepal_width_error": 0.11256792423958789,
          "species": "setosa"
         },
         {
          "petal_length": 1.6,
          "petal_width": 0.6,
          "sepal_length": 5,
          "sepal_width": 3.5,
          "sepal_width_error": 0.14752669152580908,
          "species": "setosa"
         },
         {
          "petal_length": 1.9,
          "petal_width": 0.4,
          "sepal_length": 5.1,
          "sepal_width": 3.8,
          "sepal_width_error": 0.090186271708284,
          "species": "setosa"
         },
         {
          "petal_length": 1.4,
          "petal_width": 0.3,
          "sepal_length": 4.8,
          "sepal_width": 3,
          "sepal_width_error": 0.18229495590774766,
          "species": "setosa"
         },
         {
          "petal_length": 1.6,
          "petal_width": 0.2,
          "sepal_length": 5.1,
          "sepal_width": 3.8,
          "sepal_width_error": 0.19875840535110342,
          "species": "setosa"
         },
         {
          "petal_length": 1.4,
          "petal_width": 0.2,
          "sepal_length": 4.6,
          "sepal_width": 3.2,
          "sepal_width_error": 0.07285502720993825,
          "species": "setosa"
         },
         {
          "petal_length": 1.5,
          "petal_width": 0.2,
          "sepal_length": 5.3,
          "sepal_width": 3.7,
          "sepal_width_error": 0.1866079034308999,
          "species": "setosa"
         },
         {
          "petal_length": 1.4,
          "petal_width": 0.2,
          "sepal_length": 5,
          "sepal_width": 3.3,
          "sepal_width_error": 0.049145198303431725,
          "species": "setosa"
         },
         {
          "petal_length": 4.7,
          "petal_width": 1.4,
          "sepal_length": 7,
          "sepal_width": 3.2,
          "sepal_width_error": 0.043624325625152977,
          "species": "versicolor"
         },
         {
          "petal_length": 4.5,
          "petal_width": 1.5,
          "sepal_length": 6.4,
          "sepal_width": 3.2,
          "sepal_width_error": 0.11199267629485116,
          "species": "versicolor"
         },
         {
          "petal_length": 4.9,
          "petal_width": 1.5,
          "sepal_length": 6.9,
          "sepal_width": 3.1,
          "sepal_width_error": 0.14146679222989592,
          "species": "versicolor"
         },
         {
          "petal_length": 4,
          "petal_width": 1.3,
          "sepal_length": 5.5,
          "sepal_width": 2.3,
          "sepal_width_error": 0.10669647009099673,
          "species": "versicolor"
         },
         {
          "petal_length": 4.6,
          "petal_width": 1.5,
          "sepal_length": 6.5,
          "sepal_width": 2.8,
          "sepal_width_error": 0.1067016517243356,
          "species": "versicolor"
         },
         {
          "petal_length": 4.5,
          "petal_width": 1.3,
          "sepal_length": 5.7,
          "sepal_width": 2.8,
          "sepal_width_error": 0.23087695809051162,
          "species": "versicolor"
         },
         {
          "petal_length": 4.7,
          "petal_width": 1.6,
          "sepal_length": 6.3,
          "sepal_width": 3.3,
          "sepal_width_error": 0.2234354523875318,
          "species": "versicolor"
         },
         {
          "petal_length": 3.3,
          "petal_width": 1,
          "sepal_length": 4.9,
          "sepal_width": 2.4,
          "sepal_width_error": 0.07641323424263746,
          "species": "versicolor"
         },
         {
          "petal_length": 4.6,
          "petal_width": 1.3,
          "sepal_length": 6.6,
          "sepal_width": 2.9,
          "sepal_width_error": 0.04977971474021892,
          "species": "versicolor"
         },
         {
          "petal_length": 3.9,
          "petal_width": 1.4,
          "sepal_length": 5.2,
          "sepal_width": 2.7,
          "sepal_width_error": 0.007890766739796967,
          "species": "versicolor"
         },
         {
          "petal_length": 3.5,
          "petal_width": 1,
          "sepal_length": 5,
          "sepal_width": 2,
          "sepal_width_error": 0.1605697548959328,
          "species": "versicolor"
         },
         {
          "petal_length": 4.2,
          "petal_width": 1.5,
          "sepal_length": 5.9,
          "sepal_width": 3,
          "sepal_width_error": 0.13069068899569408,
          "species": "versicolor"
         },
         {
          "petal_length": 4,
          "petal_width": 1,
          "sepal_length": 6,
          "sepal_width": 2.2,
          "sepal_width_error": 0.028539673993478815,
          "species": "versicolor"
         },
         {
          "petal_length": 4.7,
          "petal_width": 1.4,
          "sepal_length": 6.1,
          "sepal_width": 2.9,
          "sepal_width_error": 0.0322630565420339,
          "species": "versicolor"
         },
         {
          "petal_length": 3.6,
          "petal_width": 1.3,
          "sepal_length": 5.6,
          "sepal_width": 2.9,
          "sepal_width_error": 0.17526385314546797,
          "species": "versicolor"
         },
         {
          "petal_length": 4.4,
          "petal_width": 1.4,
          "sepal_length": 6.7,
          "sepal_width": 3.1,
          "sepal_width_error": 0.2203246899428104,
          "species": "versicolor"
         },
         {
          "petal_length": 4.5,
          "petal_width": 1.5,
          "sepal_length": 5.6,
          "sepal_width": 3,
          "sepal_width_error": 0.1137176585236751,
          "species": "versicolor"
         },
         {
          "petal_length": 4.1,
          "petal_width": 1,
          "sepal_length": 5.8,
          "sepal_width": 2.7,
          "sepal_width_error": 0.056321058811704156,
          "species": "versicolor"
         },
         {
          "petal_length": 4.5,
          "petal_width": 1.5,
          "sepal_length": 6.2,
          "sepal_width": 2.2,
          "sepal_width_error": 0.09249287412680843,
          "species": "versicolor"
         },
         {
          "petal_length": 3.9,
          "petal_width": 1.1,
          "sepal_length": 5.6,
          "sepal_width": 2.5,
          "sepal_width_error": 0.034097063770946484,
          "species": "versicolor"
         },
         {
          "petal_length": 4.8,
          "petal_width": 1.8,
          "sepal_length": 5.9,
          "sepal_width": 3.2,
          "sepal_width_error": 0.24717710285743671,
          "species": "versicolor"
         },
         {
          "petal_length": 4,
          "petal_width": 1.3,
          "sepal_length": 6.1,
          "sepal_width": 2.8,
          "sepal_width_error": 0.10027935856268458,
          "species": "versicolor"
         },
         {
          "petal_length": 4.9,
          "petal_width": 1.5,
          "sepal_length": 6.3,
          "sepal_width": 2.5,
          "sepal_width_error": 0.0733637882512434,
          "species": "versicolor"
         },
         {
          "petal_length": 4.7,
          "petal_width": 1.2,
          "sepal_length": 6.1,
          "sepal_width": 2.8,
          "sepal_width_error": 0.06362814682704149,
          "species": "versicolor"
         },
         {
          "petal_length": 4.3,
          "petal_width": 1.3,
          "sepal_length": 6.4,
          "sepal_width": 2.9,
          "sepal_width_error": 0.04078180551499888,
          "species": "versicolor"
         },
         {
          "petal_length": 4.4,
          "petal_width": 1.4,
          "sepal_length": 6.6,
          "sepal_width": 3,
          "sepal_width_error": 0.0651146997114708,
          "species": "versicolor"
         },
         {
          "petal_length": 4.8,
          "petal_width": 1.4,
          "sepal_length": 6.8,
          "sepal_width": 2.8,
          "sepal_width_error": 0.09560698398027231,
          "species": "versicolor"
         },
         {
          "petal_length": 5,
          "petal_width": 1.7,
          "sepal_length": 6.7,
          "sepal_width": 3,
          "sepal_width_error": 0.20271681835432243,
          "species": "versicolor"
         },
         {
          "petal_length": 4.5,
          "petal_width": 1.5,
          "sepal_length": 6,
          "sepal_width": 2.9,
          "sepal_width_error": 0.004678931395286162,
          "species": "versicolor"
         },
         {
          "petal_length": 3.5,
          "petal_width": 1,
          "sepal_length": 5.7,
          "sepal_width": 2.6,
          "sepal_width_error": 0.22003813728172153,
          "species": "versicolor"
         },
         {
          "petal_length": 3.8,
          "petal_width": 1.1,
          "sepal_length": 5.5,
          "sepal_width": 2.4,
          "sepal_width_error": 0.16781303184281615,
          "species": "versicolor"
         },
         {
          "petal_length": 3.7,
          "petal_width": 1,
          "sepal_length": 5.5,
          "sepal_width": 2.4,
          "sepal_width_error": 0.24128877142946709,
          "species": "versicolor"
         },
         {
          "petal_length": 3.9,
          "petal_width": 1.2,
          "sepal_length": 5.8,
          "sepal_width": 2.7,
          "sepal_width_error": 0.08763786769139337,
          "species": "versicolor"
         },
         {
          "petal_length": 5.1,
          "petal_width": 1.6,
          "sepal_length": 6,
          "sepal_width": 2.7,
          "sepal_width_error": 0.03429216195221543,
          "species": "versicolor"
         },
         {
          "petal_length": 4.5,
          "petal_width": 1.5,
          "sepal_length": 5.4,
          "sepal_width": 3,
          "sepal_width_error": 0.19930342645307736,
          "species": "versicolor"
         },
         {
          "petal_length": 4.5,
          "petal_width": 1.6,
          "sepal_length": 6,
          "sepal_width": 3.4,
          "sepal_width_error": 0.12907388341664602,
          "species": "versicolor"
         },
         {
          "petal_length": 4.7,
          "petal_width": 1.5,
          "sepal_length": 6.7,
          "sepal_width": 3.1,
          "sepal_width_error": 0.24139882633815965,
          "species": "versicolor"
         },
         {
          "petal_length": 4.4,
          "petal_width": 1.3,
          "sepal_length": 6.3,
          "sepal_width": 2.3,
          "sepal_width_error": 0.0540859761052718,
          "species": "versicolor"
         },
         {
          "petal_length": 4.1,
          "petal_width": 1.3,
          "sepal_length": 5.6,
          "sepal_width": 3,
          "sepal_width_error": 0.2373816884034686,
          "species": "versicolor"
         },
         {
          "petal_length": 4,
          "petal_width": 1.3,
          "sepal_length": 5.5,
          "sepal_width": 2.5,
          "sepal_width_error": 0.06510757011427562,
          "species": "versicolor"
         },
         {
          "petal_length": 4.4,
          "petal_width": 1.2,
          "sepal_length": 5.5,
          "sepal_width": 2.6,
          "sepal_width_error": 0.09477970730364227,
          "species": "versicolor"
         },
         {
          "petal_length": 4.6,
          "petal_width": 1.4,
          "sepal_length": 6.1,
          "sepal_width": 3,
          "sepal_width_error": 0.027393980051080596,
          "species": "versicolor"
         },
         {
          "petal_length": 4,
          "petal_width": 1.2,
          "sepal_length": 5.8,
          "sepal_width": 2.6,
          "sepal_width_error": 0.24343564756038844,
          "species": "versicolor"
         },
         {
          "petal_length": 3.3,
          "petal_width": 1,
          "sepal_length": 5,
          "sepal_width": 2.3,
          "sepal_width_error": 0.12501620055870846,
          "species": "versicolor"
         },
         {
          "petal_length": 4.2,
          "petal_width": 1.3,
          "sepal_length": 5.6,
          "sepal_width": 2.7,
          "sepal_width_error": 0.14541693579910425,
          "species": "versicolor"
         },
         {
          "petal_length": 4.2,
          "petal_width": 1.2,
          "sepal_length": 5.7,
          "sepal_width": 3,
          "sepal_width_error": 0.15961351410609842,
          "species": "versicolor"
         },
         {
          "petal_length": 4.2,
          "petal_width": 1.3,
          "sepal_length": 5.7,
          "sepal_width": 2.9,
          "sepal_width_error": 0.035984028431474,
          "species": "versicolor"
         },
         {
          "petal_length": 4.3,
          "petal_width": 1.3,
          "sepal_length": 6.2,
          "sepal_width": 2.9,
          "sepal_width_error": 0.16139961994380359,
          "species": "versicolor"
         },
         {
          "petal_length": 3,
          "petal_width": 1.1,
          "sepal_length": 5.1,
          "sepal_width": 2.5,
          "sepal_width_error": 0.037332224728601926,
          "species": "versicolor"
         },
         {
          "petal_length": 4.1,
          "petal_width": 1.3,
          "sepal_length": 5.7,
          "sepal_width": 2.8,
          "sepal_width_error": 0.2182798283139967,
          "species": "versicolor"
         },
         {
          "petal_length": 6,
          "petal_width": 2.5,
          "sepal_length": 6.3,
          "sepal_width": 3.3,
          "sepal_width_error": 0.1987657447848323,
          "species": "virginica"
         },
         {
          "petal_length": 5.1,
          "petal_width": 1.9,
          "sepal_length": 5.8,
          "sepal_width": 2.7,
          "sepal_width_error": 0.14657556167968686,
          "species": "virginica"
         },
         {
          "petal_length": 5.9,
          "petal_width": 2.1,
          "sepal_length": 7.1,
          "sepal_width": 3,
          "sepal_width_error": 0.006652685453905183,
          "species": "virginica"
         },
         {
          "petal_length": 5.6,
          "petal_width": 1.8,
          "sepal_length": 6.3,
          "sepal_width": 2.9,
          "sepal_width_error": 0.016465065196482942,
          "species": "virginica"
         },
         {
          "petal_length": 5.8,
          "petal_width": 2.2,
          "sepal_length": 6.5,
          "sepal_width": 3,
          "sepal_width_error": 0.15800454183873472,
          "species": "virginica"
         },
         {
          "petal_length": 6.6,
          "petal_width": 2.1,
          "sepal_length": 7.6,
          "sepal_width": 3,
          "sepal_width_error": 0.2240438103771093,
          "species": "virginica"
         },
         {
          "petal_length": 4.5,
          "petal_width": 1.7,
          "sepal_length": 4.9,
          "sepal_width": 2.5,
          "sepal_width_error": 0.03644871301917654,
          "species": "virginica"
         },
         {
          "petal_length": 6.3,
          "petal_width": 1.8,
          "sepal_length": 7.3,
          "sepal_width": 2.9,
          "sepal_width_error": 0.20735035686873354,
          "species": "virginica"
         },
         {
          "petal_length": 5.8,
          "petal_width": 1.8,
          "sepal_length": 6.7,
          "sepal_width": 2.5,
          "sepal_width_error": 0.010858970005190566,
          "species": "virginica"
         },
         {
          "petal_length": 6.1,
          "petal_width": 2.5,
          "sepal_length": 7.2,
          "sepal_width": 3.6,
          "sepal_width_error": 0.0023627327023416633,
          "species": "virginica"
         },
         {
          "petal_length": 5.1,
          "petal_width": 2,
          "sepal_length": 6.5,
          "sepal_width": 3.2,
          "sepal_width_error": 0.13179532061813415,
          "species": "virginica"
         },
         {
          "petal_length": 5.3,
          "petal_width": 1.9,
          "sepal_length": 6.4,
          "sepal_width": 2.7,
          "sepal_width_error": 0.1370209908529894,
          "species": "virginica"
         },
         {
          "petal_length": 5.5,
          "petal_width": 2.1,
          "sepal_length": 6.8,
          "sepal_width": 3,
          "sepal_width_error": 0.2066533816198497,
          "species": "virginica"
         },
         {
          "petal_length": 5,
          "petal_width": 2,
          "sepal_length": 5.7,
          "sepal_width": 2.5,
          "sepal_width_error": 0.008076509836443452,
          "species": "virginica"
         },
         {
          "petal_length": 5.1,
          "petal_width": 2.4,
          "sepal_length": 5.8,
          "sepal_width": 2.8,
          "sepal_width_error": 0.1466096497166895,
          "species": "virginica"
         },
         {
          "petal_length": 5.3,
          "petal_width": 2.3,
          "sepal_length": 6.4,
          "sepal_width": 3.2,
          "sepal_width_error": 0.0070722683241845885,
          "species": "virginica"
         },
         {
          "petal_length": 5.5,
          "petal_width": 1.8,
          "sepal_length": 6.5,
          "sepal_width": 3,
          "sepal_width_error": 0.05911895247863416,
          "species": "virginica"
         },
         {
          "petal_length": 6.7,
          "petal_width": 2.2,
          "sepal_length": 7.7,
          "sepal_width": 3.8,
          "sepal_width_error": 0.0843606020841641,
          "species": "virginica"
         },
         {
          "petal_length": 6.9,
          "petal_width": 2.3,
          "sepal_length": 7.7,
          "sepal_width": 2.6,
          "sepal_width_error": 0.11259796554472723,
          "species": "virginica"
         },
         {
          "petal_length": 5,
          "petal_width": 1.5,
          "sepal_length": 6,
          "sepal_width": 2.2,
          "sepal_width_error": 0.06196868321954099,
          "species": "virginica"
         },
         {
          "petal_length": 5.7,
          "petal_width": 2.3,
          "sepal_length": 6.9,
          "sepal_width": 3.2,
          "sepal_width_error": 0.23524632533586068,
          "species": "virginica"
         },
         {
          "petal_length": 4.9,
          "petal_width": 2,
          "sepal_length": 5.6,
          "sepal_width": 2.8,
          "sepal_width_error": 0.022499209480578014,
          "species": "virginica"
         },
         {
          "petal_length": 6.7,
          "petal_width": 2,
          "sepal_length": 7.7,
          "sepal_width": 2.8,
          "sepal_width_error": 0.19686708720118565,
          "species": "virginica"
         },
         {
          "petal_length": 4.9,
          "petal_width": 1.8,
          "sepal_length": 6.3,
          "sepal_width": 2.7,
          "sepal_width_error": 0.021241260757834918,
          "species": "virginica"
         },
         {
          "petal_length": 5.7,
          "petal_width": 2.1,
          "sepal_length": 6.7,
          "sepal_width": 3.3,
          "sepal_width_error": 0.001252191525989682,
          "species": "virginica"
         },
         {
          "petal_length": 6,
          "petal_width": 1.8,
          "sepal_length": 7.2,
          "sepal_width": 3.2,
          "sepal_width_error": 0.23163148789089044,
          "species": "virginica"
         },
         {
          "petal_length": 4.8,
          "petal_width": 1.8,
          "sepal_length": 6.2,
          "sepal_width": 2.8,
          "sepal_width_error": 0.05555147920335654,
          "species": "virginica"
         },
         {
          "petal_length": 4.9,
          "petal_width": 1.8,
          "sepal_length": 6.1,
          "sepal_width": 3,
          "sepal_width_error": 0.22208862152489692,
          "species": "virginica"
         },
         {
          "petal_length": 5.6,
          "petal_width": 2.1,
          "sepal_length": 6.4,
          "sepal_width": 2.8,
          "sepal_width_error": 0.01121473587446753,
          "species": "virginica"
         },
         {
          "petal_length": 5.8,
          "petal_width": 1.6,
          "sepal_length": 7.2,
          "sepal_width": 3,
          "sepal_width_error": 0.17703961727315962,
          "species": "virginica"
         },
         {
          "petal_length": 6.1,
          "petal_width": 1.9,
          "sepal_length": 7.4,
          "sepal_width": 2.8,
          "sepal_width_error": 0.018994637593329505,
          "species": "virginica"
         },
         {
          "petal_length": 6.4,
          "petal_width": 2,
          "sepal_length": 7.9,
          "sepal_width": 3.8,
          "sepal_width_error": 0.04841429541021536,
          "species": "virginica"
         },
         {
          "petal_length": 5.6,
          "petal_width": 2.2,
          "sepal_length": 6.4,
          "sepal_width": 2.8,
          "sepal_width_error": 0.22901821717239543,
          "species": "virginica"
         },
         {
          "petal_length": 5.1,
          "petal_width": 1.5,
          "sepal_length": 6.3,
          "sepal_width": 2.8,
          "sepal_width_error": 0.24018596876588283,
          "species": "virginica"
         },
         {
          "petal_length": 5.6,
          "petal_width": 1.4,
          "sepal_length": 6.1,
          "sepal_width": 2.6,
          "sepal_width_error": 0.24433588108482843,
          "species": "virginica"
         },
         {
          "petal_length": 6.1,
          "petal_width": 2.3,
          "sepal_length": 7.7,
          "sepal_width": 3,
          "sepal_width_error": 0.18596073204821656,
          "species": "virginica"
         },
         {
          "petal_length": 5.6,
          "petal_width": 2.4,
          "sepal_length": 6.3,
          "sepal_width": 3.4,
          "sepal_width_error": 0.2068586888699359,
          "species": "virginica"
         },
         {
          "petal_length": 5.5,
          "petal_width": 1.8,
          "sepal_length": 6.4,
          "sepal_width": 3.1,
          "sepal_width_error": 0.24401763493643613,
          "species": "virginica"
         },
         {
          "petal_length": 4.8,
          "petal_width": 1.8,
          "sepal_length": 6,
          "sepal_width": 3,
          "sepal_width_error": 0.14960085736969045,
          "species": "virginica"
         },
         {
          "petal_length": 5.4,
          "petal_width": 2.1,
          "sepal_length": 6.9,
          "sepal_width": 3.1,
          "sepal_width_error": 0.04550275846432575,
          "species": "virginica"
         },
         {
          "petal_length": 5.6,
          "petal_width": 2.4,
          "sepal_length": 6.7,
          "sepal_width": 3.1,
          "sepal_width_error": 0.24400745798355528,
          "species": "virginica"
         },
         {
          "petal_length": 5.1,
          "petal_width": 2.3,
          "sepal_length": 6.9,
          "sepal_width": 3.1,
          "sepal_width_error": 0.03045791465185746,
          "species": "virginica"
         },
         {
          "petal_length": 5.1,
          "petal_width": 1.9,
          "sepal_length": 5.8,
          "sepal_width": 2.7,
          "sepal_width_error": 0.22028922982992827,
          "species": "virginica"
         },
         {
          "petal_length": 5.9,
          "petal_width": 2.3,
          "sepal_length": 6.8,
          "sepal_width": 3.2,
          "sepal_width_error": 0.13656489266979452,
          "species": "virginica"
         },
         {
          "petal_length": 5.7,
          "petal_width": 2.5,
          "sepal_length": 6.7,
          "sepal_width": 3.3,
          "sepal_width_error": 0.08713655140182464,
          "species": "virginica"
         },
         {
          "petal_length": 5.2,
          "petal_width": 2.3,
          "sepal_length": 6.7,
          "sepal_width": 3,
          "sepal_width_error": 0.18465556454338475,
          "species": "virginica"
         },
         {
          "petal_length": 5,
          "petal_width": 1.9,
          "sepal_length": 6.3,
          "sepal_width": 2.5,
          "sepal_width_error": 0.15898728109496837,
          "species": "virginica"
         },
         {
          "petal_length": 5.2,
          "petal_width": 2,
          "sepal_length": 6.5,
          "sepal_width": 3,
          "sepal_width_error": 0.16444987733969552,
          "species": "virginica"
         },
         {
          "petal_length": 5.4,
          "petal_width": 2.3,
          "sepal_length": 6.2,
          "sepal_width": 3.4,
          "sepal_width_error": 0.09355331311024673,
          "species": "virginica"
         },
         {
          "petal_length": 5.1,
          "petal_width": 1.8,
          "sepal_length": 5.9,
          "sepal_width": 3,
          "sepal_width_error": 0.15479351527497862,
          "species": "virginica"
         }
        ]
       },
       "layer": [
        {
         "encoding": {
          "x": {
           "field": "sepal_length",
           "type": "quantitative"
          },
          "y": {
           "field": "ymin",
           "type": "quantitative"
          },
          "y2": {
           "field": "ymax"
          }
         },
         "mark": "errorbar",
         "transform": [
          {
           "as": "ymin",
           "calculate": "datum.sepal_width-datum.sepal_width_error"
          },
          {
           "as": "ymax",
           "calculate": "datum.sepal_width+datum.sepal_width_error"
          }
         ]
        },
        {
         "encoding": {
          "x": {
           "field": "sepal_length",
           "type": "quantitative"
          },
          "y": {
           "field": "sepal_width",
           "type": "quantitative"
          }
         },
         "mark": "point",
         "transform": [
          {
           "as": "ymin",
           "calculate": "datum.sepal_width-datum.sepal_width_error"
          },
          {
           "as": "ymax",
           "calculate": "datum.sepal_width+datum.sepal_width_error"
          }
         ]
        }
       ]
      },
      "image/png": "[encoded data removed]",
      "text/plain": [
       "<VegaLite 3 object>\n",
       "\n",
       "If you see this message, it means the renderer has not been properly enabled\n",
       "for the frontend that you are using. For more information, see\n",
       "https://altair-viz.github.io/user_guide/troubleshooting.html\n"
      ]
     },
     "execution_count": 100,
     "metadata": {},
     "output_type": "execute_result"
    }
   ],
   "source": [
    "base = alt.Chart(iris_data).transform_calculate(\n",
    "    ymin = 'datum.sepal_width-datum.sepal_width_error',\n",
    "    ymax = 'datum.sepal_width+datum.sepal_width_error'\n",
    ")\n",
    "\n",
    "points = base.mark_point().encode(x='sepal_length', y='sepal_width')\n",
    "\n",
    "errorbars = base.mark_errorbar().encode(x='sepal_length', y='ymin:Q', y2='ymax:Q')\n",
    "\n",
    "errorbars + points"
   ]
  },
  {
   "cell_type": "code",
   "execution_count": null,
   "metadata": {},
   "outputs": [],
   "source": []
  },
  {
   "cell_type": "code",
   "execution_count": null,
   "metadata": {},
   "outputs": [],
   "source": []
  }
 ],
 "metadata": {
  "kernelspec": {
   "display_name": "Python 3",
   "language": "python",
   "name": "python3"
  },
  "language_info": {
   "codemirror_mode": {
    "name": "ipython",
    "version": 3
   },
   "file_extension": ".py",
   "mimetype": "text/x-python",
   "name": "python",
   "nbconvert_exporter": "python",
   "pygments_lexer": "ipython3",
   "version": "3.8.1"
  }
 },
 "nbformat": 4,
 "nbformat_minor": 4
}
