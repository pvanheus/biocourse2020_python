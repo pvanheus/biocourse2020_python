{
 "cells": [
  {
   "cell_type": "code",
   "execution_count": 2,
   "metadata": {},
   "outputs": [
    {
     "name": "stdout",
     "output_type": "stream",
     "text": [
      "AT content is 0.6851851851851852\n"
     ]
    }
   ],
   "source": [
    "my_dna = \"ACTGATCGATTACGTATAGTATTTGCTATCATACATATATATCGATGCGTTCAT\"\n",
    "length = len(my_dna)\n",
    "a_count = my_dna.count('A')\n",
    "t_count = my_dna.count('T')\n",
    "at_content = (a_count + t_count) / length\n",
    "print(\"AT content is \" + str(at_content))"
   ]
  },
  {
   "cell_type": "code",
   "execution_count": 3,
   "metadata": {},
   "outputs": [],
   "source": [
    "def get_at_content(dna):\n",
    "    length = len(dna)\n",
    "    a_count = dna.count('A')\n",
    "    t_count = dna.count('T')\n",
    "    at_content = (a_count + t_count) / length\n",
    "    return at_content"
   ]
  },
  {
   "cell_type": "code",
   "execution_count": 4,
   "metadata": {},
   "outputs": [],
   "source": [
    "my_text = 'Hello World'"
   ]
  },
  {
   "cell_type": "code",
   "execution_count": 7,
   "metadata": {},
   "outputs": [
    {
     "data": {
      "text/plain": [
       "0.6851851851851852"
      ]
     },
     "execution_count": 7,
     "metadata": {},
     "output_type": "execute_result"
    }
   ],
   "source": [
    "my_dna = \"ACTGATCGATTACGTATAGTATTTGCTATCATACATATATATCGATGCGTTCAT\"\n",
    "\n",
    "get_at_content(my_dna)"
   ]
  },
  {
   "cell_type": "code",
   "execution_count": 8,
   "metadata": {},
   "outputs": [],
   "source": [
    "my_dna = \"ACTGATCGATTACGTATAGTATTTGCTATCATACATATATATCGATGCGTTCAT\"\n",
    "\n",
    "get_at_content(my_dna)\n",
    "my_text = 'Happy Monday'"
   ]
  },
  {
   "cell_type": "code",
   "execution_count": 9,
   "metadata": {},
   "outputs": [
    {
     "name": "stdout",
     "output_type": "stream",
     "text": [
      "I called the len() function\n"
     ]
    }
   ],
   "source": [
    "my_text = \"Python is Fun\"\n",
    "len(my_text)\n",
    "print(\"I called the len() function\")"
   ]
  },
  {
   "cell_type": "code",
   "execution_count": 11,
   "metadata": {},
   "outputs": [
    {
     "name": "stdout",
     "output_type": "stream",
     "text": [
      "AT content is 0.6851851851851852\n"
     ]
    }
   ],
   "source": [
    "my_dna = \"ACTGATCGATTACGTATAGTATTTGCTATCATACATATATATCGATGCGTTCAT\"\n",
    "\n",
    "my_at_content = get_at_content(my_dna)\n",
    "\n",
    "print(\"AT content is \" + str(my_at_content))"
   ]
  },
  {
   "cell_type": "code",
   "execution_count": 12,
   "metadata": {},
   "outputs": [
    {
     "name": "stdout",
     "output_type": "stream",
     "text": [
      "AT content is 0.7142857142857143\n"
     ]
    }
   ],
   "source": [
    "my_dna = \"GATTACA\"\n",
    "\n",
    "my_at_content = get_at_content(my_dna)\n",
    "\n",
    "print(\"AT content is \" + str(my_at_content))"
   ]
  },
  {
   "cell_type": "code",
   "execution_count": 13,
   "metadata": {},
   "outputs": [
    {
     "name": "stdout",
     "output_type": "stream",
     "text": [
      "AT content is 0.6851851851851852\n"
     ]
    }
   ],
   "source": [
    "my_dna = \"ACTGATCGATTACGTATAGTATTTGCTATCATACATATATATCGATGCGTTCAT\"\n",
    "\n",
    "print(\"AT content is \" + str(get_at_content(my_dna)))"
   ]
  },
  {
   "cell_type": "code",
   "execution_count": 14,
   "metadata": {},
   "outputs": [
    {
     "ename": "SyntaxError",
     "evalue": "invalid syntax (<ipython-input-14-ca9b845295e7>, line 2)",
     "output_type": "error",
     "traceback": [
      "\u001b[0;36m  File \u001b[0;32m\"<ipython-input-14-ca9b845295e7>\"\u001b[0;36m, line \u001b[0;32m2\u001b[0m\n\u001b[0;31m    def get_at_content(dna)\u001b[0m\n\u001b[0m                           ^\u001b[0m\n\u001b[0;31mSyntaxError\u001b[0m\u001b[0;31m:\u001b[0m invalid syntax\n"
     ]
    }
   ],
   "source": [
    "# mistake #1 - no colon at the end of the def line\n",
    "def get_at_content(dna)\n",
    "    length = len(dna)\n",
    "    a_count = dna.count('A')\n",
    "    t_count = dna.count('T')\n",
    "    at_content = (a_count + t_count) / length\n",
    "    return at_content"
   ]
  },
  {
   "cell_type": "code",
   "execution_count": 16,
   "metadata": {},
   "outputs": [
    {
     "ename": "IndentationError",
     "evalue": "unindent does not match any outer indentation level (<tokenize>, line 6)",
     "output_type": "error",
     "traceback": [
      "\u001b[0;36m  File \u001b[0;32m\"<tokenize>\"\u001b[0;36m, line \u001b[0;32m6\u001b[0m\n\u001b[0;31m    at_content = (a_count + t_count) / length\u001b[0m\n\u001b[0m    ^\u001b[0m\n\u001b[0;31mIndentationError\u001b[0m\u001b[0;31m:\u001b[0m unindent does not match any outer indentation level\n"
     ]
    }
   ],
   "source": [
    "# mistake #1 - incorrect indentation\n",
    "def get_at_content(dna):\n",
    "    length = len(dna)\n",
    "    a_count = dna.count('A')\n",
    "    t_count = dna.count('T')\n",
    "  at_content = (a_count + t_count) / length\n",
    "    return at_content"
   ]
  },
  {
   "cell_type": "code",
   "execution_count": 17,
   "metadata": {},
   "outputs": [
    {
     "ename": "SyntaxError",
     "evalue": "'return' outside function (<ipython-input-17-0529a1102a45>, line 7)",
     "output_type": "error",
     "traceback": [
      "\u001b[0;36m  File \u001b[0;32m\"<ipython-input-17-0529a1102a45>\"\u001b[0;36m, line \u001b[0;32m7\u001b[0m\n\u001b[0;31m    return at_content\u001b[0m\n\u001b[0m    ^\u001b[0m\n\u001b[0;31mSyntaxError\u001b[0m\u001b[0;31m:\u001b[0m 'return' outside function\n"
     ]
    }
   ],
   "source": [
    "# mistake 3\n",
    "def get_at_content(dna):\n",
    "    length = len(dna)\n",
    "    a_count = dna.count('A')\n",
    "    t_count = dna.count('T')\n",
    "    at_content = (a_count + t_count) / length\n",
    "return at_content"
   ]
  },
  {
   "cell_type": "code",
   "execution_count": 18,
   "metadata": {},
   "outputs": [
    {
     "ename": "NameError",
     "evalue": "name 'c_count' is not defined",
     "output_type": "error",
     "traceback": [
      "\u001b[0;31m---------------------------------------------------------------------------\u001b[0m",
      "\u001b[0;31mNameError\u001b[0m                                 Traceback (most recent call last)",
      "\u001b[0;32m<ipython-input-18-e7688f67cdff>\u001b[0m in \u001b[0;36m<module>\u001b[0;34m\u001b[0m\n\u001b[1;32m      7\u001b[0m \u001b[0;34m\u001b[0m\u001b[0m\n\u001b[1;32m      8\u001b[0m \u001b[0mmy_dna\u001b[0m \u001b[0;34m=\u001b[0m \u001b[0;34m\"ACTGATCGATTACGTATAGTATTTGCTATCATACATATATATCGATGCGTTCAT\"\u001b[0m\u001b[0;34m\u001b[0m\u001b[0;34m\u001b[0m\u001b[0m\n\u001b[0;32m----> 9\u001b[0;31m \u001b[0mprint\u001b[0m\u001b[0;34m(\u001b[0m\u001b[0mc_count\u001b[0m\u001b[0;34m)\u001b[0m\u001b[0;34m\u001b[0m\u001b[0;34m\u001b[0m\u001b[0m\n\u001b[0m",
      "\u001b[0;31mNameError\u001b[0m: name 'c_count' is not defined"
     ]
    }
   ],
   "source": [
    "# definitions within the function stay in the function\n",
    "def get_gc_content(dna):\n",
    "    length = len(dna)\n",
    "    g_count = dna.count('G')\n",
    "    c_count = dna.count('C')\n",
    "    gc_content = (g_count + c_count) / length\n",
    "    return gc_content\n",
    "\n",
    "my_dna = \"ACTGATCGATTACGTATAGTATTTGCTATCATACATATATATCGATGCGTTCAT\"\n",
    "print(c_count)"
   ]
  },
  {
   "cell_type": "code",
   "execution_count": 19,
   "metadata": {},
   "outputs": [
    {
     "name": "stdout",
     "output_type": "stream",
     "text": [
      "1\n"
     ]
    }
   ],
   "source": [
    "# the c_count in the main program\n",
    "c_count = \"GATTACA\".count('C')\n",
    "def get_gc_content(dna):\n",
    "    length = len(dna)\n",
    "    g_count = dna.count('G')\n",
    "    c_count = dna.count('C')\n",
    "    gc_content = (g_count + c_count) / length\n",
    "    return gc_content\n",
    "\n",
    "my_dna = \"ACTGATCGATTACGTATAGTATTTGCTATCATACATATATATCGATGCGTTCAT\"\n",
    "# this prints the c_count in the main program, not the one\n",
    "# in the get_gc_content function\n",
    "print(c_count)"
   ]
  },
  {
   "cell_type": "code",
   "execution_count": 20,
   "metadata": {},
   "outputs": [
    {
     "ename": "NameError",
     "evalue": "name 'greet' is not defined",
     "output_type": "error",
     "traceback": [
      "\u001b[0;31m---------------------------------------------------------------------------\u001b[0m",
      "\u001b[0;31mNameError\u001b[0m                                 Traceback (most recent call last)",
      "\u001b[0;32m<ipython-input-20-4eda2c9d4bf1>\u001b[0m in \u001b[0;36m<module>\u001b[0;34m\u001b[0m\n\u001b[0;32m----> 1\u001b[0;31m \u001b[0mgreet\u001b[0m\u001b[0;34m(\u001b[0m\u001b[0;34m\"Peter\"\u001b[0m\u001b[0;34m)\u001b[0m\u001b[0;34m\u001b[0m\u001b[0;34m\u001b[0m\u001b[0m\n\u001b[0m\u001b[1;32m      2\u001b[0m \u001b[0;32mdef\u001b[0m \u001b[0mgreet\u001b[0m\u001b[0;34m(\u001b[0m\u001b[0mname\u001b[0m\u001b[0;34m)\u001b[0m\u001b[0;34m:\u001b[0m\u001b[0;34m\u001b[0m\u001b[0;34m\u001b[0m\u001b[0m\n\u001b[1;32m      3\u001b[0m     \u001b[0mprint\u001b[0m\u001b[0;34m(\u001b[0m\u001b[0;34m\"Hello \"\u001b[0m \u001b[0;34m+\u001b[0m \u001b[0mname\u001b[0m\u001b[0;34m)\u001b[0m\u001b[0;34m\u001b[0m\u001b[0;34m\u001b[0m\u001b[0m\n",
      "\u001b[0;31mNameError\u001b[0m: name 'greet' is not defined"
     ]
    }
   ],
   "source": [
    "# you cannot use a function before defining it\n",
    "greet(\"Peter\")\n",
    "def greet(name):\n",
    "    print(\"Hello \" + name)"
   ]
  },
  {
   "cell_type": "code",
   "execution_count": 21,
   "metadata": {},
   "outputs": [
    {
     "name": "stdout",
     "output_type": "stream",
     "text": [
      "Hello Peter\n"
     ]
    }
   ],
   "source": [
    "def greet(name):\n",
    "    print(\"Hello \" + name)\n",
    "greet(\"Peter\")"
   ]
  },
  {
   "cell_type": "code",
   "execution_count": 28,
   "metadata": {},
   "outputs": [
    {
     "name": "stdout",
     "output_type": "stream",
     "text": [
      "AT content is 0.69\n"
     ]
    }
   ],
   "source": [
    "# a function with 2 parameters\n",
    "def get_at_content(dna, sig_digits):\n",
    "    length = len(dna)\n",
    "    a_count = dna.count('A')\n",
    "    t_count = dna.count('T')\n",
    "    at_content = round((a_count + t_count) / length, sig_digits)\n",
    "    return at_content\n",
    "\n",
    "my_dna = \"ACTGATCGATTACGTATAGTATTTGCTATCATACATATATATCGATGCGTTCAT\"\n",
    "my_at_content = get_at_content(my_dna, 2)\n",
    "print(\"AT content is \" + str(my_at_content))"
   ]
  },
  {
   "cell_type": "code",
   "execution_count": 26,
   "metadata": {},
   "outputs": [],
   "source": [
    "# a function with no parameters\n",
    "# each time we want to calculate the at_content of a bit of DNA\n",
    "# we need to change the function definition\n",
    "def get_at_content():\n",
    "    dna = \"ACTGATCGATTACGTATAGTATTTGCTATCATACATATATATCGATGCGTTCAT\"\n",
    "    sig_digits = 2\n",
    "    length = len(dna)\n",
    "    a_count = dna.count('A')\n",
    "    t_count = dna.count('T')\n",
    "    at_content = round((a_count + t_count) / length, sig_digits)\n",
    "    return at_content"
   ]
  },
  {
   "cell_type": "code",
   "execution_count": 31,
   "metadata": {},
   "outputs": [
    {
     "name": "stdout",
     "output_type": "stream",
     "text": [
      "AT content is 0.69\n",
      "AT content is 0.6852\n",
      "AT content is 0.6852\n"
     ]
    }
   ],
   "source": [
    "# a function with a default (named) parameter\n",
    "def get_at_content(dna, sig_digits=2):\n",
    "    length = len(dna)\n",
    "    a_count = dna.count('A')\n",
    "    t_count = dna.count('T')\n",
    "    at_content = round((a_count + t_count) / length, sig_digits)\n",
    "    return at_content\n",
    "\n",
    "my_dna = \"ACTGATCGATTACGTATAGTATTTGCTATCATACATATATATCGATGCGTTCAT\"\n",
    "my_at_content = get_at_content(my_dna)\n",
    "print(\"AT content is \" + str(my_at_content))\n",
    "\n",
    "my_at_content = get_at_content(my_dna, 4)\n",
    "print(\"AT content is \" + str(my_at_content))\n",
    "\n",
    "my_at_content = get_at_content(my_dna, sig_digits=4)\n",
    "print(\"AT content is \" + str(my_at_content))"
   ]
  },
  {
   "cell_type": "code",
   "execution_count": 37,
   "metadata": {},
   "outputs": [
    {
     "name": "stdout",
     "output_type": "stream",
     "text": [
      "Hello Peter\n",
      "Good morning Peter\n",
      "Good morning Peter. I hope you have a fine day\n",
      " Peter. I am at UWC\n",
      "Hello Peter. The weather is cloudy.\n",
      "Hello Peter\n"
     ]
    }
   ],
   "source": [
    "# more than one optional (named) parameter\n",
    "def greet(name, greeting=\"Hello\", suffix=\"\"):\n",
    "    print(greeting + \" \" + name + suffix)\n",
    "    \n",
    "greet(\"Peter\")\n",
    "greet(\"Peter\", \"Good morning\")\n",
    "greet(\"Peter\", \"Good morning\", \". I hope you have a fine day\")\n",
    "# not correct\n",
    "greet(\"Peter\", \"\", \". I am at UWC\")\n",
    "greet(\"Peter\", suffix=\". The weather is cloudy.\")\n",
    "greet(name=\"Peter\")"
   ]
  },
  {
   "cell_type": "code",
   "execution_count": 38,
   "metadata": {},
   "outputs": [
    {
     "name": "stdout",
     "output_type": "stream",
     "text": [
      "Hello Hello\n"
     ]
    }
   ],
   "source": [
    "# more than one optional (named) parameter\n",
    "def greet(name, greeting=\"Hello\", suffix=\"\"):\n",
    "    print(greeting + \" \" + name + suffix)\n",
    "    \n",
    "my_greeting = greet(\"Hello\")"
   ]
  },
  {
   "cell_type": "code",
   "execution_count": 39,
   "metadata": {},
   "outputs": [
    {
     "name": "stdout",
     "output_type": "stream",
     "text": [
      "None\n"
     ]
    }
   ],
   "source": [
    "print(my_greeting)"
   ]
  },
  {
   "cell_type": "code",
   "execution_count": 40,
   "metadata": {},
   "outputs": [],
   "source": [
    "def get_at_content(dna, sig_digits=2):\n",
    "    length = len(dna)\n",
    "    a_count = dna.count('A')\n",
    "    t_count = dna.count('T')\n",
    "    print(\"sig_digits is \" + str(sig_digits))\n",
    "    at_content = round((a_count + t_count) / length, sig_digits)\n",
    "    return at_content"
   ]
  },
  {
   "cell_type": "code",
   "execution_count": 41,
   "metadata": {},
   "outputs": [
    {
     "name": "stdout",
     "output_type": "stream",
     "text": [
      "sig_digits is 2\n"
     ]
    }
   ],
   "source": [
    "my_at_content = get_at_content('GATACA')"
   ]
  },
  {
   "cell_type": "code",
   "execution_count": 42,
   "metadata": {},
   "outputs": [
    {
     "name": "stdout",
     "output_type": "stream",
     "text": [
      "got here\n"
     ]
    }
   ],
   "source": [
    "def get_at_content(dna, sig_digits=2):\n",
    "    length = len(dna)\n",
    "    a_count = dna.count('A')\n",
    "    t_count = dna.count('T')\n",
    "    print(\"got here\")\n",
    "    at_content = round((a_count + t_count) / length, sig_digits)\n",
    "    return at_content\n",
    "\n",
    "my_at_content = get_at_content('GATACA')"
   ]
  },
  {
   "cell_type": "code",
   "execution_count": 51,
   "metadata": {},
   "outputs": [],
   "source": [
    "def get_at_content(dna, sig_digits=2):\n",
    "    length = len(dna)\n",
    "    a_count = dna.upper().count('A')\n",
    "    t_count = dna.upper().count('T')\n",
    "    at_content = round((a_count + t_count) / length, sig_digits)\n",
    "    return at_content\n",
    "\n",
    "assert get_at_content('GATACA') == 0.67\n",
    "assert get_at_content('gataca') == 0.67\n",
    "assert get_at_content('gaTaca') == 0.67\n",
    "assert get_at_content('GATACA', 1) == 0.7\n"
   ]
  },
  {
   "cell_type": "code",
   "execution_count": 53,
   "metadata": {},
   "outputs": [
    {
     "name": "stdout",
     "output_type": "stream",
     "text": [
      "0.7\n"
     ]
    }
   ],
   "source": [
    "print(get_at_content('ACTgaTCGATTACGTATAGTATTTGCTATCATACATATATATCGATGCGTTCAT', 1))"
   ]
  },
  {
   "cell_type": "code",
   "execution_count": 54,
   "metadata": {},
   "outputs": [
    {
     "ename": "AssertionError",
     "evalue": "",
     "output_type": "error",
     "traceback": [
      "\u001b[0;31m---------------------------------------------------------------------------\u001b[0m",
      "\u001b[0;31mAssertionError\u001b[0m                            Traceback (most recent call last)",
      "\u001b[0;32m<ipython-input-54-dee37dc36d78>\u001b[0m in \u001b[0;36m<module>\u001b[0;34m\u001b[0m\n\u001b[1;32m     12\u001b[0m \u001b[0;32massert\u001b[0m \u001b[0mget_at_content\u001b[0m\u001b[0;34m(\u001b[0m\u001b[0;34m'gaTaca'\u001b[0m\u001b[0;34m)\u001b[0m \u001b[0;34m==\u001b[0m \u001b[0;36m0.67\u001b[0m\u001b[0;34m\u001b[0m\u001b[0;34m\u001b[0m\u001b[0m\n\u001b[1;32m     13\u001b[0m \u001b[0;32massert\u001b[0m \u001b[0mget_at_content\u001b[0m\u001b[0;34m(\u001b[0m\u001b[0;34m'GATACA'\u001b[0m\u001b[0;34m,\u001b[0m \u001b[0;36m1\u001b[0m\u001b[0;34m)\u001b[0m \u001b[0;34m==\u001b[0m \u001b[0;36m0.7\u001b[0m\u001b[0;34m\u001b[0m\u001b[0;34m\u001b[0m\u001b[0m\n\u001b[0;32m---> 14\u001b[0;31m \u001b[0;32massert\u001b[0m \u001b[0mget_at_content\u001b[0m\u001b[0;34m(\u001b[0m\u001b[0;34m'GATACNA'\u001b[0m\u001b[0;34m)\u001b[0m \u001b[0;34m==\u001b[0m \u001b[0;36m0.67\u001b[0m\u001b[0;34m\u001b[0m\u001b[0;34m\u001b[0m\u001b[0m\n\u001b[0m\u001b[1;32m     15\u001b[0m \u001b[0;34m\u001b[0m\u001b[0m\n",
      "\u001b[0;31mAssertionError\u001b[0m: "
     ]
    }
   ],
   "source": [
    "# if an assert test fails it is an error - this way\n",
    "# assert tests can be used to see where to improve code\n",
    "def get_at_content(dna, sig_digits=2):\n",
    "    length = len(dna)\n",
    "    a_count = dna.upper().count('A')\n",
    "    t_count = dna.upper().count('T')\n",
    "    at_content = round((a_count + t_count) / length, sig_digits)\n",
    "    return at_content\n",
    "\n",
    "assert get_at_content('GATACA') == 0.67\n",
    "assert get_at_content('gataca') == 0.67\n",
    "assert get_at_content('gaTaca') == 0.67\n",
    "assert get_at_content('GATACA', 1) == 0.7\n",
    "assert get_at_content('GATACNA') == 0.67\n",
    "\n"
   ]
  },
  {
   "cell_type": "code",
   "execution_count": 55,
   "metadata": {},
   "outputs": [
    {
     "name": "stdout",
     "output_type": "stream",
     "text": [
      "AGTACTAG has at_content 0.62\n",
      "CTACTGA has at_content 0.57\n",
      "GATACA has at_content 0.67\n"
     ]
    }
   ],
   "source": [
    "my_dna_list = ['AGTACTAG', 'CTACTGA', 'GATACA']\n",
    "for my_dna in my_dna_list:\n",
    "    print(my_dna + \" has at_content \" + str(get_at_content(my_dna)))"
   ]
  },
  {
   "cell_type": "code",
   "execution_count": 56,
   "metadata": {},
   "outputs": [
    {
     "name": "stdout",
     "output_type": "stream",
     "text": [
      "0.67\n"
     ]
    }
   ],
   "source": [
    "# parameter names can be anything\n",
    "def get_at_content(text, sig_digits=2):\n",
    "    length = len(text)\n",
    "    a_count = text.upper().count('A')\n",
    "    t_count = text.upper().count('T')\n",
    "    at_content = round((a_count + t_count) / length, sig_digits)\n",
    "    return at_content\n",
    "\n",
    "print(get_at_content(\"GATACA\"))"
   ]
  },
  {
   "cell_type": "code",
   "execution_count": 57,
   "metadata": {},
   "outputs": [
    {
     "name": "stdout",
     "output_type": "stream",
     "text": [
      "None\n"
     ]
    }
   ],
   "source": [
    "# without the return nothing is returned\n",
    "def get_at_content(text, sig_digits=2):\n",
    "    length = len(text)\n",
    "    a_count = text.upper().count('A')\n",
    "    t_count = text.upper().count('T')\n",
    "    at_content = round((a_count + t_count) / length, sig_digits)\n",
    "\n",
    "print(get_at_content(\"GATACA\"))"
   ]
  },
  {
   "cell_type": "code",
   "execution_count": 58,
   "metadata": {},
   "outputs": [
    {
     "name": "stdout",
     "output_type": "stream",
     "text": [
      "3\n"
     ]
    }
   ],
   "source": [
    "# the return feeds a value back to the program\n",
    "def get_at_content(text, sig_digits=2):\n",
    "    length = len(text)\n",
    "    a_count = text.upper().count('A')\n",
    "    t_count = text.upper().count('T')\n",
    "    at_content = round((a_count + t_count) / length, sig_digits)\n",
    "    return a_count\n",
    "\n",
    "print(get_at_content(\"GATACA\"))"
   ]
  },
  {
   "cell_type": "code",
   "execution_count": 60,
   "metadata": {},
   "outputs": [
    {
     "name": "stdout",
     "output_type": "stream",
     "text": [
      "0.67\n",
      "AT content is: None\n"
     ]
    }
   ],
   "source": [
    "# without the return nothing is returned\n",
    "def get_at_content(text, sig_digits=2):\n",
    "    length = len(text)\n",
    "    a_count = text.upper().count('A')\n",
    "    t_count = text.upper().count('T')\n",
    "    at_content = round((a_count + t_count) / length, sig_digits)\n",
    "    print(at_content)\n",
    "    \n",
    "print(\"AT content is: \" + str(get_at_content(\"GATACA\")))"
   ]
  },
  {
   "cell_type": "code",
   "execution_count": 61,
   "metadata": {},
   "outputs": [
    {
     "name": "stdout",
     "output_type": "stream",
     "text": [
      "0.67\n",
      "AT content is: 0.67\n"
     ]
    }
   ],
   "source": [
    "# without the return nothing is returned\n",
    "def get_at_content(text, sig_digits=2):\n",
    "    length = len(text)\n",
    "    a_count = text.upper().count('A')\n",
    "    t_count = text.upper().count('T')\n",
    "    at_content = round((a_count + t_count) / length, sig_digits)\n",
    "    print(at_content)\n",
    "    return(at_content)\n",
    "    \n",
    "print(\"AT content is: \" + str(get_at_content(\"GATACA\")))"
   ]
  },
  {
   "cell_type": "code",
   "execution_count": null,
   "metadata": {},
   "outputs": [],
   "source": []
  }
 ],
 "metadata": {
  "kernelspec": {
   "display_name": "Python 3",
   "language": "python",
   "name": "python3"
  },
  "language_info": {
   "codemirror_mode": {
    "name": "ipython",
    "version": 3
   },
   "file_extension": ".py",
   "mimetype": "text/x-python",
   "name": "python",
   "nbconvert_exporter": "python",
   "pygments_lexer": "ipython3",
   "version": "3.8.1"
  }
 },
 "nbformat": 4,
 "nbformat_minor": 4
}
