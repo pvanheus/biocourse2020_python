{
 "cells": [
  {
   "cell_type": "code",
   "execution_count": 1,
   "metadata": {},
   "outputs": [],
   "source": [
    "import requests\n",
    "\n",
    "response = requests.get('https://raw.githubusercontent.com/pvanheus/biocourse2020_python/master/data.csv')\n",
    "if response.status_code == 200:\n",
    "    open('data.csv', 'w').write(response.text)"
   ]
  },
  {
   "cell_type": "code",
   "execution_count": 4,
   "metadata": {},
   "outputs": [
    {
     "name": "stdout",
     "output_type": "stream",
     "text": [
      "Drosophila melanogaster kdy647\n",
      "Drosophila melanogaster jdg766\n",
      "Drosophila simulans kdy533\n",
      "Drosophila yakuba hdt739\n",
      "Drosophila ananassae hdu045\n",
      "Drosophila ananassae teg436\n"
     ]
    }
   ],
   "source": [
    "data_file = open('data.csv')\n",
    "for line in data_file:\n",
    "    fields = line.rstrip().split(',')\n",
    "#     print(fields)\n",
    "    species_name = fields[0]\n",
    "    gene_name = fields[2]\n",
    "    print(species_name, gene_name)"
   ]
  },
  {
   "cell_type": "code",
   "execution_count": null,
   "metadata": {},
   "outputs": [],
   "source": []
  }
 ],
 "metadata": {
  "kernelspec": {
   "display_name": "Python 3",
   "language": "python",
   "name": "python3"
  },
  "language_info": {
   "codemirror_mode": {
    "name": "ipython",
    "version": 3
   },
   "file_extension": ".py",
   "mimetype": "text/x-python",
   "name": "python",
   "nbconvert_exporter": "python",
   "pygments_lexer": "ipython3",
   "version": "3.8.1"
  }
 },
 "nbformat": 4,
 "nbformat_minor": 4
}
