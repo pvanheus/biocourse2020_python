{
 "cells": [
  {
   "cell_type": "code",
   "execution_count": 1,
   "metadata": {},
   "outputs": [],
   "source": [
    "import requests\n",
    "\n",
    "response = requests.get('https://raw.githubusercontent.com/pvanheus/biocourse2020_python/master/data.csv')\n",
    "if response.status_code == 200:\n",
    "    open('data.csv', 'w').write(response.text)"
   ]
  },
  {
   "cell_type": "code",
   "execution_count": 4,
   "metadata": {},
   "outputs": [
    {
     "name": "stdout",
     "output_type": "stream",
     "text": [
      "Drosophila melanogaster kdy647\n",
      "Drosophila melanogaster jdg766\n",
      "Drosophila simulans kdy533\n",
      "Drosophila yakuba hdt739\n",
      "Drosophila ananassae hdu045\n",
      "Drosophila ananassae teg436\n"
     ]
    }
   ],
   "source": [
    "data_file = open('data.csv')\n",
    "for line in data_file:\n",
    "    fields = line.rstrip().split(',')\n",
    "#     print(fields)\n",
    "    species_name = fields[0]\n",
    "    gene_name = fields[2]\n",
    "    print(species_name, gene_name)"
   ]
  },
  {
   "cell_type": "markdown",
   "metadata": {},
   "source": [
    "### Solution: Several species"
   ]
  },
  {
   "cell_type": "code",
   "execution_count": 3,
   "metadata": {},
   "outputs": [
    {
     "name": "stdout",
     "output_type": "stream",
     "text": [
      "kdy647\n",
      "jdg766\n",
      "kdy533\n"
     ]
    }
   ],
   "source": [
    "data_file = open('data.csv')\n",
    "for line in data_file:\n",
    "    fields = line.rstrip().split(',')\n",
    "#     print(fields)\n",
    "    species_name = fields[0]\n",
    "    gene_name = fields[2]\n",
    "    if (species_name == 'Drosophila melanogaster' or\n",
    "        species_name == 'Drosophila simulans'):\n",
    "        print(gene_name)"
   ]
  },
  {
   "cell_type": "markdown",
   "metadata": {},
   "source": [
    "### Solution: Length range\n",
    "\n",
    "Print the gene name for all genes between 90 and 110 bases long."
   ]
  },
  {
   "cell_type": "code",
   "execution_count": 6,
   "metadata": {},
   "outputs": [
    {
     "name": "stdout",
     "output_type": "stream",
     "text": [
      "kdy647\n",
      "kdy533\n",
      "teg436\n"
     ]
    }
   ],
   "source": [
    "data_file = open('data.csv')\n",
    "for line in data_file:\n",
    "    fields = line.rstrip().split(',')\n",
    "    sequence = fields[1]\n",
    "    gene_name = fields[2]\n",
    "    gene_length = len(sequence)\n",
    "    if gene_length >= 90 and gene_length <= 110:\n",
    "        print(gene_name)"
   ]
  },
  {
   "cell_type": "code",
   "execution_count": 7,
   "metadata": {},
   "outputs": [
    {
     "ename": "SyntaxError",
     "evalue": "invalid syntax (<ipython-input-7-c1b4bdcaf342>, line 8)",
     "output_type": "error",
     "traceback": [
      "\u001b[0;36m  File \u001b[0;32m\"<ipython-input-7-c1b4bdcaf342>\"\u001b[0;36m, line \u001b[0;32m8\u001b[0m\n\u001b[0;31m    if gene_length >= 90 and <= 110:\u001b[0m\n\u001b[0m                             ^\u001b[0m\n\u001b[0;31mSyntaxError\u001b[0m\u001b[0;31m:\u001b[0m invalid syntax\n"
     ]
    }
   ],
   "source": [
    "data_file = open('data.csv')\n",
    "for line in data_file:\n",
    "    fields = line.rstrip().split(',')\n",
    "    sequence = fields[1]\n",
    "    gene_name = fields[2]\n",
    "    gene_length = len(sequence)\n",
    "    # incorrect syntax\n",
    "    if gene_length >= 90 and <= 110:\n",
    "        print(gene_name)"
   ]
  },
  {
   "cell_type": "markdown",
   "metadata": {},
   "source": [
    "### Solution: AT content\n",
    "Print out the gene names for all genes whose AT content is less than 0.5 and whose expression level is greater than 200"
   ]
  },
  {
   "cell_type": "code",
   "execution_count": 11,
   "metadata": {},
   "outputs": [],
   "source": [
    "def get_at_content(dna):\n",
    "    a_count = dna.upper().count('A')\n",
    "    t_count = dna.upper().count('T')\n",
    "    c_count = dna.upper().count('C')\n",
    "    g_count = dna.upper().count('G')\n",
    "    at_content = ((a_count + t_count) /\n",
    "                  (a_count + t_count + c_count + g_count))\n",
    "    return at_content\n",
    "\n",
    "assert get_at_content('AAGG') == 0.5\n",
    "assert get_at_content('AGGG') == 0.25"
   ]
  },
  {
   "cell_type": "code",
   "execution_count": 13,
   "metadata": {},
   "outputs": [
    {
     "name": "stdout",
     "output_type": "stream",
     "text": [
      "expression level: 264 at content: 0.7247706422018348 gene name: kdy647\n",
      "expression level: 185 at content: 0.5641025641025641 gene name: jdg766\n",
      "expression level: 485 at content: 0.5333333333333333 gene name: kdy533\n",
      "expression level: 85 at content: 0.2857142857142857 gene name: hdt739\n",
      "expression level: 356 at content: 0.5299145299145299 gene name: hdu045\n",
      "expression level: 222 at content: 0.45918367346938777 gene name: teg436\n",
      "teg436\n"
     ]
    }
   ],
   "source": [
    "data_file = open('data.csv')\n",
    "for line in data_file:\n",
    "    fields = line.rstrip().split(',')\n",
    "    assert len(fields) == 4\n",
    "    sequence = fields[1]\n",
    "    gene_name = fields[2]\n",
    "    expression_level = int(fields[3])\n",
    "    print(\"expression level: \" + \n",
    "          str(expression_level) + \n",
    "          \" at content: \" + str(get_at_content(sequence)) +\n",
    "          \" gene name: \" + gene_name\n",
    "         )\n",
    "    if (get_at_content(sequence) < 0.5 and \n",
    "        expression_level > 200):\n",
    "        print(gene_name)"
   ]
  },
  {
   "cell_type": "code",
   "execution_count": 14,
   "metadata": {},
   "outputs": [
    {
     "name": "stdout",
     "output_type": "stream",
     "text": [
      "teg436\n"
     ]
    }
   ],
   "source": [
    "data_file = open('data.csv')\n",
    "for line in data_file:\n",
    "    fields = line.rstrip().split(',')\n",
    "    assert len(fields) == 4\n",
    "    sequence = fields[1]\n",
    "    gene_name = fields[2]\n",
    "    expression_level = int(fields[3])\n",
    "    if (get_at_content(sequence) < 0.5 and \n",
    "        expression_level > 200):\n",
    "        print(gene_name)"
   ]
  },
  {
   "cell_type": "markdown",
   "metadata": {},
   "source": [
    "### Solution: complex condition\n",
    "Print out the gene names for all genes whose name begins with \"k\" or \"h\" except for those from the species *Drosophila melanogaster*"
   ]
  },
  {
   "cell_type": "code",
   "execution_count": 16,
   "metadata": {},
   "outputs": [
    {
     "name": "stdout",
     "output_type": "stream",
     "text": [
      "Drosophila simulans kdy533\n",
      "Drosophila yakuba hdt739\n",
      "Drosophila ananassae hdu045\n"
     ]
    }
   ],
   "source": [
    "data_file = open('data.csv')\n",
    "for line in data_file:\n",
    "    fields = line.rstrip().split(',')\n",
    "    assert len(fields) == 4\n",
    "    species_name = fields[0]\n",
    "    gene_name = fields[2]\n",
    "    if ((gene_name.startswith('k') or gene_name.startswith('h')) and \n",
    "        species_name != 'Drosophila melanogaster'):\n",
    "        print(species_name, gene_name)"
   ]
  },
  {
   "cell_type": "markdown",
   "metadata": {},
   "source": [
    "### Solution: High low medium\n",
    "For each gene, print out a message giving the gene name and saying whether its AT content is high (greater than 0.65), low (less than 0.45) or medium (between 0.45 and 0.65)"
   ]
  },
  {
   "cell_type": "code",
   "execution_count": 19,
   "metadata": {},
   "outputs": [
    {
     "name": "stdout",
     "output_type": "stream",
     "text": [
      "kdy647 high 0.72\n",
      "jdg766 medium 0.56\n",
      "kdy533 medium 0.53\n",
      "hdt739 low 0.29\n",
      "hdu045 medium 0.53\n",
      "teg436 medium 0.46\n"
     ]
    }
   ],
   "source": [
    "data_file = open('data.csv')\n",
    "for line in data_file:\n",
    "    fields = line.rstrip().split(',')\n",
    "    assert len(fields) == 4\n",
    "    sequence = fields[1]\n",
    "    gene_name = fields[2]\n",
    "    at_content = get_at_content(sequence)\n",
    "    if at_content > 0.65:\n",
    "        print(gene_name + \" high \" + str(round(at_content, 2)))\n",
    "    elif at_content < 0.45:\n",
    "        print(gene_name + \" low \" + str(round(at_content, 2)))\n",
    "    else:\n",
    "        print(gene_name + \" medium \" + str(round(at_content, 2)))"
   ]
  },
  {
   "cell_type": "code",
   "execution_count": 20,
   "metadata": {},
   "outputs": [
    {
     "name": "stdout",
     "output_type": "stream",
     "text": [
      "kdy647 high 0.72\n",
      "jdg766 medium 0.56\n",
      "kdy533 medium 0.53\n",
      "hdt739 low 0.29\n",
      "hdu045 medium 0.53\n"
     ]
    }
   ],
   "source": [
    "data_file = open('data.csv')\n",
    "for line in data_file:\n",
    "    fields = line.rstrip().split(',')\n",
    "    assert len(fields) == 4\n",
    "    sequence = fields[1]\n",
    "    gene_name = fields[2]\n",
    "    at_content = get_at_content(sequence)\n",
    "    if at_content > 0.65:\n",
    "        print(gene_name + \" high \" + str(round(at_content, 2)))\n",
    "    elif at_content < 0.45:\n",
    "        print(gene_name + \" low \" + str(round(at_content, 2)))\n",
    "    elif at_content >= 0.5 and at_content <= 0.6:\n",
    "        print(gene_name + \" medium \" + str(round(at_content, 2)))"
   ]
  },
  {
   "cell_type": "code",
   "execution_count": null,
   "metadata": {},
   "outputs": [],
   "source": []
  }
 ],
 "metadata": {
  "kernelspec": {
   "display_name": "Python 3",
   "language": "python",
   "name": "python3"
  },
  "language_info": {
   "codemirror_mode": {
    "name": "ipython",
    "version": 3
   },
   "file_extension": ".py",
   "mimetype": "text/x-python",
   "name": "python",
   "nbconvert_exporter": "python",
   "pygments_lexer": "ipython3",
   "version": "3.8.1"
  }
 },
 "nbformat": 4,
 "nbformat_minor": 4
}
