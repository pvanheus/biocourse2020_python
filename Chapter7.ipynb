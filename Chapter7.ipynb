{
 "cells": [
  {
   "cell_type": "code",
   "execution_count": 4,
   "metadata": {},
   "outputs": [],
   "source": [
    "import re"
   ]
  },
  {
   "cell_type": "code",
   "execution_count": 5,
   "metadata": {},
   "outputs": [
    {
     "name": "stdout",
     "output_type": "stream",
     "text": [
      "\tHello\n"
     ]
    }
   ],
   "source": [
    "print(\"\\tHello\")"
   ]
  },
  {
   "cell_type": "code",
   "execution_count": 6,
   "metadata": {},
   "outputs": [
    {
     "name": "stdout",
     "output_type": "stream",
     "text": [
      "\\tHello\n"
     ]
    }
   ],
   "source": [
    "print(r\"\\tHello\")"
   ]
  },
  {
   "cell_type": "code",
   "execution_count": 7,
   "metadata": {},
   "outputs": [
    {
     "name": "stdout",
     "output_type": "stream",
     "text": [
      "restriction site found!\n"
     ]
    }
   ],
   "source": [
    "dna = \"ATCGCGAATTCAC\"\n",
    "if re.search(r\"GAATTC\", dna):\n",
    "    print(\"restriction site found!\")"
   ]
  },
  {
   "cell_type": "code",
   "execution_count": 8,
   "metadata": {},
   "outputs": [
    {
     "name": "stdout",
     "output_type": "stream",
     "text": [
      "restriction site found!\n"
     ]
    }
   ],
   "source": [
    "dna = \"ATCGCGAATTCAC\"\n",
    "if dna.find(\"GAATTC\") != -1:\n",
    "    print(\"restriction site found!\")"
   ]
  },
  {
   "cell_type": "code",
   "execution_count": 9,
   "metadata": {},
   "outputs": [
    {
     "name": "stdout",
     "output_type": "stream",
     "text": [
      "restriction site found!\n"
     ]
    }
   ],
   "source": [
    "dna = \"ATCGCGGTCCAATTCAC\"\n",
    "if re.search(r\"GGACC\", dna) or re.search(r\"GGTCC\", dna):\n",
    "    print(\"restriction site found!\")"
   ]
  },
  {
   "cell_type": "code",
   "execution_count": 10,
   "metadata": {},
   "outputs": [
    {
     "name": "stdout",
     "output_type": "stream",
     "text": [
      "restriction site found!\n"
     ]
    }
   ],
   "source": [
    "# now with a matching sequence\n",
    "dna = \"ATCGCGGTCCAATTCAC\"\n",
    "if re.search(r\"GG(A|T)CC\", dna):\n",
    "    print(\"restriction site found!\")"
   ]
  },
  {
   "cell_type": "code",
   "execution_count": 11,
   "metadata": {},
   "outputs": [
    {
     "name": "stdout",
     "output_type": "stream",
     "text": [
      "restriction site found!\n"
     ]
    }
   ],
   "source": [
    "# BisI restriction enzyme GCNGC\n",
    "dna = \"ATCGCGAATTCACGCAGC\"\n",
    "if re.search(r\"GC(A|T|G|C)GC\", dna):\n",
    "    print(\"restriction site found!\")"
   ]
  },
  {
   "cell_type": "code",
   "execution_count": 12,
   "metadata": {},
   "outputs": [
    {
     "name": "stdout",
     "output_type": "stream",
     "text": [
      "restriction site found!\n"
     ]
    }
   ],
   "source": [
    "# BisI restriction enzyme GCNGC\n",
    "dna = \"ATCGCGAATTCACGCAGC\"\n",
    "if re.search(r\"GC[ACTG]GC\", dna):\n",
    "    print(\"restriction site found!\")"
   ]
  },
  {
   "cell_type": "code",
   "execution_count": 13,
   "metadata": {},
   "outputs": [
    {
     "name": "stdout",
     "output_type": "stream",
     "text": [
      "Matched!\n",
      "Not matched!\n"
     ]
    }
   ],
   "source": [
    "my_text = \"Hello to the class and everyone\"\n",
    "if re.search(r\"Hello (to|class)\", my_text):\n",
    "    print(\"Matched!\")\n",
    "else:\n",
    "    print(\"Not matched!\")\n",
    "\n",
    "my_text = \"Hello World\"\n",
    "if re.search(r\"Hello (to|class)\", my_text):\n",
    "    print(\"Matched!\")\n",
    "else:\n",
    "    print(\"Not matched!\")\n"
   ]
  },
  {
   "cell_type": "code",
   "execution_count": 14,
   "metadata": {},
   "outputs": [
    {
     "name": "stdout",
     "output_type": "stream",
     "text": [
      "Matched!\n",
      "Not matched\n"
     ]
    }
   ],
   "source": [
    "my_text = \"Gene name ab654\"\n",
    "if re.search(r\"name [abc]\", my_text):\n",
    "    print(\"Matched!\")\n",
    "else:\n",
    "    print(\"Not matched\")\n",
    "my_text = \"Gene name hy654\"\n",
    "if re.search(r\"name [abc]\", my_text):\n",
    "    print(\"Matched!\")\n",
    "else:\n",
    "    print(\"Not matched\")"
   ]
  },
  {
   "cell_type": "code",
   "execution_count": 15,
   "metadata": {},
   "outputs": [
    {
     "name": "stdout",
     "output_type": "stream",
     "text": [
      "Not matched\n",
      "Matched!\n"
     ]
    }
   ],
   "source": [
    "my_text = \"Gene name ab654\"\n",
    "if re.search(r\"name [^abc]\", my_text):\n",
    "    print(\"Matched!\")\n",
    "else:\n",
    "    print(\"Not matched\")\n",
    "my_text = \"Gene name hy654\"\n",
    "if re.search(r\"name [^abc]\", my_text):\n",
    "    print(\"Matched!\")\n",
    "else:\n",
    "    print(\"Not matched\")"
   ]
  },
  {
   "cell_type": "markdown",
   "metadata": {},
   "source": [
    "### Quantification"
   ]
  },
  {
   "cell_type": "code",
   "execution_count": 16,
   "metadata": {},
   "outputs": [
    {
     "name": "stdout",
     "output_type": "stream",
     "text": [
      "it matched!\n",
      "it matched!\n",
      "it did not match\n"
     ]
    }
   ],
   "source": [
    "# ? means 0 or 1 time\n",
    "dna = \"GGGAAATTT\"\n",
    "if re.search(r\"GGG(AAA)?TTT\", dna):\n",
    "    print(\"it matched!\")\n",
    "else:\n",
    "    print(\"it did not match\")\n",
    "\n",
    "dna = \"GGGTTT\"\n",
    "if re.search(r\"GGG(AAA)?TTT\", dna):\n",
    "    print(\"it matched!\")\n",
    "else:\n",
    "    print(\"it did not match\")\n",
    "\n",
    "dna = \"GGGAAAATTT\"\n",
    "if re.search(r\"GGG(AAA)?TTT\", dna):\n",
    "    print(\"it matched!\")\n",
    "else:\n",
    "    print(\"it did not match\")\n"
   ]
  },
  {
   "cell_type": "code",
   "execution_count": 17,
   "metadata": {},
   "outputs": [
    {
     "name": "stdout",
     "output_type": "stream",
     "text": [
      "it matched!\n",
      "it matched!\n",
      "it did not match\n"
     ]
    }
   ],
   "source": [
    "# + - 1 or more\n",
    "dna = \"GGGAAATTT\"\n",
    "if re.search(r\"GGGA+TTT\", dna):\n",
    "    print(\"it matched!\")\n",
    "else:\n",
    "    print(\"it did not match\")\n",
    "dna = \"GGGATTT\"\n",
    "if re.search(r\"GGGA+TTT\", dna):\n",
    "    print(\"it matched!\")\n",
    "else:\n",
    "    print(\"it did not match\")\n",
    "dna = \"GGGTTT\"\n",
    "if re.search(r\"GGGA+TTT\", dna):\n",
    "    print(\"it matched!\")\n",
    "else:\n",
    "    print(\"it did not match\")    "
   ]
  },
  {
   "cell_type": "code",
   "execution_count": 18,
   "metadata": {},
   "outputs": [
    {
     "name": "stdout",
     "output_type": "stream",
     "text": [
      "it did not match\n",
      "it did not match\n",
      "it did not match\n",
      "it matched!\n"
     ]
    }
   ],
   "source": [
    "# + - 1 or more\n",
    "dna = \"GGGAAATTT\"\n",
    "if re.search(r\"GGG(AA)+TTT\", dna):\n",
    "    print(\"it matched!\")\n",
    "else:\n",
    "    print(\"it did not match\")\n",
    "dna = \"GGGATTT\"\n",
    "if re.search(r\"GGG(AA)+TTT\", dna):\n",
    "    print(\"it matched!\")\n",
    "else:\n",
    "    print(\"it did not match\")\n",
    "dna = \"GGGTTT\"\n",
    "if re.search(r\"GGG(AA)+TTT\", dna):\n",
    "    print(\"it matched!\")\n",
    "else:\n",
    "    print(\"it did not match\")\n",
    "dna = \"GGGAAAATTT\"\n",
    "if re.search(r\"GGG(AA)+TTT\", dna):\n",
    "    print(\"it matched!\")\n",
    "else:\n",
    "    print(\"it did not match\")    "
   ]
  },
  {
   "cell_type": "code",
   "execution_count": 19,
   "metadata": {},
   "outputs": [
    {
     "name": "stdout",
     "output_type": "stream",
     "text": [
      "it matched!\n",
      "it did not match\n",
      "it did not match\n",
      "it matched!\n"
     ]
    }
   ],
   "source": [
    "# + - 1 or more\n",
    "dna = \"GGGAAATTT\"\n",
    "if re.search(r\"GGGAA+TTT\", dna):\n",
    "    print(\"it matched!\")\n",
    "else:\n",
    "    print(\"it did not match\")\n",
    "dna = \"GGGATTT\"\n",
    "if re.search(r\"GGGAA+TTT\", dna):\n",
    "    print(\"it matched!\")\n",
    "else:\n",
    "    print(\"it did not match\")\n",
    "dna = \"GGGTTT\"\n",
    "if re.search(r\"GGGAA+TTT\", dna):\n",
    "    print(\"it matched!\")\n",
    "else:\n",
    "    print(\"it did not match\")\n",
    "dna = \"GGGAAAATTT\"\n",
    "if re.search(r\"GGGAA+TTT\", dna):\n",
    "    print(\"it matched!\")\n",
    "else:\n",
    "    print(\"it did not match\")    "
   ]
  },
  {
   "cell_type": "code",
   "execution_count": 20,
   "metadata": {},
   "outputs": [
    {
     "name": "stdout",
     "output_type": "stream",
     "text": [
      "it matched\n",
      "it matched\n",
      "it matched\n",
      "it did not match\n"
     ]
    }
   ],
   "source": [
    "# * - 0 or more\n",
    "dna = \"GGGAAATTT\"\n",
    "if re.search(r\"GGGA*TTT\", dna):\n",
    "    print(\"it matched\")\n",
    "else:\n",
    "    print(\"it did not match\")\n",
    "dna = \"GGGATTT\"\n",
    "if re.search(r\"GGGA*TTT\", dna):\n",
    "    print(\"it matched\")\n",
    "else:\n",
    "    print(\"it did not match\")\n",
    "dna = \"GGGTTT\"\n",
    "if re.search(r\"GGGA*TTT\", dna):\n",
    "    print(\"it matched\")\n",
    "else:\n",
    "    print(\"it did not match\")\n",
    "dna = \"GGGTT\"\n",
    "if re.search(r\"GGGA*TTT\", dna):\n",
    "    print(\"it matched\")\n",
    "else:\n",
    "    print(\"it did not match\")"
   ]
  },
  {
   "cell_type": "code",
   "execution_count": 26,
   "metadata": {},
   "outputs": [
    {
     "name": "stdout",
     "output_type": "stream",
     "text": [
      "it did not match\n",
      "it matched\n",
      "it did not match\n"
     ]
    }
   ],
   "source": [
    "# match to exact number of characters\n",
    "dna = \"GGGAAAATT\"\n",
    "if re.search(r\"GGGA{3}TT\", dna):\n",
    "    print(\"it matched\")\n",
    "else:\n",
    "    print(\"it did not match\")\n",
    "dna = \"GGGAAATT\"\n",
    "if re.search(r\"GGGA{3}TT\", dna):\n",
    "    print(\"it matched\")\n",
    "else:\n",
    "    print(\"it did not match\")\n",
    "dna = \"GGGAATT\"\n",
    "if re.search(r\"GGGA{3}TT\", dna):\n",
    "    print(\"it matched\")\n",
    "else:\n",
    "    print(\"it did not match\")\n",
    "    "
   ]
  },
  {
   "cell_type": "code",
   "execution_count": 30,
   "metadata": {},
   "outputs": [
    {
     "name": "stdout",
     "output_type": "stream",
     "text": [
      "it matched\n",
      "it did not match\n",
      "it did not match\n",
      "it matched\n",
      "it matched\n"
     ]
    }
   ],
   "source": [
    "dna = \"GGGAAAATT\"\n",
    "if re.search(r\"GGGA{3,5}TT\", dna):\n",
    "    print(\"it matched\")\n",
    "else:\n",
    "    print(\"it did not match\")\n",
    "dna = \"GGGAATT\"\n",
    "if re.search(r\"GGGA{3,5}TT\", dna):\n",
    "    print(\"it matched\")\n",
    "else:\n",
    "    print(\"it did not match\")\n",
    "dna = \"GGGAAAAAATT\"\n",
    "if re.search(r\"GGGA{3,5}TT\", dna):\n",
    "    print(\"it matched\")\n",
    "else:\n",
    "    print(\"it did not match\")\n",
    "    \n",
    "dna = \"GGGATATTT\"\n",
    "if re.search(r\"GGG(AT){2,5}TT\", dna):\n",
    "    print(\"it matched\")\n",
    "else:\n",
    "    print(\"it did not match\")    \n",
    "\n",
    "dna = \"GGGATATATCATTT\"\n",
    "if re.search(r\"GGG(AT[GC]?){2,5}TT\", dna):\n",
    "    print(\"it matched\")\n",
    "else:\n",
    "    print(\"it did not match\") "
   ]
  },
  {
   "cell_type": "code",
   "execution_count": 37,
   "metadata": {},
   "outputs": [
    {
     "name": "stdout",
     "output_type": "stream",
     "text": [
      "it matches\n"
     ]
    }
   ],
   "source": [
    "# pattern = r\"^ATG[ATGC]{30,1000}A{5,10}$\"\n",
    "\n",
    "# these are all equivalent\n",
    "pattern = r\"^ATG([ATGC]{3}){10,1000}A{5,10}$\"\n",
    "pattern = r\"^ATG([ATGC][ATGC][ATGC]){10,1000}A{5,10}$\"\n",
    "pattern = r\"^ATG([CGTA]{3}){10,1000}A{5,10}$\"\n",
    "pattern = r\"^ATG((A|T|C|G){3}){10,1000}A{5,10}$\"\n",
    "\n",
    "rna = \"ATGACTAGCTGACGAGTAGCAGCGACGACGACGACGAAAAAAA\"\n",
    "if re.search(pattern, rna):\n",
    "    print(\"it matches\")\n",
    "else:\n",
    "    print(\"it does not match\")"
   ]
  },
  {
   "cell_type": "markdown",
   "metadata": {},
   "source": [
    "### Positions"
   ]
  },
  {
   "cell_type": "code",
   "execution_count": 22,
   "metadata": {},
   "outputs": [
    {
     "name": "stdout",
     "output_type": "stream",
     "text": [
      "it matched\n",
      "it did not match\n"
     ]
    }
   ],
   "source": [
    "dna = \"AAATTT\"\n",
    "if re.search(r\"^AAA\", dna):\n",
    "    print(\"it matched\")\n",
    "else:\n",
    "    print(\"it did not match\")\n",
    "\n",
    "dna = \"TTTAAA\"\n",
    "if re.search(r\"^AAA\", dna):\n",
    "    print(\"it matched\")\n",
    "else:\n",
    "    print(\"it did not match\")"
   ]
  },
  {
   "cell_type": "code",
   "execution_count": 24,
   "metadata": {},
   "outputs": [
    {
     "name": "stdout",
     "output_type": "stream",
     "text": [
      "it matched\n",
      "it did not match\n"
     ]
    }
   ],
   "source": [
    "dna = \"AAATTT\"\n",
    "if re.search(\"TTT$\", dna):\n",
    "    print(\"it matched\")\n",
    "else:\n",
    "    print(\"it did not match\")\n",
    "    \n",
    "dna = \"TTTAAA\"\n",
    "if re.search(\"TTT$\", dna):\n",
    "    print(\"it matched\")\n",
    "else:\n",
    "    print(\"it did not match\")"
   ]
  },
  {
   "cell_type": "markdown",
   "metadata": {},
   "source": [
    "### Match vs Search"
   ]
  },
  {
   "cell_type": "code",
   "execution_count": 40,
   "metadata": {},
   "outputs": [
    {
     "name": "stdout",
     "output_type": "stream",
     "text": [
      "it matches\n",
      "it does not match\n",
      "it matches\n"
     ]
    }
   ],
   "source": [
    "dna = \"AAATTTCCC\"\n",
    "if re.search(r\"T{3}\", dna):\n",
    "    print(\"it matches\")\n",
    "else:\n",
    "    print(\"it does not match\")\n",
    "    \n",
    "# re.match only works at the start of the search string\n",
    "dna = \"AAATTTCCC\"\n",
    "if re.match(r\"T{3}\", dna):\n",
    "    print(\"it matches\")\n",
    "else:\n",
    "    print(\"it does not match\")    \n",
    "\n",
    "dna = \"TTTCCCAAA\"\n",
    "if re.match(r\"T{3}\", dna):\n",
    "    print(\"it matches\")\n",
    "else:\n",
    "    print(\"it does not match\")    "
   ]
  },
  {
   "cell_type": "markdown",
   "metadata": {},
   "source": [
    "### Extracting the part of the string that matched"
   ]
  },
  {
   "cell_type": "code",
   "execution_count": 45,
   "metadata": {},
   "outputs": [
    {
     "name": "stdout",
     "output_type": "stream",
     "text": [
      "<re.Match object; span=(2, 9), match='GACGTAC'>\n"
     ]
    }
   ],
   "source": [
    "dna = \"ATGACGTACGTACGACTG\"\n",
    "# store the match object in the variable m\n",
    "m = re.search(r\"GA[ATGC]{3}AC\", dna)\n",
    "print(m)"
   ]
  },
  {
   "cell_type": "code",
   "execution_count": 46,
   "metadata": {},
   "outputs": [
    {
     "name": "stdout",
     "output_type": "stream",
     "text": [
      "None\n"
     ]
    }
   ],
   "source": [
    "dna = \"ATGACGTACGTACGACTG\"\n",
    "# store the match object in the variable m\n",
    "m = re.search(r\"GA[ATGC]{5}AC\", dna)\n",
    "print(m)"
   ]
  },
  {
   "cell_type": "code",
   "execution_count": 54,
   "metadata": {},
   "outputs": [
    {
     "name": "stdout",
     "output_type": "stream",
     "text": [
      "True\n",
      "False\n",
      "True\n",
      "False\n",
      "True\n",
      "True\n",
      "False\n",
      "False\n"
     ]
    }
   ],
   "source": [
    "# converting to boolean\n",
    "print(bool(\"abcdef\"))\n",
    "print(bool(\"\"))\n",
    "print(bool(20))\n",
    "print(bool(0))\n",
    "print(bool(-1))\n",
    "print(bool([\"abc\", 1]))\n",
    "print(bool([]))\n",
    "print(bool(None))"
   ]
  },
  {
   "cell_type": "code",
   "execution_count": 55,
   "metadata": {},
   "outputs": [
    {
     "name": "stdout",
     "output_type": "stream",
     "text": [
      "<re.Match object; span=(2, 9), match='GACGTAC'>\n"
     ]
    }
   ],
   "source": [
    "dna = \"ATGACGTACGTACGACTG\"\n",
    "# store the match object in the variable m\n",
    "m = re.search(r\"GA[ATGC]{3}AC\", dna)\n",
    "print(m)"
   ]
  },
  {
   "cell_type": "code",
   "execution_count": 56,
   "metadata": {},
   "outputs": [
    {
     "name": "stdout",
     "output_type": "stream",
     "text": [
      "GACGTAC\n"
     ]
    }
   ],
   "source": [
    "print(m.group())"
   ]
  },
  {
   "cell_type": "code",
   "execution_count": 57,
   "metadata": {},
   "outputs": [
    {
     "name": "stdout",
     "output_type": "stream",
     "text": [
      "None\n"
     ]
    }
   ],
   "source": [
    "dna = \"ATGACGTACGTACGACTG\"\n",
    "# store the match object in the variable m\n",
    "m = re.match(r\"GA[ATGC]{3}AC\", dna)\n",
    "print(m)"
   ]
  },
  {
   "cell_type": "code",
   "execution_count": 60,
   "metadata": {},
   "outputs": [
    {
     "name": "stdout",
     "output_type": "stream",
     "text": [
      "GACGTAC\n"
     ]
    }
   ],
   "source": [
    "dna = \"ATGACGTACGTACGACTGATGACTTACGTACGACTG\"\n",
    "# store the match object in the variable m\n",
    "m = re.search(r\"GA[ATGC]{3}AC\", dna)\n",
    "print(m.group())"
   ]
  },
  {
   "cell_type": "code",
   "execution_count": 62,
   "metadata": {},
   "outputs": [
    {
     "name": "stdout",
     "output_type": "stream",
     "text": [
      "<re.Match object; span=(2, 9), match='GACGTAC'>\n"
     ]
    }
   ],
   "source": [
    "dna = \"ATGACGTACGTACGACTGATGACTTACGTACGACTG\"\n",
    "# store the match object in the variable m\n",
    "m = re.search(r\"GA[ATGC]{3}AC\", dna)\n",
    "print(m)"
   ]
  },
  {
   "cell_type": "code",
   "execution_count": 63,
   "metadata": {},
   "outputs": [
    {
     "name": "stdout",
     "output_type": "stream",
     "text": [
      "['GACGTAC', 'GACTTAC']\n"
     ]
    }
   ],
   "source": [
    "dna = \"ATGACGTACGTACGACTGATGACTTACGTACGACTG\"\n",
    "# store the match object in the variable m\n",
    "m = re.findall(r\"GA[ATGC]{3}AC\", dna)\n",
    "print(m)"
   ]
  },
  {
   "cell_type": "code",
   "execution_count": 65,
   "metadata": {},
   "outputs": [
    {
     "name": "stdout",
     "output_type": "stream",
     "text": [
      "match from 2 to 9\n",
      "GACGTAC\n"
     ]
    }
   ],
   "source": [
    "dna = \"ATGACGTACGTACGACTGATGACTTACGTACGACTG\"\n",
    "#      0123456789\n",
    "# store the match object in the variable m\n",
    "m = re.search(r\"GA[ATGC]{3}AC\", dna)\n",
    "print(\"match from \" + str(m.start()) + \" to \" + str(m.end()))\n",
    "print(dna[m.start():m.end()])"
   ]
  },
  {
   "cell_type": "markdown",
   "metadata": {},
   "source": [
    "### Finding multiple matches"
   ]
  },
  {
   "cell_type": "code",
   "execution_count": 67,
   "metadata": {},
   "outputs": [
    {
     "name": "stdout",
     "output_type": "stream",
     "text": [
      "start: 2 end 9 match GACGTAC\n",
      "start: 20 end 27 match GACTTAC\n"
     ]
    }
   ],
   "source": [
    "dna = \"ATGACGTACGTACGACTGATGACTTACGTACGACTG\"\n",
    "for match in re.finditer(r\"GA[ATGC]{3}AC\", dna):\n",
    "    print(\"start: \" + str(match.start()) + \n",
    "          \" end \" + str(match.end()) + \" match \" + match.group())"
   ]
  },
  {
   "cell_type": "code",
   "execution_count": 68,
   "metadata": {},
   "outputs": [
    {
     "name": "stdout",
     "output_type": "stream",
     "text": [
      "<callable_iterator object at 0x7fe62e6fcdc0>\n"
     ]
    }
   ],
   "source": [
    "print(re.finditer(r\"GA[ATGC]{3}AC\", dna))"
   ]
  },
  {
   "cell_type": "code",
   "execution_count": 69,
   "metadata": {},
   "outputs": [
    {
     "name": "stdout",
     "output_type": "stream",
     "text": [
      "['GACGTAC', 'GACTTAC']\n"
     ]
    }
   ],
   "source": [
    "dna = \"ATGACGTACGTACGACTGATGACTTACGTACGACTG\"\n",
    "matches = []\n",
    "for match in re.finditer(r\"GA[ATGC]{3}AC\", dna):\n",
    "    matches.append(match.group())\n",
    "print(matches)"
   ]
  },
  {
   "cell_type": "code",
   "execution_count": 70,
   "metadata": {},
   "outputs": [
    {
     "name": "stdout",
     "output_type": "stream",
     "text": [
      "['GACGTAC', 'GACTTAC']\n"
     ]
    }
   ],
   "source": [
    "dna = \"ATGACGTACGTACGACTGATGACTTACGTACGACTG\"\n",
    "matches = re.findall(r\"GA[ATGC]{3}AC\", dna)\n",
    "print(matches)"
   ]
  },
  {
   "cell_type": "code",
   "execution_count": 73,
   "metadata": {},
   "outputs": [
    {
     "name": "stdout",
     "output_type": "stream",
     "text": [
      "GACGTACGT\n",
      "CGT\n"
     ]
    }
   ],
   "source": [
    "dna = \"ATGACGTACGTACGACTGATGACTTACGTACGACTG\"\n",
    "m = re.search(r\"GA([ATGC]{3})AC[ATGC]{2}\", dna)\n",
    "print(m.group())\n",
    "print(m.group(1))"
   ]
  },
  {
   "cell_type": "code",
   "execution_count": 75,
   "metadata": {},
   "outputs": [
    {
     "name": "stdout",
     "output_type": "stream",
     "text": [
      "Abdul\n"
     ]
    }
   ],
   "source": [
    "my_text = \"Hello my name is Abdul\"\n",
    "m = re.search(r\"my name is (.*)$\", my_text)\n",
    "name = m.group(1)\n",
    "print(name)"
   ]
  },
  {
   "cell_type": "code",
   "execution_count": 76,
   "metadata": {},
   "outputs": [
    {
     "name": "stdout",
     "output_type": "stream",
     "text": [
      "John\n",
      "Adams\n"
     ]
    }
   ],
   "source": [
    "my_text = \"Hello my name is John Adams\"\n",
    "m = re.search(r\"my name is (.*) (.*)$\", my_text)\n",
    "name = m.group(1)\n",
    "surname = m.group(2)\n",
    "print(name)\n",
    "print(surname)"
   ]
  },
  {
   "cell_type": "code",
   "execution_count": 77,
   "metadata": {},
   "outputs": [
    {
     "name": "stdout",
     "output_type": "stream",
     "text": [
      "John Adams. My name is Joshua\n",
      "Bloom\n"
     ]
    }
   ],
   "source": [
    "my_text = \"Hello my name is John Adams. My name is Joshua Bloom\"\n",
    "m = re.search(r\"my name is (.*) (.*)$\", my_text)\n",
    "name = m.group(1)\n",
    "surname = m.group(2)\n",
    "print(name)\n",
    "print(surname)"
   ]
  },
  {
   "cell_type": "code",
   "execution_count": 78,
   "metadata": {},
   "outputs": [
    {
     "name": "stdout",
     "output_type": "stream",
     "text": [
      "John\n",
      "Adams\n"
     ]
    }
   ],
   "source": [
    "my_text = \"Hello my name is John Adams\"\n",
    "m = re.search(r\"my name is (.*) (.*)\", my_text)\n",
    "name = m.group(1)\n",
    "surname = m.group(2)\n",
    "print(name)\n",
    "print(surname)"
   ]
  },
  {
   "cell_type": "markdown",
   "metadata": {},
   "source": [
    "### Splitting using a regular expression"
   ]
  },
  {
   "cell_type": "code",
   "execution_count": 81,
   "metadata": {},
   "outputs": [
    {
     "name": "stdout",
     "output_type": "stream",
     "text": [
      "['ACT', 'GCAT', 'GCTACGT', 'ACGAT', 'CGA', 'TCG']\n"
     ]
    }
   ],
   "source": [
    "dna = \"ACTNGCATRGCTACGTYACGATSCGAWTCG\"\n",
    "runs = re.split(r\"[^ACTG]\", dna)\n",
    "print(runs)"
   ]
  },
  {
   "cell_type": "code",
   "execution_count": 82,
   "metadata": {},
   "outputs": [
    {
     "name": "stdout",
     "output_type": "stream",
     "text": [
      "['ACT', 'GCAT', 'GCTACGT', 'ACGAT', '', 'CGA', 'TCG']\n"
     ]
    }
   ],
   "source": [
    "dna = \"ACTNGCATRGCTACGTYACGATSNCGAWTCG\"\n",
    "runs = re.split(r\"[^ACTG]\", dna)\n",
    "print(runs)"
   ]
  },
  {
   "cell_type": "code",
   "execution_count": 83,
   "metadata": {},
   "outputs": [
    {
     "name": "stdout",
     "output_type": "stream",
     "text": [
      "['abc', 'def']\n"
     ]
    }
   ],
   "source": [
    "my_text = \"abc,def\"\n",
    "print(my_text.split(\",\"))"
   ]
  },
  {
   "cell_type": "code",
   "execution_count": 84,
   "metadata": {},
   "outputs": [
    {
     "name": "stdout",
     "output_type": "stream",
     "text": [
      "['', '', '', 'N', '', '', '', 'R', '', '', '', '', '', '', 'Y', '', '', '', '', 'SN', '', '', 'W', '', '', '']\n"
     ]
    }
   ],
   "source": [
    "dna = \"ACTNGCATRGCTACGTYACGATSNCGAWTCG\"\n",
    "runs = re.split(r\"[ACTG]\", dna)\n",
    "print(runs)"
   ]
  },
  {
   "cell_type": "code",
   "execution_count": null,
   "metadata": {},
   "outputs": [],
   "source": []
  }
 ],
 "metadata": {
  "kernelspec": {
   "display_name": "Python 3",
   "language": "python",
   "name": "python3"
  },
  "language_info": {
   "codemirror_mode": {
    "name": "ipython",
    "version": 3
   },
   "file_extension": ".py",
   "mimetype": "text/x-python",
   "name": "python",
   "nbconvert_exporter": "python",
   "pygments_lexer": "ipython3",
   "version": "3.8.1"
  }
 },
 "nbformat": 4,
 "nbformat_minor": 4
}
