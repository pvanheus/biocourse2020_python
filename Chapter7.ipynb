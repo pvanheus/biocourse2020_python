{
 "cells": [
  {
   "cell_type": "code",
   "execution_count": 1,
   "metadata": {},
   "outputs": [],
   "source": [
    "import re"
   ]
  },
  {
   "cell_type": "code",
   "execution_count": 2,
   "metadata": {},
   "outputs": [
    {
     "name": "stdout",
     "output_type": "stream",
     "text": [
      "\tHello\n"
     ]
    }
   ],
   "source": [
    "print(\"\\tHello\")"
   ]
  },
  {
   "cell_type": "code",
   "execution_count": 4,
   "metadata": {},
   "outputs": [
    {
     "name": "stdout",
     "output_type": "stream",
     "text": [
      "\\tHello\n"
     ]
    }
   ],
   "source": [
    "print(r\"\\tHello\")"
   ]
  },
  {
   "cell_type": "code",
   "execution_count": 5,
   "metadata": {},
   "outputs": [
    {
     "name": "stdout",
     "output_type": "stream",
     "text": [
      "restriction site found!\n"
     ]
    }
   ],
   "source": [
    "dna = \"ATCGCGAATTCAC\"\n",
    "if re.search(r\"GAATTC\", dna):\n",
    "    print(\"restriction site found!\")"
   ]
  },
  {
   "cell_type": "code",
   "execution_count": 6,
   "metadata": {},
   "outputs": [
    {
     "name": "stdout",
     "output_type": "stream",
     "text": [
      "restriction site found!\n"
     ]
    }
   ],
   "source": [
    "dna = \"ATCGCGAATTCAC\"\n",
    "if dna.find(\"GAATTC\") != -1:\n",
    "    print(\"restriction site found!\")"
   ]
  },
  {
   "cell_type": "code",
   "execution_count": 11,
   "metadata": {},
   "outputs": [
    {
     "name": "stdout",
     "output_type": "stream",
     "text": [
      "restriction site found!\n"
     ]
    }
   ],
   "source": [
    "dna = \"ATCGCGGTCCAATTCAC\"\n",
    "if re.search(r\"GGACC\", dna) or re.search(r\"GGTCC\", dna):\n",
    "    print(\"restriction site found!\")"
   ]
  },
  {
   "cell_type": "code",
   "execution_count": 10,
   "metadata": {},
   "outputs": [
    {
     "name": "stdout",
     "output_type": "stream",
     "text": [
      "restriction site found!\n"
     ]
    }
   ],
   "source": [
    "# now with a matching sequence\n",
    "dna = \"ATCGCGGTCCAATTCAC\"\n",
    "if re.search(r\"GG(A|T)CC\", dna):\n",
    "    print(\"restriction site found!\")"
   ]
  },
  {
   "cell_type": "code",
   "execution_count": 14,
   "metadata": {},
   "outputs": [
    {
     "name": "stdout",
     "output_type": "stream",
     "text": [
      "restriction site found!\n"
     ]
    }
   ],
   "source": [
    "# BisI restriction enzyme GCNGC\n",
    "dna = \"ATCGCGAATTCACGCAGC\"\n",
    "if re.search(r\"GC(A|T|G|C)GC\", dna):\n",
    "    print(\"restriction site found!\")"
   ]
  },
  {
   "cell_type": "code",
   "execution_count": 15,
   "metadata": {},
   "outputs": [
    {
     "name": "stdout",
     "output_type": "stream",
     "text": [
      "restriction site found!\n"
     ]
    }
   ],
   "source": [
    "# BisI restriction enzyme GCNGC\n",
    "dna = \"ATCGCGAATTCACGCAGC\"\n",
    "if re.search(r\"GC[ACTG]GC\", dna):\n",
    "    print(\"restriction site found!\")"
   ]
  },
  {
   "cell_type": "code",
   "execution_count": 22,
   "metadata": {},
   "outputs": [
    {
     "name": "stdout",
     "output_type": "stream",
     "text": [
      "Matched!\n",
      "Not matched!\n"
     ]
    }
   ],
   "source": [
    "my_text = \"Hello to the class and everyone\"\n",
    "if re.search(r\"Hello (to|class)\", my_text):\n",
    "    print(\"Matched!\")\n",
    "else:\n",
    "    print(\"Not matched!\")\n",
    "\n",
    "my_text = \"Hello World\"\n",
    "if re.search(r\"Hello (to|class)\", my_text):\n",
    "    print(\"Matched!\")\n",
    "else:\n",
    "    print(\"Not matched!\")\n"
   ]
  },
  {
   "cell_type": "code",
   "execution_count": 21,
   "metadata": {},
   "outputs": [
    {
     "name": "stdout",
     "output_type": "stream",
     "text": [
      "Matched!\n",
      "Not matched\n"
     ]
    }
   ],
   "source": [
    "my_text = \"Gene name ab654\"\n",
    "if re.search(r\"name [abc]\", my_text):\n",
    "    print(\"Matched!\")\n",
    "else:\n",
    "    print(\"Not matched\")\n",
    "my_text = \"Gene name hy654\"\n",
    "if re.search(r\"name [abc]\", my_text):\n",
    "    print(\"Matched!\")\n",
    "else:\n",
    "    print(\"Not matched\")"
   ]
  },
  {
   "cell_type": "code",
   "execution_count": 23,
   "metadata": {},
   "outputs": [
    {
     "name": "stdout",
     "output_type": "stream",
     "text": [
      "Not matched\n",
      "Matched!\n"
     ]
    }
   ],
   "source": [
    "my_text = \"Gene name ab654\"\n",
    "if re.search(r\"name [^abc]\", my_text):\n",
    "    print(\"Matched!\")\n",
    "else:\n",
    "    print(\"Not matched\")\n",
    "my_text = \"Gene name hy654\"\n",
    "if re.search(r\"name [^abc]\", my_text):\n",
    "    print(\"Matched!\")\n",
    "else:\n",
    "    print(\"Not matched\")"
   ]
  },
  {
   "cell_type": "markdown",
   "metadata": {},
   "source": [
    "### Quantification"
   ]
  },
  {
   "cell_type": "code",
   "execution_count": 24,
   "metadata": {},
   "outputs": [
    {
     "name": "stdout",
     "output_type": "stream",
     "text": [
      "it matched!\n",
      "it matched!\n",
      "it did not match\n"
     ]
    }
   ],
   "source": [
    "# ? means 0 or 1 time\n",
    "dna = \"GGGAAATTT\"\n",
    "if re.search(r\"GGG(AAA)?TTT\", dna):\n",
    "    print(\"it matched!\")\n",
    "else:\n",
    "    print(\"it did not match\")\n",
    "\n",
    "dna = \"GGGTTT\"\n",
    "if re.search(r\"GGG(AAA)?TTT\", dna):\n",
    "    print(\"it matched!\")\n",
    "else:\n",
    "    print(\"it did not match\")\n",
    "\n",
    "dna = \"GGGAAAATTT\"\n",
    "if re.search(r\"GGG(AAA)?TTT\", dna):\n",
    "    print(\"it matched!\")\n",
    "else:\n",
    "    print(\"it did not match\")\n"
   ]
  },
  {
   "cell_type": "code",
   "execution_count": 25,
   "metadata": {},
   "outputs": [
    {
     "name": "stdout",
     "output_type": "stream",
     "text": [
      "it matched!\n",
      "it matched!\n",
      "it did not match\n"
     ]
    }
   ],
   "source": [
    "# + - 1 or more\n",
    "dna = \"GGGAAATTT\"\n",
    "if re.search(r\"GGGA+TTT\", dna):\n",
    "    print(\"it matched!\")\n",
    "else:\n",
    "    print(\"it did not match\")\n",
    "dna = \"GGGATTT\"\n",
    "if re.search(r\"GGGA+TTT\", dna):\n",
    "    print(\"it matched!\")\n",
    "else:\n",
    "    print(\"it did not match\")\n",
    "dna = \"GGGTTT\"\n",
    "if re.search(r\"GGGA+TTT\", dna):\n",
    "    print(\"it matched!\")\n",
    "else:\n",
    "    print(\"it did not match\")    "
   ]
  },
  {
   "cell_type": "code",
   "execution_count": 27,
   "metadata": {},
   "outputs": [
    {
     "name": "stdout",
     "output_type": "stream",
     "text": [
      "it did not match\n",
      "it did not match\n",
      "it did not match\n",
      "it matched!\n"
     ]
    }
   ],
   "source": [
    "# + - 1 or more\n",
    "dna = \"GGGAAATTT\"\n",
    "if re.search(r\"GGG(AA)+TTT\", dna):\n",
    "    print(\"it matched!\")\n",
    "else:\n",
    "    print(\"it did not match\")\n",
    "dna = \"GGGATTT\"\n",
    "if re.search(r\"GGG(AA)+TTT\", dna):\n",
    "    print(\"it matched!\")\n",
    "else:\n",
    "    print(\"it did not match\")\n",
    "dna = \"GGGTTT\"\n",
    "if re.search(r\"GGG(AA)+TTT\", dna):\n",
    "    print(\"it matched!\")\n",
    "else:\n",
    "    print(\"it did not match\")\n",
    "dna = \"GGGAAAATTT\"\n",
    "if re.search(r\"GGG(AA)+TTT\", dna):\n",
    "    print(\"it matched!\")\n",
    "else:\n",
    "    print(\"it did not match\")    "
   ]
  },
  {
   "cell_type": "code",
   "execution_count": 28,
   "metadata": {},
   "outputs": [
    {
     "name": "stdout",
     "output_type": "stream",
     "text": [
      "it matched!\n",
      "it did not match\n",
      "it did not match\n",
      "it matched!\n"
     ]
    }
   ],
   "source": [
    "# + - 1 or more\n",
    "dna = \"GGGAAATTT\"\n",
    "if re.search(r\"GGGAA+TTT\", dna):\n",
    "    print(\"it matched!\")\n",
    "else:\n",
    "    print(\"it did not match\")\n",
    "dna = \"GGGATTT\"\n",
    "if re.search(r\"GGGAA+TTT\", dna):\n",
    "    print(\"it matched!\")\n",
    "else:\n",
    "    print(\"it did not match\")\n",
    "dna = \"GGGTTT\"\n",
    "if re.search(r\"GGGAA+TTT\", dna):\n",
    "    print(\"it matched!\")\n",
    "else:\n",
    "    print(\"it did not match\")\n",
    "dna = \"GGGAAAATTT\"\n",
    "if re.search(r\"GGGAA+TTT\", dna):\n",
    "    print(\"it matched!\")\n",
    "else:\n",
    "    print(\"it did not match\")    "
   ]
  },
  {
   "cell_type": "code",
   "execution_count": 32,
   "metadata": {},
   "outputs": [
    {
     "name": "stdout",
     "output_type": "stream",
     "text": [
      "it matched\n",
      "it matched\n",
      "it matched\n",
      "it did not match\n"
     ]
    }
   ],
   "source": [
    "# * - 0 or more\n",
    "dna = \"GGGAAATTT\"\n",
    "if re.search(r\"GGGA*TTT\", dna):\n",
    "    print(\"it matched\")\n",
    "else:\n",
    "    print(\"it did not match\")\n",
    "dna = \"GGGATTT\"\n",
    "if re.search(r\"GGGA*TTT\", dna):\n",
    "    print(\"it matched\")\n",
    "else:\n",
    "    print(\"it did not match\")\n",
    "dna = \"GGGTTT\"\n",
    "if re.search(r\"GGGA*TTT\", dna):\n",
    "    print(\"it matched\")\n",
    "else:\n",
    "    print(\"it did not match\")\n",
    "dna = \"GGGTT\"\n",
    "if re.search(r\"GGGA*TTT\", dna):\n",
    "    print(\"it matched\")\n",
    "else:\n",
    "    print(\"it did not match\")"
   ]
  },
  {
   "cell_type": "code",
   "execution_count": null,
   "metadata": {},
   "outputs": [],
   "source": []
  }
 ],
 "metadata": {
  "kernelspec": {
   "display_name": "Python 3",
   "language": "python",
   "name": "python3"
  },
  "language_info": {
   "codemirror_mode": {
    "name": "ipython",
    "version": 3
   },
   "file_extension": ".py",
   "mimetype": "text/x-python",
   "name": "python",
   "nbconvert_exporter": "python",
   "pygments_lexer": "ipython3",
   "version": "3.8.1"
  }
 },
 "nbformat": 4,
 "nbformat_minor": 4
}
