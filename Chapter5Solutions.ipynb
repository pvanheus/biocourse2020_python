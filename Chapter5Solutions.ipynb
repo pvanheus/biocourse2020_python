{
 "cells": [
  {
   "cell_type": "markdown",
   "metadata": {},
   "source": [
    "### Percentage of amino acid residues, part one"
   ]
  },
  {
   "cell_type": "code",
   "execution_count": 13,
   "metadata": {},
   "outputs": [],
   "source": [
    "def my_function(protein, amino_acid):\n",
    "    protein_upper = protein.upper()\n",
    "    amino_acid_upper = amino_acid.upper()\n",
    "    percentage = protein_upper.count(amino_acid_upper) / len(protein) * 100\n",
    "    return round(percentage)"
   ]
  },
  {
   "cell_type": "code",
   "execution_count": 11,
   "metadata": {},
   "outputs": [],
   "source": [
    "assert my_function(\"MSRSLLLRFLLFLLLLPPLP\",\"M\") == 5\n",
    "assert my_function(\"MSRSLLLRFLLFLLLLPPLP\",\"r\") == 10\n",
    "assert my_function(\"MSRSLLLRFLLFLLLLPPLP\",\"L\") == 50\n",
    "assert my_function(\"MSRSLLLRFLLFLLLLPPLP\",\"Y\") == 0\n"
   ]
  },
  {
   "cell_type": "code",
   "execution_count": null,
   "metadata": {},
   "outputs": [],
   "source": []
  },
  {
   "cell_type": "markdown",
   "metadata": {},
   "source": [
    "### Percentage of amino acid residues, part two"
   ]
  },
  {
   "cell_type": "code",
   "execution_count": 16,
   "metadata": {},
   "outputs": [],
   "source": [
    "def my_function(protein, amino_acid_list = ['A', 'I', 'L', 'M', 'F', 'W', 'Y', 'V']):\n",
    "    total_percentage = 0\n",
    "    protein_upper = protein.upper()\n",
    "    protein_length = len(protein)\n",
    "    for amino_acid in amino_acid_list:\n",
    "        percentage = protein_upper.count(amino_acid.upper()) / protein_length * 100\n",
    "        total_percentage += percentage\n",
    "    return round(total_percentage)"
   ]
  },
  {
   "cell_type": "code",
   "execution_count": 21,
   "metadata": {},
   "outputs": [],
   "source": [
    "assert my_function(\"MSRSLLLRFLLFLLLLPPLP\", [\"M\"]) == 5\n",
    "assert my_function(\"MSRSLLLRFLLFLLLLPPLP\", [\"M\", \"L\"]) == 55\n",
    "assert my_function(\"MSRSLLLRFLLFLLLLPPLP\", [\"F\", \"S\", \"L\"]) == 70\n",
    "assert my_function(\"MSRSLLLRFLLFLLLLPPLP\") == 65"
   ]
  },
  {
   "cell_type": "code",
   "execution_count": null,
   "metadata": {},
   "outputs": [],
   "source": []
  }
 ],
 "metadata": {
  "kernelspec": {
   "display_name": "Python 3",
   "language": "python",
   "name": "python3"
  },
  "language_info": {
   "codemirror_mode": {
    "name": "ipython",
    "version": 3
   },
   "file_extension": ".py",
   "mimetype": "text/x-python",
   "name": "python",
   "nbconvert_exporter": "python",
   "pygments_lexer": "ipython3",
   "version": "3.8.1"
  }
 },
 "nbformat": 4,
 "nbformat_minor": 4
}
