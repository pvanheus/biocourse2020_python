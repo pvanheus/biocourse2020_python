{
 "cells": [
  {
   "cell_type": "markdown",
   "metadata": {},
   "source": [
    "### Processing DNA in a file"
   ]
  },
  {
   "cell_type": "code",
   "execution_count": 1,
   "metadata": {},
   "outputs": [
    {
     "name": "stdout",
     "output_type": "stream",
     "text": [
      "ATTCGATTATAAGCTCGATCGATCGATCGATCGATCGATCGATCGATCGATCGATC\n",
      "ATTCGATTATAAGCACTGATCGATCGATCGATCGATCGATGCTATCGTCGT\n",
      "ATTCGATTATAAGCATCGATCACGATCTATCGTACGTATGCATATCGATATCGATCGTAGTC\n",
      "ATTCGATTATAAGCACTATCGATGATCTAGCTACGATCGTAGCTGTA\n",
      "ATTCGATTATAAGCACTAGCTAGTCTCGATGCATGATCAGCTTAGCTGATGATGCTATGCA\n",
      "\n"
     ]
    }
   ],
   "source": [
    "data = open('input.txt').read()\n",
    "print(data)"
   ]
  },
  {
   "cell_type": "code",
   "execution_count": 40,
   "metadata": {},
   "outputs": [
    {
     "name": "stdout",
     "output_type": "stream",
     "text": [
      "42\n",
      "37\n",
      "48\n",
      "33\n",
      "47\n"
     ]
    }
   ],
   "source": [
    "input_file = open('input.txt')\n",
    "output_file = open('output.txt', 'w')\n",
    "\n",
    "for line in input_file:\n",
    "    output_line = line[14:100]\n",
    "    # the length of the sequence is equal to \n",
    "    # len(output_line) - 1 because output_line ends with \\n    \n",
    "    print(str(len(output_line) - 1))\n",
    "    output_file.write(output_line)\n",
    "input_file.close()\n",
    "output_file.close()"
   ]
  },
  {
   "cell_type": "code",
   "execution_count": 8,
   "metadata": {},
   "outputs": [
    {
     "name": "stdout",
     "output_type": "stream",
     "text": [
      "TCGATCGATCGATCGATCGATCGATCGATCGATCGATCGATC\n",
      "ACTGATCGATCGATCGATCGATCGATGCTATCGTCGT\n",
      "ATCGATCACGATCTATCGTACGTATGCATATCGATATCGATCGTAGTC\n",
      "ACTATCGATGATCTAGCTACGATCGTAGCTGTA\n",
      "ACTAGCTAGTCTCGATGCATGATCAGCTTAGCTGATGATGCTATGCA\n",
      "\n"
     ]
    }
   ],
   "source": [
    "data = open('output.txt').read()\n",
    "print(data)"
   ]
  },
  {
   "cell_type": "markdown",
   "metadata": {},
   "source": [
    "### Multiple exons from genomic DNA"
   ]
  },
  {
   "cell_type": "markdown",
   "metadata": {},
   "source": [
    "The data for this exercise is in `genomic_dna.txt` and `exons.txt`. The `genomic_dna.txt` file contains some DNA, all in a single line (terminated with `\\n`). The `exons.txt` contains a list of start and end positions of exons. Each exon is described in a single line, with start and end positions separated with a comma."
   ]
  },
  {
   "cell_type": "code",
   "execution_count": 1,
   "metadata": {},
   "outputs": [],
   "source": [
    "genomic_dna_filename = 'genomic_dna.txt'\n",
    "genomic_dna_file = open(genomic_dna_filename)\n",
    "# .read() is a file object function - this will read the whole of the genomic DNA data from the genomic_dna_file as a text string\n",
    "# .rstrip('\\n')  will strip (i.e. remove) the '\\n' from the end of the text string that .read() returns\n",
    "genomic_dna = genomic_dna_file.read().rstrip('\\n')"
   ]
  },
  {
   "cell_type": "code",
   "execution_count": 2,
   "metadata": {},
   "outputs": [
    {
     "name": "stdout",
     "output_type": "stream",
     "text": [
      "TCGATCGTACCGTCGACGATGCTACGATCGTCGATCGTAGTCGATCATCGATCGATCGACTGATCGATCGATCGATCGATCGATATCGATCGATATCATCGATGCATCGATCATCGATCGATCGATCGATCGATCGATCATATGTCAGTCGATGCATCGTAGCATCGTATAGTAGCTACGTAGCTACGATCGATCGATCGATCGTAGCTAGCTAGCTAGATCGATCATCATCGTAGCTAGCTCGACTAGCTACGTACGATCGATGCATCGATCGTAGCTAGTACGATCGCGTAGCTAGCATGCTACGTAGATCGATCGATGCATGCTAGCTAGCTAGCTACGATCGATCGATCGATCGATCGATCGATCGATCGATCGATCGTAGCTAGCTACGATCGATGCTACGTAGATCGATCGCTAGTAGATCGATCGCTAGCTAGCTGACTAGTACGCTGCTAGTAGTCAGCTAGATCGATGCTAGTCA\n"
     ]
    }
   ],
   "source": [
    "# show the genomic_dna\n",
    "print(genomic_dna)"
   ]
  },
  {
   "cell_type": "code",
   "execution_count": 9,
   "metadata": {},
   "outputs": [
    {
     "name": "stdout",
     "output_type": "stream",
     "text": [
      "start: 5\tstop: 58\tCGTACCGTCGACGATGCTACGATCGTCGATCGTAGTCGATCATCGATCGATCG\n",
      "start: 72\tstop: 133\tCGATCGATCGATATCGATCGATATCATCGATGCATCGATCATCGATCGATCGATCGATCGA\n",
      "start: 190\tstop: 276\tCGATCGATCGATCGTAGCTAGCTAGCTAGATCGATCATCATCGTAGCTAGCTCGACTAGCTACGTACGATCGATGCATCGATCGTA\n",
      "start: 340\tstop: 398\tCGATCGATCGATCGATCGATCGATCGATCGATCGATCGATCGTAGCTAGCTACGATCG\n"
     ]
    }
   ],
   "source": [
    "# first let us just examine the exons by printing them to the screen.\n",
    "exons_filename = 'exons.txt'\n",
    "exons_file = open(exons_filename)\n",
    "\n",
    "# each line in exons_file is 'START,STOP\\n' where START and STOP are numbers\n",
    "for line in exons_file:\n",
    "    exon_coordinates = line.split(',')\n",
    "    # the START and STOP coordinates are numbers but we get them as text strings so we need to convert them to numbers with int()\n",
    "    start = int(exon_coordinates[0])\n",
    "    stop = int(exon_coordinates[1])\n",
    "    exon_text = genomic_dna[start:stop]\n",
    "    print(\"start: \" + str(start) + \"\\tstop: \" + str(stop) + \"\\t\" + exon_text)"
   ]
  },
  {
   "cell_type": "code",
   "execution_count": 13,
   "metadata": {},
   "outputs": [],
   "source": [
    "# I am copying the code from above to this cell so that the whole solution is visible in a single cell\n",
    "genomic_dna_filename = 'genomic_dna.txt'\n",
    "genomic_dna_file = open(genomic_dna_filename)\n",
    "genomic_dna = genomic_dna_file.read().rstrip('\\n')\n",
    "\n",
    "# now that we have verified that we can extract the exons from the file, let us write them to the output file\n",
    "exons_filename = 'exons.txt'\n",
    "exons_file = open(exons_filename)\n",
    "\n",
    "# we can choose any suitable name for the output filename. here I choose 'coding_dna.txt'\n",
    "output_filename = 'coding_dna.txt'\n",
    "output_file = open(output_filename, 'w')\n",
    "# each line in exons_file is 'START,STOP\\n' where START and STOP are numbers\n",
    "for line in exons_file:\n",
    "    exon_coordinates = line.split(',')\n",
    "    # the START and STOP coordinates are numbers but we get them as text strings so we need to convert them to numbers with int()\n",
    "    start = int(exon_coordinates[0])\n",
    "    stop = int(exon_coordinates[1])\n",
    "    # genomic_dna is a text string containing the whole genomic sequence.\n",
    "    # the exon_sequence is extracted it using the [] slicing operator\n",
    "    exon_sequence = genomic_dna[start:stop]\n",
    "    # remember that when we use .write() it updates the file pointer, so the next time we .write() we add to the text in the output_file\n",
    "    output_file.write(exon_sequence)\n",
    "output_file.close()"
   ]
  },
  {
   "cell_type": "code",
   "execution_count": null,
   "metadata": {},
   "outputs": [],
   "source": []
  },
  {
   "cell_type": "markdown",
   "metadata": {},
   "source": [
    "### Processing DNA in a file - working notes"
   ]
  },
  {
   "cell_type": "code",
   "execution_count": 3,
   "metadata": {},
   "outputs": [],
   "source": [
    "input_file = open('input.txt')"
   ]
  },
  {
   "cell_type": "code",
   "execution_count": 2,
   "metadata": {},
   "outputs": [
    {
     "data": {
      "text/plain": [
       "'ATTCGATTATAAGCTCGATCGATCGATCGATCGATCGATCGATCGATCGATCGATC\\nATTCGATTATAAGCACTGATCGATCGATCGATCGATCGATGCTATCGTCGT\\nATTCGATTATAAGCATCGATCACGATCTATCGTACGTATGCATATCGATATCGATCGTAGTC\\nATTCGATTATAAGCACTATCGATGATCTAGCTACGATCGTAGCTGTA\\nATTCGATTATAAGCACTAGCTAGTCTCGATGCATGATCAGCTTAGCTGATGATGCTATGCA\\n'"
      ]
     },
     "execution_count": 2,
     "metadata": {},
     "output_type": "execute_result"
    }
   ],
   "source": [
    "input_file.read()"
   ]
  },
  {
   "cell_type": "code",
   "execution_count": 13,
   "metadata": {},
   "outputs": [],
   "source": [
    "input_file = open('input.txt')"
   ]
  },
  {
   "cell_type": "code",
   "execution_count": 4,
   "metadata": {},
   "outputs": [
    {
     "name": "stdout",
     "output_type": "stream",
     "text": [
      "ATTCGATTATAAGCTCGATCGATCGATCGATCGATCGATCGATCGATCGATCGATC\n",
      "\n",
      "ATTCGATTATAAGCACTGATCGATCGATCGATCGATCGATGCTATCGTCGT\n",
      "\n",
      "ATTCGATTATAAGCATCGATCACGATCTATCGTACGTATGCATATCGATATCGATCGTAGTC\n",
      "\n",
      "ATTCGATTATAAGCACTATCGATGATCTAGCTACGATCGTAGCTGTA\n",
      "\n",
      "ATTCGATTATAAGCACTAGCTAGTCTCGATGCATGATCAGCTTAGCTGATGATGCTATGCA\n",
      "\n"
     ]
    }
   ],
   "source": [
    "for peter in input_file:\n",
    "    print(peter)"
   ]
  },
  {
   "cell_type": "code",
   "execution_count": 5,
   "metadata": {},
   "outputs": [],
   "source": [
    "for peter in input_file:\n",
    "    print(peter)"
   ]
  },
  {
   "cell_type": "code",
   "execution_count": 7,
   "metadata": {},
   "outputs": [],
   "source": [
    "word = 'banana'"
   ]
  },
  {
   "cell_type": "code",
   "execution_count": 8,
   "metadata": {},
   "outputs": [
    {
     "name": "stdout",
     "output_type": "stream",
     "text": [
      "b\n",
      "a\n",
      "n\n",
      "a\n",
      "n\n",
      "a\n"
     ]
    }
   ],
   "source": [
    "for letter in word:\n",
    "    print(letter)"
   ]
  },
  {
   "cell_type": "code",
   "execution_count": 9,
   "metadata": {},
   "outputs": [
    {
     "name": "stdout",
     "output_type": "stream",
     "text": [
      "b\n",
      "a\n",
      "n\n",
      "a\n",
      "n\n",
      "a\n"
     ]
    }
   ],
   "source": [
    "for letter in word:\n",
    "    print(letter)"
   ]
  },
  {
   "cell_type": "code",
   "execution_count": 10,
   "metadata": {},
   "outputs": [],
   "source": [
    "input_file = open('input.txt')"
   ]
  },
  {
   "cell_type": "code",
   "execution_count": 11,
   "metadata": {},
   "outputs": [
    {
     "data": {
      "text/plain": [
       "'ATTCGATTATAAGCTCGATCGATCGATCGATCGATCGATCGATCGATCGATCGATC\\nATTCGATTATAAGCACTGATCGATCGATCGATCGATCGATGCTATCGTCGT\\nATTCGATTATAAGCATCGATCACGATCTATCGTACGTATGCATATCGATATCGATCGTAGTC\\nATTCGATTATAAGCACTATCGATGATCTAGCTACGATCGTAGCTGTA\\nATTCGATTATAAGCACTAGCTAGTCTCGATGCATGATCAGCTTAGCTGATGATGCTATGCA\\n'"
      ]
     },
     "execution_count": 11,
     "metadata": {},
     "output_type": "execute_result"
    }
   ],
   "source": [
    "input_file.read()"
   ]
  },
  {
   "cell_type": "code",
   "execution_count": 12,
   "metadata": {},
   "outputs": [
    {
     "data": {
      "text/plain": [
       "''"
      ]
     },
     "execution_count": 12,
     "metadata": {},
     "output_type": "execute_result"
    }
   ],
   "source": [
    "input_file.read()"
   ]
  },
  {
   "cell_type": "code",
   "execution_count": 17,
   "metadata": {},
   "outputs": [
    {
     "data": {
      "text/plain": [
       "'ATTCGATTATAAGCTCGATCGATCGATCGATCGATCGATCGATCGATCGATCGATC\\nATTCGATTATAAGCACTGATCGATCGATCGATCGATCGATGCTATCGTCGT\\nATTCGATTATAAGCATCGATCACGATCTATCGTACGTATGCATATCGATATCGATCGTAGTC\\nATTCGATTATAAGCACTATCGATGATCTAGCTACGATCGTAGCTGTA\\nATTCGATTATAAGCACTAGCTAGTCTCGATGCATGATCAGCTTAGCTGATGATGCTATGCA\\n'"
      ]
     },
     "execution_count": 17,
     "metadata": {},
     "output_type": "execute_result"
    }
   ],
   "source": [
    "input_file = open('input.txt')\n",
    "input_file.read()"
   ]
  },
  {
   "cell_type": "code",
   "execution_count": 19,
   "metadata": {},
   "outputs": [
    {
     "name": "stdout",
     "output_type": "stream",
     "text": [
      "ATTCGATTATAAGCTCGATCGATCGATCGATCGATCGATCGATCGATCGATCGATC\n",
      "\n",
      "ATTCGATTATAAGCACTGATCGATCGATCGATCGATCGATGCTATCGTCGT\n",
      "\n",
      "ATTCGATTATAAGCATCGATCACGATCTATCGTACGTATGCATATCGATATCGATCGTAGTC\n",
      "\n",
      "ATTCGATTATAAGCACTATCGATGATCTAGCTACGATCGTAGCTGTA\n",
      "\n",
      "ATTCGATTATAAGCACTAGCTAGTCTCGATGCATGATCAGCTTAGCTGATGATGCTATGCA\n",
      "\n"
     ]
    }
   ],
   "source": [
    "input_file = open('input.txt')\n",
    "\n",
    "for peter in input_file:\n",
    "    print(peter)"
   ]
  },
  {
   "cell_type": "code",
   "execution_count": 20,
   "metadata": {},
   "outputs": [
    {
     "name": "stdout",
     "output_type": "stream",
     "text": [
      "TCGATCGATCGATCGATCGATCGATCGATCGATCGATCGATC\n",
      "ACTGATCGATCGATCGATCGATCGATGCTATCGTCGT\n",
      "ATCGATCACGATCTATCGTACGTATGCATATCGATATCGATCGTAGTC\n",
      "ACTATCGATGATCTAGCTACGATCGTAGCTGTA\n",
      "ACTAGCTAGTCTCGATGCATGATCAGCTTAGCTGATGATGCTATGCA\n"
     ]
    }
   ],
   "source": [
    "input_file = open('input.txt')\n",
    "\n",
    "for line in input_file:\n",
    "    output_line = line[14:1000]\n",
    "    print(output_line, end='')"
   ]
  },
  {
   "cell_type": "code",
   "execution_count": 23,
   "metadata": {},
   "outputs": [
    {
     "name": "stdout",
     "output_type": "stream",
     "text": [
      "Hello WorldToday is Monday\n"
     ]
    }
   ],
   "source": [
    "print('Hello World', end='')\n",
    "print('Today is Monday')"
   ]
  },
  {
   "cell_type": "code",
   "execution_count": 31,
   "metadata": {},
   "outputs": [
    {
     "name": "stdout",
     "output_type": "stream",
     "text": [
      "43\n",
      "43\n",
      "38\n",
      "38\n",
      "49\n",
      "49\n",
      "34\n",
      "34\n",
      "48\n",
      "48\n"
     ]
    }
   ],
   "source": [
    "input_file = open('input.txt')\n",
    "output_filename = 'output.txt'\n",
    "output_file = open(output_filename, 'w')\n",
    "\n",
    "for line in input_file:\n",
    "    output_line = line[14:1000]\n",
    "    output_file.write(output_line)\n",
    "#     print(output_line, end='')\n",
    "#     print(str(len(line) - 14))\n",
    "    print(str(len(output_line)))\n",
    "output_file.close()\n",
    "\n"
   ]
  },
  {
   "cell_type": "code",
   "execution_count": 36,
   "metadata": {},
   "outputs": [
    {
     "name": "stdout",
     "output_type": "stream",
     "text": [
      "ATTCGATTATAAGCT\n",
      "T\n",
      "1\n"
     ]
    }
   ],
   "source": [
    "input_file = open('input2.txt')\n",
    "output_filename = 'output.txt'\n",
    "output_file = open(output_filename, 'w')\n",
    "\n",
    "for line in input_file:\n",
    "    output_line = line[14:1000]\n",
    "    output_file.write(output_line)\n",
    "    print(line, end='')\n",
    "    print(output_line, end='')\n",
    "#     print(str(len(line) - 14))\n",
    "    # the length of the sequence is equal to \n",
    "    # len(output_line) - 1 because output_line ends with \\n\n",
    "    print(str(len(output_line) - 1))\n",
    "output_file.close()\n",
    "\n"
   ]
  },
  {
   "cell_type": "code",
   "execution_count": null,
   "metadata": {},
   "outputs": [],
   "source": []
  }
 ],
 "metadata": {
  "kernelspec": {
   "display_name": "Python 3",
   "language": "python",
   "name": "python3"
  },
  "language_info": {
   "codemirror_mode": {
    "name": "ipython",
    "version": 3
   },
   "file_extension": ".py",
   "mimetype": "text/x-python",
   "name": "python",
   "nbconvert_exporter": "python",
   "pygments_lexer": "ipython3",
   "version": "3.8.1"
  }
 },
 "nbformat": 4,
 "nbformat_minor": 4
}
