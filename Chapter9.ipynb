{
 "cells": [
  {
   "cell_type": "markdown",
   "metadata": {},
   "source": [
    "my_file = open('old.txt', 'w')\n",
    "my_file.write('something')\n",
    "my_file.close()"
   ]
  },
  {
   "cell_type": "markdown",
   "metadata": {},
   "source": [
    "### The Python os module\n",
    "\n",
    "Documentation for the os module is [here](https://docs.python.org/3/library/os.html)."
   ]
  },
  {
   "cell_type": "code",
   "execution_count": 2,
   "metadata": {},
   "outputs": [],
   "source": [
    "import os"
   ]
  },
  {
   "cell_type": "code",
   "execution_count": 3,
   "metadata": {},
   "outputs": [],
   "source": [
    "os.rename('old.txt', 'new.txt')"
   ]
  },
  {
   "cell_type": "code",
   "execution_count": 4,
   "metadata": {},
   "outputs": [
    {
     "ename": "FileNotFoundError",
     "evalue": "[Errno 2] No such file or directory: 'oold.txt' -> 'new.txt'",
     "output_type": "error",
     "traceback": [
      "\u001b[0;31m---------------------------------------------------------------------------\u001b[0m",
      "\u001b[0;31mFileNotFoundError\u001b[0m                         Traceback (most recent call last)",
      "\u001b[0;32m<ipython-input-4-04f7905bf242>\u001b[0m in \u001b[0;36m<module>\u001b[0;34m\u001b[0m\n\u001b[0;32m----> 1\u001b[0;31m \u001b[0mos\u001b[0m\u001b[0;34m.\u001b[0m\u001b[0mrename\u001b[0m\u001b[0;34m(\u001b[0m\u001b[0;34m'oold.txt'\u001b[0m\u001b[0;34m,\u001b[0m \u001b[0;34m'new.txt'\u001b[0m\u001b[0;34m)\u001b[0m\u001b[0;34m\u001b[0m\u001b[0;34m\u001b[0m\u001b[0m\n\u001b[0m",
      "\u001b[0;31mFileNotFoundError\u001b[0m: [Errno 2] No such file or directory: 'oold.txt' -> 'new.txt'"
     ]
    }
   ],
   "source": [
    "os.rename('oold.txt', 'new.txt')"
   ]
  },
  {
   "cell_type": "code",
   "execution_count": 5,
   "metadata": {},
   "outputs": [],
   "source": [
    "os.rename('new.txt', 'chapter9/new.txt')"
   ]
  },
  {
   "cell_type": "code",
   "execution_count": 7,
   "metadata": {},
   "outputs": [
    {
     "data": {
      "text/plain": [
       "'/home/jupyter-user6'"
      ]
     },
     "execution_count": 7,
     "metadata": {},
     "output_type": "execute_result"
    }
   ],
   "source": [
    "# get current working directory - equivalent to pwd in bash\n",
    "os.getcwd()"
   ]
  },
  {
   "cell_type": "code",
   "execution_count": 8,
   "metadata": {},
   "outputs": [
    {
     "data": {
      "text/plain": [
       "'/home/jupyter-user6/chapter9'"
      ]
     },
     "execution_count": 8,
     "metadata": {},
     "output_type": "execute_result"
    }
   ],
   "source": [
    "# the equivalent of cd\n",
    "os.chdir('chapter9')\n",
    "os.getcwd()"
   ]
  },
  {
   "cell_type": "code",
   "execution_count": 9,
   "metadata": {},
   "outputs": [
    {
     "data": {
      "text/plain": [
       "'/home/jupyter-user6/chapter9'"
      ]
     },
     "execution_count": 9,
     "metadata": {},
     "output_type": "execute_result"
    }
   ],
   "source": [
    "pwd"
   ]
  },
  {
   "cell_type": "code",
   "execution_count": 10,
   "metadata": {},
   "outputs": [
    {
     "name": "stdout",
     "output_type": "stream",
     "text": [
      "my directory: /home/jupyter-user6/chapter9\n"
     ]
    }
   ],
   "source": [
    "my_directory = os.getcwd()\n",
    "print('my directory:', my_directory)"
   ]
  },
  {
   "cell_type": "code",
   "execution_count": 11,
   "metadata": {},
   "outputs": [
    {
     "ename": "NameError",
     "evalue": "name 'pwd' is not defined",
     "output_type": "error",
     "traceback": [
      "\u001b[0;31m---------------------------------------------------------------------------\u001b[0m",
      "\u001b[0;31mNameError\u001b[0m                                 Traceback (most recent call last)",
      "\u001b[0;32m<ipython-input-11-9060afd48370>\u001b[0m in \u001b[0;36m<module>\u001b[0;34m\u001b[0m\n\u001b[0;32m----> 1\u001b[0;31m \u001b[0mmy_directory\u001b[0m \u001b[0;34m=\u001b[0m \u001b[0mpwd\u001b[0m\u001b[0;34m\u001b[0m\u001b[0;34m\u001b[0m\u001b[0m\n\u001b[0m",
      "\u001b[0;31mNameError\u001b[0m: name 'pwd' is not defined"
     ]
    }
   ],
   "source": [
    "my_directory = pwd"
   ]
  },
  {
   "cell_type": "code",
   "execution_count": 12,
   "metadata": {},
   "outputs": [],
   "source": [
    "my_file = open('newer.txt', 'w')\n",
    "my_file.write('something')\n",
    "my_file.close()"
   ]
  },
  {
   "cell_type": "code",
   "execution_count": 13,
   "metadata": {},
   "outputs": [],
   "source": [
    "my_file = open('../newest.txt', 'w')\n",
    "my_file.write('something')\n",
    "my_file.close()"
   ]
  },
  {
   "cell_type": "code",
   "execution_count": 14,
   "metadata": {},
   "outputs": [],
   "source": [
    "os.chdir('/home/jupyter-user6')"
   ]
  },
  {
   "cell_type": "code",
   "execution_count": 15,
   "metadata": {},
   "outputs": [
    {
     "data": {
      "text/plain": [
       "'/home/jupyter-user6'"
      ]
     },
     "execution_count": 15,
     "metadata": {},
     "output_type": "execute_result"
    }
   ],
   "source": [
    "os.getcwd()"
   ]
  },
  {
   "cell_type": "code",
   "execution_count": 16,
   "metadata": {},
   "outputs": [],
   "source": [
    "# make a directory\n",
    "os.mkdir('new_directory')"
   ]
  },
  {
   "cell_type": "code",
   "execution_count": 17,
   "metadata": {},
   "outputs": [],
   "source": [
    "import shutil"
   ]
  },
  {
   "cell_type": "code",
   "execution_count": 18,
   "metadata": {},
   "outputs": [
    {
     "data": {
      "text/plain": [
       "'copy_of_newest.txt'"
      ]
     },
     "execution_count": 18,
     "metadata": {},
     "output_type": "execute_result"
    }
   ],
   "source": [
    "shutil.copy('newest.txt', 'copy_of_newest.txt')"
   ]
  },
  {
   "cell_type": "code",
   "execution_count": 21,
   "metadata": {},
   "outputs": [],
   "source": [
    "os.rename('copy_of_newest.txt', 'copy of newest.txt')"
   ]
  },
  {
   "cell_type": "code",
   "execution_count": 22,
   "metadata": {},
   "outputs": [
    {
     "data": {
      "text/plain": [
       "'copy_of_newest.txt'"
      ]
     },
     "execution_count": 22,
     "metadata": {},
     "output_type": "execute_result"
    }
   ],
   "source": [
    "shutil.copy('copy of newest.txt', 'copy_of_newest.txt')"
   ]
  },
  {
   "cell_type": "code",
   "execution_count": 23,
   "metadata": {},
   "outputs": [
    {
     "name": "stdout",
     "output_type": "stream",
     "text": [
      "/home/jupyter-user6/chapter9\n"
     ]
    }
   ],
   "source": [
    "cd chapter9"
   ]
  },
  {
   "cell_type": "code",
   "execution_count": 24,
   "metadata": {},
   "outputs": [
    {
     "data": {
      "text/plain": [
       "'/home/jupyter-user6/chapter9'"
      ]
     },
     "execution_count": 24,
     "metadata": {},
     "output_type": "execute_result"
    }
   ],
   "source": [
    "os.getcwd()"
   ]
  },
  {
   "cell_type": "code",
   "execution_count": 25,
   "metadata": {},
   "outputs": [
    {
     "name": "stdout",
     "output_type": "stream",
     "text": [
      "/home/jupyter-user6\n"
     ]
    }
   ],
   "source": [
    "cd .."
   ]
  },
  {
   "cell_type": "code",
   "execution_count": 26,
   "metadata": {},
   "outputs": [
    {
     "ename": "SyntaxError",
     "evalue": "invalid syntax (<ipython-input-26-3a4c0729f01d>, line 2)",
     "output_type": "error",
     "traceback": [
      "\u001b[0;36m  File \u001b[0;32m\"<ipython-input-26-3a4c0729f01d>\"\u001b[0;36m, line \u001b[0;32m2\u001b[0m\n\u001b[0;31m    cd chapter9\u001b[0m\n\u001b[0m       ^\u001b[0m\n\u001b[0;31mSyntaxError\u001b[0m\u001b[0;31m:\u001b[0m invalid syntax\n"
     ]
    }
   ],
   "source": [
    "# jupyter command\n",
    "cd chapter9"
   ]
  },
  {
   "cell_type": "code",
   "execution_count": 27,
   "metadata": {},
   "outputs": [
    {
     "data": {
      "text/plain": [
       "'/home/jupyter-user6/chapter9.backup'"
      ]
     },
     "execution_count": 27,
     "metadata": {},
     "output_type": "execute_result"
    }
   ],
   "source": [
    "shutil.copytree('chapter9', '/home/jupyter-user6/chapter9.backup')"
   ]
  },
  {
   "cell_type": "markdown",
   "metadata": {},
   "source": [
    "#### Python 3 pathlib module\n",
    "\n",
    "The [pathlib](https://docs.python.org/3/library/pathlib.html) module lets you do many things with paths. This has replaced the older `os.path` module."
   ]
  },
  {
   "cell_type": "code",
   "execution_count": 28,
   "metadata": {},
   "outputs": [],
   "source": [
    "import pathlib\n",
    "\n",
    "path = pathlib.Path('chapter9')"
   ]
  },
  {
   "cell_type": "code",
   "execution_count": 29,
   "metadata": {},
   "outputs": [
    {
     "name": "stdout",
     "output_type": "stream",
     "text": [
      "That path exists\n"
     ]
    }
   ],
   "source": [
    "if path.exists():\n",
    "    print(\"That path exists\")\n",
    "else:\n",
    "    print(\"no such path\")"
   ]
  },
  {
   "cell_type": "code",
   "execution_count": 30,
   "metadata": {},
   "outputs": [],
   "source": [
    "# removing single files\n",
    "os.remove('copy of newest.txt')"
   ]
  },
  {
   "cell_type": "code",
   "execution_count": 31,
   "metadata": {},
   "outputs": [],
   "source": [
    "os.mkdir('empty_directory')"
   ]
  },
  {
   "cell_type": "code",
   "execution_count": 32,
   "metadata": {},
   "outputs": [],
   "source": [
    "# removes empty directory\n",
    "os.rmdir('empty_directory')"
   ]
  },
  {
   "cell_type": "code",
   "execution_count": 33,
   "metadata": {},
   "outputs": [
    {
     "ename": "OSError",
     "evalue": "[Errno 39] Directory not empty: 'chapter9'",
     "output_type": "error",
     "traceback": [
      "\u001b[0;31m---------------------------------------------------------------------------\u001b[0m",
      "\u001b[0;31mOSError\u001b[0m                                   Traceback (most recent call last)",
      "\u001b[0;32m<ipython-input-33-87c5e3889acb>\u001b[0m in \u001b[0;36m<module>\u001b[0;34m\u001b[0m\n\u001b[1;32m      1\u001b[0m \u001b[0;31m# does not work with directory with files in\u001b[0m\u001b[0;34m\u001b[0m\u001b[0;34m\u001b[0m\u001b[0;34m\u001b[0m\u001b[0m\n\u001b[0;32m----> 2\u001b[0;31m \u001b[0mos\u001b[0m\u001b[0;34m.\u001b[0m\u001b[0mrmdir\u001b[0m\u001b[0;34m(\u001b[0m\u001b[0;34m'chapter9'\u001b[0m\u001b[0;34m)\u001b[0m\u001b[0;34m\u001b[0m\u001b[0;34m\u001b[0m\u001b[0m\n\u001b[0m",
      "\u001b[0;31mOSError\u001b[0m: [Errno 39] Directory not empty: 'chapter9'"
     ]
    }
   ],
   "source": [
    "# does not work with directory with files in\n",
    "os.rmdir('chapter9')"
   ]
  },
  {
   "cell_type": "code",
   "execution_count": 34,
   "metadata": {},
   "outputs": [],
   "source": [
    "# remove entire tree\n",
    "shutil.rmtree('chapter9')"
   ]
  },
  {
   "cell_type": "code",
   "execution_count": 35,
   "metadata": {},
   "outputs": [
    {
     "data": {
      "text/plain": [
       "['python_for_biologists_exercises.zip',\n",
       " 'coding.txt',\n",
       " 'Chapter4ExercisePreparation.ipynb',\n",
       " 'Chapter5Solutions.ipynb',\n",
       " 'ExperimentsWithBackslashN.ipynb',\n",
       " 'genomic_dna.txt',\n",
       " 'non_coding.txt',\n",
       " 'Untitled2.ipynb',\n",
       " 'Chapter2Solutions.ipynb',\n",
       " 'HIJ789.fasta',\n",
       " 'Chapter9.ipynb',\n",
       " 'trimmed.txt',\n",
       " 'copy_of_newest.txt',\n",
       " 'test.txt',\n",
       " '.git',\n",
       " 'newest.txt',\n",
       " 'Chapter7Exercises.ipynb',\n",
       " 'Chapter4Solutions.ipynb',\n",
       " '.ssh',\n",
       " 'exons.txt',\n",
       " 'output.txt',\n",
       " 'FizzBuzz.ipynb',\n",
       " '.bash_history',\n",
       " 'ABC123.fasta',\n",
       " '.jupyter',\n",
       " 'coding_dna.txt',\n",
       " 'output',\n",
       " 'Chapter2.ipynb',\n",
       " '.viminfo',\n",
       " 'Chapter3Solutions.ipynb',\n",
       " 'README.md',\n",
       " '.wget-hsts',\n",
       " 'four.txt',\n",
       " 'Chapter3.ipynb',\n",
       " 'input2.txt',\n",
       " 'remove_adapter.py',\n",
       " 'Untitled1.ipynb',\n",
       " 'Untitled.ipynb',\n",
       " '.local',\n",
       " '.bash_logout',\n",
       " 'data.csv',\n",
       " 'three.txt',\n",
       " 'Chapter8.ipynb',\n",
       " '.cache',\n",
       " 'one.txt',\n",
       " 'chapter9.backup',\n",
       " 'DEF456.fasta',\n",
       " 'LICENSE',\n",
       " 'Chapter6.ipynb',\n",
       " 'out.txt',\n",
       " '.bashrc',\n",
       " 'new_directory',\n",
       " '.gitconfig',\n",
       " '.ipython',\n",
       " '.profile',\n",
       " 'Chapter7.ipynb',\n",
       " 'trimmed_sequences.txt',\n",
       " '.gitignore',\n",
       " 'file1.fasta',\n",
       " 'dna.txt',\n",
       " 'Chapter6Exercises.ipynb',\n",
       " 'untitled.txt',\n",
       " 'five.txt',\n",
       " 'input.txt',\n",
       " 'coding_sequence.txt',\n",
       " 'Chapter4.ipynb',\n",
       " 'Chapter5.ipynb',\n",
       " 're_dna.txt',\n",
       " 'exercises and examples',\n",
       " 'two.txt',\n",
       " '.ipynb_checkpoints',\n",
       " 'write_coding_sequence.py',\n",
       " '.config']"
      ]
     },
     "execution_count": 35,
     "metadata": {},
     "output_type": "execute_result"
    }
   ],
   "source": [
    "# the ls equivalent\n",
    "os.listdir()"
   ]
  },
  {
   "cell_type": "code",
   "execution_count": 36,
   "metadata": {},
   "outputs": [
    {
     "data": {
      "text/plain": [
       "['.bash_history',\n",
       " '.bash_logout',\n",
       " '.bashrc',\n",
       " '.cache',\n",
       " '.config',\n",
       " '.git',\n",
       " '.gitconfig',\n",
       " '.gitignore',\n",
       " '.ipynb_checkpoints',\n",
       " '.ipython',\n",
       " '.jupyter',\n",
       " '.local',\n",
       " '.profile',\n",
       " '.ssh',\n",
       " '.viminfo',\n",
       " '.wget-hsts',\n",
       " 'ABC123.fasta',\n",
       " 'Chapter2.ipynb',\n",
       " 'Chapter2Solutions.ipynb',\n",
       " 'Chapter3.ipynb',\n",
       " 'Chapter3Solutions.ipynb',\n",
       " 'Chapter4.ipynb',\n",
       " 'Chapter4ExercisePreparation.ipynb',\n",
       " 'Chapter4Solutions.ipynb',\n",
       " 'Chapter5.ipynb',\n",
       " 'Chapter5Solutions.ipynb',\n",
       " 'Chapter6.ipynb',\n",
       " 'Chapter6Exercises.ipynb',\n",
       " 'Chapter7.ipynb',\n",
       " 'Chapter7Exercises.ipynb',\n",
       " 'Chapter8.ipynb',\n",
       " 'Chapter9.ipynb',\n",
       " 'DEF456.fasta',\n",
       " 'ExperimentsWithBackslashN.ipynb',\n",
       " 'FizzBuzz.ipynb',\n",
       " 'HIJ789.fasta',\n",
       " 'LICENSE',\n",
       " 'README.md',\n",
       " 'Untitled.ipynb',\n",
       " 'Untitled1.ipynb',\n",
       " 'Untitled2.ipynb',\n",
       " 'chapter9.backup',\n",
       " 'coding.txt',\n",
       " 'coding_dna.txt',\n",
       " 'coding_sequence.txt',\n",
       " 'copy_of_newest.txt',\n",
       " 'data.csv',\n",
       " 'dna.txt',\n",
       " 'exercises and examples',\n",
       " 'exons.txt',\n",
       " 'file1.fasta',\n",
       " 'five.txt',\n",
       " 'four.txt',\n",
       " 'genomic_dna.txt',\n",
       " 'input.txt',\n",
       " 'input2.txt',\n",
       " 'new_directory',\n",
       " 'newest.txt',\n",
       " 'non_coding.txt',\n",
       " 'one.txt',\n",
       " 'out.txt',\n",
       " 'output',\n",
       " 'output.txt',\n",
       " 'python_for_biologists_exercises.zip',\n",
       " 're_dna.txt',\n",
       " 'remove_adapter.py',\n",
       " 'test.txt',\n",
       " 'three.txt',\n",
       " 'trimmed.txt',\n",
       " 'trimmed_sequences.txt',\n",
       " 'two.txt',\n",
       " 'untitled.txt',\n",
       " 'write_coding_sequence.py']"
      ]
     },
     "execution_count": 36,
     "metadata": {},
     "output_type": "execute_result"
    }
   ],
   "source": [
    "sorted(os.listdir())"
   ]
  },
  {
   "cell_type": "code",
   "execution_count": 37,
   "metadata": {},
   "outputs": [
    {
     "name": "stdout",
     "output_type": "stream",
     "text": [
      "file: newer.txt\n",
      "file: new.txt\n"
     ]
    }
   ],
   "source": [
    "for file_name in os.listdir('/home/jupyter-user6/chapter9.backup'):\n",
    "    print(\"file:\", file_name)"
   ]
  },
  {
   "cell_type": "code",
   "execution_count": 40,
   "metadata": {},
   "outputs": [
    {
     "name": "stdout",
     "output_type": "stream",
     "text": [
      "Directory: .git\n",
      "Directory: .ssh\n",
      "Directory: .jupyter\n",
      "Directory: output\n",
      "Directory: .local\n",
      "Directory: .cache\n",
      "Directory: chapter9.backup\n",
      "Directory: new_directory\n",
      "Directory: .ipython\n",
      "Directory: exercises and examples\n",
      "Directory: .ipynb_checkpoints\n",
      "Directory: .config\n"
     ]
    }
   ],
   "source": [
    "for file_name in os.listdir():\n",
    "    path = pathlib.Path(file_name)\n",
    "    if path.is_dir():\n",
    "        print('Directory:', path)"
   ]
  },
  {
   "cell_type": "code",
   "execution_count": 47,
   "metadata": {},
   "outputs": [
    {
     "ename": "TypeError",
     "evalue": "'PosixPath' object is not subscriptable",
     "output_type": "error",
     "traceback": [
      "\u001b[0;31m---------------------------------------------------------------------------\u001b[0m",
      "\u001b[0;31mTypeError\u001b[0m                                 Traceback (most recent call last)",
      "\u001b[0;32m<ipython-input-47-b1ddfea65464>\u001b[0m in \u001b[0;36m<module>\u001b[0;34m\u001b[0m\n\u001b[1;32m      1\u001b[0m \u001b[0mpath_string\u001b[0m \u001b[0;34m=\u001b[0m \u001b[0;34m'chapter9.backup'\u001b[0m\u001b[0;34m\u001b[0m\u001b[0;34m\u001b[0m\u001b[0m\n\u001b[1;32m      2\u001b[0m \u001b[0mpath\u001b[0m \u001b[0;34m=\u001b[0m \u001b[0mpathlib\u001b[0m\u001b[0;34m.\u001b[0m\u001b[0mPath\u001b[0m\u001b[0;34m(\u001b[0m\u001b[0mpath_string\u001b[0m\u001b[0;34m)\u001b[0m\u001b[0;34m\u001b[0m\u001b[0;34m\u001b[0m\u001b[0m\n\u001b[0;32m----> 3\u001b[0;31m \u001b[0mpath\u001b[0m\u001b[0;34m[\u001b[0m\u001b[0;36m0\u001b[0m\u001b[0;34m:\u001b[0m\u001b[0;36m2\u001b[0m\u001b[0;34m]\u001b[0m\u001b[0;34m\u001b[0m\u001b[0;34m\u001b[0m\u001b[0m\n\u001b[0m",
      "\u001b[0;31mTypeError\u001b[0m: 'PosixPath' object is not subscriptable"
     ]
    }
   ],
   "source": [
    "path_string = 'chapter9.backup'\n",
    "path = pathlib.Path(path_string)\n",
    "path[0:2]"
   ]
  },
  {
   "cell_type": "code",
   "execution_count": 46,
   "metadata": {},
   "outputs": [
    {
     "data": {
      "text/plain": [
       "'ch'"
      ]
     },
     "execution_count": 46,
     "metadata": {},
     "output_type": "execute_result"
    }
   ],
   "source": [
    "path_string = 'chapter9.backup'\n",
    "path = pathlib.Path(path_string)\n",
    "path_string[0:2]"
   ]
  },
  {
   "cell_type": "code",
   "execution_count": 44,
   "metadata": {},
   "outputs": [
    {
     "ename": "AttributeError",
     "evalue": "'str' object has no attribute 'is_dir'",
     "output_type": "error",
     "traceback": [
      "\u001b[0;31m---------------------------------------------------------------------------\u001b[0m",
      "\u001b[0;31mAttributeError\u001b[0m                            Traceback (most recent call last)",
      "\u001b[0;32m<ipython-input-44-e881fd118ed6>\u001b[0m in \u001b[0;36m<module>\u001b[0;34m\u001b[0m\n\u001b[1;32m      1\u001b[0m \u001b[0mpath_string\u001b[0m \u001b[0;34m=\u001b[0m \u001b[0;34m'chapter9.backup'\u001b[0m\u001b[0;34m\u001b[0m\u001b[0;34m\u001b[0m\u001b[0m\n\u001b[1;32m      2\u001b[0m \u001b[0mpath\u001b[0m \u001b[0;34m=\u001b[0m \u001b[0mpathlib\u001b[0m\u001b[0;34m.\u001b[0m\u001b[0mPath\u001b[0m\u001b[0;34m(\u001b[0m\u001b[0mpath_string\u001b[0m\u001b[0;34m)\u001b[0m\u001b[0;34m\u001b[0m\u001b[0;34m\u001b[0m\u001b[0m\n\u001b[0;32m----> 3\u001b[0;31m \u001b[0mpath_string\u001b[0m\u001b[0;34m.\u001b[0m\u001b[0mis_dir\u001b[0m\u001b[0;34m(\u001b[0m\u001b[0;34m)\u001b[0m\u001b[0;34m\u001b[0m\u001b[0;34m\u001b[0m\u001b[0m\n\u001b[0m",
      "\u001b[0;31mAttributeError\u001b[0m: 'str' object has no attribute 'is_dir'"
     ]
    }
   ],
   "source": [
    "path_string = 'chapter9.backup'\n",
    "path = pathlib.Path(path_string)\n",
    "path_string.is_dir()"
   ]
  },
  {
   "cell_type": "code",
   "execution_count": 45,
   "metadata": {},
   "outputs": [
    {
     "data": {
      "text/plain": [
       "True"
      ]
     },
     "execution_count": 45,
     "metadata": {},
     "output_type": "execute_result"
    }
   ],
   "source": [
    "path_string = 'chapter9.backup'\n",
    "path = pathlib.Path(path_string)\n",
    "path.is_dir()"
   ]
  },
  {
   "cell_type": "code",
   "execution_count": 48,
   "metadata": {},
   "outputs": [
    {
     "ename": "AttributeError",
     "evalue": "'PosixPath' object has no attribute 'upper'",
     "output_type": "error",
     "traceback": [
      "\u001b[0;31m---------------------------------------------------------------------------\u001b[0m",
      "\u001b[0;31mAttributeError\u001b[0m                            Traceback (most recent call last)",
      "\u001b[0;32m<ipython-input-48-dc8138775673>\u001b[0m in \u001b[0;36m<module>\u001b[0;34m\u001b[0m\n\u001b[1;32m      1\u001b[0m \u001b[0mpath_string\u001b[0m \u001b[0;34m=\u001b[0m \u001b[0;34m'chapter9.backup'\u001b[0m\u001b[0;34m\u001b[0m\u001b[0;34m\u001b[0m\u001b[0m\n\u001b[1;32m      2\u001b[0m \u001b[0mpath\u001b[0m \u001b[0;34m=\u001b[0m \u001b[0mpathlib\u001b[0m\u001b[0;34m.\u001b[0m\u001b[0mPath\u001b[0m\u001b[0;34m(\u001b[0m\u001b[0mpath_string\u001b[0m\u001b[0;34m)\u001b[0m\u001b[0;34m\u001b[0m\u001b[0;34m\u001b[0m\u001b[0m\n\u001b[0;32m----> 3\u001b[0;31m \u001b[0mpath\u001b[0m\u001b[0;34m.\u001b[0m\u001b[0mupper\u001b[0m\u001b[0;34m(\u001b[0m\u001b[0;34m)\u001b[0m\u001b[0;34m\u001b[0m\u001b[0;34m\u001b[0m\u001b[0m\n\u001b[0m",
      "\u001b[0;31mAttributeError\u001b[0m: 'PosixPath' object has no attribute 'upper'"
     ]
    }
   ],
   "source": [
    "path_string = 'chapter9.backup'\n",
    "path = pathlib.Path(path_string)\n",
    "path.upper()"
   ]
  },
  {
   "cell_type": "code",
   "execution_count": 49,
   "metadata": {},
   "outputs": [
    {
     "data": {
      "text/plain": [
       "'CHAPTER9.BACKUP'"
      ]
     },
     "execution_count": 49,
     "metadata": {},
     "output_type": "execute_result"
    }
   ],
   "source": [
    "path_string = 'chapter9.backup'\n",
    "path = pathlib.Path(path_string)\n",
    "new_path_string = str(path)\n",
    "new_path_string.upper()"
   ]
  },
  {
   "cell_type": "markdown",
   "metadata": {},
   "source": [
    "### Calling programs from Python"
   ]
  },
  {
   "cell_type": "code",
   "execution_count": 2,
   "metadata": {},
   "outputs": [],
   "source": [
    "import subprocess"
   ]
  },
  {
   "cell_type": "code",
   "execution_count": 3,
   "metadata": {},
   "outputs": [
    {
     "data": {
      "text/plain": [
       "0"
      ]
     },
     "execution_count": 3,
     "metadata": {},
     "output_type": "execute_result"
    }
   ],
   "source": [
    "subprocess.call('/bin/date')"
   ]
  },
  {
   "cell_type": "code",
   "execution_count": 4,
   "metadata": {},
   "outputs": [],
   "source": [
    "retcode = subprocess.call('/bin/date')"
   ]
  },
  {
   "cell_type": "code",
   "execution_count": 5,
   "metadata": {},
   "outputs": [
    {
     "name": "stdout",
     "output_type": "stream",
     "text": [
      "there was a problem\n"
     ]
    }
   ],
   "source": [
    "if not retcode:\n",
    "    print(\"there was a problem\")"
   ]
  },
  {
   "cell_type": "code",
   "execution_count": 6,
   "metadata": {},
   "outputs": [
    {
     "data": {
      "text/plain": [
       "0"
      ]
     },
     "execution_count": 6,
     "metadata": {},
     "output_type": "execute_result"
    }
   ],
   "source": [
    "subprocess.call('date')"
   ]
  },
  {
   "cell_type": "code",
   "execution_count": 7,
   "metadata": {},
   "outputs": [
    {
     "name": "stdout",
     "output_type": "stream",
     "text": [
      "/opt/tljh/user/bin:/usr/local/sbin:/usr/local/bin:/usr/sbin:/usr/bin:/sbin:/bin\n"
     ]
    }
   ],
   "source": [
    "import os\n",
    "print(os.environ['PATH'])"
   ]
  },
  {
   "cell_type": "code",
   "execution_count": 9,
   "metadata": {},
   "outputs": [
    {
     "name": "stdout",
     "output_type": "stream",
     "text": [
      "output is: b'ABC123.fasta\\nChapter2.ipynb\\nChapter2Solutions.ipynb\\nChapter3.ipynb\\nChapter3Solutions.ipynb\\nChapter4.ipynb\\nChapter4ExercisePreparation.ipynb\\nChapter4Solutions.ipynb\\nChapter5.ipynb\\nChapter5Solutions.ipynb\\nChapter6.ipynb\\nChapter6Exercises.ipynb\\nChapter7.ipynb\\nChapter7Exercises.ipynb\\nChapter8.ipynb\\nChapter9.ipynb\\nDEF456.fasta\\nExperimentsWithBackslashN.ipynb\\nFizzBuzz.ipynb\\nHIJ789.fasta\\nLICENSE\\nREADME.md\\nUntitled.ipynb\\nUntitled1.ipynb\\nUntitled2.ipynb\\nchapter9.backup\\nchapter9.py\\ncoding.txt\\ncoding_dna.txt\\ncoding_sequence.txt\\ncopy_of_newest.txt\\ndata.csv\\ndna.txt\\nerrors.txt\\nexercises and examples\\nfile1.fasta\\nfive.txt\\nfour.txt\\ngenomic_dna.txt\\ninput.txt\\ninput2.txt\\nnew_directory\\nnewest.txt\\nnon_coding.txt\\none.txt\\nout.txt\\noutput\\noutput.txt\\npython_for_biologists_exercises.zip\\nre_dna.txt\\nremove_adapter.py\\ntest.txt\\nthree.txt\\ntrimmed.txt\\ntrimmed_sequences.txt\\ntwo.txt\\nuntitled.txt\\nuntitled1.txt\\nwrite_coding_sequence.py\\n'\n"
     ]
    }
   ],
   "source": [
    "output = subprocess.check_output('ls')\n",
    "print(\"output is:\", output)"
   ]
  },
  {
   "cell_type": "code",
   "execution_count": 11,
   "metadata": {},
   "outputs": [
    {
     "name": "stdout",
     "output_type": "stream",
     "text": [
      "output is: ABC123.fasta\n",
      "Chapter2.ipynb\n",
      "Chapter2Solutions.ipynb\n",
      "Chapter3.ipynb\n",
      "Chapter3Solutions.ipynb\n",
      "Chapter4.ipynb\n",
      "Chapter4ExercisePreparation.ipynb\n",
      "Chapter4Solutions.ipynb\n",
      "Chapter5.ipynb\n",
      "Chapter5Solutions.ipynb\n",
      "Chapter6.ipynb\n",
      "Chapter6Exercises.ipynb\n",
      "Chapter7.ipynb\n",
      "Chapter7Exercises.ipynb\n",
      "Chapter8.ipynb\n",
      "Chapter9.ipynb\n",
      "DEF456.fasta\n",
      "ExperimentsWithBackslashN.ipynb\n",
      "FizzBuzz.ipynb\n",
      "HIJ789.fasta\n",
      "LICENSE\n",
      "README.md\n",
      "Untitled.ipynb\n",
      "Untitled1.ipynb\n",
      "Untitled2.ipynb\n",
      "chapter9.backup\n",
      "chapter9.py\n",
      "coding.txt\n",
      "coding_dna.txt\n",
      "coding_sequence.txt\n",
      "copy_of_newest.txt\n",
      "data.csv\n",
      "dna.txt\n",
      "errors.txt\n",
      "exercises and examples\n",
      "file1.fasta\n",
      "five.txt\n",
      "four.txt\n",
      "genomic_dna.txt\n",
      "input.txt\n",
      "input2.txt\n",
      "new_directory\n",
      "newest.txt\n",
      "non_coding.txt\n",
      "one.txt\n",
      "out.txt\n",
      "output\n",
      "output.txt\n",
      "python_for_biologists_exercises.zip\n",
      "re_dna.txt\n",
      "remove_adapter.py\n",
      "test.txt\n",
      "three.txt\n",
      "trimmed.txt\n",
      "trimmed_sequences.txt\n",
      "two.txt\n",
      "untitled.txt\n",
      "untitled1.txt\n",
      "write_coding_sequence.py\n",
      "\n"
     ]
    }
   ],
   "source": [
    "output_str = output.decode()\n",
    "print(\"output is:\", output_str)"
   ]
  },
  {
   "cell_type": "code",
   "execution_count": 12,
   "metadata": {},
   "outputs": [
    {
     "name": "stdout",
     "output_type": "stream",
     "text": [
      "My line: ABC123.fasta\n",
      "\n",
      "My line: Chapter2.ipynb\n",
      "\n",
      "My line: Chapter2Solutions.ipynb\n",
      "\n",
      "My line: Chapter3.ipynb\n",
      "\n",
      "My line: Chapter3Solutions.ipynb\n",
      "\n",
      "My line: Chapter4.ipynb\n",
      "\n",
      "My line: Chapter4ExercisePreparation.ipynb\n",
      "\n",
      "My line: Chapter4Solutions.ipynb\n",
      "\n",
      "My line: Chapter5.ipynb\n",
      "\n",
      "My line: Chapter5Solutions.ipynb\n",
      "\n",
      "My line: Chapter6.ipynb\n",
      "\n",
      "My line: Chapter6Exercises.ipynb\n",
      "\n",
      "My line: Chapter7.ipynb\n",
      "\n",
      "My line: Chapter7Exercises.ipynb\n",
      "\n",
      "My line: Chapter8.ipynb\n",
      "\n",
      "My line: Chapter9.ipynb\n",
      "\n",
      "My line: DEF456.fasta\n",
      "\n",
      "My line: ExperimentsWithBackslashN.ipynb\n",
      "\n",
      "My line: FizzBuzz.ipynb\n",
      "\n",
      "My line: HIJ789.fasta\n",
      "\n",
      "My line: LICENSE\n",
      "\n",
      "My line: README.md\n",
      "\n",
      "My line: Untitled.ipynb\n",
      "\n",
      "My line: Untitled1.ipynb\n",
      "\n",
      "My line: Untitled2.ipynb\n",
      "\n",
      "My line: chapter9.backup\n",
      "\n",
      "My line: chapter9.py\n",
      "\n",
      "My line: coding.txt\n",
      "\n",
      "My line: coding_dna.txt\n",
      "\n",
      "My line: coding_sequence.txt\n",
      "\n",
      "My line: copy_of_newest.txt\n",
      "\n",
      "My line: data.csv\n",
      "\n",
      "My line: dna.txt\n",
      "\n",
      "My line: errors.txt\n",
      "\n",
      "My line: exercises and examples\n",
      "\n",
      "My line: file1.fasta\n",
      "\n",
      "My line: five.txt\n",
      "\n",
      "My line: four.txt\n",
      "\n",
      "My line: genomic_dna.txt\n",
      "\n",
      "My line: input.txt\n",
      "\n",
      "My line: input2.txt\n",
      "\n",
      "My line: new_directory\n",
      "\n",
      "My line: newest.txt\n",
      "\n",
      "My line: non_coding.txt\n",
      "\n",
      "My line: one.txt\n",
      "\n",
      "My line: out.txt\n",
      "\n",
      "My line: output\n",
      "\n",
      "My line: output.txt\n",
      "\n",
      "My line: python_for_biologists_exercises.zip\n",
      "\n",
      "My line: re_dna.txt\n",
      "\n",
      "My line: remove_adapter.py\n",
      "\n",
      "My line: test.txt\n",
      "\n",
      "My line: three.txt\n",
      "\n",
      "My line: trimmed.txt\n",
      "\n",
      "My line: trimmed_sequences.txt\n",
      "\n",
      "My line: two.txt\n",
      "\n",
      "My line: untitled.txt\n",
      "\n",
      "My line: untitled1.txt\n",
      "\n",
      "My line: write_coding_sequence.py\n",
      "\n"
     ]
    }
   ],
   "source": [
    "# stringIO documentation\n",
    "# https://docs.python.org/3/library/io.html\n",
    "import io\n",
    "\n",
    "output_like_file = io.StringIO(output_str)\n",
    "for line in output_like_file:\n",
    "    print(\"My line:\", line)"
   ]
  },
  {
   "cell_type": "code",
   "execution_count": 14,
   "metadata": {},
   "outputs": [
    {
     "name": "stdout",
     "output_type": "stream",
     "text": [
      "My line ABC123.fasta\n",
      "My line Chapter2.ipynb\n",
      "My line Chapter2Solutions.ipynb\n",
      "My line Chapter3.ipynb\n",
      "My line Chapter3Solutions.ipynb\n",
      "My line Chapter4.ipynb\n",
      "My line Chapter4ExercisePreparation.ipynb\n",
      "My line Chapter4Solutions.ipynb\n",
      "My line Chapter5.ipynb\n",
      "My line Chapter5Solutions.ipynb\n",
      "My line Chapter6.ipynb\n",
      "My line Chapter6Exercises.ipynb\n",
      "My line Chapter7.ipynb\n",
      "My line Chapter7Exercises.ipynb\n",
      "My line Chapter8.ipynb\n",
      "My line Chapter9.ipynb\n",
      "My line DEF456.fasta\n",
      "My line ExperimentsWithBackslashN.ipynb\n",
      "My line FizzBuzz.ipynb\n",
      "My line HIJ789.fasta\n",
      "My line LICENSE\n",
      "My line README.md\n",
      "My line Untitled.ipynb\n",
      "My line Untitled1.ipynb\n",
      "My line Untitled2.ipynb\n",
      "My line chapter9.backup\n",
      "My line chapter9.py\n",
      "My line coding.txt\n",
      "My line coding_dna.txt\n",
      "My line coding_sequence.txt\n",
      "My line copy_of_newest.txt\n",
      "My line data.csv\n",
      "My line dna.txt\n",
      "My line errors.txt\n",
      "My line exercises and examples\n",
      "My line file1.fasta\n",
      "My line five.txt\n",
      "My line four.txt\n",
      "My line genomic_dna.txt\n",
      "My line input.txt\n",
      "My line input2.txt\n",
      "My line new_directory\n",
      "My line newest.txt\n",
      "My line non_coding.txt\n",
      "My line one.txt\n",
      "My line out.txt\n",
      "My line output\n",
      "My line output.txt\n",
      "My line python_for_biologists_exercises.zip\n",
      "My line re_dna.txt\n",
      "My line remove_adapter.py\n",
      "My line test.txt\n",
      "My line three.txt\n",
      "My line trimmed.txt\n",
      "My line trimmed_sequences.txt\n",
      "My line two.txt\n",
      "My line untitled.txt\n",
      "My line untitled1.txt\n",
      "My line write_coding_sequence.py\n",
      "My line \n"
     ]
    }
   ],
   "source": [
    "lines = output_str.split('\\n')\n",
    "for line in lines:\n",
    "    print('My line', line)"
   ]
  },
  {
   "cell_type": "code",
   "execution_count": 15,
   "metadata": {},
   "outputs": [
    {
     "name": "stdout",
     "output_type": "stream",
     "text": [
      "My line ABC123.fasta\n",
      "My line Chapter2.ipynb\n",
      "My line Chapter2Solutions.ipynb\n",
      "My line Chapter3.ipynb\n",
      "My line Chapter3Solutions.ipynb\n",
      "My line Chapter4.ipynb\n",
      "My line Chapter4ExercisePreparation.ipynb\n",
      "My line Chapter4Solutions.ipynb\n",
      "My line Chapter5.ipynb\n",
      "My line Chapter5Solutions.ipynb\n",
      "My line Chapter6.ipynb\n",
      "My line Chapter6Exercises.ipynb\n",
      "My line Chapter7.ipynb\n",
      "My line Chapter7Exercises.ipynb\n",
      "My line Chapter8.ipynb\n",
      "My line Chapter9.ipynb\n",
      "My line DEF456.fasta\n",
      "My line ExperimentsWithBackslashN.ipynb\n",
      "My line FizzBuzz.ipynb\n",
      "My line HIJ789.fasta\n",
      "My line LICENSE\n",
      "My line README.md\n",
      "My line Untitled.ipynb\n",
      "My line Untitled1.ipynb\n",
      "My line Untitled2.ipynb\n",
      "My line chapter9.backup\n",
      "My line chapter9.py\n",
      "My line coding.txt\n",
      "My line coding_dna.txt\n",
      "My line coding_sequence.txt\n",
      "My line copy_of_newest.txt\n",
      "My line data.csv\n",
      "My line dna.txt\n",
      "My line errors.txt\n",
      "My line exercises and examples\n",
      "My line file1.fasta\n",
      "My line five.txt\n",
      "My line four.txt\n",
      "My line genomic_dna.txt\n",
      "My line input.txt\n",
      "My line input2.txt\n",
      "My line new_directory\n",
      "My line newest.txt\n",
      "My line non_coding.txt\n",
      "My line one.txt\n",
      "My line out.txt\n",
      "My line output\n",
      "My line output.txt\n",
      "My line python_for_biologists_exercises.zip\n",
      "My line re_dna.txt\n",
      "My line remove_adapter.py\n",
      "My line test.txt\n",
      "My line three.txt\n",
      "My line trimmed.txt\n",
      "My line trimmed_sequences.txt\n",
      "My line two.txt\n",
      "My line untitled.txt\n",
      "My line untitled1.txt\n",
      "My line write_coding_sequence.py\n"
     ]
    }
   ],
   "source": [
    "lines = output_str.rstrip().split('\\n')\n",
    "for line in lines:\n",
    "    print('My line', line)"
   ]
  },
  {
   "cell_type": "code",
   "execution_count": 18,
   "metadata": {},
   "outputs": [
    {
     "name": "stdout",
     "output_type": "stream",
     "text": [
      "b'March\\n'\n"
     ]
    }
   ],
   "source": [
    "output = subprocess.check_output('date +%B', shell=True)\n",
    "print(output)"
   ]
  },
  {
   "cell_type": "code",
   "execution_count": 19,
   "metadata": {},
   "outputs": [],
   "source": [
    "import shlex"
   ]
  },
  {
   "cell_type": "code",
   "execution_count": 22,
   "metadata": {},
   "outputs": [
    {
     "name": "stdout",
     "output_type": "stream",
     "text": [
      "['date', '+%B']\n",
      "b'March\\n'\n"
     ]
    }
   ],
   "source": [
    "cmd_str = 'date +%B'\n",
    "cmd = shlex.split(cmd_str)\n",
    "print(cmd)\n",
    "output = subprocess.check_output(cmd)\n",
    "print(output)"
   ]
  },
  {
   "cell_type": "code",
   "execution_count": null,
   "metadata": {},
   "outputs": [],
   "source": []
  }
 ],
 "metadata": {
  "kernelspec": {
   "display_name": "Python 3",
   "language": "python",
   "name": "python3"
  },
  "language_info": {
   "codemirror_mode": {
    "name": "ipython",
    "version": 3
   },
   "file_extension": ".py",
   "mimetype": "text/x-python",
   "name": "python",
   "nbconvert_exporter": "python",
   "pygments_lexer": "ipython3",
   "version": "3.8.1"
  }
 },
 "nbformat": 4,
 "nbformat_minor": 4
}
