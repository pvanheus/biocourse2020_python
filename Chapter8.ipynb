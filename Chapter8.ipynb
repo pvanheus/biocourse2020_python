{
 "cells": [
  {
   "cell_type": "code",
   "execution_count": 1,
   "metadata": {},
   "outputs": [],
   "source": [
    "dna = \"ATCGATCGATCGTACGCTGA\"\n",
    "a_count = dna.count(\"A\")"
   ]
  },
  {
   "cell_type": "code",
   "execution_count": 2,
   "metadata": {},
   "outputs": [],
   "source": [
    "dna = \"ATCGATCGATCGTACGCTGA\"\n",
    "a_count = dna.count(\"A\")\n",
    "t_count = dna.count(\"T\")\n",
    "g_count = dna.count(\"G\")\n",
    "c_count = dna.count(\"C\")"
   ]
  },
  {
   "cell_type": "code",
   "execution_count": 3,
   "metadata": {},
   "outputs": [],
   "source": [
    "dna = \"ATCGATCGATCGTACGCTGA\"\n",
    "aa_count = dna.count(\"AA\")\n",
    "at_count = dna.count(\"AT\")\n",
    "ag_count = dna.count(\"AG\")"
   ]
  },
  {
   "cell_type": "code",
   "execution_count": 4,
   "metadata": {},
   "outputs": [
    {
     "name": "stdout",
     "output_type": "stream",
     "text": [
      "count is 0 for AA\n",
      "count is 1 for AC\n",
      "count is 3 for AT\n",
      "count is 0 for AG\n",
      "count is 0 for CA\n",
      "count is 0 for CC\n",
      "count is 1 for CT\n",
      "count is 4 for CG\n",
      "count is 1 for TA\n",
      "count is 3 for TC\n",
      "count is 0 for TT\n",
      "count is 1 for TG\n",
      "count is 3 for GA\n",
      "count is 1 for GC\n",
      "count is 1 for GT\n",
      "count is 0 for GG\n",
      "[0, 1, 3, 0, 0, 0, 1, 4, 1, 3, 0, 1, 3, 1, 1, 0]\n"
     ]
    }
   ],
   "source": [
    "dna = \"ATCGATCGATCGTACGCTGA\"\n",
    "all_counts = []\n",
    "for base1 in ['A', 'C', 'T', 'G']:\n",
    "    for base2 in ['A', 'C', 'T', 'G']:\n",
    "        dinucleotide = base1 + base2\n",
    "        count = dna.count(dinucleotide)\n",
    "        print(\"count is \" + str(count) + \" for \" + dinucleotide)\n",
    "        all_counts.append(count)\n",
    "print(all_counts)"
   ]
  },
  {
   "cell_type": "code",
   "execution_count": 5,
   "metadata": {},
   "outputs": [
    {
     "name": "stdout",
     "output_type": "stream",
     "text": [
      "count is 0 for AA\n",
      "count is 1 for AC\n",
      "count is 3 for AT\n",
      "count is 0 for AG\n",
      "count is 0 for CA\n",
      "count is 0 for CC\n",
      "count is 1 for CT\n",
      "count is 4 for CG\n",
      "count is 1 for TA\n",
      "count is 3 for TC\n",
      "count is 0 for TT\n",
      "count is 1 for TG\n",
      "count is 3 for GA\n",
      "count is 1 for GC\n",
      "count is 1 for GT\n",
      "count is 0 for GG\n",
      "[0, 1, 3, 0, 0, 0, 1, 4, 1, 3, 0, 1, 3, 1, 1, 0]\n"
     ]
    }
   ],
   "source": [
    "dna = \"ATCGATCGATCGTACGCTGA\"\n",
    "all_counts = []\n",
    "for base1 in 'ACTG':\n",
    "    for base2 in 'ACTG':\n",
    "        dinucleotide = base1 + base2\n",
    "        count = dna.count(dinucleotide)\n",
    "        print(\"count is \" + str(count) + \" for \" + dinucleotide)\n",
    "        all_counts.append(count)\n",
    "print(all_counts)"
   ]
  },
  {
   "cell_type": "code",
   "execution_count": 7,
   "metadata": {},
   "outputs": [
    {
     "name": "stdout",
     "output_type": "stream",
     "text": [
      "count is 0 for AA\n",
      "count is 1 for AC\n",
      "count is 3 for AT\n",
      "count is 0 for AG\n",
      "count is 0 for CA\n",
      "count is 0 for CC\n",
      "count is 1 for CT\n",
      "count is 4 for CG\n",
      "count is 1 for TA\n",
      "count is 3 for TC\n",
      "count is 0 for TT\n",
      "count is 1 for TG\n",
      "count is 3 for GA\n",
      "count is 1 for GC\n",
      "count is 1 for GT\n",
      "count is 0 for GG\n",
      "[0, 1, 3, 0, 0, 0, 1, 4, 1, 3, 0, 1, 3, 1, 1, 0]\n"
     ]
    }
   ],
   "source": [
    "dna = \"ATCGATCGATCGTACGCTGA\"\n",
    "all_counts = []\n",
    "for base1 in 'ACTG':\n",
    "    for base2 in 'ACTG':\n",
    "        dinucleotide = base1 + base2\n",
    "        count = dna.count(dinucleotide)\n",
    "        print(\"count is\", count, \"for\", dinucleotide)\n",
    "        all_counts.append(count)\n",
    "print(all_counts)"
   ]
  },
  {
   "cell_type": "code",
   "execution_count": 8,
   "metadata": {},
   "outputs": [
    {
     "name": "stdout",
     "output_type": "stream",
     "text": [
      "the count for GG was 0\n"
     ]
    }
   ],
   "source": [
    "print(\"the count for GG was\", all_counts[-1])"
   ]
  },
  {
   "cell_type": "markdown",
   "metadata": {},
   "source": [
    "dna = \"ATCGATCGATCGTACGCTGA\"\n",
    "all_counts = []\n",
    "all_dinucleotides = []\n",
    "for base1 in 'ACTG':\n",
    "    for base2 in 'ACTG':\n",
    "        dinucleotide = base1 + base2\n",
    "        count = dna.count(dinucleotide)\n",
    "        print(\"count is\", count, \"for\", dinucleotide)\n",
    "        all_counts.append(count)\n",
    "        all_dinucleotides.append(dinucleotide)\n",
    "print(all_counts)\n",
    "print(all_dinucleotides)"
   ]
  },
  {
   "cell_type": "code",
   "execution_count": 10,
   "metadata": {},
   "outputs": [
    {
     "name": "stdout",
     "output_type": "stream",
     "text": [
      "count for CA is 0\n"
     ]
    }
   ],
   "source": [
    "i = all_dinucleotides.index('CA')\n",
    "count = all_counts[i]\n",
    "print('count for CA is', count)"
   ]
  },
  {
   "cell_type": "markdown",
   "metadata": {},
   "source": [
    "### Creating a dictionary"
   ]
  },
  {
   "cell_type": "code",
   "execution_count": 12,
   "metadata": {},
   "outputs": [],
   "source": [
    "my_dictionary = {'Peter': 'UWC', 'Mbandi': 'UCT'}"
   ]
  },
  {
   "cell_type": "code",
   "execution_count": 13,
   "metadata": {},
   "outputs": [],
   "source": [
    "my_dictionary = {\n",
    "    'Peter': 'UWC', \n",
    "    'Mbandi': 'UCT'\n",
    "}"
   ]
  },
  {
   "cell_type": "code",
   "execution_count": 14,
   "metadata": {},
   "outputs": [],
   "source": [
    "my_list = [\n",
    "    'Peter',\n",
    "    'Mbandi'\n",
    "]"
   ]
  },
  {
   "cell_type": "code",
   "execution_count": 15,
   "metadata": {},
   "outputs": [
    {
     "name": "stdout",
     "output_type": "stream",
     "text": [
      "UCT\n"
     ]
    }
   ],
   "source": [
    "print(my_dictionary['Mbandi'])"
   ]
  },
  {
   "cell_type": "code",
   "execution_count": 17,
   "metadata": {},
   "outputs": [
    {
     "name": "stdout",
     "output_type": "stream",
     "text": [
      "UWC\n"
     ]
    }
   ],
   "source": [
    "print(my_dictionary['Peter'])"
   ]
  },
  {
   "cell_type": "code",
   "execution_count": 18,
   "metadata": {},
   "outputs": [
    {
     "ename": "KeyError",
     "evalue": "'Pete'",
     "output_type": "error",
     "traceback": [
      "\u001b[0;31m---------------------------------------------------------------------------\u001b[0m",
      "\u001b[0;31mKeyError\u001b[0m                                  Traceback (most recent call last)",
      "\u001b[0;32m<ipython-input-18-33f0b133185e>\u001b[0m in \u001b[0;36m<module>\u001b[0;34m\u001b[0m\n\u001b[0;32m----> 1\u001b[0;31m \u001b[0mprint\u001b[0m\u001b[0;34m(\u001b[0m\u001b[0mmy_dictionary\u001b[0m\u001b[0;34m[\u001b[0m\u001b[0;34m'Pete'\u001b[0m\u001b[0;34m]\u001b[0m\u001b[0;34m)\u001b[0m\u001b[0;34m\u001b[0m\u001b[0;34m\u001b[0m\u001b[0m\n\u001b[0m",
      "\u001b[0;31mKeyError\u001b[0m: 'Pete'"
     ]
    }
   ],
   "source": [
    "print(my_dictionary['Pete'])"
   ]
  },
  {
   "cell_type": "code",
   "execution_count": 19,
   "metadata": {},
   "outputs": [
    {
     "ename": "IndexError",
     "evalue": "list index out of range",
     "output_type": "error",
     "traceback": [
      "\u001b[0;31m---------------------------------------------------------------------------\u001b[0m",
      "\u001b[0;31mIndexError\u001b[0m                                Traceback (most recent call last)",
      "\u001b[0;32m<ipython-input-19-5c34047d43e0>\u001b[0m in \u001b[0;36m<module>\u001b[0;34m\u001b[0m\n\u001b[1;32m      1\u001b[0m \u001b[0mmy_list\u001b[0m \u001b[0;34m=\u001b[0m \u001b[0;34m[\u001b[0m\u001b[0;34m'Peter'\u001b[0m\u001b[0;34m,\u001b[0m \u001b[0;34m'Mbandi'\u001b[0m\u001b[0;34m]\u001b[0m\u001b[0;34m\u001b[0m\u001b[0;34m\u001b[0m\u001b[0m\n\u001b[0;32m----> 2\u001b[0;31m \u001b[0mprint\u001b[0m\u001b[0;34m(\u001b[0m\u001b[0mmy_list\u001b[0m\u001b[0;34m[\u001b[0m\u001b[0;36m3\u001b[0m\u001b[0;34m]\u001b[0m\u001b[0;34m)\u001b[0m\u001b[0;34m\u001b[0m\u001b[0;34m\u001b[0m\u001b[0m\n\u001b[0m",
      "\u001b[0;31mIndexError\u001b[0m: list index out of range"
     ]
    }
   ],
   "source": [
    "my_list = ['Peter', 'Mbandi']\n",
    "print(my_list[3])"
   ]
  },
  {
   "cell_type": "code",
   "execution_count": 20,
   "metadata": {},
   "outputs": [
    {
     "name": "stdout",
     "output_type": "stream",
     "text": [
      "['Alan', 'Mbandi']\n"
     ]
    }
   ],
   "source": [
    "my_list[0] = 'Alan'\n",
    "print(my_list)"
   ]
  },
  {
   "cell_type": "code",
   "execution_count": 21,
   "metadata": {},
   "outputs": [
    {
     "ename": "IndexError",
     "evalue": "list assignment index out of range",
     "output_type": "error",
     "traceback": [
      "\u001b[0;31m---------------------------------------------------------------------------\u001b[0m",
      "\u001b[0;31mIndexError\u001b[0m                                Traceback (most recent call last)",
      "\u001b[0;32m<ipython-input-21-dc19d269d159>\u001b[0m in \u001b[0;36m<module>\u001b[0;34m\u001b[0m\n\u001b[0;32m----> 1\u001b[0;31m \u001b[0mmy_list\u001b[0m\u001b[0;34m[\u001b[0m\u001b[0;36m3\u001b[0m\u001b[0;34m]\u001b[0m \u001b[0;34m=\u001b[0m \u001b[0;34m'Zipho'\u001b[0m\u001b[0;34m\u001b[0m\u001b[0;34m\u001b[0m\u001b[0m\n\u001b[0m\u001b[1;32m      2\u001b[0m \u001b[0mprint\u001b[0m\u001b[0;34m(\u001b[0m\u001b[0mmy_list\u001b[0m\u001b[0;34m)\u001b[0m\u001b[0;34m\u001b[0m\u001b[0;34m\u001b[0m\u001b[0m\n",
      "\u001b[0;31mIndexError\u001b[0m: list assignment index out of range"
     ]
    }
   ],
   "source": [
    "my_list[3] = 'Zipho'\n",
    "print(my_list)"
   ]
  },
  {
   "cell_type": "code",
   "execution_count": 23,
   "metadata": {},
   "outputs": [
    {
     "name": "stdout",
     "output_type": "stream",
     "text": [
      "{'Peter': 'UCT', 'Mbandi': 'UCT'}\n"
     ]
    }
   ],
   "source": [
    "my_dictionary['Peter'] = 'UCT'\n",
    "print(my_dictionary)"
   ]
  },
  {
   "cell_type": "code",
   "execution_count": 24,
   "metadata": {},
   "outputs": [
    {
     "name": "stdout",
     "output_type": "stream",
     "text": [
      "{'Peter': 'UCT', 'Mbandi': 'UCT', 'Alan': 'UWC'}\n"
     ]
    }
   ],
   "source": [
    "my_dictionary['Alan'] = 'UWC'\n",
    "print(my_dictionary)"
   ]
  },
  {
   "cell_type": "code",
   "execution_count": 25,
   "metadata": {},
   "outputs": [
    {
     "name": "stdout",
     "output_type": "stream",
     "text": [
      "{'Peter': 'UCT', 'Mbandi': 'UWC', 'Alan': 'UWC'}\n"
     ]
    }
   ],
   "source": [
    "my_dictionary['Mbandi'] = 'UWC'\n",
    "print(my_dictionary)"
   ]
  },
  {
   "cell_type": "code",
   "execution_count": 27,
   "metadata": {},
   "outputs": [
    {
     "name": "stdout",
     "output_type": "stream",
     "text": [
      "Medium\n"
     ]
    }
   ],
   "source": [
    "my_other_dictionary = {1: 'Small', 2: 'Medium', 3: 'Big'}\n",
    "print(my_other_dictionary[2])"
   ]
  },
  {
   "cell_type": "markdown",
   "metadata": {},
   "source": [
    "### Counting dinucleotides with a dictionary\n"
   ]
  },
  {
   "cell_type": "code",
   "execution_count": 29,
   "metadata": {},
   "outputs": [
    {
     "name": "stdout",
     "output_type": "stream",
     "text": [
      "{'AA': 0, 'AC': 1, 'AT': 3, 'AG': 0, 'CA': 0, 'CC': 0, 'CT': 1, 'CG': 4, 'TA': 1, 'TC': 3, 'TT': 0, 'TG': 1, 'GA': 3, 'GC': 1, 'GT': 1, 'GG': 0}\n",
      "3\n"
     ]
    }
   ],
   "source": [
    "dna = \"ATCGATCGATCGTACGCTGA\"\n",
    "counts = {}\n",
    "for base1 in 'ACTG':\n",
    "    for base2 in 'ACTG':\n",
    "        dinucleotide = base1 + base2\n",
    "        count = dna.count(dinucleotide)\n",
    "#         print(\"count is\", count, \"for\", dinucleotide)\n",
    "        counts[dinucleotide] = count\n",
    "print(counts)\n",
    "print(counts['GA'])"
   ]
  },
  {
   "cell_type": "code",
   "execution_count": 32,
   "metadata": {},
   "outputs": [
    {
     "name": "stdout",
     "output_type": "stream",
     "text": [
      "{'AC': 1, 'AT': 3, 'CT': 1, 'CG': 4, 'TA': 1, 'TC': 3, 'TG': 1, 'GA': 3, 'GC': 1, 'GT': 1}\n",
      "3\n",
      "no AA in counts\n"
     ]
    }
   ],
   "source": [
    "dna = \"ATCGATCGATCGTACGCTGA\"\n",
    "counts = {}\n",
    "for base1 in 'ACTG':\n",
    "    for base2 in 'ACTG':\n",
    "        dinucleotide = base1 + base2\n",
    "        count = dna.count(dinucleotide)\n",
    "#         print(\"count is\", count, \"for\", dinucleotide)\n",
    "        if count > 0:\n",
    "            counts[dinucleotide] = count\n",
    "print(counts)\n",
    "print(counts['GA'])\n",
    "if 'AA' in counts:\n",
    "    print(counts['AA'])\n",
    "else:\n",
    "    print('no AA in counts')"
   ]
  },
  {
   "cell_type": "code",
   "execution_count": 33,
   "metadata": {},
   "outputs": [
    {
     "name": "stdout",
     "output_type": "stream",
     "text": [
      "No Mbandi found\n"
     ]
    }
   ],
   "source": [
    "my_list = ['Peter', 'Alan']\n",
    "if 'Mbandi' in my_list:\n",
    "    print('Mbandi found')\n",
    "else:\n",
    "    print('No Mbandi found')"
   ]
  },
  {
   "cell_type": "code",
   "execution_count": 34,
   "metadata": {},
   "outputs": [
    {
     "name": "stdout",
     "output_type": "stream",
     "text": [
      "3 is not found\n"
     ]
    }
   ],
   "source": [
    "if 3 in counts:\n",
    "    print('3 is there')\n",
    "else:\n",
    "    print('3 is not found')"
   ]
  },
  {
   "cell_type": "code",
   "execution_count": 36,
   "metadata": {},
   "outputs": [
    {
     "name": "stdout",
     "output_type": "stream",
     "text": [
      "None\n",
      "1\n"
     ]
    }
   ],
   "source": [
    "print(counts.get('AA'))\n",
    "print(counts.get('CT'))"
   ]
  },
  {
   "cell_type": "code",
   "execution_count": 37,
   "metadata": {},
   "outputs": [
    {
     "name": "stdout",
     "output_type": "stream",
     "text": [
      "0\n",
      "1\n"
     ]
    }
   ],
   "source": [
    "print(counts.get('AA', 0))\n",
    "print(counts.get('CT', 0))"
   ]
  },
  {
   "cell_type": "markdown",
   "metadata": {},
   "source": [
    "### Iterating over a dictionary"
   ]
  },
  {
   "cell_type": "code",
   "execution_count": 38,
   "metadata": {},
   "outputs": [
    {
     "name": "stdout",
     "output_type": "stream",
     "text": [
      "{'AC': 1, 'AT': 3, 'CT': 1, 'CG': 4, 'TA': 1, 'TC': 3, 'TG': 1, 'GA': 3, 'GC': 1, 'GT': 1}\n"
     ]
    }
   ],
   "source": [
    "print(counts)"
   ]
  },
  {
   "cell_type": "code",
   "execution_count": 39,
   "metadata": {},
   "outputs": [
    {
     "name": "stdout",
     "output_type": "stream",
     "text": [
      "AA count 0\n",
      "AC count 1\n",
      "AT count 3\n",
      "AG count 0\n",
      "CA count 0\n",
      "CC count 0\n",
      "CT count 1\n",
      "CG count 4\n",
      "TA count 1\n",
      "TC count 3\n",
      "TT count 0\n",
      "TG count 1\n",
      "GA count 3\n",
      "GC count 1\n",
      "GT count 1\n",
      "GG count 0\n"
     ]
    }
   ],
   "source": [
    "for base1 in 'ACTG':\n",
    "    for base2 in 'ACTG':\n",
    "        dinucleotide = base1 + base2\n",
    "        print(dinucleotide, 'count', counts.get(dinucleotide, 0))"
   ]
  },
  {
   "cell_type": "code",
   "execution_count": 40,
   "metadata": {},
   "outputs": [
    {
     "name": "stdout",
     "output_type": "stream",
     "text": [
      "dict_keys(['AC', 'AT', 'CT', 'CG', 'TA', 'TC', 'TG', 'GA', 'GC', 'GT'])\n"
     ]
    }
   ],
   "source": [
    "print(counts.keys())"
   ]
  },
  {
   "cell_type": "code",
   "execution_count": 41,
   "metadata": {},
   "outputs": [
    {
     "name": "stdout",
     "output_type": "stream",
     "text": [
      "AC  count  1\n",
      "AT  count  3\n",
      "CT  count  1\n",
      "CG  count  4\n",
      "TA  count  1\n",
      "TC  count  3\n",
      "TG  count  1\n",
      "GA  count  3\n",
      "GC  count  1\n",
      "GT  count  1\n"
     ]
    }
   ],
   "source": [
    "for dinucleotide in counts.keys():\n",
    "    print(dinucleotide, ' count ', counts.get(dinucleotide, 0 ))"
   ]
  },
  {
   "cell_type": "code",
   "execution_count": 42,
   "metadata": {},
   "outputs": [
    {
     "name": "stdout",
     "output_type": "stream",
     "text": [
      "AC  count  1\n",
      "AT  count  3\n",
      "CG  count  4\n",
      "CT  count  1\n",
      "GA  count  3\n",
      "GC  count  1\n",
      "GT  count  1\n",
      "TA  count  1\n",
      "TC  count  3\n",
      "TG  count  1\n"
     ]
    }
   ],
   "source": [
    "for dinucleotide in sorted(counts.keys()):\n",
    "    print(dinucleotide, ' count ', counts.get(dinucleotide, 0 ))"
   ]
  },
  {
   "cell_type": "code",
   "execution_count": 44,
   "metadata": {},
   "outputs": [
    {
     "name": "stdout",
     "output_type": "stream",
     "text": [
      "dict_values([1, 3, 1, 4, 1, 3, 1, 3, 1, 1])\n"
     ]
    }
   ],
   "source": [
    "print(counts.values())"
   ]
  },
  {
   "cell_type": "code",
   "execution_count": 45,
   "metadata": {},
   "outputs": [
    {
     "name": "stdout",
     "output_type": "stream",
     "text": [
      "AC  count  1\n",
      "AT  count  3\n",
      "CT  count  1\n",
      "CG  count  4\n",
      "TA  count  1\n",
      "TC  count  3\n",
      "TG  count  1\n",
      "GA  count  3\n",
      "GC  count  1\n",
      "GT  count  1\n"
     ]
    }
   ],
   "source": [
    "# iterate without .keys()\n",
    "for dinucleotide in counts:\n",
    "    print(dinucleotide, ' count ', counts.get(dinucleotide, 0 ))"
   ]
  },
  {
   "cell_type": "code",
   "execution_count": 46,
   "metadata": {},
   "outputs": [
    {
     "name": "stdout",
     "output_type": "stream",
     "text": [
      "AC  count  1\n",
      "AT  count  3\n",
      "CG  count  4\n",
      "CT  count  1\n",
      "GA  count  3\n",
      "GC  count  1\n",
      "GT  count  1\n",
      "TA  count  1\n",
      "TC  count  3\n",
      "TG  count  1\n"
     ]
    }
   ],
   "source": [
    "# iterate without .keys()\n",
    "for dinucleotide in sorted(counts):\n",
    "    print(dinucleotide, ' count ', counts.get(dinucleotide, 0 ))"
   ]
  },
  {
   "cell_type": "code",
   "execution_count": 49,
   "metadata": {},
   "outputs": [
    {
     "name": "stdout",
     "output_type": "stream",
     "text": [
      "AC  count  1\n",
      "AT  count  3\n",
      "CG  count  4\n",
      "CT  count  1\n",
      "GA  count  3\n",
      "GC  count  1\n",
      "GT  count  1\n",
      "TA  count  1\n",
      "TC  count  3\n",
      "TG  count  1\n"
     ]
    }
   ],
   "source": [
    "# iterate without .keys()\n",
    "for dinucleotide in sorted(counts):\n",
    "    print(dinucleotide, ' count ', counts[dinucleotide])"
   ]
  },
  {
   "cell_type": "markdown",
   "metadata": {},
   "source": [
    "#### Iterating over items"
   ]
  },
  {
   "cell_type": "code",
   "execution_count": 50,
   "metadata": {},
   "outputs": [
    {
     "name": "stdout",
     "output_type": "stream",
     "text": [
      "AC  count  1\n",
      "AT  count  3\n",
      "CT  count  1\n",
      "CG  count  4\n",
      "TA  count  1\n",
      "TC  count  3\n",
      "TG  count  1\n",
      "GA  count  3\n",
      "GC  count  1\n",
      "GT  count  1\n"
     ]
    }
   ],
   "source": [
    "for (dinucleotide, count) in counts.items():\n",
    "    print(dinucleotide, ' count ', count)"
   ]
  },
  {
   "cell_type": "code",
   "execution_count": 51,
   "metadata": {},
   "outputs": [
    {
     "name": "stdout",
     "output_type": "stream",
     "text": [
      "Peter\n",
      "Alan\n"
     ]
    }
   ],
   "source": [
    "my_list = ['Peter', 'Alan']\n",
    "(name1, name2) = my_list\n",
    "print(name1)\n",
    "print(name2)"
   ]
  },
  {
   "cell_type": "code",
   "execution_count": 52,
   "metadata": {},
   "outputs": [
    {
     "ename": "ValueError",
     "evalue": "too many values to unpack (expected 2)",
     "output_type": "error",
     "traceback": [
      "\u001b[0;31m---------------------------------------------------------------------------\u001b[0m",
      "\u001b[0;31mValueError\u001b[0m                                Traceback (most recent call last)",
      "\u001b[0;32m<ipython-input-52-15c3448fdf7b>\u001b[0m in \u001b[0;36m<module>\u001b[0;34m\u001b[0m\n\u001b[1;32m      1\u001b[0m \u001b[0mmy_list\u001b[0m \u001b[0;34m=\u001b[0m \u001b[0;34m[\u001b[0m\u001b[0;34m'Peter'\u001b[0m\u001b[0;34m,\u001b[0m \u001b[0;34m'Alan'\u001b[0m\u001b[0;34m,\u001b[0m \u001b[0;34m'Mbandi'\u001b[0m\u001b[0;34m]\u001b[0m\u001b[0;34m\u001b[0m\u001b[0;34m\u001b[0m\u001b[0m\n\u001b[0;32m----> 2\u001b[0;31m \u001b[0;34m(\u001b[0m\u001b[0mname1\u001b[0m\u001b[0;34m,\u001b[0m \u001b[0mname2\u001b[0m\u001b[0;34m)\u001b[0m \u001b[0;34m=\u001b[0m \u001b[0mmy_list\u001b[0m\u001b[0;34m\u001b[0m\u001b[0;34m\u001b[0m\u001b[0m\n\u001b[0m\u001b[1;32m      3\u001b[0m \u001b[0mprint\u001b[0m\u001b[0;34m(\u001b[0m\u001b[0mname1\u001b[0m\u001b[0;34m)\u001b[0m\u001b[0;34m\u001b[0m\u001b[0;34m\u001b[0m\u001b[0m\n\u001b[1;32m      4\u001b[0m \u001b[0mprint\u001b[0m\u001b[0;34m(\u001b[0m\u001b[0mname2\u001b[0m\u001b[0;34m)\u001b[0m\u001b[0;34m\u001b[0m\u001b[0;34m\u001b[0m\u001b[0m\n",
      "\u001b[0;31mValueError\u001b[0m: too many values to unpack (expected 2)"
     ]
    }
   ],
   "source": [
    "my_list = ['Peter', 'Alan', 'Mbandi']\n",
    "(name1, name2) = my_list\n",
    "print(name1)\n",
    "print(name2)"
   ]
  },
  {
   "cell_type": "code",
   "execution_count": 53,
   "metadata": {},
   "outputs": [
    {
     "name": "stdout",
     "output_type": "stream",
     "text": [
      "AC  count  1\n",
      "AT  count  3\n",
      "CT  count  1\n",
      "CG  count  4\n",
      "TA  count  1\n",
      "TC  count  3\n",
      "TG  count  1\n",
      "GA  count  3\n",
      "GC  count  1\n",
      "GT  count  1\n"
     ]
    }
   ],
   "source": [
    "for item in counts.items():\n",
    "    dinucleotide = item[0]\n",
    "    count = item[1]\n",
    "    print(dinucleotide, ' count ', count)"
   ]
  },
  {
   "cell_type": "code",
   "execution_count": 55,
   "metadata": {},
   "outputs": [
    {
     "data": {
      "text/plain": [
       "21"
      ]
     },
     "execution_count": 55,
     "metadata": {},
     "output_type": "execute_result"
    }
   ],
   "source": [
    "dna = \"ATCGATCGATCGTACGCTGAG\"\n",
    "len(dna)"
   ]
  },
  {
   "cell_type": "markdown",
   "metadata": {},
   "source": [
    "### Exercise: p. 183 - DNA translation"
   ]
  },
  {
   "cell_type": "code",
   "execution_count": 1,
   "metadata": {},
   "outputs": [],
   "source": [
    "dna = \"ATGTTCGGT\""
   ]
  },
  {
   "cell_type": "code",
   "execution_count": 2,
   "metadata": {},
   "outputs": [
    {
     "data": {
      "text/plain": [
       "9"
      ]
     },
     "execution_count": 2,
     "metadata": {},
     "output_type": "execute_result"
    }
   ],
   "source": [
    "len(dna)"
   ]
  },
  {
   "cell_type": "code",
   "execution_count": 4,
   "metadata": {},
   "outputs": [],
   "source": [
    "base1 = dna[0]\n",
    "base2 = dna[1]\n",
    "base3 = dna[2]\n",
    "if base1 == 'G' and base2 == 'A' and base3 == 'C':\n",
    "    amino_acid = 'D'"
   ]
  },
  {
   "cell_type": "code",
   "execution_count": 6,
   "metadata": {},
   "outputs": [],
   "source": [
    "gencode = {\n",
    "'ATA':'I', 'ATC':'I',\n",
    "'ACA':'T', 'ACC':'T',\n",
    "'AAC':'N', 'AAT':'N',\n",
    "'AGC':'S', 'AGT':'S',\n",
    "'CTA':'L', 'CTC':'L',\n",
    "'CCA':'P', 'CCC':'P',\n",
    "'CAC':'H', 'CAT':'H',\n",
    "'CGA':'R', 'CGC':'R',\n",
    "'GTA':'V', 'GTC':'V',\n",
    "'GCA':'A', 'GCC':'A',\n",
    "'GAC':'D', 'GAT':'D',\n",
    "'GGA':'G', 'GGC':'G',\n",
    "'TCA':'S', 'TCC':'S',\n",
    "'TTC':'F', 'TTT':'F',\n",
    "'TAC':'Y', 'TAT':'Y',\n",
    "'TGC':'C', 'TGT':'C',\n",
    "'ATT':'I',\n",
    "'ACG':'T',\n",
    "'AAA':'K',\n",
    "'AGA':'R',\n",
    "'CTG':'L',\n",
    "'CCG':'P',\n",
    "'CAA':'Q',\n",
    "'CGG':'R',\n",
    "'GTG':'V',\n",
    "'GCG':'A',\n",
    "'GAA':'E',\n",
    "'GGG':'G',\n",
    "'TCG':'S',\n",
    "'TTA':'L',\n",
    "'TAA':'*',\n",
    "'TGA':'*',\n",
    "'ATG':'M',\n",
    "'ACT':'T',\n",
    "'AAG':'K',\n",
    "'AGG':'R',\n",
    "'CTT':'L',\n",
    "'CCT':'P',\n",
    "'CAG':'Q',\n",
    "'CGT':'R',\n",
    "'GTT':'V',\n",
    "'GCT':'A',\n",
    "'GAG':'E',\n",
    "'GGT':'G',\n",
    "'TCT':'S',\n",
    "'TTG':'L',\n",
    "'TAG':'*',\n",
    "'TGG':'W'}"
   ]
  },
  {
   "cell_type": "code",
   "execution_count": 9,
   "metadata": {},
   "outputs": [
    {
     "data": {
      "text/plain": [
       "64"
      ]
     },
     "execution_count": 9,
     "metadata": {},
     "output_type": "execute_result"
    }
   ],
   "source": [
    "len(gencode)"
   ]
  },
  {
   "cell_type": "code",
   "execution_count": 10,
   "metadata": {},
   "outputs": [
    {
     "name": "stdout",
     "output_type": "stream",
     "text": [
      "ATG M\n",
      "TTC F\n",
      "GGT G\n"
     ]
    }
   ],
   "source": [
    "position = 0\n",
    "while position < len(dna):\n",
    "    codon = dna[position:position + 3]\n",
    "    print(codon, gencode[codon])\n",
    "    position = position + 3"
   ]
  },
  {
   "cell_type": "code",
   "execution_count": 12,
   "metadata": {},
   "outputs": [
    {
     "name": "stdout",
     "output_type": "stream",
     "text": [
      "0\n",
      "ATG M\n",
      "3\n",
      "TTC F\n",
      "6\n",
      "GGT G\n"
     ]
    }
   ],
   "source": [
    "for position in range(0, len(dna), 3):\n",
    "    print(position)\n",
    "    codon = dna[position:position + 3]\n",
    "    print(codon, gencode[codon])\n"
   ]
  },
  {
   "cell_type": "code",
   "execution_count": null,
   "metadata": {},
   "outputs": [],
   "source": []
  }
 ],
 "metadata": {
  "kernelspec": {
   "display_name": "Python 3",
   "language": "python",
   "name": "python3"
  },
  "language_info": {
   "codemirror_mode": {
    "name": "ipython",
    "version": 3
   },
   "file_extension": ".py",
   "mimetype": "text/x-python",
   "name": "python",
   "nbconvert_exporter": "python",
   "pygments_lexer": "ipython3",
   "version": "3.8.1"
  }
 },
 "nbformat": 4,
 "nbformat_minor": 4
}
