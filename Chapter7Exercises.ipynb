{
 "cells": [
  {
   "cell_type": "code",
   "execution_count": 7,
   "metadata": {},
   "outputs": [
    {
     "data": {
      "text/plain": [
       "['xkn59438',\n",
       " 'yhdck2',\n",
       " 'eihd39d9',\n",
       " 'chdsye847',\n",
       " 'hedle3455',\n",
       " 'xjhd53e',\n",
       " '45da',\n",
       " 'de37dp']"
      ]
     },
     "execution_count": 7,
     "metadata": {},
     "output_type": "execute_result"
    }
   ],
   "source": [
    "accessions_string = 'xkn59438, yhdck2, eihd39d9, chdsye847, hedle3455, xjhd53e, 45da, de37dp'\n",
    "accessions = accessions_string.split(', ')\n",
    "accessions"
   ]
  },
  {
   "cell_type": "code",
   "execution_count": 4,
   "metadata": {},
   "outputs": [],
   "source": [
    "import re"
   ]
  },
  {
   "cell_type": "code",
   "execution_count": 5,
   "metadata": {},
   "outputs": [
    {
     "name": "stdout",
     "output_type": "stream",
     "text": [
      "xkn59438\n",
      "hedle3455\n",
      "xjhd53e\n",
      "45da\n"
     ]
    }
   ],
   "source": [
    "# contains the number 5\n",
    "for accession in accessions:\n",
    "    if re.search(r\"5\", accession):\n",
    "        print(accession)"
   ]
  },
  {
   "cell_type": "code",
   "execution_count": 6,
   "metadata": {},
   "outputs": [
    {
     "name": "stdout",
     "output_type": "stream",
     "text": [
      "['xkn59438', 'hedle3455', 'xjhd53e', '45da']\n"
     ]
    }
   ],
   "source": [
    "# filter from the accessions list and put into a new list\n",
    "new_list = []\n",
    "for accession in accessions:\n",
    "    if re.search(r\"5\", accession):\n",
    "        new_list.append(accession)\n",
    "print(new_list)"
   ]
  },
  {
   "cell_type": "code",
   "execution_count": 8,
   "metadata": {},
   "outputs": [
    {
     "name": "stdout",
     "output_type": "stream",
     "text": [
      "yhdck2\n",
      "eihd39d9\n",
      "chdsye847\n",
      "hedle3455\n",
      "xjhd53e\n",
      "45da\n",
      "de37dp\n"
     ]
    }
   ],
   "source": [
    "# contains the letters d or e\n",
    "for accession in accessions:\n",
    "    if re.search(r\"(d|e)\", accession):\n",
    "        print(accession)"
   ]
  },
  {
   "cell_type": "code",
   "execution_count": 9,
   "metadata": {},
   "outputs": [
    {
     "name": "stdout",
     "output_type": "stream",
     "text": [
      "yhdck2\n",
      "eihd39d9\n",
      "chdsye847\n",
      "hedle3455\n",
      "xjhd53e\n",
      "45da\n",
      "de37dp\n"
     ]
    }
   ],
   "source": [
    "for accession in accessions:\n",
    "    if re.search(r\"d\", accession) or re.search(r\"e\", accession):\n",
    "        print(accession)"
   ]
  },
  {
   "cell_type": "code",
   "execution_count": 10,
   "metadata": {},
   "outputs": [
    {
     "name": "stdout",
     "output_type": "stream",
     "text": [
      "yhdck2\n",
      "eihd39d9\n",
      "chdsye847\n",
      "hedle3455\n",
      "xjhd53e\n",
      "45da\n",
      "de37dp\n"
     ]
    }
   ],
   "source": [
    "for accession in accessions:\n",
    "    if re.search(r\"[de]\", accession) or re.search(r\"e\", accession):\n",
    "        print(accession)"
   ]
  },
  {
   "cell_type": "code",
   "execution_count": 12,
   "metadata": {},
   "outputs": [
    {
     "name": "stdout",
     "output_type": "stream",
     "text": [
      "hedle3455\n"
     ]
    }
   ],
   "source": [
    "# contains the letter d and e in that oeder with a single letter between them\n",
    "for accession in accessions:\n",
    "    if re.search(r\"d.e\", accession):\n",
    "        print(accession)"
   ]
  },
  {
   "cell_type": "code",
   "execution_count": 15,
   "metadata": {},
   "outputs": [
    {
     "name": "stdout",
     "output_type": "stream",
     "text": [
      "hedle3455\n",
      "de37dp\n"
     ]
    }
   ],
   "source": [
    "# contains the letters d and e in that order\n",
    "for accession in accessions:\n",
    "    # wrong - will match ee or dd\n",
    "    if re.search(r\"[de]{2}\", accession):\n",
    "        print(accession)"
   ]
  },
  {
   "cell_type": "code",
   "execution_count": 16,
   "metadata": {},
   "outputs": [
    {
     "name": "stdout",
     "output_type": "stream",
     "text": [
      "hedle3455\n",
      "de37dp\n"
     ]
    }
   ],
   "source": [
    "for accession in accessions:\n",
    "    if re.search(r\"(de|ed)\", accession):\n",
    "        print(accession)"
   ]
  },
  {
   "cell_type": "code",
   "execution_count": 17,
   "metadata": {},
   "outputs": [
    {
     "name": "stdout",
     "output_type": "stream",
     "text": [
      "xkn59438\n",
      "yhdck2\n",
      "xjhd53e\n"
     ]
    }
   ],
   "source": [
    "# start with x or y\n",
    "for accession in accessions:\n",
    "    if re.search(r\"^[xy]\", accession):\n",
    "        print(accession)"
   ]
  },
  {
   "cell_type": "code",
   "execution_count": 18,
   "metadata": {},
   "outputs": [
    {
     "name": "stdout",
     "output_type": "stream",
     "text": [
      "xkn59438\n",
      "yhdck2\n",
      "xjhd53e\n"
     ]
    }
   ],
   "source": [
    "for accession in accessions:\n",
    "    if re.match(r\"[xy]\", accession):\n",
    "        print(accession)"
   ]
  },
  {
   "cell_type": "code",
   "execution_count": 23,
   "metadata": {},
   "outputs": [
    {
     "name": "stdout",
     "output_type": "stream",
     "text": [
      "xjhd53e\n"
     ]
    }
   ],
   "source": [
    "# start with x or y and end with e\n",
    "for accession in accessions:\n",
    "    # .* - . means any character, * means 0 or more\n",
    "    # so .* means anything or nothing\n",
    "    if re.match(r\"[xy].*e$\", accession):\n",
    "        print(accession)"
   ]
  },
  {
   "cell_type": "code",
   "execution_count": 24,
   "metadata": {},
   "outputs": [
    {
     "name": "stdout",
     "output_type": "stream",
     "text": [
      "xjhd53e\n"
     ]
    }
   ],
   "source": [
    "for accession in accessions:\n",
    "    if re.search(r\"^[xy].*e$\", accession):\n",
    "        print(accession)"
   ]
  },
  {
   "cell_type": "code",
   "execution_count": 25,
   "metadata": {},
   "outputs": [
    {
     "name": "stdout",
     "output_type": "stream",
     "text": [
      "xkn59438\n",
      "chdsye847\n",
      "hedle3455\n"
     ]
    }
   ],
   "source": [
    "# contains three or more numbers in a row\n",
    "for accession in accessions:\n",
    "    if re.search(r\"[0123456789]{3}\", accession):\n",
    "        print(accession)"
   ]
  },
  {
   "cell_type": "code",
   "execution_count": 27,
   "metadata": {},
   "outputs": [
    {
     "name": "stdout",
     "output_type": "stream",
     "text": [
      "xkn59438\n",
      "chdsye847\n",
      "hedle3455\n"
     ]
    }
   ],
   "source": [
    "for accession in accessions:\n",
    "    if re.search(r\"[0-9]{3}\", accession):\n",
    "        print(accession)"
   ]
  },
  {
   "cell_type": "code",
   "execution_count": 31,
   "metadata": {},
   "outputs": [
    {
     "name": "stdout",
     "output_type": "stream",
     "text": [
      "chdsye847\n"
     ]
    }
   ],
   "source": [
    "# insist on *only* 3 numbers\n",
    "for accession in accessions:\n",
    "    if re.search(r\"(^|[^0-9])[0-9]{3}([^0-9]|$)\", accession):\n",
    "        print(accession)"
   ]
  },
  {
   "cell_type": "code",
   "execution_count": 32,
   "metadata": {},
   "outputs": [
    {
     "name": "stdout",
     "output_type": "stream",
     "text": [
      "45da\n",
      "de37dp\n"
     ]
    }
   ],
   "source": [
    "# end with a d followed by either a, r or p\n",
    "for accession in accessions:\n",
    "    if re.search(r\"d(a|r|p)$\", accession):\n",
    "        print(accession)"
   ]
  },
  {
   "cell_type": "code",
   "execution_count": 33,
   "metadata": {},
   "outputs": [
    {
     "name": "stdout",
     "output_type": "stream",
     "text": [
      "45da\n",
      "de37dp\n"
     ]
    }
   ],
   "source": [
    "for accession in accessions:\n",
    "    if re.search(r\"d[arp]$\", accession):\n",
    "        print(accession)"
   ]
  },
  {
   "cell_type": "markdown",
   "metadata": {},
   "source": [
    "### Double digest"
   ]
  },
  {
   "cell_type": "code",
   "execution_count": 5,
   "metadata": {},
   "outputs": [],
   "source": [
    "import requests\n",
    "# save from the web to re_dna.txt\n",
    "with requests.get('https://raw.githubusercontent.com/pvanheus/biocourse2020_python/master/re_dna.txt') as response:\n",
    "    open('re_dna.txt', 'w').write(response.text)"
   ]
  },
  {
   "cell_type": "code",
   "execution_count": 6,
   "metadata": {},
   "outputs": [
    {
     "data": {
      "text/plain": [
       "'ATGGCAATAACCCCCCGTTTCTACTTCTAGAGGAGAAAAGTATTGACATGAGCGCTCCCGGCACAAGGGCCAAAGAAGTCTCCAATTTCTTATTTCCGAATGACATGCGTCTCCTTGCGGGTAAATCACCGACCGCAATTCATAGAAGCCTGGGGGAACAGATAGGTCTAATTAGCTTAAGAGAGTAAATCCTGGGATCATTCAGTAGTAACCATAAACTTACGCTGGGGCTTCTTCGGCGGATTTTTACAGTTACCAACCAGGAGATTTGAAGTAAATCAGTTGAGGATTTAGCCGCGCTATCCGGTAATCTCCAAATTAAAACATACCGTTCCATGAAGGCTAGAATTACTTACCGGCCTTTTCCATGCCTGCGCTATACCCCCCCACTCTCCCGCTTATCCGTCCGAGCGGAGGCAGTGCGATCCTCCGTTAAGATATTCTTACGTGTGACGTAGCTATGTATTTTGCAGAGCTGGCGAACGCGTTGAACACTTCACAGATGGTAGGGATTCGGGTAAAGGGCGTATAATTGGGGACTAACATAGGCGTAGACTACGATGGCGCCAACTCAATCGCAGCTCGAGCGCCCTGAATAACGTACTCATCTCAACTCATTCTCGGCAATCTACCGAGCGACTCGATTATCAACGGCTGTCTAGCAGTTCTAATCTTTTGCCAGCATCGTAATAGCCTCCAAGAGATTGATGATAGCTATCGGCACAGAACTGAGACGGCGCCGATGGATAGCGGACTTTCGGTCAACCACAATTCCCCACGGGACAGGTCCTGCGGTGCGCATCACTCTGAATGTACAAGCAACCCAAGTGGGCCGAGCCTGGACTCAGCTGGTTCCTGCGTGAGCTCGAGACTCGGGATGACAGCTCTTTAAACATAGAGCGGGGGCGTCGAACGGTCGAGAAAGTCATAGTACCTCGGGTACCAACTTACTCAGGTTATTGCTTGAAGCTGTACTATTTTAGGGGGGGAGCGCTGAAGGTCTCTTCTTCTCATGACTGAACTCGCGAGGGTCGTGAAGTCGGTTCCTTCAATGGTTAAAAAACAAAGGCTTACTGTGCGCAGAGGAACGCCCATCTAGCGGCTGGCGTCTTGAATGCTCGGTCCCCTTTGTCATTCCGGATTAATCCATTTCCCTCATTCACGAGCTTGCGAAGTCTACATTGGTATATGAATGCGACCTAGAAGAGGGCGCTTAAAATTGGCAGTGGTTGATGCTCTAAACTCCATTTGGTTTACTCGTGCATCACCGCGATAGGCTGACAAAGGTTTAACATTGAATAGCAAGGCACTTCCGGTCTCAATGAACGGCCGGGAAAGGTACGCGCGCGGTATGGGAGGATCAAGGGGCCAATAGAGAGGCTCCTCTCTCACTCGCTAGGAGGCAAATGTAAAACAATGGTTACTGCATCGATACATAAAACATGTCCATCGGTTGCCCAAAGTGTTAAGTGTCTATCACCCCTAGGGCCGTTTCCCGCATATAAACGCCAGGTTGTATCCGCATTTGATGCTACCGTGGATGAGTCTGCGTCGAGCGCGCCGCACGAATGTTGCAATGTATTGCATGAGTAGGGTTGACTAAGAGCCGTTAGATGCGTCGCTGTACTAATAGTTGTCGACAGACCGTCGAGATTAGAAAATGGTACCAGCATTTTCGGAGGTTCTCTAACTAGTATGGATTGCGGTGTCTTCACTGTGCTGCGGCTACCCATCGCCTGAAATCCAGCTGGTGTCAAGCCATCCCCTCTCCGGGACGCCGCATGTAGTGAAACATATACGTTGCACGGGTTCACCGCGGTCCGTTCTGAGTCGACCAAGGACACAATCGAGCTCCGATCCGTACCCTCGACAAACTTGTACCCGACCCCCGGAGCTTGCCAGCTCCTCGGGTATCATGGAGCCTGTGGTTCATCGCGTCCGATATCAAACTTCGTCATGATAAAGTCCCCCCCTCGGGAGTACCAGAGAAGATGACTACTGAGTTGTGCGAT'"
      ]
     },
     "execution_count": 6,
     "metadata": {},
     "output_type": "execute_result"
    }
   ],
   "source": [
    "# open re_dna.txt and read its contents\n",
    "dna = open('re_dna.txt').read()\n",
    "dna = dna.rstrip()  # remove '\\n'\n",
    "# the dna variable is ready for use\n",
    "dna"
   ]
  },
  {
   "cell_type": "code",
   "execution_count": 2,
   "metadata": {},
   "outputs": [
    {
     "name": "stdout",
     "output_type": "stream",
     "text": [
      "AbcI cuts at 1143\n",
      "AbcI cuts at 1628\n",
      "AbcII cuts at 488\n",
      "AbcII cuts at 1577\n",
      "[0, 1143, 1628, 488, 1577]\n",
      "[0, 488, 1143, 1577, 1628, 2012]\n",
      "Fragment 1 is 488 bp long!\n",
      "Fragment 2 is 655 bp long!\n",
      "Fragment 3 is 434 bp long!\n",
      "Fragment 4 is 51 bp long!\n",
      "Fragment 5 is 384 bp long!\n"
     ]
    }
   ],
   "source": [
    "# Solution 1\n",
    "# AbcI cuts at ANT*AAT\n",
    "# AbcII cuts at GCRW*TG\n",
    "# R means A or G\n",
    "# W means A or T\n",
    "#restriction_site1 = \"ANT*AAT\" # \"^(A.T)(AAT)$\" or \"A[ATCG]TAAT\"\n",
    "#restriction_site2 = \"GCRW*TG\" # \"^(GC(A|G)(A|T))TG$\" or \"GC[AG][AT]TG\"\n",
    " \n",
    "#open and read file\n",
    " \n",
    "import re\n",
    " \n",
    "my_dna_file = open('re_dna.txt', 'r')\n",
    "dna = my_dna_file.read().rstrip('\\n')\n",
    " \n",
    "# find positions at which enzymes cut\n",
    "# make a list to store the cut positions of both enzymes\n",
    " \n",
    "cut_positions = [0]\n",
    " \n",
    "for match in re.finditer(r\"A[ATCG]TAAT\", dna):\n",
    "        print (\"AbcI cuts at\", match.start()+3)\n",
    "        cut_positions.append(match.start()+3)\n",
    " \n",
    "for match in re.finditer(r\"GC[AG][AT]TG\", dna):\n",
    "        print (\"AbcII cuts at\", match.start()+4)\n",
    "        cut_positions.append(match.start()+4)\n",
    "print (cut_positions)\n",
    " \n",
    "#  add the length of the dna sequence to the list to calculate the distance between fragments (i.e. fragment length)\n",
    "# sort the list in numerical order\n",
    " \n",
    "cut_positions.append(len(dna))\n",
    "sort_cut_positions = sorted(cut_positions)\n",
    "print (sort_cut_positions)\n",
    " \n",
    "#calculate the distance between the cut sites\n",
    " \n",
    "fragment_no = 0\n",
    " \n",
    "for fragment in range(1, len(cut_positions)):\n",
    "    fragment_length = sort_cut_positions[fragment] - sort_cut_positions[fragment-1]\n",
    "    fragment_no +=1\n",
    "    print(\"Fragment\", fragment_no, \"is\", fragment_length, \"bp long!\")\n"
   ]
  },
  {
   "cell_type": "code",
   "execution_count": 3,
   "metadata": {},
   "outputs": [
    {
     "name": "stdout",
     "output_type": "stream",
     "text": [
      "[0, 488, 1143, 1577, 1628, 2012]\n",
      "one fragment size is 488\n",
      "one fragment size is 655\n",
      "one fragment size is 434\n",
      "one fragment size is 51\n",
      "one fragment size is 384\n"
     ]
    }
   ],
   "source": [
    "# textbook solution\n",
    "all_cuts = [0]\n",
    "# add cut positions for AbcI\n",
    "for match in re.finditer(r\"A[ATGC]TAAT\", dna):\n",
    "    all_cuts.append(match.start() + 3)\n",
    "# add cut positions for AbcII\n",
    "for match in re.finditer(r\"GC[AG][AT]TG\", dna):\n",
    "    all_cuts.append(match.start() + 4)\n",
    "# add the final position\n",
    "all_cuts.append(len(dna))\n",
    "sorted_cuts = sorted(all_cuts)\n",
    "print(sorted_cuts)\n",
    "\n",
    "for i in range(1,len(sorted_cuts)):\n",
    "    this_cut_position = sorted_cuts[i]\n",
    "    previous_cut_position = sorted_cuts[i-1]\n",
    "    fragment_size = this_cut_position - previous_cut_position\n",
    "    print(\"one fragment size is \" + str(fragment_size))"
   ]
  },
  {
   "cell_type": "code",
   "execution_count": 4,
   "metadata": {},
   "outputs": [
    {
     "name": "stdout",
     "output_type": "stream",
     "text": [
      "488\n",
      "655\n",
      "434\n",
      "51\n",
      "384\n"
     ]
    }
   ],
   "source": [
    "# Peter's solution\n",
    "\n",
    "def make_dna_regex(enzyme):\n",
    "    subs = {\n",
    "        'R': '[AG]',\n",
    "        'Y': '[CT]',\n",
    "        'S': '[GC]',\n",
    "        'W': '[AT]',\n",
    "        'K': '[GT]',\n",
    "        'M': '[AC]',\n",
    "        'B': '[CGT]',\n",
    "        'D': '[AGT]',\n",
    "        'H': '[ACT]',\n",
    "        'V': '[ACG]',\n",
    "        'N': '[ACTG]'\n",
    "    }\n",
    "    pattern = r''\n",
    "    for base in enzyme:\n",
    "        pattern = pattern + subs.get(base, base)\n",
    "    return pattern\n",
    "\n",
    "assert make_dna_regex('ANT*AAT') == 'A[ACTG]T*AAT'\n",
    "assert make_dna_regex('GCRW*TG') == 'GC[AG][AT]*TG'\n",
    "\n",
    "def cut(dna, enzyme):\n",
    "    offset = enzyme.find('*')\n",
    "    pattern = make_dna_regex(enzyme.replace('*', ''))\n",
    "    fragments = []\n",
    "    start = 0\n",
    "    for match in re.finditer(pattern, dna):\n",
    "        cut_position = (match.start() + offset)\n",
    "        length = cut_position - start\n",
    "        fragment = dna[start:cut_position]\n",
    "        start = cut_position\n",
    "        fragments.append(fragment)\n",
    "    fragments.append(dna[start:])\n",
    "    return fragments\n",
    "\n",
    "assert cut('TCCGGATTAATCCAT', 'ANT*AAT') == ['TCCGGATT', 'AATCCAT']\n",
    "\n",
    "fragments = cut(dna, 'ANT*AAT')\n",
    "for fragment in fragments:\n",
    "    new_fragments = cut(fragment, 'GCRW*TG')\n",
    "    for new_fragment in new_fragments:\n",
    "        print(len(new_fragment))"
   ]
  },
  {
   "cell_type": "code",
   "execution_count": null,
   "metadata": {},
   "outputs": [],
   "source": []
  }
 ],
 "metadata": {
  "kernelspec": {
   "display_name": "Python 3",
   "language": "python",
   "name": "python3"
  },
  "language_info": {
   "codemirror_mode": {
    "name": "ipython",
    "version": 3
   },
   "file_extension": ".py",
   "mimetype": "text/x-python",
   "name": "python",
   "nbconvert_exporter": "python",
   "pygments_lexer": "ipython3",
   "version": "3.8.1"
  }
 },
 "nbformat": 4,
 "nbformat_minor": 4
}
